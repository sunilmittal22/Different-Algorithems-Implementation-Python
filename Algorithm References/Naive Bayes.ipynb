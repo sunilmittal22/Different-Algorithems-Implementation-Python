{
 "cells": [
  {
   "cell_type": "code",
   "execution_count": 1,
   "id": "5c60ef7c",
   "metadata": {},
   "outputs": [],
   "source": [
    "import numpy as np\n",
    "import pandas as pd\n",
    "from collections import Counter, defaultdict\n",
    "from sympy import *"
   ]
  },
  {
   "cell_type": "code",
   "execution_count": 2,
   "id": "dd58d081",
   "metadata": {},
   "outputs": [],
   "source": [
    "pd.options.display.max_columns = None"
   ]
  },
  {
   "cell_type": "code",
   "execution_count": 3,
   "id": "ddd65cf3",
   "metadata": {},
   "outputs": [
    {
     "data": {
      "application/javascript": [
       "IPython.OutputArea.prototype._should_scroll = function(lines) {\n",
       "    return false;\n",
       "}\n"
      ],
      "text/plain": [
       "<IPython.core.display.Javascript object>"
      ]
     },
     "metadata": {},
     "output_type": "display_data"
    }
   ],
   "source": [
    "%%javascript\n",
    "IPython.OutputArea.prototype._should_scroll = function(lines) {\n",
    "    return false;\n",
    "}"
   ]
  },
  {
   "cell_type": "code",
   "execution_count": 152,
   "id": "166b9fcb",
   "metadata": {},
   "outputs": [],
   "source": [
    "class NaiveBayes:\n",
    "    def __init__(self, **kwargs):\n",
    "        self.smoothing = kwargs.get('smoothing')\n",
    "        self.model = kwargs.get('model') if kwargs.get('model') else 'bernoulli'\n",
    "        self.rounding_digit = kwargs.get('rounding_digit') if kwargs.get('rounding_digit') else 6\n",
    "\n",
    "    def fit(self, X, y = None):\n",
    "        self.X = X\n",
    "        self.y = y\n",
    "        self.y_col = 'Class(Y)'\n",
    "\n",
    "        if not y:\n",
    "            self.y_col = self.X.columns[-1]            \n",
    "            self.y = self.X.iloc[:,-1]\n",
    "            self.X = self.X.iloc[:,:-1]\n",
    "\n",
    "\n",
    "        self.classes, self.class_counts = np.unique(self.y, return_counts=True)\n",
    "        self.total_count = len(self.y)\n",
    "        class_cols = []\n",
    "        class_vals = [[]]\n",
    "\n",
    "        for i, c in enumerate(self.classes):\n",
    "            class_cols.append(f'p(y={c})')\n",
    "            class_vals[0].append(np.round(self.class_counts[i]/self.total_count,self.rounding_digit))\n",
    "\n",
    "        self.prior_df = pd.DataFrame(class_vals, columns=class_cols)\n",
    "\n",
    "        print('Class priors:')\n",
    "        #prior_df.style.hide_index()\n",
    "        print(self.prior_df.to_string(index=False))\n",
    "\n",
    "        if self.is_bag_of_words():\n",
    "            self.fit_bag_of_words()\n",
    "        else:\n",
    "            self.fit_data()\n",
    "    \n",
    "    def fit_data(self):\n",
    "        print('\\nData:')\n",
    "        df_nb = self.X\n",
    "        df_nb[self.y_col] = self.y\n",
    "        display(df_nb)\n",
    "        \n",
    "        self.probabilities = defaultdict(dict)\n",
    "        self.str_probabilities = defaultdict(dict)\n",
    "\n",
    "        \n",
    "        for col in self.X.columns[:-1]:\n",
    "            print(f'\\nFeature: {col}')\n",
    "            #print(self.X[col].dtype.kind)\n",
    "            if self.X[col].dtype.kind in {'i', 'u', 'S', 'U', 'O'}:\n",
    "                print(f'{col} is categorical')\n",
    "                print('\\nUsing:')\n",
    "                display(Eq(Symbol('P(X_{i}=x|Y=y_{k})'), Mul(Symbol('D(X_{i}=x\\u2229Y=y_{k})'),Pow(Symbol('D(Y=y_{k})'),-1))))\n",
    "                print('Where D denoted no of items in dataset')\n",
    "                for cls in self.classes:\n",
    "                    df_nb_cls = df_nb[df_nb[self.y_col] == cls]\n",
    "                    values, counts = np.unique(df_nb_cls[col], return_counts=True)\n",
    "                    self.probabilities[col][cls] = dict(zip(values, counts / df_nb_cls.shape[0]))\n",
    "#                     print(f'{counts} / {df_nb_cls.shape[0]}')\n",
    "#                     self.str_probabilities[col][cls] = dict(zip(values, f'{counts} / {df_nb_cls.shape[0]}'))\n",
    "#                 print(self.str_probabilities[col])\n",
    "#                 print(self.probabilities[col])\n",
    "                df_prob = pd.DataFrame(self.probabilities[col])\n",
    "                df_prob.columns = [f'{self.y_col}={col}' for col in  df_prob.columns]\n",
    "                df_prob.index.name = col\n",
    "                print('\\nProbability Lookup Table:')\n",
    "                display(df_prob)\n",
    "            else:\n",
    "                print(f'{col} is continuous') \n",
    "                print('\\nUsing:')\n",
    "                display(Eq(Symbol('P(X_{i}=x|Y=y_{k})'), Mul(Mul(1,Pow(sqrt(Symbol('2\\u03C0\\u03C3_{ik}^2')),-1)),Pow(Symbol('e'),\n",
    "                                                Mul(Symbol('-(x-\\u03BC_{ik})^2'),Pow(Symbol('2\\u03C3_{ik}^2'),-1))))))\n",
    "                for cls in self.classes:\n",
    "                    df_nb_cls = df_nb[df_nb[self.y_col] == cls]                    \n",
    "                    self.probabilities[col][cls] = {\"mean\": df_nb_cls[col].mean(), \"variance\": df_nb_cls[col].var()}\n",
    "                \n",
    "                df_prob = pd.DataFrame(self.probabilities[col])\n",
    "                df_prob.columns = [f'{self.y_col}={col}' for col in  df_prob.columns]\n",
    "                df_prob.index.name = col\n",
    "                print('\\nMean Variance Table Table:')\n",
    "                display(df_prob)\n",
    "            print('==================================================================================')\n",
    "                \n",
    "    \n",
    "    def predict(self, X_test):\n",
    "        self.X_test = X_test\n",
    "        \n",
    "        if self.is_bag_of_words():\n",
    "            self.predict_bag_of_words()\n",
    "        else:\n",
    "            self.predict_data()\n",
    "    \n",
    "    def predict_data(self):        \n",
    "        print(f'Test Data = {self.X_test}')\n",
    "        print('\\nUsing')\n",
    "        probs = []\n",
    "        display(Eq(Symbol('Y_{new}'), Symbol('argmax_{y_{k}}P(Y=y_{k})\\u220F_{i}P(X_{i}|Y=y_{k})')))\n",
    "        y = self.y_col\n",
    "        for cls in self.classes:\n",
    "            prob = self.prior_df[f'p(y={cls})'].iloc[0]\n",
    "            prob_string = f'P(y={cls}|X) \\u221D {prob}'\n",
    "            prob_string2 = f'P(y={cls}|X) \\u221D p(y={cls})'\n",
    "            for X in self.X_test:\n",
    "                #print(X)\n",
    "                if self.X_test.get(X) in self.probabilities[X][cls]:\n",
    "                    prob*= self.probabilities[X][cls][self.X_test.get(X)]\n",
    "                    prob_string += f'*{self.probabilities[X][cls][self.X_test.get(X)]}'\n",
    "                    prob_string2 += f'*P({X} = {self.X_test.get(X)}|y={cls})'\n",
    "                else:\n",
    "                    mean = self.probabilities[X][cls][\"mean\"]\n",
    "                    var = self.probabilities[X][cls][\"variance\"]\n",
    "                    p = np.exp(- (self.X_test.get(X)-mean)**2 / (2 * var)) / np.sqrt(2 * np.pi * var)\n",
    "                    prob *= p\n",
    "                    prob_string += f'*{p}'\n",
    "                    prob_string2 += f'*P({X} = {self.X_test.get(X)}|y={cls})'\n",
    "            print()\n",
    "            print(prob_string2)\n",
    "            print(prob_string)\n",
    "            print(f'= {prob}')\n",
    "            probs.append(prob)\n",
    "            print('=========================================================')\n",
    "        \n",
    "        print(f'\\nThe test data belongs to class y = {self.classes[np.argmax(probs)]}')\n",
    "        \n",
    "    def predict_bag_of_words(self):\n",
    "        print(f'Test Document, D = {self.X_test}')\n",
    "        self.X_test = self.X_test.lower().replace(',',' ').replace('.',' ').replace('!',' ')\n",
    "        print('\\nUsing')\n",
    "        probs = []\n",
    "        if self.model == 'bernoulli':\n",
    "            display(Symbol('P(C_{k}|b)\\u221D P(X|C_{k})P(C_{k}))'))\n",
    "            display(Symbol('P(C_{k}|b)\\u221D P(C_{k})\\u220F_{t=1}^{|V|} [b_tP(w_t|C_k) + (1-b_t)(1-P(w_t|C_k))]'))\n",
    "            print('where b = feature vector of document D \\nb\\u209C = {0,1} => abscence or presence of word w\\u209C in the document')\n",
    "            b =  [int(word in self.X_test) for word in self.vocab]\n",
    "            print(f'\\nb = {b}')\n",
    "            for cls in self.classes:\n",
    "                df_bag_cls = self.df_bag[self.df_bag['Class(Y)'] == cls]\n",
    "                prob = self.prior_df[f'p(y={cls})'].iloc[0]\n",
    "                prob_string = f'P(y={cls}|b) \\u221D {prob}'\n",
    "                prob_string2 = f'P(y={cls}|b) \\u221D p(y={cls})'\n",
    "                \n",
    "                for word in self.vocab:\n",
    "                    if not self.probabilities[cls].get(word):\n",
    "                            self.probabilities[cls][word] = 1/(df_bag_cls.shape[0] + 2)\n",
    "                            self.str_probabilities[cls][word] = f'1/({df_bag_cls.shape[0]} + 2)'\n",
    "                    if word in self.X_test:                        \n",
    "                        prob *= self.probabilities[cls][word]\n",
    "                        prob_string += f'*{self.str_probabilities[cls][word]}'\n",
    "                        prob_string2 += f'*P({word}|y={cls})'\n",
    "                    else:\n",
    "                        prob *= 1 - self.probabilities[cls][word]\n",
    "                        prob_string += f'*(1 - {self.str_probabilities[cls][word]})'\n",
    "                        prob_string2 += f'*(1 - P({word}|y={cls}))'\n",
    "                print()\n",
    "                print(prob_string2)\n",
    "                print(prob_string)\n",
    "                print(f'= {prob}')\n",
    "                probs.append(prob)\n",
    "                print('=========================================================')\n",
    "        else:\n",
    "            display(Symbol('P(C_{k}|D)\\u221D P(X|C_{k})P(C_{k}))'))\n",
    "            display(Symbol('P(C_{k}|D)\\u221D P(C_{k})\\u220F_{j=1}^{len(X)} P(u_j|C_k)'))\n",
    "            print('where u - each word in test document X')\n",
    "\n",
    "            for cls in self.classes:  \n",
    "                df_bag_cls = self.df_bag[self.df_bag['Class(Y)'] == cls]\n",
    "                idx_cls = df_bag_cls.index\n",
    "                words_cls = [word for sentence in idx_cls for word in sentence.split()]\n",
    "                prob = self.prior_df[f'p(y={cls})'].iloc[0]\n",
    "                prob_string = f'P(y={cls}|X) \\u221D {prob}'\n",
    "                prob_string2 = f'P(y={cls}|X) \\u221D p(y={cls})'\n",
    "                for word in self.X_test.split():\n",
    "                    if not self.probabilities[cls].get(word):\n",
    "                            self.probabilities[cls][word] = 1/(len(words_cls) + len(self.vocab))\n",
    "                            self.str_probabilities[cls][word] = f'1/({len(words_cls)} + {len(self.vocab)})'\n",
    "                    prob *= self.probabilities[cls][word]\n",
    "                    prob_string += f'*{self.str_probabilities[cls][word]}'\n",
    "                    prob_string2 += f'*P({word}|y={cls})'\n",
    "                   \n",
    "                print()\n",
    "                print(prob_string2)\n",
    "                print(prob_string)\n",
    "                print(f'= {prob}')\n",
    "                probs.append(prob)\n",
    "                print('=========================================================')\n",
    "        print(f'\\nThe test document D belongs to class y = {self.classes[np.argmax(probs)]}')\n",
    "        \n",
    "    def is_bag_of_words(self):\n",
    "        return np.array(self.X).ndim == 1 \\\n",
    "               and np.array(self.X).dtype.kind in ['S', 'U'] and len(np.unique(self.X)) == self.total_count\n",
    "\n",
    "    def fit_bag_of_words(self):\n",
    "        self.X = [x.lower().replace(',',' ').replace('.',' ').replace('!',' ') for x in self.X]\n",
    "        words = [word for sentence in self.X for word in sentence.split()]\n",
    "\n",
    "        word_counts = Counter(words)\n",
    "\n",
    "        self.vocab = set(word_counts.keys())\n",
    "        print(f'\\nTotal no of unique words in vocab: {len(self.vocab)}')\n",
    "        #print(self.vocab)\n",
    "        if self.model == 'bernoulli':\n",
    "            bag_data = [[int(word in sentence) for word in self.vocab] for sentence in self.X]\n",
    "        else:\n",
    "            bag_data = []\n",
    "            for sentence in self.X:\n",
    "                wc = Counter(sentence.split())\n",
    "                bag_data.append([wc.get(word) if wc.get(word) else 0 for word in self.vocab ])\n",
    "        #print(bag_data)\n",
    "        df_bag = pd.DataFrame(bag_data, columns=self.vocab, index = self.X)\n",
    "        df_bag['Class(Y)'] = self.y\n",
    "        print('\\nData:')\n",
    "        display(df_bag)\n",
    "        self.df_bag = df_bag\n",
    "        print('==================================================================================')\n",
    "        \n",
    "        self.probabilities = defaultdict(dict)\n",
    "        self.str_probabilities = defaultdict(dict)\n",
    "        \n",
    "        for cls in self.classes:\n",
    "            df_bag_cls = df_bag[df_bag['Class(Y)'] == cls]\n",
    "            print(f'\\n\\nFor Y = {cls}')\n",
    "            #print(df_bag_cls.sum().sum())\n",
    "            display(df_bag_cls)\n",
    "            idx_cls = df_bag_cls.index\n",
    "            words_cls = [word for sentence in idx_cls for word in sentence.split()]\n",
    "            print(f'\\nTNo of words in {cls}: {len(words_cls)}')\n",
    "            for word in self.vocab:\n",
    "                if self.model == 'bernoulli':\n",
    "                    if self.smoothing:\n",
    "                        print(f'\\np({word}|y={cls}) = ({df_bag_cls[word].sum()} + 1)/({df_bag_cls.shape[0]} + 2)',\n",
    "                              f'= {df_bag_cls[word].sum() + 1}/{df_bag_cls.shape[0] +2}',\n",
    "                              f'= {np.round((df_bag_cls[word].sum() + 1)/(df_bag_cls.shape[0] +2), 4)}')\n",
    "                        self.probabilities[cls][word] = np.round((df_bag_cls[word].sum() + 1)/(df_bag_cls.shape[0] +2), 4)\n",
    "                        self.str_probabilities[cls][word] = f'{df_bag_cls[word].sum() + 1}/{df_bag_cls.shape[0] +2}'\n",
    "                    else:\n",
    "                        print(f'\\np({word}|y={cls}) = {df_bag_cls[word].sum()}/{df_bag_cls.shape[0]}',\n",
    "                              f'= {np.round((df_bag_cls[word].sum())/(df_bag_cls.shape[0]),4)}')\n",
    "                        self.probabilities[cls][word] = np.round((df_bag_cls[word].sum())/(df_bag_cls.shape[0]),4)\n",
    "                        self.str_probabilities[cls][word] = f'{df_bag_cls[word].sum()}/{df_bag_cls.shape[0]}'\n",
    "                else:                    \n",
    "                    if self.smoothing:\n",
    "                        print(f'\\np({word}|y={cls}) = ({df_bag_cls[word].sum()} + 1)/({len(words_cls)} + {len(self.vocab)})',\n",
    "                              f'= {df_bag_cls[word].sum() + 1}/{len(words_cls) +len(self.vocab)}',\n",
    "                              f'= {np.round((df_bag_cls[word].sum() + 1)/(len(words_cls) +len(self.vocab)), 4)}')\n",
    "                        self.probabilities[cls][word] = np.round((df_bag_cls[word].sum() + 1)/(len(words_cls) +len(self.vocab)), 4)\n",
    "                        self.str_probabilities[cls][word] = f'{df_bag_cls[word].sum() + 1}/{len(words_cls) +len(self.vocab)}'\n",
    "                    else:\n",
    "                        print(f'\\np({word}|y={cls}) = {df_bag_cls[word].sum()}/{len(words_cls)}',\n",
    "                              f'= {np.round((df_bag_cls[word].sum())/(len(words_cls)),4)}')\n",
    "                        self.probabilities[cls][word] = np.round((df_bag_cls[word].sum())/(len(words_cls)),4)\n",
    "                        self.str_probabilities[cls][word] = f'{df_bag_cls[word].sum()}/{len(words_cls)}'\n",
    "                        \n",
    "            print(f'\\n=====================================================================================\\n')\n",
    "            "
   ]
  },
  {
   "cell_type": "markdown",
   "id": "a6da9be7",
   "metadata": {},
   "source": [
    "## Bag of Words : Multinomial"
   ]
  },
  {
   "cell_type": "code",
   "execution_count": 138,
   "id": "d63caafd",
   "metadata": {},
   "outputs": [
    {
     "name": "stdout",
     "output_type": "stream",
     "text": [
      "Class priors:\n",
      " p(y=No)  p(y=Yes)\n",
      "    0.25      0.75\n",
      "\n",
      "Data:\n"
     ]
    },
    {
     "data": {
      "text/html": [
       "<div>\n",
       "<style scoped>\n",
       "    .dataframe tbody tr th:only-of-type {\n",
       "        vertical-align: middle;\n",
       "    }\n",
       "\n",
       "    .dataframe tbody tr th {\n",
       "        vertical-align: top;\n",
       "    }\n",
       "\n",
       "    .dataframe thead th {\n",
       "        text-align: right;\n",
       "    }\n",
       "</style>\n",
       "<table border=\"1\" class=\"dataframe\">\n",
       "  <thead>\n",
       "    <tr style=\"text-align: right;\">\n",
       "      <th></th>\n",
       "      <th>chinese</th>\n",
       "      <th>beijing</th>\n",
       "      <th>japan</th>\n",
       "      <th>tokyo</th>\n",
       "      <th>shanghai</th>\n",
       "      <th>macau</th>\n",
       "      <th>Class(Y)</th>\n",
       "    </tr>\n",
       "  </thead>\n",
       "  <tbody>\n",
       "    <tr>\n",
       "      <th>chinese beijing chinese</th>\n",
       "      <td>2</td>\n",
       "      <td>1</td>\n",
       "      <td>0</td>\n",
       "      <td>0</td>\n",
       "      <td>0</td>\n",
       "      <td>0</td>\n",
       "      <td>Yes</td>\n",
       "    </tr>\n",
       "    <tr>\n",
       "      <th>chinese chinese shanghai</th>\n",
       "      <td>2</td>\n",
       "      <td>0</td>\n",
       "      <td>0</td>\n",
       "      <td>0</td>\n",
       "      <td>1</td>\n",
       "      <td>0</td>\n",
       "      <td>Yes</td>\n",
       "    </tr>\n",
       "    <tr>\n",
       "      <th>chinese macau</th>\n",
       "      <td>1</td>\n",
       "      <td>0</td>\n",
       "      <td>0</td>\n",
       "      <td>0</td>\n",
       "      <td>0</td>\n",
       "      <td>1</td>\n",
       "      <td>Yes</td>\n",
       "    </tr>\n",
       "    <tr>\n",
       "      <th>tokyo japan chinese</th>\n",
       "      <td>1</td>\n",
       "      <td>0</td>\n",
       "      <td>1</td>\n",
       "      <td>1</td>\n",
       "      <td>0</td>\n",
       "      <td>0</td>\n",
       "      <td>No</td>\n",
       "    </tr>\n",
       "  </tbody>\n",
       "</table>\n",
       "</div>"
      ],
      "text/plain": [
       "                          chinese  beijing  japan  tokyo  shanghai  macau  \\\n",
       "chinese beijing chinese         2        1      0      0         0      0   \n",
       "chinese chinese shanghai        2        0      0      0         1      0   \n",
       "chinese macau                   1        0      0      0         0      1   \n",
       "tokyo japan chinese             1        0      1      1         0      0   \n",
       "\n",
       "                         Class(Y)  \n",
       "chinese beijing chinese       Yes  \n",
       "chinese chinese shanghai      Yes  \n",
       "chinese macau                 Yes  \n",
       "tokyo japan chinese            No  "
      ]
     },
     "metadata": {},
     "output_type": "display_data"
    },
    {
     "name": "stdout",
     "output_type": "stream",
     "text": [
      "==================================================================================\n",
      "\n",
      "\n",
      "For Y = No\n"
     ]
    },
    {
     "data": {
      "text/html": [
       "<div>\n",
       "<style scoped>\n",
       "    .dataframe tbody tr th:only-of-type {\n",
       "        vertical-align: middle;\n",
       "    }\n",
       "\n",
       "    .dataframe tbody tr th {\n",
       "        vertical-align: top;\n",
       "    }\n",
       "\n",
       "    .dataframe thead th {\n",
       "        text-align: right;\n",
       "    }\n",
       "</style>\n",
       "<table border=\"1\" class=\"dataframe\">\n",
       "  <thead>\n",
       "    <tr style=\"text-align: right;\">\n",
       "      <th></th>\n",
       "      <th>chinese</th>\n",
       "      <th>beijing</th>\n",
       "      <th>japan</th>\n",
       "      <th>tokyo</th>\n",
       "      <th>shanghai</th>\n",
       "      <th>macau</th>\n",
       "      <th>Class(Y)</th>\n",
       "    </tr>\n",
       "  </thead>\n",
       "  <tbody>\n",
       "    <tr>\n",
       "      <th>tokyo japan chinese</th>\n",
       "      <td>1</td>\n",
       "      <td>0</td>\n",
       "      <td>1</td>\n",
       "      <td>1</td>\n",
       "      <td>0</td>\n",
       "      <td>0</td>\n",
       "      <td>No</td>\n",
       "    </tr>\n",
       "  </tbody>\n",
       "</table>\n",
       "</div>"
      ],
      "text/plain": [
       "                     chinese  beijing  japan  tokyo  shanghai  macau Class(Y)\n",
       "tokyo japan chinese        1        0      1      1         0      0       No"
      ]
     },
     "metadata": {},
     "output_type": "display_data"
    },
    {
     "name": "stdout",
     "output_type": "stream",
     "text": [
      "\n",
      "p(chinese|y=No) = (1 + 1)/(3 + 6) = 2/9 = 0.2222\n",
      "\n",
      "p(beijing|y=No) = (0 + 1)/(3 + 6) = 1/9 = 0.1111\n",
      "\n",
      "p(japan|y=No) = (1 + 1)/(3 + 6) = 2/9 = 0.2222\n",
      "\n",
      "p(tokyo|y=No) = (1 + 1)/(3 + 6) = 2/9 = 0.2222\n",
      "\n",
      "p(shanghai|y=No) = (0 + 1)/(3 + 6) = 1/9 = 0.1111\n",
      "\n",
      "p(macau|y=No) = (0 + 1)/(3 + 6) = 1/9 = 0.1111\n",
      "\n",
      "=====================================================================================\n",
      "\n",
      "\n",
      "\n",
      "For Y = Yes\n"
     ]
    },
    {
     "data": {
      "text/html": [
       "<div>\n",
       "<style scoped>\n",
       "    .dataframe tbody tr th:only-of-type {\n",
       "        vertical-align: middle;\n",
       "    }\n",
       "\n",
       "    .dataframe tbody tr th {\n",
       "        vertical-align: top;\n",
       "    }\n",
       "\n",
       "    .dataframe thead th {\n",
       "        text-align: right;\n",
       "    }\n",
       "</style>\n",
       "<table border=\"1\" class=\"dataframe\">\n",
       "  <thead>\n",
       "    <tr style=\"text-align: right;\">\n",
       "      <th></th>\n",
       "      <th>chinese</th>\n",
       "      <th>beijing</th>\n",
       "      <th>japan</th>\n",
       "      <th>tokyo</th>\n",
       "      <th>shanghai</th>\n",
       "      <th>macau</th>\n",
       "      <th>Class(Y)</th>\n",
       "    </tr>\n",
       "  </thead>\n",
       "  <tbody>\n",
       "    <tr>\n",
       "      <th>chinese beijing chinese</th>\n",
       "      <td>2</td>\n",
       "      <td>1</td>\n",
       "      <td>0</td>\n",
       "      <td>0</td>\n",
       "      <td>0</td>\n",
       "      <td>0</td>\n",
       "      <td>Yes</td>\n",
       "    </tr>\n",
       "    <tr>\n",
       "      <th>chinese chinese shanghai</th>\n",
       "      <td>2</td>\n",
       "      <td>0</td>\n",
       "      <td>0</td>\n",
       "      <td>0</td>\n",
       "      <td>1</td>\n",
       "      <td>0</td>\n",
       "      <td>Yes</td>\n",
       "    </tr>\n",
       "    <tr>\n",
       "      <th>chinese macau</th>\n",
       "      <td>1</td>\n",
       "      <td>0</td>\n",
       "      <td>0</td>\n",
       "      <td>0</td>\n",
       "      <td>0</td>\n",
       "      <td>1</td>\n",
       "      <td>Yes</td>\n",
       "    </tr>\n",
       "  </tbody>\n",
       "</table>\n",
       "</div>"
      ],
      "text/plain": [
       "                          chinese  beijing  japan  tokyo  shanghai  macau  \\\n",
       "chinese beijing chinese         2        1      0      0         0      0   \n",
       "chinese chinese shanghai        2        0      0      0         1      0   \n",
       "chinese macau                   1        0      0      0         0      1   \n",
       "\n",
       "                         Class(Y)  \n",
       "chinese beijing chinese       Yes  \n",
       "chinese chinese shanghai      Yes  \n",
       "chinese macau                 Yes  "
      ]
     },
     "metadata": {},
     "output_type": "display_data"
    },
    {
     "name": "stdout",
     "output_type": "stream",
     "text": [
      "\n",
      "p(chinese|y=Yes) = (5 + 1)/(8 + 6) = 6/14 = 0.4286\n",
      "\n",
      "p(beijing|y=Yes) = (1 + 1)/(8 + 6) = 2/14 = 0.1429\n",
      "\n",
      "p(japan|y=Yes) = (0 + 1)/(8 + 6) = 1/14 = 0.0714\n",
      "\n",
      "p(tokyo|y=Yes) = (0 + 1)/(8 + 6) = 1/14 = 0.0714\n",
      "\n",
      "p(shanghai|y=Yes) = (1 + 1)/(8 + 6) = 2/14 = 0.1429\n",
      "\n",
      "p(macau|y=Yes) = (1 + 1)/(8 + 6) = 2/14 = 0.1429\n",
      "\n",
      "=====================================================================================\n",
      "\n"
     ]
    }
   ],
   "source": [
    "model = NaiveBayes(model = 'multi', smoothing = True)\n",
    "model.fit(X=['Chinese Beijing Chinese ', 'Chinese Chinese Shanghai', 'Chinese Macau', 'Tokyo Japan Chinese',\n",
    "                    ],\n",
    "                 y=['Yes','Yes','Yes','No'])"
   ]
  },
  {
   "cell_type": "code",
   "execution_count": 139,
   "id": "dfdf1331",
   "metadata": {},
   "outputs": [
    {
     "name": "stdout",
     "output_type": "stream",
     "text": [
      "Test Document, D = Chinese Chinese Chinese Tokyo Japan\n",
      "\n",
      "Using\n"
     ]
    },
    {
     "data": {
      "text/latex": [
       "$\\displaystyle P(C_{k}|D)∝ P(X|C_{k})P(C_{k}))$"
      ],
      "text/plain": [
       "P(C_{k}|D)∝ P(X|C_{k})P(C_{k}))"
      ]
     },
     "metadata": {},
     "output_type": "display_data"
    },
    {
     "data": {
      "text/latex": [
       "$\\displaystyle P(C_{k}|D)∝ P(C_{k})∏_{j=1}^{len(X)} P(u_j|C_k)$"
      ],
      "text/plain": [
       "P(C_{k}|D)∝ P(C_{k})∏_{j=1}^{len(X)} P(u_j|C_k)"
      ]
     },
     "metadata": {},
     "output_type": "display_data"
    },
    {
     "name": "stdout",
     "output_type": "stream",
     "text": [
      "where u - each word in test document X\n",
      "\n",
      "P(y=No|X) ∝ p(y=No)*P(chinese|y=No)*P(chinese|y=No)*P(chinese|y=No)*P(tokyo|y=No)*P(japan|y=No)\n",
      "P(y=No|X) ∝ 0.25*2/9*2/9*2/9*2/9*2/9\n",
      "= 0.0001354129756629241\n",
      "=========================================================\n",
      "\n",
      "P(y=Yes|X) ∝ p(y=Yes)*P(chinese|y=Yes)*P(chinese|y=Yes)*P(chinese|y=Yes)*P(tokyo|y=Yes)*P(japan|y=Yes)\n",
      "P(y=Yes|X) ∝ 0.75*6/14*6/14*6/14*1/14*1/14\n",
      "= 0.0003010330557273464\n",
      "=========================================================\n",
      "\n",
      "The test document D belongs to class y = Yes\n"
     ]
    }
   ],
   "source": [
    "model.predict('Chinese Chinese Chinese Tokyo Japan')"
   ]
  },
  {
   "cell_type": "markdown",
   "id": "25ae3b7c",
   "metadata": {},
   "source": [
    "## Bag of Words : Bernoulli"
   ]
  },
  {
   "cell_type": "code",
   "execution_count": 194,
   "id": "b04e938a",
   "metadata": {},
   "outputs": [
    {
     "name": "stdout",
     "output_type": "stream",
     "text": [
      "Class priors:\n",
      " p(y=No)  p(y=Yes)\n",
      "    0.25      0.75\n",
      "\n",
      "Data:\n"
     ]
    },
    {
     "data": {
      "text/html": [
       "<div>\n",
       "<style scoped>\n",
       "    .dataframe tbody tr th:only-of-type {\n",
       "        vertical-align: middle;\n",
       "    }\n",
       "\n",
       "    .dataframe tbody tr th {\n",
       "        vertical-align: top;\n",
       "    }\n",
       "\n",
       "    .dataframe thead th {\n",
       "        text-align: right;\n",
       "    }\n",
       "</style>\n",
       "<table border=\"1\" class=\"dataframe\">\n",
       "  <thead>\n",
       "    <tr style=\"text-align: right;\">\n",
       "      <th></th>\n",
       "      <th>Shanghai</th>\n",
       "      <th>Beijing</th>\n",
       "      <th>Macau</th>\n",
       "      <th>Chinese</th>\n",
       "      <th>Japan</th>\n",
       "      <th>Tokyo</th>\n",
       "      <th>Class(Y)</th>\n",
       "    </tr>\n",
       "  </thead>\n",
       "  <tbody>\n",
       "    <tr>\n",
       "      <th>Chinese Beijing Chinese</th>\n",
       "      <td>0</td>\n",
       "      <td>1</td>\n",
       "      <td>0</td>\n",
       "      <td>1</td>\n",
       "      <td>0</td>\n",
       "      <td>0</td>\n",
       "      <td>Yes</td>\n",
       "    </tr>\n",
       "    <tr>\n",
       "      <th>Chinese Chinese Shanghai</th>\n",
       "      <td>1</td>\n",
       "      <td>0</td>\n",
       "      <td>0</td>\n",
       "      <td>1</td>\n",
       "      <td>0</td>\n",
       "      <td>0</td>\n",
       "      <td>Yes</td>\n",
       "    </tr>\n",
       "    <tr>\n",
       "      <th>Chinese Macau</th>\n",
       "      <td>0</td>\n",
       "      <td>0</td>\n",
       "      <td>1</td>\n",
       "      <td>1</td>\n",
       "      <td>0</td>\n",
       "      <td>0</td>\n",
       "      <td>Yes</td>\n",
       "    </tr>\n",
       "    <tr>\n",
       "      <th>Tokyo Japan Chinese</th>\n",
       "      <td>0</td>\n",
       "      <td>0</td>\n",
       "      <td>0</td>\n",
       "      <td>1</td>\n",
       "      <td>1</td>\n",
       "      <td>1</td>\n",
       "      <td>No</td>\n",
       "    </tr>\n",
       "  </tbody>\n",
       "</table>\n",
       "</div>"
      ],
      "text/plain": [
       "                          Shanghai  Beijing  Macau  Chinese  Japan  Tokyo  \\\n",
       "Chinese Beijing Chinese          0        1      0        1      0      0   \n",
       "Chinese Chinese Shanghai         1        0      0        1      0      0   \n",
       "Chinese Macau                    0        0      1        1      0      0   \n",
       "Tokyo Japan Chinese              0        0      0        1      1      1   \n",
       "\n",
       "                         Class(Y)  \n",
       "Chinese Beijing Chinese       Yes  \n",
       "Chinese Chinese Shanghai      Yes  \n",
       "Chinese Macau                 Yes  \n",
       "Tokyo Japan Chinese            No  "
      ]
     },
     "metadata": {},
     "output_type": "display_data"
    },
    {
     "name": "stdout",
     "output_type": "stream",
     "text": [
      "==================================================================================\n",
      "\n",
      "\n",
      "For Y = No\n"
     ]
    },
    {
     "data": {
      "text/html": [
       "<div>\n",
       "<style scoped>\n",
       "    .dataframe tbody tr th:only-of-type {\n",
       "        vertical-align: middle;\n",
       "    }\n",
       "\n",
       "    .dataframe tbody tr th {\n",
       "        vertical-align: top;\n",
       "    }\n",
       "\n",
       "    .dataframe thead th {\n",
       "        text-align: right;\n",
       "    }\n",
       "</style>\n",
       "<table border=\"1\" class=\"dataframe\">\n",
       "  <thead>\n",
       "    <tr style=\"text-align: right;\">\n",
       "      <th></th>\n",
       "      <th>Shanghai</th>\n",
       "      <th>Beijing</th>\n",
       "      <th>Macau</th>\n",
       "      <th>Chinese</th>\n",
       "      <th>Japan</th>\n",
       "      <th>Tokyo</th>\n",
       "      <th>Class(Y)</th>\n",
       "    </tr>\n",
       "  </thead>\n",
       "  <tbody>\n",
       "    <tr>\n",
       "      <th>Tokyo Japan Chinese</th>\n",
       "      <td>0</td>\n",
       "      <td>0</td>\n",
       "      <td>0</td>\n",
       "      <td>1</td>\n",
       "      <td>1</td>\n",
       "      <td>1</td>\n",
       "      <td>No</td>\n",
       "    </tr>\n",
       "  </tbody>\n",
       "</table>\n",
       "</div>"
      ],
      "text/plain": [
       "                     Shanghai  Beijing  Macau  Chinese  Japan  Tokyo Class(Y)\n",
       "Tokyo Japan Chinese         0        0      0        1      1      1       No"
      ]
     },
     "metadata": {},
     "output_type": "display_data"
    },
    {
     "name": "stdout",
     "output_type": "stream",
     "text": [
      "\n",
      "p(Shanghai|y=No) = (0 + 1)/(1 + 2) = 1/3 = 0.3333\n",
      "\n",
      "p(Beijing|y=No) = (0 + 1)/(1 + 2) = 1/3 = 0.3333\n",
      "\n",
      "p(Macau|y=No) = (0 + 1)/(1 + 2) = 1/3 = 0.3333\n",
      "\n",
      "p(Chinese|y=No) = (1 + 1)/(1 + 2) = 2/3 = 0.6667\n",
      "\n",
      "p(Japan|y=No) = (1 + 1)/(1 + 2) = 2/3 = 0.6667\n",
      "\n",
      "p(Tokyo|y=No) = (1 + 1)/(1 + 2) = 2/3 = 0.6667\n",
      "\n",
      "=====================================================================================\n",
      "\n",
      "\n",
      "\n",
      "For Y = Yes\n"
     ]
    },
    {
     "data": {
      "text/html": [
       "<div>\n",
       "<style scoped>\n",
       "    .dataframe tbody tr th:only-of-type {\n",
       "        vertical-align: middle;\n",
       "    }\n",
       "\n",
       "    .dataframe tbody tr th {\n",
       "        vertical-align: top;\n",
       "    }\n",
       "\n",
       "    .dataframe thead th {\n",
       "        text-align: right;\n",
       "    }\n",
       "</style>\n",
       "<table border=\"1\" class=\"dataframe\">\n",
       "  <thead>\n",
       "    <tr style=\"text-align: right;\">\n",
       "      <th></th>\n",
       "      <th>Shanghai</th>\n",
       "      <th>Beijing</th>\n",
       "      <th>Macau</th>\n",
       "      <th>Chinese</th>\n",
       "      <th>Japan</th>\n",
       "      <th>Tokyo</th>\n",
       "      <th>Class(Y)</th>\n",
       "    </tr>\n",
       "  </thead>\n",
       "  <tbody>\n",
       "    <tr>\n",
       "      <th>Chinese Beijing Chinese</th>\n",
       "      <td>0</td>\n",
       "      <td>1</td>\n",
       "      <td>0</td>\n",
       "      <td>1</td>\n",
       "      <td>0</td>\n",
       "      <td>0</td>\n",
       "      <td>Yes</td>\n",
       "    </tr>\n",
       "    <tr>\n",
       "      <th>Chinese Chinese Shanghai</th>\n",
       "      <td>1</td>\n",
       "      <td>0</td>\n",
       "      <td>0</td>\n",
       "      <td>1</td>\n",
       "      <td>0</td>\n",
       "      <td>0</td>\n",
       "      <td>Yes</td>\n",
       "    </tr>\n",
       "    <tr>\n",
       "      <th>Chinese Macau</th>\n",
       "      <td>0</td>\n",
       "      <td>0</td>\n",
       "      <td>1</td>\n",
       "      <td>1</td>\n",
       "      <td>0</td>\n",
       "      <td>0</td>\n",
       "      <td>Yes</td>\n",
       "    </tr>\n",
       "  </tbody>\n",
       "</table>\n",
       "</div>"
      ],
      "text/plain": [
       "                          Shanghai  Beijing  Macau  Chinese  Japan  Tokyo  \\\n",
       "Chinese Beijing Chinese          0        1      0        1      0      0   \n",
       "Chinese Chinese Shanghai         1        0      0        1      0      0   \n",
       "Chinese Macau                    0        0      1        1      0      0   \n",
       "\n",
       "                         Class(Y)  \n",
       "Chinese Beijing Chinese       Yes  \n",
       "Chinese Chinese Shanghai      Yes  \n",
       "Chinese Macau                 Yes  "
      ]
     },
     "metadata": {},
     "output_type": "display_data"
    },
    {
     "name": "stdout",
     "output_type": "stream",
     "text": [
      "\n",
      "p(Shanghai|y=Yes) = (1 + 1)/(3 + 2) = 2/5 = 0.4\n",
      "\n",
      "p(Beijing|y=Yes) = (1 + 1)/(3 + 2) = 2/5 = 0.4\n",
      "\n",
      "p(Macau|y=Yes) = (1 + 1)/(3 + 2) = 2/5 = 0.4\n",
      "\n",
      "p(Chinese|y=Yes) = (3 + 1)/(3 + 2) = 4/5 = 0.8\n",
      "\n",
      "p(Japan|y=Yes) = (0 + 1)/(3 + 2) = 1/5 = 0.2\n",
      "\n",
      "p(Tokyo|y=Yes) = (0 + 1)/(3 + 2) = 1/5 = 0.2\n",
      "\n",
      "=====================================================================================\n",
      "\n"
     ]
    }
   ],
   "source": [
    "model = NaiveBayes(model = 'bernoulli', smoothing = True)\n",
    "model.fit(X=['Chinese Beijing Chinese ', 'Chinese Chinese Shanghai', 'Chinese Macau', 'Tokyo Japan Chinese',\n",
    "                    ],\n",
    "                 y=['Yes','Yes','Yes','No'])"
   ]
  },
  {
   "cell_type": "code",
   "execution_count": 195,
   "id": "c3550f38",
   "metadata": {},
   "outputs": [
    {
     "name": "stdout",
     "output_type": "stream",
     "text": [
      "Test Document, D = Chinese Chinese Chinese Tokyo Japan\n",
      "\n",
      "Using\n"
     ]
    },
    {
     "data": {
      "text/latex": [
       "$\\displaystyle P(C_{k}|b)∝ P(X|C_{k})P(C_{k}))$"
      ],
      "text/plain": [
       "P(C_{k}|b)∝ P(X|C_{k})P(C_{k}))"
      ]
     },
     "metadata": {},
     "output_type": "display_data"
    },
    {
     "data": {
      "text/latex": [
       "$\\displaystyle P(C_{k}|b)∝ P(C_{k})∏_{t=1}^{|V|} [b_tP(w_t|C_k) + (1-b_t)(1-P(w_t|C_k))]$"
      ],
      "text/plain": [
       "P(C_{k}|b)∝ P(C_{k})∏_{t=1}^{|V|} [b_tP(w_t|C_k) + (1-b_t)(1-P(w_t|C_k))]"
      ]
     },
     "metadata": {},
     "output_type": "display_data"
    },
    {
     "name": "stdout",
     "output_type": "stream",
     "text": [
      "where b = feature vector of document D \n",
      "bₜ = {0,1} => abscence or presence of word wₜ in the document\n",
      "\n",
      "b = [0, 0, 0, 1, 1, 1]\n",
      "\n",
      "P(y=No|X) ∝ p(y=No)*(1 - P(Shanghai|y=No))*(1 - P(Beijing|y=No))*(1 - P(Macau|y=No))*P(Chinese|y=No)*P(Japan|y=No)*P(Tokyo|y=No)\n",
      "P(y=No|b) ∝ 0.25*(1 - 1/3)*(1 - 1/3)*(1 - 1/3)*2/3*2/3*2/3\n",
      "= 0.021954458984965713\n",
      "=========================================================\n",
      "\n",
      "P(y=Yes|X) ∝ p(y=Yes)*(1 - P(Shanghai|y=Yes))*(1 - P(Beijing|y=Yes))*(1 - P(Macau|y=Yes))*P(Chinese|y=Yes)*P(Japan|y=Yes)*P(Tokyo|y=Yes)\n",
      "P(y=Yes|b) ∝ 0.75*(1 - 2/5)*(1 - 2/5)*(1 - 2/5)*4/5*1/5*1/5\n",
      "= 0.005184\n",
      "=========================================================\n",
      "\n",
      "The test document D belongs to class y = No\n"
     ]
    }
   ],
   "source": [
    "model.predict('Chinese Chinese Chinese Tokyo Japan')"
   ]
  },
  {
   "cell_type": "markdown",
   "id": "9d939df1",
   "metadata": {},
   "source": [
    "## Categorize Data using Naive Bayes"
   ]
  },
  {
   "cell_type": "code",
   "execution_count": 135,
   "id": "5d97f4ed",
   "metadata": {},
   "outputs": [
    {
     "name": "stdout",
     "output_type": "stream",
     "text": [
      "Class priors:\n",
      " p(y=Fail)  p(y=Pass)\n",
      "  0.555556   0.444444\n",
      "\n",
      "Data:\n"
     ]
    },
    {
     "data": {
      "text/html": [
       "<div>\n",
       "<style scoped>\n",
       "    .dataframe tbody tr th:only-of-type {\n",
       "        vertical-align: middle;\n",
       "    }\n",
       "\n",
       "    .dataframe tbody tr th {\n",
       "        vertical-align: top;\n",
       "    }\n",
       "\n",
       "    .dataframe thead th {\n",
       "        text-align: right;\n",
       "    }\n",
       "</style>\n",
       "<table border=\"1\" class=\"dataframe\">\n",
       "  <thead>\n",
       "    <tr style=\"text-align: right;\">\n",
       "      <th></th>\n",
       "      <th>Study Hours</th>\n",
       "      <th>Gender</th>\n",
       "      <th>Result</th>\n",
       "    </tr>\n",
       "  </thead>\n",
       "  <tbody>\n",
       "    <tr>\n",
       "      <th>0</th>\n",
       "      <td>4.5</td>\n",
       "      <td>Male</td>\n",
       "      <td>Pass</td>\n",
       "    </tr>\n",
       "    <tr>\n",
       "      <th>1</th>\n",
       "      <td>7.0</td>\n",
       "      <td>Female</td>\n",
       "      <td>Pass</td>\n",
       "    </tr>\n",
       "    <tr>\n",
       "      <th>2</th>\n",
       "      <td>2.0</td>\n",
       "      <td>Male</td>\n",
       "      <td>Fail</td>\n",
       "    </tr>\n",
       "    <tr>\n",
       "      <th>3</th>\n",
       "      <td>4.0</td>\n",
       "      <td>Female</td>\n",
       "      <td>Fail</td>\n",
       "    </tr>\n",
       "    <tr>\n",
       "      <th>4</th>\n",
       "      <td>2.5</td>\n",
       "      <td>Male</td>\n",
       "      <td>Fail</td>\n",
       "    </tr>\n",
       "    <tr>\n",
       "      <th>5</th>\n",
       "      <td>3.0</td>\n",
       "      <td>Female</td>\n",
       "      <td>Fail</td>\n",
       "    </tr>\n",
       "    <tr>\n",
       "      <th>6</th>\n",
       "      <td>8.3</td>\n",
       "      <td>Male</td>\n",
       "      <td>Fail</td>\n",
       "    </tr>\n",
       "    <tr>\n",
       "      <th>7</th>\n",
       "      <td>8.0</td>\n",
       "      <td>Female</td>\n",
       "      <td>Pass</td>\n",
       "    </tr>\n",
       "    <tr>\n",
       "      <th>8</th>\n",
       "      <td>9.0</td>\n",
       "      <td>Male</td>\n",
       "      <td>Pass</td>\n",
       "    </tr>\n",
       "  </tbody>\n",
       "</table>\n",
       "</div>"
      ],
      "text/plain": [
       "   Study Hours  Gender Result\n",
       "0          4.5    Male   Pass\n",
       "1          7.0  Female   Pass\n",
       "2          2.0    Male   Fail\n",
       "3          4.0  Female   Fail\n",
       "4          2.5    Male   Fail\n",
       "5          3.0  Female   Fail\n",
       "6          8.3    Male   Fail\n",
       "7          8.0  Female   Pass\n",
       "8          9.0    Male   Pass"
      ]
     },
     "metadata": {},
     "output_type": "display_data"
    },
    {
     "name": "stdout",
     "output_type": "stream",
     "text": [
      "\n",
      "Feature: Study Hours\n",
      "Study Hours is continuous\n",
      "\n",
      "Using:\n"
     ]
    },
    {
     "data": {
      "text/latex": [
       "$\\displaystyle P(X_{i}=x|Y=y_{k}) = \\frac{e^{\\frac{-(x-μ_{ik})^2}{2σ_{ik}^2}}}{\\sqrt{2πσ_{ik}^2}}$"
      ],
      "text/plain": [
       "Eq(P(X_{i}=x|Y=y_{k}), e**(-(x-μ_{ik})^2/2σ_{ik}^2)/sqrt(2πσ_{ik}^2))"
      ]
     },
     "metadata": {},
     "output_type": "display_data"
    },
    {
     "name": "stdout",
     "output_type": "stream",
     "text": [
      "\n",
      "Mean Variance Table Table:\n"
     ]
    },
    {
     "data": {
      "text/html": [
       "<div>\n",
       "<style scoped>\n",
       "    .dataframe tbody tr th:only-of-type {\n",
       "        vertical-align: middle;\n",
       "    }\n",
       "\n",
       "    .dataframe tbody tr th {\n",
       "        vertical-align: top;\n",
       "    }\n",
       "\n",
       "    .dataframe thead th {\n",
       "        text-align: right;\n",
       "    }\n",
       "</style>\n",
       "<table border=\"1\" class=\"dataframe\">\n",
       "  <thead>\n",
       "    <tr style=\"text-align: right;\">\n",
       "      <th></th>\n",
       "      <th>Result=Fail</th>\n",
       "      <th>Result=Pass</th>\n",
       "    </tr>\n",
       "    <tr>\n",
       "      <th>Study Hours</th>\n",
       "      <th></th>\n",
       "      <th></th>\n",
       "    </tr>\n",
       "  </thead>\n",
       "  <tbody>\n",
       "    <tr>\n",
       "      <th>mean</th>\n",
       "      <td>3.960</td>\n",
       "      <td>7.125000</td>\n",
       "    </tr>\n",
       "    <tr>\n",
       "      <th>variance</th>\n",
       "      <td>6.433</td>\n",
       "      <td>3.729167</td>\n",
       "    </tr>\n",
       "  </tbody>\n",
       "</table>\n",
       "</div>"
      ],
      "text/plain": [
       "             Result=Fail  Result=Pass\n",
       "Study Hours                          \n",
       "mean               3.960     7.125000\n",
       "variance           6.433     3.729167"
      ]
     },
     "metadata": {},
     "output_type": "display_data"
    },
    {
     "name": "stdout",
     "output_type": "stream",
     "text": [
      "==================================================================================\n",
      "\n",
      "Feature: Gender\n",
      "Gender is categorical\n",
      "\n",
      "Using:\n"
     ]
    },
    {
     "data": {
      "text/latex": [
       "$\\displaystyle P(X_{i}=x|Y=y_{k}) = \\frac{D(X_{i}=x∩Y=y_{k})}{D(Y=y_{k})}$"
      ],
      "text/plain": [
       "Eq(P(X_{i}=x|Y=y_{k}), D(X_{i}=x∩Y=y_{k})/D(Y=y_{k}))"
      ]
     },
     "metadata": {},
     "output_type": "display_data"
    },
    {
     "name": "stdout",
     "output_type": "stream",
     "text": [
      "Where D denoted no of items in dataset\n",
      "\n",
      "Probability Lookup Table:\n"
     ]
    },
    {
     "data": {
      "text/html": [
       "<div>\n",
       "<style scoped>\n",
       "    .dataframe tbody tr th:only-of-type {\n",
       "        vertical-align: middle;\n",
       "    }\n",
       "\n",
       "    .dataframe tbody tr th {\n",
       "        vertical-align: top;\n",
       "    }\n",
       "\n",
       "    .dataframe thead th {\n",
       "        text-align: right;\n",
       "    }\n",
       "</style>\n",
       "<table border=\"1\" class=\"dataframe\">\n",
       "  <thead>\n",
       "    <tr style=\"text-align: right;\">\n",
       "      <th></th>\n",
       "      <th>Result=Fail</th>\n",
       "      <th>Result=Pass</th>\n",
       "    </tr>\n",
       "    <tr>\n",
       "      <th>Gender</th>\n",
       "      <th></th>\n",
       "      <th></th>\n",
       "    </tr>\n",
       "  </thead>\n",
       "  <tbody>\n",
       "    <tr>\n",
       "      <th>Female</th>\n",
       "      <td>0.4</td>\n",
       "      <td>0.5</td>\n",
       "    </tr>\n",
       "    <tr>\n",
       "      <th>Male</th>\n",
       "      <td>0.6</td>\n",
       "      <td>0.5</td>\n",
       "    </tr>\n",
       "  </tbody>\n",
       "</table>\n",
       "</div>"
      ],
      "text/plain": [
       "        Result=Fail  Result=Pass\n",
       "Gender                          \n",
       "Female          0.4          0.5\n",
       "Male            0.6          0.5"
      ]
     },
     "metadata": {},
     "output_type": "display_data"
    },
    {
     "name": "stdout",
     "output_type": "stream",
     "text": [
      "==================================================================================\n"
     ]
    }
   ],
   "source": [
    "df = pd.DataFrame({'Study Hours' : [4.5, 7, 2, 4, 2.5, 3, 8.3, 8, 9], \n",
    "                   'Gender': ['Male', 'Female', 'Male', 'Female', 'Male', 'Female', 'Male', 'Female', 'Male'],\n",
    "                  'Result': ['Pass', 'Pass', 'Fail', 'Fail', 'Fail', 'Fail', 'Fail', 'Pass', 'Pass']})\n",
    "model = NaiveBayes()\n",
    "model.fit(X=df)"
   ]
  },
  {
   "cell_type": "code",
   "execution_count": 136,
   "id": "4209d13d",
   "metadata": {},
   "outputs": [
    {
     "name": "stdout",
     "output_type": "stream",
     "text": [
      "Test Data = {'Study Hours': 3.5, 'Gender': 'Male'}\n",
      "\n",
      "Using\n"
     ]
    },
    {
     "data": {
      "text/latex": [
       "$\\displaystyle Y_{new} = argmax_{y_{k}}P(Y=y_{k})∏_{i}P(X_{i}|Y=y_{k})$"
      ],
      "text/plain": [
       "Eq(Y_{new}, argmax_{y_{k}}P(Y=y_{k})∏_{i}P(X_{i}|Y=y_{k}))"
      ]
     },
     "metadata": {},
     "output_type": "display_data"
    },
    {
     "name": "stdout",
     "output_type": "stream",
     "text": [
      "\n",
      "P(y=Fail|X) ∝ p(y=Fail)*P(Study Hours = 3.5|y=Fail)*P(Gender = Male|y=Fail)\n",
      "P(y=Fail|X) ∝ 0.555556*0.1547250702351274*0.6\n",
      "= 0.05157506467172787\n",
      "=========================================================\n",
      "\n",
      "P(y=Pass|X) ∝ p(y=Pass)*P(Study Hours = 3.5|y=Pass)*P(Gender = Male|y=Pass)\n",
      "P(y=Pass|X) ∝ 0.444444*0.035475873294745566*0.5\n",
      "= 0.00788351951530495\n",
      "=========================================================\n",
      "\n",
      "The test data belongs to class y = Fail\n"
     ]
    }
   ],
   "source": [
    "model.predict({'Study Hours' : 3.5, 'Gender': 'Male'})"
   ]
  },
  {
   "cell_type": "code",
   "execution_count": null,
   "id": "e5657361",
   "metadata": {},
   "outputs": [],
   "source": []
  }
 ],
 "metadata": {
  "kernelspec": {
   "display_name": "Python 3 (ipykernel)",
   "language": "python",
   "name": "python3"
  },
  "language_info": {
   "codemirror_mode": {
    "name": "ipython",
    "version": 3
   },
   "file_extension": ".py",
   "mimetype": "text/x-python",
   "name": "python",
   "nbconvert_exporter": "python",
   "pygments_lexer": "ipython3",
   "version": "3.7.6"
  }
 },
 "nbformat": 4,
 "nbformat_minor": 5
}
