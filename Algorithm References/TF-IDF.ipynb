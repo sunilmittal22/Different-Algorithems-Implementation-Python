{
 "cells": [
  {
   "cell_type": "code",
   "execution_count": 2,
   "id": "09c0f2eb",
   "metadata": {},
   "outputs": [],
   "source": [
    "import numpy as np\n",
    "import pandas as pd\n",
    "import scipy.spatial.distance as dist\n",
    "from sympy import *\n",
    "from itertools import product"
   ]
  },
  {
   "cell_type": "code",
   "execution_count": 3,
   "id": "0ca7cd34",
   "metadata": {},
   "outputs": [
    {
     "data": {
      "application/javascript": [
       "IPython.OutputArea.prototype._should_scroll = function(lines) {\n",
       "    return false;\n",
       "}\n"
      ],
      "text/plain": [
       "<IPython.core.display.Javascript object>"
      ]
     },
     "metadata": {},
     "output_type": "display_data"
    }
   ],
   "source": [
    "%%javascript\n",
    "IPython.OutputArea.prototype._should_scroll = function(lines) {\n",
    "    return false;\n",
    "}"
   ]
  },
  {
   "cell_type": "code",
   "execution_count": 4,
   "id": "113fcc01",
   "metadata": {},
   "outputs": [],
   "source": [
    "class TF_IDF:\n",
    "    def __init__(self, **kwargs):\n",
    "        self.method = kwargs.get('method')\n",
    "        self.tf_matrix = kwargs.get('tf_matrix')\n",
    "        self.document_dict = {}\n",
    "        self.rounding_digit = kwargs.get('rounding_digit')\n",
    "        for k,v in kwargs.items():\n",
    "            if k not in ['method', 'tf_matrix', 'rounding_digit']:\n",
    "                self.document_dict[k] = v\n",
    "        if not self.tf_matrix:\n",
    "            self.prepare_tf_matrix()\n",
    "    \n",
    "    def prepare_tf_matrix(self):\n",
    "        self.tf_matrix = pd.DataFrame(index=self.document_dict.keys())\n",
    "        for k,v in self.document_dict.items():\n",
    "            v = v.split()\n",
    "            for word in v:\n",
    "                word_count = sum([1 for x in v if x == word])\n",
    "                self.tf_matrix.loc[k,word] = word_count\n",
    "        self.tf_matrix.fillna(0, inplace=True)\n",
    "        self.tf_matrix = self.tf_matrix.astype(int)\n",
    "        \n",
    "    def get_tf_idf(self):\n",
    "        if self.method == 'Cornell':\n",
    "            self.cal_using_cornell()\n",
    "        else: \n",
    "            self.cal_using_alternate()\n",
    "            \n",
    "    def cal_using_cornell(self):\n",
    "        print('\\nTF(Term frequency) is computed using the equation:')\n",
    "        display(Symbol('TF(d,t) = 0'))\n",
    "        print('if freq(d,t) = 0\\n')\n",
    "        display(Symbol('TF(d,t) = 1+log(1+log(freq(d,t)))'))\n",
    "        print('otherwise')\n",
    "        print('\\n\\nIDF(Inverse document frequency) is computed using the equation:')\n",
    "        display(Eq(Symbol('IDF(t)') , log(Symbol('1+|d|')/Symbol('|d_{t}|'))))\n",
    "        print('where d is the document collection, and d\\u209C is the set of documents containing \\\n",
    "                \\nterm t. If |d\\u209C| << |d|, the term t will have a large IDF scaling factor\\n\\n')\n",
    "        \n",
    "        self.tf_idf_matrix  = pd.DataFrame(index=self.tf_matrix.index, columns=self.tf_matrix.columns)\n",
    "        for idx in self.tf_matrix.index:\n",
    "            print(f'\\nDocument {idx}:')\n",
    "            for col in self.tf_matrix.columns:\n",
    "                print(f'\\nWord: {col}')\n",
    "                freq = self.tf_matrix.loc[idx, col]\n",
    "                display(Eq(Symbol('freq(d,t)'), freq))\n",
    "                if freq == 0:\n",
    "                    tf = 0\n",
    "                    display(Eq(Symbol('TF(d,t)'), 0))\n",
    "                else:\n",
    "                    tf = np.round(1+ np.log10(1+np.log10(freq)), self.rounding_digit)\n",
    "                    display(Symbol(f'TF(d,t) = 1+log(1+log({freq})) = {tf}'))\n",
    "                d_t = self.tf_matrix[col].astype(bool).sum()\n",
    "                d = len(self.document_dict)\n",
    "                idf = np.round(np.log10((1+d)/d_t), self.rounding_digit)\n",
    "                display(Eq(Symbol('IDF(t)') , log(Symbol(f'1+{d}')/Symbol(f'{d_t}'))))\n",
    "                display(Eq(Symbol('IDF(t)') , idf))\n",
    "                tf_idf = np.round(tf*idf, self.rounding_digit)\n",
    "                display(Symbol(f'TF*IDF = {tf}*{idf} = {tf_idf}'))\n",
    "                self.tf_idf_matrix.loc[idx, col]  =tf_idf\n",
    "                \n",
    "                \n",
    "            print('-------------------------------------------')\n",
    "            \n",
    "    def cal_using_alternate(self):\n",
    "        print('\\nTF(Term frequency) is computed using the equation:')\n",
    "        \n",
    "        display(Eq(Symbol('TF(d,t)') , 0.5 +  Symbol('0.5 * f(d,t)')/Symbol('MaxFreq(d)')))\n",
    "       \n",
    "        print('\\n\\nIDF(Inverse document frequency) is computed using the equation:')\n",
    "        display(Eq(Symbol('IDF(t)') , 1 + log(Symbol('n')/Symbol('k'))))\n",
    "        print('where d is the total no of docs, and k is the no of docs with teran t appearing\\n\\n')\n",
    "        \n",
    "        self.tf_idf_matrix  = pd.DataFrame(index=self.tf_matrix.index, columns=self.tf_matrix.columns)\n",
    "        for idx in self.tf_matrix.index:\n",
    "            print(f'\\nDocument {idx}:')\n",
    "            for col in self.tf_matrix.columns:\n",
    "                print(f'\\nWord: {col}')\n",
    "                freq = self.tf_matrix.loc[idx, col]\n",
    "                max_freq = self.tf_matrix[col].max()\n",
    "                display(Eq(Symbol('f(d,t)'), freq))\n",
    "               \n",
    "                tf = np.round(0.5+ (0.5 * freq)/max_freq, self.rounding_digit)\n",
    "                display(Eq(Symbol('TF(d,t)') , 0.5 +  Symbol(f'0.5 * {freq}')/Symbol(f'{max_freq}')))\n",
    "                display(Eq(Symbol('TF(d,t)') , tf))\n",
    "                k = self.tf_matrix[col].astype(bool).sum()\n",
    "                n = len(self.document_dict)\n",
    "                idf = np.round(1+np.log10((n)/k), self.rounding_digit)\n",
    "                display(Eq(Symbol('IDF(t)') , 1 + log(Symbol('{n}')/Symbol('{k}'))))\n",
    "                \n",
    "                display(Eq(Symbol('IDF(t)') , idf))\n",
    "                tf_idf = np.round(tf*idf, self.rounding_digit)\n",
    "                display(Symbol(f'TF*IDF = {tf}*{idf} = {tf_idf}'))\n",
    "                self.tf_idf_matrix.loc[idx, col]  =tf_idf\n",
    "                \n",
    "                \n",
    "            print('-------------------------------------------')\n",
    "    \n",
    "    def calculate(self):\n",
    "        print('Term Frequency Matrix:')\n",
    "        display(self.tf_matrix)\n",
    "        print(f'\\nInitiating TF-TDF calculation using {self.method} method')\n",
    "        \n",
    "        self.get_tf_idf()\n",
    "        \n",
    "        print('\\nTF-IDF Matrix:')\n",
    "        display(self.tf_idf_matrix)\n",
    "        \n",
    "        self.print_doc_similarity()\n",
    "    \n",
    "    def print_doc_similarity(self):\n",
    "        print('\\n Document similarity:')\n",
    "        \n",
    "        doc_combs = [(i, j) for i, j in list(product(self.tf_idf_matrix.index, self.tf_idf_matrix.index)) if  i < j]\n",
    "        \n",
    "        max_sim = 0\n",
    "        max_doc = None\n",
    "        for comb in doc_combs:\n",
    "            c1 = comb[0]\n",
    "            c2  = comb[1]\n",
    "            sim = self.tf_idf_matrix.loc[c1]@self.tf_idf_matrix.loc[c2]/(np.linalg.norm(self.tf_idf_matrix.loc[c1])\\\n",
    "                                                                        *np.linalg.norm(self.tf_idf_matrix.loc[c2]))\n",
    "            sim = np.round(sim, self.rounding_digit)\n",
    "            display(Eq(Symbol(f'sim({c1},{c2})'), Symbol(f'{c1}.{c2}')/Symbol(f'|{c1}||{c2}|')))\n",
    "            display(Eq(Symbol(f'sim({c1},{c2})'), sim))\n",
    "            if max_sim < sim:\n",
    "                max_sim = sim\n",
    "                max_doc = (c1, c2)\n",
    "                                                                         \n",
    "        print(f'Max similarity is {max_sim} between documents {max_doc}')     \n",
    "        "
   ]
  },
  {
   "cell_type": "code",
   "execution_count": 7,
   "id": "f57e8034",
   "metadata": {},
   "outputs": [
    {
     "name": "stdout",
     "output_type": "stream",
     "text": [
      "Term Frequency Matrix:\n"
     ]
    },
    {
     "data": {
      "text/html": [
       "<div>\n",
       "<style scoped>\n",
       "    .dataframe tbody tr th:only-of-type {\n",
       "        vertical-align: middle;\n",
       "    }\n",
       "\n",
       "    .dataframe tbody tr th {\n",
       "        vertical-align: top;\n",
       "    }\n",
       "\n",
       "    .dataframe thead th {\n",
       "        text-align: right;\n",
       "    }\n",
       "</style>\n",
       "<table border=\"1\" class=\"dataframe\">\n",
       "  <thead>\n",
       "    <tr style=\"text-align: right;\">\n",
       "      <th></th>\n",
       "      <th>central</th>\n",
       "      <th>park</th>\n",
       "      <th>in</th>\n",
       "      <th>USA</th>\n",
       "      <th>city</th>\n",
       "      <th>Bangalore</th>\n",
       "      <th>Chennai</th>\n",
       "      <th>consulate</th>\n",
       "      <th>Mumbai</th>\n",
       "    </tr>\n",
       "  </thead>\n",
       "  <tbody>\n",
       "    <tr>\n",
       "      <th>D1</th>\n",
       "      <td>1</td>\n",
       "      <td>1</td>\n",
       "      <td>1</td>\n",
       "      <td>1</td>\n",
       "      <td>0</td>\n",
       "      <td>0</td>\n",
       "      <td>0</td>\n",
       "      <td>0</td>\n",
       "      <td>0</td>\n",
       "    </tr>\n",
       "    <tr>\n",
       "      <th>D2</th>\n",
       "      <td>0</td>\n",
       "      <td>1</td>\n",
       "      <td>1</td>\n",
       "      <td>0</td>\n",
       "      <td>2</td>\n",
       "      <td>1</td>\n",
       "      <td>0</td>\n",
       "      <td>0</td>\n",
       "      <td>0</td>\n",
       "    </tr>\n",
       "    <tr>\n",
       "      <th>D3</th>\n",
       "      <td>1</td>\n",
       "      <td>0</td>\n",
       "      <td>1</td>\n",
       "      <td>0</td>\n",
       "      <td>1</td>\n",
       "      <td>0</td>\n",
       "      <td>1</td>\n",
       "      <td>0</td>\n",
       "      <td>0</td>\n",
       "    </tr>\n",
       "    <tr>\n",
       "      <th>D4</th>\n",
       "      <td>0</td>\n",
       "      <td>0</td>\n",
       "      <td>1</td>\n",
       "      <td>1</td>\n",
       "      <td>0</td>\n",
       "      <td>0</td>\n",
       "      <td>1</td>\n",
       "      <td>1</td>\n",
       "      <td>0</td>\n",
       "    </tr>\n",
       "    <tr>\n",
       "      <th>D5</th>\n",
       "      <td>0</td>\n",
       "      <td>0</td>\n",
       "      <td>0</td>\n",
       "      <td>0</td>\n",
       "      <td>0</td>\n",
       "      <td>1</td>\n",
       "      <td>1</td>\n",
       "      <td>0</td>\n",
       "      <td>1</td>\n",
       "    </tr>\n",
       "  </tbody>\n",
       "</table>\n",
       "</div>"
      ],
      "text/plain": [
       "    central  park  in  USA  city  Bangalore  Chennai  consulate  Mumbai\n",
       "D1        1     1   1    1     0          0        0          0       0\n",
       "D2        0     1   1    0     2          1        0          0       0\n",
       "D3        1     0   1    0     1          0        1          0       0\n",
       "D4        0     0   1    1     0          0        1          1       0\n",
       "D5        0     0   0    0     0          1        1          0       1"
      ]
     },
     "metadata": {},
     "output_type": "display_data"
    },
    {
     "name": "stdout",
     "output_type": "stream",
     "text": [
      "\n",
      "Initiating TF-TDF calculation using Cornell method\n",
      "\n",
      "TF(Term frequency) is computed using the equation:\n"
     ]
    },
    {
     "data": {
      "text/latex": [
       "$\\displaystyle TF(d,t) = 0$"
      ],
      "text/plain": [
       "TF(d,t) = 0"
      ]
     },
     "metadata": {},
     "output_type": "display_data"
    },
    {
     "name": "stdout",
     "output_type": "stream",
     "text": [
      "if freq(d,t) = 0\n",
      "\n"
     ]
    },
    {
     "data": {
      "text/latex": [
       "$\\displaystyle TF(d,t) = 1+log(1+log(freq(d,t)))$"
      ],
      "text/plain": [
       "TF(d,t) = 1+log(1+log(freq(d,t)))"
      ]
     },
     "metadata": {},
     "output_type": "display_data"
    },
    {
     "name": "stdout",
     "output_type": "stream",
     "text": [
      "otherwise\n",
      "\n",
      "\n",
      "IDF(Inverse document frequency) is computed using the equation:\n"
     ]
    },
    {
     "data": {
      "text/latex": [
       "$\\displaystyle IDF(t) = \\log{\\left(\\frac{1+|d|}{|d_{t}|} \\right)}$"
      ],
      "text/plain": [
       "Eq(IDF(t), log(1+|d|/|d_{t}|))"
      ]
     },
     "metadata": {},
     "output_type": "display_data"
    },
    {
     "name": "stdout",
     "output_type": "stream",
     "text": [
      "where d is the document collection, and dₜ is the set of documents containing                 \n",
      "term t. If |dₜ| << |d|, the term t will have a large IDF scaling factor\n",
      "\n",
      "\n",
      "\n",
      "Document D1:\n",
      "\n",
      "Word: central\n"
     ]
    },
    {
     "data": {
      "text/latex": [
       "$\\displaystyle freq(d,t) = 1$"
      ],
      "text/plain": [
       "Eq(freq(d,t), 1)"
      ]
     },
     "metadata": {},
     "output_type": "display_data"
    },
    {
     "data": {
      "text/latex": [
       "$\\displaystyle TF(d,t) = 1+log(1+log(1)) = 1.0$"
      ],
      "text/plain": [
       "TF(d,t) = 1+log(1+log(1)) = 1.0"
      ]
     },
     "metadata": {},
     "output_type": "display_data"
    },
    {
     "data": {
      "text/latex": [
       "$\\displaystyle IDF(t) = \\log{\\left(\\frac{1+5}{2} \\right)}$"
      ],
      "text/plain": [
       "Eq(IDF(t), log(1+5/2))"
      ]
     },
     "metadata": {},
     "output_type": "display_data"
    },
    {
     "data": {
      "text/latex": [
       "$\\displaystyle IDF(t) = 0.477$"
      ],
      "text/plain": [
       "Eq(IDF(t), 0.477)"
      ]
     },
     "metadata": {},
     "output_type": "display_data"
    },
    {
     "data": {
      "text/latex": [
       "$\\displaystyle TF*IDF = 1.0*0.477 = 0.477$"
      ],
      "text/plain": [
       "TF*IDF = 1.0*0.477 = 0.477"
      ]
     },
     "metadata": {},
     "output_type": "display_data"
    },
    {
     "name": "stdout",
     "output_type": "stream",
     "text": [
      "\n",
      "Word: park\n"
     ]
    },
    {
     "data": {
      "text/latex": [
       "$\\displaystyle freq(d,t) = 1$"
      ],
      "text/plain": [
       "Eq(freq(d,t), 1)"
      ]
     },
     "metadata": {},
     "output_type": "display_data"
    },
    {
     "data": {
      "text/latex": [
       "$\\displaystyle TF(d,t) = 1+log(1+log(1)) = 1.0$"
      ],
      "text/plain": [
       "TF(d,t) = 1+log(1+log(1)) = 1.0"
      ]
     },
     "metadata": {},
     "output_type": "display_data"
    },
    {
     "data": {
      "text/latex": [
       "$\\displaystyle IDF(t) = \\log{\\left(\\frac{1+5}{2} \\right)}$"
      ],
      "text/plain": [
       "Eq(IDF(t), log(1+5/2))"
      ]
     },
     "metadata": {},
     "output_type": "display_data"
    },
    {
     "data": {
      "text/latex": [
       "$\\displaystyle IDF(t) = 0.477$"
      ],
      "text/plain": [
       "Eq(IDF(t), 0.477)"
      ]
     },
     "metadata": {},
     "output_type": "display_data"
    },
    {
     "data": {
      "text/latex": [
       "$\\displaystyle TF*IDF = 1.0*0.477 = 0.477$"
      ],
      "text/plain": [
       "TF*IDF = 1.0*0.477 = 0.477"
      ]
     },
     "metadata": {},
     "output_type": "display_data"
    },
    {
     "name": "stdout",
     "output_type": "stream",
     "text": [
      "\n",
      "Word: in\n"
     ]
    },
    {
     "data": {
      "text/latex": [
       "$\\displaystyle freq(d,t) = 1$"
      ],
      "text/plain": [
       "Eq(freq(d,t), 1)"
      ]
     },
     "metadata": {},
     "output_type": "display_data"
    },
    {
     "data": {
      "text/latex": [
       "$\\displaystyle TF(d,t) = 1+log(1+log(1)) = 1.0$"
      ],
      "text/plain": [
       "TF(d,t) = 1+log(1+log(1)) = 1.0"
      ]
     },
     "metadata": {},
     "output_type": "display_data"
    },
    {
     "data": {
      "text/latex": [
       "$\\displaystyle IDF(t) = \\log{\\left(\\frac{1+5}{4} \\right)}$"
      ],
      "text/plain": [
       "Eq(IDF(t), log(1+5/4))"
      ]
     },
     "metadata": {},
     "output_type": "display_data"
    },
    {
     "data": {
      "text/latex": [
       "$\\displaystyle IDF(t) = 0.176$"
      ],
      "text/plain": [
       "Eq(IDF(t), 0.176)"
      ]
     },
     "metadata": {},
     "output_type": "display_data"
    },
    {
     "data": {
      "text/latex": [
       "$\\displaystyle TF*IDF = 1.0*0.176 = 0.176$"
      ],
      "text/plain": [
       "TF*IDF = 1.0*0.176 = 0.176"
      ]
     },
     "metadata": {},
     "output_type": "display_data"
    },
    {
     "name": "stdout",
     "output_type": "stream",
     "text": [
      "\n",
      "Word: USA\n"
     ]
    },
    {
     "data": {
      "text/latex": [
       "$\\displaystyle freq(d,t) = 1$"
      ],
      "text/plain": [
       "Eq(freq(d,t), 1)"
      ]
     },
     "metadata": {},
     "output_type": "display_data"
    },
    {
     "data": {
      "text/latex": [
       "$\\displaystyle TF(d,t) = 1+log(1+log(1)) = 1.0$"
      ],
      "text/plain": [
       "TF(d,t) = 1+log(1+log(1)) = 1.0"
      ]
     },
     "metadata": {},
     "output_type": "display_data"
    },
    {
     "data": {
      "text/latex": [
       "$\\displaystyle IDF(t) = \\log{\\left(\\frac{1+5}{2} \\right)}$"
      ],
      "text/plain": [
       "Eq(IDF(t), log(1+5/2))"
      ]
     },
     "metadata": {},
     "output_type": "display_data"
    },
    {
     "data": {
      "text/latex": [
       "$\\displaystyle IDF(t) = 0.477$"
      ],
      "text/plain": [
       "Eq(IDF(t), 0.477)"
      ]
     },
     "metadata": {},
     "output_type": "display_data"
    },
    {
     "data": {
      "text/latex": [
       "$\\displaystyle TF*IDF = 1.0*0.477 = 0.477$"
      ],
      "text/plain": [
       "TF*IDF = 1.0*0.477 = 0.477"
      ]
     },
     "metadata": {},
     "output_type": "display_data"
    },
    {
     "name": "stdout",
     "output_type": "stream",
     "text": [
      "\n",
      "Word: city\n"
     ]
    },
    {
     "data": {
      "text/latex": [
       "$\\displaystyle freq(d,t) = 0$"
      ],
      "text/plain": [
       "Eq(freq(d,t), 0)"
      ]
     },
     "metadata": {},
     "output_type": "display_data"
    },
    {
     "data": {
      "text/latex": [
       "$\\displaystyle TF(d,t) = 0$"
      ],
      "text/plain": [
       "Eq(TF(d,t), 0)"
      ]
     },
     "metadata": {},
     "output_type": "display_data"
    },
    {
     "data": {
      "text/latex": [
       "$\\displaystyle IDF(t) = \\log{\\left(\\frac{1+5}{2} \\right)}$"
      ],
      "text/plain": [
       "Eq(IDF(t), log(1+5/2))"
      ]
     },
     "metadata": {},
     "output_type": "display_data"
    },
    {
     "data": {
      "text/latex": [
       "$\\displaystyle IDF(t) = 0.477$"
      ],
      "text/plain": [
       "Eq(IDF(t), 0.477)"
      ]
     },
     "metadata": {},
     "output_type": "display_data"
    },
    {
     "data": {
      "text/latex": [
       "$\\displaystyle TF*IDF = 0*0.477 = 0.0$"
      ],
      "text/plain": [
       "TF*IDF = 0*0.477 = 0.0"
      ]
     },
     "metadata": {},
     "output_type": "display_data"
    },
    {
     "name": "stdout",
     "output_type": "stream",
     "text": [
      "\n",
      "Word: Bangalore\n"
     ]
    },
    {
     "data": {
      "text/latex": [
       "$\\displaystyle freq(d,t) = 0$"
      ],
      "text/plain": [
       "Eq(freq(d,t), 0)"
      ]
     },
     "metadata": {},
     "output_type": "display_data"
    },
    {
     "data": {
      "text/latex": [
       "$\\displaystyle TF(d,t) = 0$"
      ],
      "text/plain": [
       "Eq(TF(d,t), 0)"
      ]
     },
     "metadata": {},
     "output_type": "display_data"
    },
    {
     "data": {
      "text/latex": [
       "$\\displaystyle IDF(t) = \\log{\\left(\\frac{1+5}{2} \\right)}$"
      ],
      "text/plain": [
       "Eq(IDF(t), log(1+5/2))"
      ]
     },
     "metadata": {},
     "output_type": "display_data"
    },
    {
     "data": {
      "text/latex": [
       "$\\displaystyle IDF(t) = 0.477$"
      ],
      "text/plain": [
       "Eq(IDF(t), 0.477)"
      ]
     },
     "metadata": {},
     "output_type": "display_data"
    },
    {
     "data": {
      "text/latex": [
       "$\\displaystyle TF*IDF = 0*0.477 = 0.0$"
      ],
      "text/plain": [
       "TF*IDF = 0*0.477 = 0.0"
      ]
     },
     "metadata": {},
     "output_type": "display_data"
    },
    {
     "name": "stdout",
     "output_type": "stream",
     "text": [
      "\n",
      "Word: Chennai\n"
     ]
    },
    {
     "data": {
      "text/latex": [
       "$\\displaystyle freq(d,t) = 0$"
      ],
      "text/plain": [
       "Eq(freq(d,t), 0)"
      ]
     },
     "metadata": {},
     "output_type": "display_data"
    },
    {
     "data": {
      "text/latex": [
       "$\\displaystyle TF(d,t) = 0$"
      ],
      "text/plain": [
       "Eq(TF(d,t), 0)"
      ]
     },
     "metadata": {},
     "output_type": "display_data"
    },
    {
     "data": {
      "text/latex": [
       "$\\displaystyle IDF(t) = \\log{\\left(\\frac{1+5}{3} \\right)}$"
      ],
      "text/plain": [
       "Eq(IDF(t), log(1+5/3))"
      ]
     },
     "metadata": {},
     "output_type": "display_data"
    },
    {
     "data": {
      "text/latex": [
       "$\\displaystyle IDF(t) = 0.301$"
      ],
      "text/plain": [
       "Eq(IDF(t), 0.301)"
      ]
     },
     "metadata": {},
     "output_type": "display_data"
    },
    {
     "data": {
      "text/latex": [
       "$\\displaystyle TF*IDF = 0*0.301 = 0.0$"
      ],
      "text/plain": [
       "TF*IDF = 0*0.301 = 0.0"
      ]
     },
     "metadata": {},
     "output_type": "display_data"
    },
    {
     "name": "stdout",
     "output_type": "stream",
     "text": [
      "\n",
      "Word: consulate\n"
     ]
    },
    {
     "data": {
      "text/latex": [
       "$\\displaystyle freq(d,t) = 0$"
      ],
      "text/plain": [
       "Eq(freq(d,t), 0)"
      ]
     },
     "metadata": {},
     "output_type": "display_data"
    },
    {
     "data": {
      "text/latex": [
       "$\\displaystyle TF(d,t) = 0$"
      ],
      "text/plain": [
       "Eq(TF(d,t), 0)"
      ]
     },
     "metadata": {},
     "output_type": "display_data"
    },
    {
     "data": {
      "text/latex": [
       "$\\displaystyle IDF(t) = \\log{\\left(\\frac{1+5}{1} \\right)}$"
      ],
      "text/plain": [
       "Eq(IDF(t), log(1+5/1))"
      ]
     },
     "metadata": {},
     "output_type": "display_data"
    },
    {
     "data": {
      "text/latex": [
       "$\\displaystyle IDF(t) = 0.778$"
      ],
      "text/plain": [
       "Eq(IDF(t), 0.778)"
      ]
     },
     "metadata": {},
     "output_type": "display_data"
    },
    {
     "data": {
      "text/latex": [
       "$\\displaystyle TF*IDF = 0*0.778 = 0.0$"
      ],
      "text/plain": [
       "TF*IDF = 0*0.778 = 0.0"
      ]
     },
     "metadata": {},
     "output_type": "display_data"
    },
    {
     "name": "stdout",
     "output_type": "stream",
     "text": [
      "\n",
      "Word: Mumbai\n"
     ]
    },
    {
     "data": {
      "text/latex": [
       "$\\displaystyle freq(d,t) = 0$"
      ],
      "text/plain": [
       "Eq(freq(d,t), 0)"
      ]
     },
     "metadata": {},
     "output_type": "display_data"
    },
    {
     "data": {
      "text/latex": [
       "$\\displaystyle TF(d,t) = 0$"
      ],
      "text/plain": [
       "Eq(TF(d,t), 0)"
      ]
     },
     "metadata": {},
     "output_type": "display_data"
    },
    {
     "data": {
      "text/latex": [
       "$\\displaystyle IDF(t) = \\log{\\left(\\frac{1+5}{1} \\right)}$"
      ],
      "text/plain": [
       "Eq(IDF(t), log(1+5/1))"
      ]
     },
     "metadata": {},
     "output_type": "display_data"
    },
    {
     "data": {
      "text/latex": [
       "$\\displaystyle IDF(t) = 0.778$"
      ],
      "text/plain": [
       "Eq(IDF(t), 0.778)"
      ]
     },
     "metadata": {},
     "output_type": "display_data"
    },
    {
     "data": {
      "text/latex": [
       "$\\displaystyle TF*IDF = 0*0.778 = 0.0$"
      ],
      "text/plain": [
       "TF*IDF = 0*0.778 = 0.0"
      ]
     },
     "metadata": {},
     "output_type": "display_data"
    },
    {
     "name": "stdout",
     "output_type": "stream",
     "text": [
      "-------------------------------------------\n",
      "\n",
      "Document D2:\n",
      "\n",
      "Word: central\n"
     ]
    },
    {
     "data": {
      "text/latex": [
       "$\\displaystyle freq(d,t) = 0$"
      ],
      "text/plain": [
       "Eq(freq(d,t), 0)"
      ]
     },
     "metadata": {},
     "output_type": "display_data"
    },
    {
     "data": {
      "text/latex": [
       "$\\displaystyle TF(d,t) = 0$"
      ],
      "text/plain": [
       "Eq(TF(d,t), 0)"
      ]
     },
     "metadata": {},
     "output_type": "display_data"
    },
    {
     "data": {
      "text/latex": [
       "$\\displaystyle IDF(t) = \\log{\\left(\\frac{1+5}{2} \\right)}$"
      ],
      "text/plain": [
       "Eq(IDF(t), log(1+5/2))"
      ]
     },
     "metadata": {},
     "output_type": "display_data"
    },
    {
     "data": {
      "text/latex": [
       "$\\displaystyle IDF(t) = 0.477$"
      ],
      "text/plain": [
       "Eq(IDF(t), 0.477)"
      ]
     },
     "metadata": {},
     "output_type": "display_data"
    },
    {
     "data": {
      "text/latex": [
       "$\\displaystyle TF*IDF = 0*0.477 = 0.0$"
      ],
      "text/plain": [
       "TF*IDF = 0*0.477 = 0.0"
      ]
     },
     "metadata": {},
     "output_type": "display_data"
    },
    {
     "name": "stdout",
     "output_type": "stream",
     "text": [
      "\n",
      "Word: park\n"
     ]
    },
    {
     "data": {
      "text/latex": [
       "$\\displaystyle freq(d,t) = 1$"
      ],
      "text/plain": [
       "Eq(freq(d,t), 1)"
      ]
     },
     "metadata": {},
     "output_type": "display_data"
    },
    {
     "data": {
      "text/latex": [
       "$\\displaystyle TF(d,t) = 1+log(1+log(1)) = 1.0$"
      ],
      "text/plain": [
       "TF(d,t) = 1+log(1+log(1)) = 1.0"
      ]
     },
     "metadata": {},
     "output_type": "display_data"
    },
    {
     "data": {
      "text/latex": [
       "$\\displaystyle IDF(t) = \\log{\\left(\\frac{1+5}{2} \\right)}$"
      ],
      "text/plain": [
       "Eq(IDF(t), log(1+5/2))"
      ]
     },
     "metadata": {},
     "output_type": "display_data"
    },
    {
     "data": {
      "text/latex": [
       "$\\displaystyle IDF(t) = 0.477$"
      ],
      "text/plain": [
       "Eq(IDF(t), 0.477)"
      ]
     },
     "metadata": {},
     "output_type": "display_data"
    },
    {
     "data": {
      "text/latex": [
       "$\\displaystyle TF*IDF = 1.0*0.477 = 0.477$"
      ],
      "text/plain": [
       "TF*IDF = 1.0*0.477 = 0.477"
      ]
     },
     "metadata": {},
     "output_type": "display_data"
    },
    {
     "name": "stdout",
     "output_type": "stream",
     "text": [
      "\n",
      "Word: in\n"
     ]
    },
    {
     "data": {
      "text/latex": [
       "$\\displaystyle freq(d,t) = 1$"
      ],
      "text/plain": [
       "Eq(freq(d,t), 1)"
      ]
     },
     "metadata": {},
     "output_type": "display_data"
    },
    {
     "data": {
      "text/latex": [
       "$\\displaystyle TF(d,t) = 1+log(1+log(1)) = 1.0$"
      ],
      "text/plain": [
       "TF(d,t) = 1+log(1+log(1)) = 1.0"
      ]
     },
     "metadata": {},
     "output_type": "display_data"
    },
    {
     "data": {
      "text/latex": [
       "$\\displaystyle IDF(t) = \\log{\\left(\\frac{1+5}{4} \\right)}$"
      ],
      "text/plain": [
       "Eq(IDF(t), log(1+5/4))"
      ]
     },
     "metadata": {},
     "output_type": "display_data"
    },
    {
     "data": {
      "text/latex": [
       "$\\displaystyle IDF(t) = 0.176$"
      ],
      "text/plain": [
       "Eq(IDF(t), 0.176)"
      ]
     },
     "metadata": {},
     "output_type": "display_data"
    },
    {
     "data": {
      "text/latex": [
       "$\\displaystyle TF*IDF = 1.0*0.176 = 0.176$"
      ],
      "text/plain": [
       "TF*IDF = 1.0*0.176 = 0.176"
      ]
     },
     "metadata": {},
     "output_type": "display_data"
    },
    {
     "name": "stdout",
     "output_type": "stream",
     "text": [
      "\n",
      "Word: USA\n"
     ]
    },
    {
     "data": {
      "text/latex": [
       "$\\displaystyle freq(d,t) = 0$"
      ],
      "text/plain": [
       "Eq(freq(d,t), 0)"
      ]
     },
     "metadata": {},
     "output_type": "display_data"
    },
    {
     "data": {
      "text/latex": [
       "$\\displaystyle TF(d,t) = 0$"
      ],
      "text/plain": [
       "Eq(TF(d,t), 0)"
      ]
     },
     "metadata": {},
     "output_type": "display_data"
    },
    {
     "data": {
      "text/latex": [
       "$\\displaystyle IDF(t) = \\log{\\left(\\frac{1+5}{2} \\right)}$"
      ],
      "text/plain": [
       "Eq(IDF(t), log(1+5/2))"
      ]
     },
     "metadata": {},
     "output_type": "display_data"
    },
    {
     "data": {
      "text/latex": [
       "$\\displaystyle IDF(t) = 0.477$"
      ],
      "text/plain": [
       "Eq(IDF(t), 0.477)"
      ]
     },
     "metadata": {},
     "output_type": "display_data"
    },
    {
     "data": {
      "text/latex": [
       "$\\displaystyle TF*IDF = 0*0.477 = 0.0$"
      ],
      "text/plain": [
       "TF*IDF = 0*0.477 = 0.0"
      ]
     },
     "metadata": {},
     "output_type": "display_data"
    },
    {
     "name": "stdout",
     "output_type": "stream",
     "text": [
      "\n",
      "Word: city\n"
     ]
    },
    {
     "data": {
      "text/latex": [
       "$\\displaystyle freq(d,t) = 2$"
      ],
      "text/plain": [
       "Eq(freq(d,t), 2)"
      ]
     },
     "metadata": {},
     "output_type": "display_data"
    },
    {
     "data": {
      "text/latex": [
       "$\\displaystyle TF(d,t) = 1+log(1+log(2)) = 1.114$"
      ],
      "text/plain": [
       "TF(d,t) = 1+log(1+log(2)) = 1.114"
      ]
     },
     "metadata": {},
     "output_type": "display_data"
    },
    {
     "data": {
      "text/latex": [
       "$\\displaystyle IDF(t) = \\log{\\left(\\frac{1+5}{2} \\right)}$"
      ],
      "text/plain": [
       "Eq(IDF(t), log(1+5/2))"
      ]
     },
     "metadata": {},
     "output_type": "display_data"
    },
    {
     "data": {
      "text/latex": [
       "$\\displaystyle IDF(t) = 0.477$"
      ],
      "text/plain": [
       "Eq(IDF(t), 0.477)"
      ]
     },
     "metadata": {},
     "output_type": "display_data"
    },
    {
     "data": {
      "text/latex": [
       "$\\displaystyle TF*IDF = 1.114*0.477 = 0.531$"
      ],
      "text/plain": [
       "TF*IDF = 1.114*0.477 = 0.531"
      ]
     },
     "metadata": {},
     "output_type": "display_data"
    },
    {
     "name": "stdout",
     "output_type": "stream",
     "text": [
      "\n",
      "Word: Bangalore\n"
     ]
    },
    {
     "data": {
      "text/latex": [
       "$\\displaystyle freq(d,t) = 1$"
      ],
      "text/plain": [
       "Eq(freq(d,t), 1)"
      ]
     },
     "metadata": {},
     "output_type": "display_data"
    },
    {
     "data": {
      "text/latex": [
       "$\\displaystyle TF(d,t) = 1+log(1+log(1)) = 1.0$"
      ],
      "text/plain": [
       "TF(d,t) = 1+log(1+log(1)) = 1.0"
      ]
     },
     "metadata": {},
     "output_type": "display_data"
    },
    {
     "data": {
      "text/latex": [
       "$\\displaystyle IDF(t) = \\log{\\left(\\frac{1+5}{2} \\right)}$"
      ],
      "text/plain": [
       "Eq(IDF(t), log(1+5/2))"
      ]
     },
     "metadata": {},
     "output_type": "display_data"
    },
    {
     "data": {
      "text/latex": [
       "$\\displaystyle IDF(t) = 0.477$"
      ],
      "text/plain": [
       "Eq(IDF(t), 0.477)"
      ]
     },
     "metadata": {},
     "output_type": "display_data"
    },
    {
     "data": {
      "text/latex": [
       "$\\displaystyle TF*IDF = 1.0*0.477 = 0.477$"
      ],
      "text/plain": [
       "TF*IDF = 1.0*0.477 = 0.477"
      ]
     },
     "metadata": {},
     "output_type": "display_data"
    },
    {
     "name": "stdout",
     "output_type": "stream",
     "text": [
      "\n",
      "Word: Chennai\n"
     ]
    },
    {
     "data": {
      "text/latex": [
       "$\\displaystyle freq(d,t) = 0$"
      ],
      "text/plain": [
       "Eq(freq(d,t), 0)"
      ]
     },
     "metadata": {},
     "output_type": "display_data"
    },
    {
     "data": {
      "text/latex": [
       "$\\displaystyle TF(d,t) = 0$"
      ],
      "text/plain": [
       "Eq(TF(d,t), 0)"
      ]
     },
     "metadata": {},
     "output_type": "display_data"
    },
    {
     "data": {
      "text/latex": [
       "$\\displaystyle IDF(t) = \\log{\\left(\\frac{1+5}{3} \\right)}$"
      ],
      "text/plain": [
       "Eq(IDF(t), log(1+5/3))"
      ]
     },
     "metadata": {},
     "output_type": "display_data"
    },
    {
     "data": {
      "text/latex": [
       "$\\displaystyle IDF(t) = 0.301$"
      ],
      "text/plain": [
       "Eq(IDF(t), 0.301)"
      ]
     },
     "metadata": {},
     "output_type": "display_data"
    },
    {
     "data": {
      "text/latex": [
       "$\\displaystyle TF*IDF = 0*0.301 = 0.0$"
      ],
      "text/plain": [
       "TF*IDF = 0*0.301 = 0.0"
      ]
     },
     "metadata": {},
     "output_type": "display_data"
    },
    {
     "name": "stdout",
     "output_type": "stream",
     "text": [
      "\n",
      "Word: consulate\n"
     ]
    },
    {
     "data": {
      "text/latex": [
       "$\\displaystyle freq(d,t) = 0$"
      ],
      "text/plain": [
       "Eq(freq(d,t), 0)"
      ]
     },
     "metadata": {},
     "output_type": "display_data"
    },
    {
     "data": {
      "text/latex": [
       "$\\displaystyle TF(d,t) = 0$"
      ],
      "text/plain": [
       "Eq(TF(d,t), 0)"
      ]
     },
     "metadata": {},
     "output_type": "display_data"
    },
    {
     "data": {
      "text/latex": [
       "$\\displaystyle IDF(t) = \\log{\\left(\\frac{1+5}{1} \\right)}$"
      ],
      "text/plain": [
       "Eq(IDF(t), log(1+5/1))"
      ]
     },
     "metadata": {},
     "output_type": "display_data"
    },
    {
     "data": {
      "text/latex": [
       "$\\displaystyle IDF(t) = 0.778$"
      ],
      "text/plain": [
       "Eq(IDF(t), 0.778)"
      ]
     },
     "metadata": {},
     "output_type": "display_data"
    },
    {
     "data": {
      "text/latex": [
       "$\\displaystyle TF*IDF = 0*0.778 = 0.0$"
      ],
      "text/plain": [
       "TF*IDF = 0*0.778 = 0.0"
      ]
     },
     "metadata": {},
     "output_type": "display_data"
    },
    {
     "name": "stdout",
     "output_type": "stream",
     "text": [
      "\n",
      "Word: Mumbai\n"
     ]
    },
    {
     "data": {
      "text/latex": [
       "$\\displaystyle freq(d,t) = 0$"
      ],
      "text/plain": [
       "Eq(freq(d,t), 0)"
      ]
     },
     "metadata": {},
     "output_type": "display_data"
    },
    {
     "data": {
      "text/latex": [
       "$\\displaystyle TF(d,t) = 0$"
      ],
      "text/plain": [
       "Eq(TF(d,t), 0)"
      ]
     },
     "metadata": {},
     "output_type": "display_data"
    },
    {
     "data": {
      "text/latex": [
       "$\\displaystyle IDF(t) = \\log{\\left(\\frac{1+5}{1} \\right)}$"
      ],
      "text/plain": [
       "Eq(IDF(t), log(1+5/1))"
      ]
     },
     "metadata": {},
     "output_type": "display_data"
    },
    {
     "data": {
      "text/latex": [
       "$\\displaystyle IDF(t) = 0.778$"
      ],
      "text/plain": [
       "Eq(IDF(t), 0.778)"
      ]
     },
     "metadata": {},
     "output_type": "display_data"
    },
    {
     "data": {
      "text/latex": [
       "$\\displaystyle TF*IDF = 0*0.778 = 0.0$"
      ],
      "text/plain": [
       "TF*IDF = 0*0.778 = 0.0"
      ]
     },
     "metadata": {},
     "output_type": "display_data"
    },
    {
     "name": "stdout",
     "output_type": "stream",
     "text": [
      "-------------------------------------------\n",
      "\n",
      "Document D3:\n",
      "\n",
      "Word: central\n"
     ]
    },
    {
     "data": {
      "text/latex": [
       "$\\displaystyle freq(d,t) = 1$"
      ],
      "text/plain": [
       "Eq(freq(d,t), 1)"
      ]
     },
     "metadata": {},
     "output_type": "display_data"
    },
    {
     "data": {
      "text/latex": [
       "$\\displaystyle TF(d,t) = 1+log(1+log(1)) = 1.0$"
      ],
      "text/plain": [
       "TF(d,t) = 1+log(1+log(1)) = 1.0"
      ]
     },
     "metadata": {},
     "output_type": "display_data"
    },
    {
     "data": {
      "text/latex": [
       "$\\displaystyle IDF(t) = \\log{\\left(\\frac{1+5}{2} \\right)}$"
      ],
      "text/plain": [
       "Eq(IDF(t), log(1+5/2))"
      ]
     },
     "metadata": {},
     "output_type": "display_data"
    },
    {
     "data": {
      "text/latex": [
       "$\\displaystyle IDF(t) = 0.477$"
      ],
      "text/plain": [
       "Eq(IDF(t), 0.477)"
      ]
     },
     "metadata": {},
     "output_type": "display_data"
    },
    {
     "data": {
      "text/latex": [
       "$\\displaystyle TF*IDF = 1.0*0.477 = 0.477$"
      ],
      "text/plain": [
       "TF*IDF = 1.0*0.477 = 0.477"
      ]
     },
     "metadata": {},
     "output_type": "display_data"
    },
    {
     "name": "stdout",
     "output_type": "stream",
     "text": [
      "\n",
      "Word: park\n"
     ]
    },
    {
     "data": {
      "text/latex": [
       "$\\displaystyle freq(d,t) = 0$"
      ],
      "text/plain": [
       "Eq(freq(d,t), 0)"
      ]
     },
     "metadata": {},
     "output_type": "display_data"
    },
    {
     "data": {
      "text/latex": [
       "$\\displaystyle TF(d,t) = 0$"
      ],
      "text/plain": [
       "Eq(TF(d,t), 0)"
      ]
     },
     "metadata": {},
     "output_type": "display_data"
    },
    {
     "data": {
      "text/latex": [
       "$\\displaystyle IDF(t) = \\log{\\left(\\frac{1+5}{2} \\right)}$"
      ],
      "text/plain": [
       "Eq(IDF(t), log(1+5/2))"
      ]
     },
     "metadata": {},
     "output_type": "display_data"
    },
    {
     "data": {
      "text/latex": [
       "$\\displaystyle IDF(t) = 0.477$"
      ],
      "text/plain": [
       "Eq(IDF(t), 0.477)"
      ]
     },
     "metadata": {},
     "output_type": "display_data"
    },
    {
     "data": {
      "text/latex": [
       "$\\displaystyle TF*IDF = 0*0.477 = 0.0$"
      ],
      "text/plain": [
       "TF*IDF = 0*0.477 = 0.0"
      ]
     },
     "metadata": {},
     "output_type": "display_data"
    },
    {
     "name": "stdout",
     "output_type": "stream",
     "text": [
      "\n",
      "Word: in\n"
     ]
    },
    {
     "data": {
      "text/latex": [
       "$\\displaystyle freq(d,t) = 1$"
      ],
      "text/plain": [
       "Eq(freq(d,t), 1)"
      ]
     },
     "metadata": {},
     "output_type": "display_data"
    },
    {
     "data": {
      "text/latex": [
       "$\\displaystyle TF(d,t) = 1+log(1+log(1)) = 1.0$"
      ],
      "text/plain": [
       "TF(d,t) = 1+log(1+log(1)) = 1.0"
      ]
     },
     "metadata": {},
     "output_type": "display_data"
    },
    {
     "data": {
      "text/latex": [
       "$\\displaystyle IDF(t) = \\log{\\left(\\frac{1+5}{4} \\right)}$"
      ],
      "text/plain": [
       "Eq(IDF(t), log(1+5/4))"
      ]
     },
     "metadata": {},
     "output_type": "display_data"
    },
    {
     "data": {
      "text/latex": [
       "$\\displaystyle IDF(t) = 0.176$"
      ],
      "text/plain": [
       "Eq(IDF(t), 0.176)"
      ]
     },
     "metadata": {},
     "output_type": "display_data"
    },
    {
     "data": {
      "text/latex": [
       "$\\displaystyle TF*IDF = 1.0*0.176 = 0.176$"
      ],
      "text/plain": [
       "TF*IDF = 1.0*0.176 = 0.176"
      ]
     },
     "metadata": {},
     "output_type": "display_data"
    },
    {
     "name": "stdout",
     "output_type": "stream",
     "text": [
      "\n",
      "Word: USA\n"
     ]
    },
    {
     "data": {
      "text/latex": [
       "$\\displaystyle freq(d,t) = 0$"
      ],
      "text/plain": [
       "Eq(freq(d,t), 0)"
      ]
     },
     "metadata": {},
     "output_type": "display_data"
    },
    {
     "data": {
      "text/latex": [
       "$\\displaystyle TF(d,t) = 0$"
      ],
      "text/plain": [
       "Eq(TF(d,t), 0)"
      ]
     },
     "metadata": {},
     "output_type": "display_data"
    },
    {
     "data": {
      "text/latex": [
       "$\\displaystyle IDF(t) = \\log{\\left(\\frac{1+5}{2} \\right)}$"
      ],
      "text/plain": [
       "Eq(IDF(t), log(1+5/2))"
      ]
     },
     "metadata": {},
     "output_type": "display_data"
    },
    {
     "data": {
      "text/latex": [
       "$\\displaystyle IDF(t) = 0.477$"
      ],
      "text/plain": [
       "Eq(IDF(t), 0.477)"
      ]
     },
     "metadata": {},
     "output_type": "display_data"
    },
    {
     "data": {
      "text/latex": [
       "$\\displaystyle TF*IDF = 0*0.477 = 0.0$"
      ],
      "text/plain": [
       "TF*IDF = 0*0.477 = 0.0"
      ]
     },
     "metadata": {},
     "output_type": "display_data"
    },
    {
     "name": "stdout",
     "output_type": "stream",
     "text": [
      "\n",
      "Word: city\n"
     ]
    },
    {
     "data": {
      "text/latex": [
       "$\\displaystyle freq(d,t) = 1$"
      ],
      "text/plain": [
       "Eq(freq(d,t), 1)"
      ]
     },
     "metadata": {},
     "output_type": "display_data"
    },
    {
     "data": {
      "text/latex": [
       "$\\displaystyle TF(d,t) = 1+log(1+log(1)) = 1.0$"
      ],
      "text/plain": [
       "TF(d,t) = 1+log(1+log(1)) = 1.0"
      ]
     },
     "metadata": {},
     "output_type": "display_data"
    },
    {
     "data": {
      "text/latex": [
       "$\\displaystyle IDF(t) = \\log{\\left(\\frac{1+5}{2} \\right)}$"
      ],
      "text/plain": [
       "Eq(IDF(t), log(1+5/2))"
      ]
     },
     "metadata": {},
     "output_type": "display_data"
    },
    {
     "data": {
      "text/latex": [
       "$\\displaystyle IDF(t) = 0.477$"
      ],
      "text/plain": [
       "Eq(IDF(t), 0.477)"
      ]
     },
     "metadata": {},
     "output_type": "display_data"
    },
    {
     "data": {
      "text/latex": [
       "$\\displaystyle TF*IDF = 1.0*0.477 = 0.477$"
      ],
      "text/plain": [
       "TF*IDF = 1.0*0.477 = 0.477"
      ]
     },
     "metadata": {},
     "output_type": "display_data"
    },
    {
     "name": "stdout",
     "output_type": "stream",
     "text": [
      "\n",
      "Word: Bangalore\n"
     ]
    },
    {
     "data": {
      "text/latex": [
       "$\\displaystyle freq(d,t) = 0$"
      ],
      "text/plain": [
       "Eq(freq(d,t), 0)"
      ]
     },
     "metadata": {},
     "output_type": "display_data"
    },
    {
     "data": {
      "text/latex": [
       "$\\displaystyle TF(d,t) = 0$"
      ],
      "text/plain": [
       "Eq(TF(d,t), 0)"
      ]
     },
     "metadata": {},
     "output_type": "display_data"
    },
    {
     "data": {
      "text/latex": [
       "$\\displaystyle IDF(t) = \\log{\\left(\\frac{1+5}{2} \\right)}$"
      ],
      "text/plain": [
       "Eq(IDF(t), log(1+5/2))"
      ]
     },
     "metadata": {},
     "output_type": "display_data"
    },
    {
     "data": {
      "text/latex": [
       "$\\displaystyle IDF(t) = 0.477$"
      ],
      "text/plain": [
       "Eq(IDF(t), 0.477)"
      ]
     },
     "metadata": {},
     "output_type": "display_data"
    },
    {
     "data": {
      "text/latex": [
       "$\\displaystyle TF*IDF = 0*0.477 = 0.0$"
      ],
      "text/plain": [
       "TF*IDF = 0*0.477 = 0.0"
      ]
     },
     "metadata": {},
     "output_type": "display_data"
    },
    {
     "name": "stdout",
     "output_type": "stream",
     "text": [
      "\n",
      "Word: Chennai\n"
     ]
    },
    {
     "data": {
      "text/latex": [
       "$\\displaystyle freq(d,t) = 1$"
      ],
      "text/plain": [
       "Eq(freq(d,t), 1)"
      ]
     },
     "metadata": {},
     "output_type": "display_data"
    },
    {
     "data": {
      "text/latex": [
       "$\\displaystyle TF(d,t) = 1+log(1+log(1)) = 1.0$"
      ],
      "text/plain": [
       "TF(d,t) = 1+log(1+log(1)) = 1.0"
      ]
     },
     "metadata": {},
     "output_type": "display_data"
    },
    {
     "data": {
      "text/latex": [
       "$\\displaystyle IDF(t) = \\log{\\left(\\frac{1+5}{3} \\right)}$"
      ],
      "text/plain": [
       "Eq(IDF(t), log(1+5/3))"
      ]
     },
     "metadata": {},
     "output_type": "display_data"
    },
    {
     "data": {
      "text/latex": [
       "$\\displaystyle IDF(t) = 0.301$"
      ],
      "text/plain": [
       "Eq(IDF(t), 0.301)"
      ]
     },
     "metadata": {},
     "output_type": "display_data"
    },
    {
     "data": {
      "text/latex": [
       "$\\displaystyle TF*IDF = 1.0*0.301 = 0.301$"
      ],
      "text/plain": [
       "TF*IDF = 1.0*0.301 = 0.301"
      ]
     },
     "metadata": {},
     "output_type": "display_data"
    },
    {
     "name": "stdout",
     "output_type": "stream",
     "text": [
      "\n",
      "Word: consulate\n"
     ]
    },
    {
     "data": {
      "text/latex": [
       "$\\displaystyle freq(d,t) = 0$"
      ],
      "text/plain": [
       "Eq(freq(d,t), 0)"
      ]
     },
     "metadata": {},
     "output_type": "display_data"
    },
    {
     "data": {
      "text/latex": [
       "$\\displaystyle TF(d,t) = 0$"
      ],
      "text/plain": [
       "Eq(TF(d,t), 0)"
      ]
     },
     "metadata": {},
     "output_type": "display_data"
    },
    {
     "data": {
      "text/latex": [
       "$\\displaystyle IDF(t) = \\log{\\left(\\frac{1+5}{1} \\right)}$"
      ],
      "text/plain": [
       "Eq(IDF(t), log(1+5/1))"
      ]
     },
     "metadata": {},
     "output_type": "display_data"
    },
    {
     "data": {
      "text/latex": [
       "$\\displaystyle IDF(t) = 0.778$"
      ],
      "text/plain": [
       "Eq(IDF(t), 0.778)"
      ]
     },
     "metadata": {},
     "output_type": "display_data"
    },
    {
     "data": {
      "text/latex": [
       "$\\displaystyle TF*IDF = 0*0.778 = 0.0$"
      ],
      "text/plain": [
       "TF*IDF = 0*0.778 = 0.0"
      ]
     },
     "metadata": {},
     "output_type": "display_data"
    },
    {
     "name": "stdout",
     "output_type": "stream",
     "text": [
      "\n",
      "Word: Mumbai\n"
     ]
    },
    {
     "data": {
      "text/latex": [
       "$\\displaystyle freq(d,t) = 0$"
      ],
      "text/plain": [
       "Eq(freq(d,t), 0)"
      ]
     },
     "metadata": {},
     "output_type": "display_data"
    },
    {
     "data": {
      "text/latex": [
       "$\\displaystyle TF(d,t) = 0$"
      ],
      "text/plain": [
       "Eq(TF(d,t), 0)"
      ]
     },
     "metadata": {},
     "output_type": "display_data"
    },
    {
     "data": {
      "text/latex": [
       "$\\displaystyle IDF(t) = \\log{\\left(\\frac{1+5}{1} \\right)}$"
      ],
      "text/plain": [
       "Eq(IDF(t), log(1+5/1))"
      ]
     },
     "metadata": {},
     "output_type": "display_data"
    },
    {
     "data": {
      "text/latex": [
       "$\\displaystyle IDF(t) = 0.778$"
      ],
      "text/plain": [
       "Eq(IDF(t), 0.778)"
      ]
     },
     "metadata": {},
     "output_type": "display_data"
    },
    {
     "data": {
      "text/latex": [
       "$\\displaystyle TF*IDF = 0*0.778 = 0.0$"
      ],
      "text/plain": [
       "TF*IDF = 0*0.778 = 0.0"
      ]
     },
     "metadata": {},
     "output_type": "display_data"
    },
    {
     "name": "stdout",
     "output_type": "stream",
     "text": [
      "-------------------------------------------\n",
      "\n",
      "Document D4:\n",
      "\n",
      "Word: central\n"
     ]
    },
    {
     "data": {
      "text/latex": [
       "$\\displaystyle freq(d,t) = 0$"
      ],
      "text/plain": [
       "Eq(freq(d,t), 0)"
      ]
     },
     "metadata": {},
     "output_type": "display_data"
    },
    {
     "data": {
      "text/latex": [
       "$\\displaystyle TF(d,t) = 0$"
      ],
      "text/plain": [
       "Eq(TF(d,t), 0)"
      ]
     },
     "metadata": {},
     "output_type": "display_data"
    },
    {
     "data": {
      "text/latex": [
       "$\\displaystyle IDF(t) = \\log{\\left(\\frac{1+5}{2} \\right)}$"
      ],
      "text/plain": [
       "Eq(IDF(t), log(1+5/2))"
      ]
     },
     "metadata": {},
     "output_type": "display_data"
    },
    {
     "data": {
      "text/latex": [
       "$\\displaystyle IDF(t) = 0.477$"
      ],
      "text/plain": [
       "Eq(IDF(t), 0.477)"
      ]
     },
     "metadata": {},
     "output_type": "display_data"
    },
    {
     "data": {
      "text/latex": [
       "$\\displaystyle TF*IDF = 0*0.477 = 0.0$"
      ],
      "text/plain": [
       "TF*IDF = 0*0.477 = 0.0"
      ]
     },
     "metadata": {},
     "output_type": "display_data"
    },
    {
     "name": "stdout",
     "output_type": "stream",
     "text": [
      "\n",
      "Word: park\n"
     ]
    },
    {
     "data": {
      "text/latex": [
       "$\\displaystyle freq(d,t) = 0$"
      ],
      "text/plain": [
       "Eq(freq(d,t), 0)"
      ]
     },
     "metadata": {},
     "output_type": "display_data"
    },
    {
     "data": {
      "text/latex": [
       "$\\displaystyle TF(d,t) = 0$"
      ],
      "text/plain": [
       "Eq(TF(d,t), 0)"
      ]
     },
     "metadata": {},
     "output_type": "display_data"
    },
    {
     "data": {
      "text/latex": [
       "$\\displaystyle IDF(t) = \\log{\\left(\\frac{1+5}{2} \\right)}$"
      ],
      "text/plain": [
       "Eq(IDF(t), log(1+5/2))"
      ]
     },
     "metadata": {},
     "output_type": "display_data"
    },
    {
     "data": {
      "text/latex": [
       "$\\displaystyle IDF(t) = 0.477$"
      ],
      "text/plain": [
       "Eq(IDF(t), 0.477)"
      ]
     },
     "metadata": {},
     "output_type": "display_data"
    },
    {
     "data": {
      "text/latex": [
       "$\\displaystyle TF*IDF = 0*0.477 = 0.0$"
      ],
      "text/plain": [
       "TF*IDF = 0*0.477 = 0.0"
      ]
     },
     "metadata": {},
     "output_type": "display_data"
    },
    {
     "name": "stdout",
     "output_type": "stream",
     "text": [
      "\n",
      "Word: in\n"
     ]
    },
    {
     "data": {
      "text/latex": [
       "$\\displaystyle freq(d,t) = 1$"
      ],
      "text/plain": [
       "Eq(freq(d,t), 1)"
      ]
     },
     "metadata": {},
     "output_type": "display_data"
    },
    {
     "data": {
      "text/latex": [
       "$\\displaystyle TF(d,t) = 1+log(1+log(1)) = 1.0$"
      ],
      "text/plain": [
       "TF(d,t) = 1+log(1+log(1)) = 1.0"
      ]
     },
     "metadata": {},
     "output_type": "display_data"
    },
    {
     "data": {
      "text/latex": [
       "$\\displaystyle IDF(t) = \\log{\\left(\\frac{1+5}{4} \\right)}$"
      ],
      "text/plain": [
       "Eq(IDF(t), log(1+5/4))"
      ]
     },
     "metadata": {},
     "output_type": "display_data"
    },
    {
     "data": {
      "text/latex": [
       "$\\displaystyle IDF(t) = 0.176$"
      ],
      "text/plain": [
       "Eq(IDF(t), 0.176)"
      ]
     },
     "metadata": {},
     "output_type": "display_data"
    },
    {
     "data": {
      "text/latex": [
       "$\\displaystyle TF*IDF = 1.0*0.176 = 0.176$"
      ],
      "text/plain": [
       "TF*IDF = 1.0*0.176 = 0.176"
      ]
     },
     "metadata": {},
     "output_type": "display_data"
    },
    {
     "name": "stdout",
     "output_type": "stream",
     "text": [
      "\n",
      "Word: USA\n"
     ]
    },
    {
     "data": {
      "text/latex": [
       "$\\displaystyle freq(d,t) = 1$"
      ],
      "text/plain": [
       "Eq(freq(d,t), 1)"
      ]
     },
     "metadata": {},
     "output_type": "display_data"
    },
    {
     "data": {
      "text/latex": [
       "$\\displaystyle TF(d,t) = 1+log(1+log(1)) = 1.0$"
      ],
      "text/plain": [
       "TF(d,t) = 1+log(1+log(1)) = 1.0"
      ]
     },
     "metadata": {},
     "output_type": "display_data"
    },
    {
     "data": {
      "text/latex": [
       "$\\displaystyle IDF(t) = \\log{\\left(\\frac{1+5}{2} \\right)}$"
      ],
      "text/plain": [
       "Eq(IDF(t), log(1+5/2))"
      ]
     },
     "metadata": {},
     "output_type": "display_data"
    },
    {
     "data": {
      "text/latex": [
       "$\\displaystyle IDF(t) = 0.477$"
      ],
      "text/plain": [
       "Eq(IDF(t), 0.477)"
      ]
     },
     "metadata": {},
     "output_type": "display_data"
    },
    {
     "data": {
      "text/latex": [
       "$\\displaystyle TF*IDF = 1.0*0.477 = 0.477$"
      ],
      "text/plain": [
       "TF*IDF = 1.0*0.477 = 0.477"
      ]
     },
     "metadata": {},
     "output_type": "display_data"
    },
    {
     "name": "stdout",
     "output_type": "stream",
     "text": [
      "\n",
      "Word: city\n"
     ]
    },
    {
     "data": {
      "text/latex": [
       "$\\displaystyle freq(d,t) = 0$"
      ],
      "text/plain": [
       "Eq(freq(d,t), 0)"
      ]
     },
     "metadata": {},
     "output_type": "display_data"
    },
    {
     "data": {
      "text/latex": [
       "$\\displaystyle TF(d,t) = 0$"
      ],
      "text/plain": [
       "Eq(TF(d,t), 0)"
      ]
     },
     "metadata": {},
     "output_type": "display_data"
    },
    {
     "data": {
      "text/latex": [
       "$\\displaystyle IDF(t) = \\log{\\left(\\frac{1+5}{2} \\right)}$"
      ],
      "text/plain": [
       "Eq(IDF(t), log(1+5/2))"
      ]
     },
     "metadata": {},
     "output_type": "display_data"
    },
    {
     "data": {
      "text/latex": [
       "$\\displaystyle IDF(t) = 0.477$"
      ],
      "text/plain": [
       "Eq(IDF(t), 0.477)"
      ]
     },
     "metadata": {},
     "output_type": "display_data"
    },
    {
     "data": {
      "text/latex": [
       "$\\displaystyle TF*IDF = 0*0.477 = 0.0$"
      ],
      "text/plain": [
       "TF*IDF = 0*0.477 = 0.0"
      ]
     },
     "metadata": {},
     "output_type": "display_data"
    },
    {
     "name": "stdout",
     "output_type": "stream",
     "text": [
      "\n",
      "Word: Bangalore\n"
     ]
    },
    {
     "data": {
      "text/latex": [
       "$\\displaystyle freq(d,t) = 0$"
      ],
      "text/plain": [
       "Eq(freq(d,t), 0)"
      ]
     },
     "metadata": {},
     "output_type": "display_data"
    },
    {
     "data": {
      "text/latex": [
       "$\\displaystyle TF(d,t) = 0$"
      ],
      "text/plain": [
       "Eq(TF(d,t), 0)"
      ]
     },
     "metadata": {},
     "output_type": "display_data"
    },
    {
     "data": {
      "text/latex": [
       "$\\displaystyle IDF(t) = \\log{\\left(\\frac{1+5}{2} \\right)}$"
      ],
      "text/plain": [
       "Eq(IDF(t), log(1+5/2))"
      ]
     },
     "metadata": {},
     "output_type": "display_data"
    },
    {
     "data": {
      "text/latex": [
       "$\\displaystyle IDF(t) = 0.477$"
      ],
      "text/plain": [
       "Eq(IDF(t), 0.477)"
      ]
     },
     "metadata": {},
     "output_type": "display_data"
    },
    {
     "data": {
      "text/latex": [
       "$\\displaystyle TF*IDF = 0*0.477 = 0.0$"
      ],
      "text/plain": [
       "TF*IDF = 0*0.477 = 0.0"
      ]
     },
     "metadata": {},
     "output_type": "display_data"
    },
    {
     "name": "stdout",
     "output_type": "stream",
     "text": [
      "\n",
      "Word: Chennai\n"
     ]
    },
    {
     "data": {
      "text/latex": [
       "$\\displaystyle freq(d,t) = 1$"
      ],
      "text/plain": [
       "Eq(freq(d,t), 1)"
      ]
     },
     "metadata": {},
     "output_type": "display_data"
    },
    {
     "data": {
      "text/latex": [
       "$\\displaystyle TF(d,t) = 1+log(1+log(1)) = 1.0$"
      ],
      "text/plain": [
       "TF(d,t) = 1+log(1+log(1)) = 1.0"
      ]
     },
     "metadata": {},
     "output_type": "display_data"
    },
    {
     "data": {
      "text/latex": [
       "$\\displaystyle IDF(t) = \\log{\\left(\\frac{1+5}{3} \\right)}$"
      ],
      "text/plain": [
       "Eq(IDF(t), log(1+5/3))"
      ]
     },
     "metadata": {},
     "output_type": "display_data"
    },
    {
     "data": {
      "text/latex": [
       "$\\displaystyle IDF(t) = 0.301$"
      ],
      "text/plain": [
       "Eq(IDF(t), 0.301)"
      ]
     },
     "metadata": {},
     "output_type": "display_data"
    },
    {
     "data": {
      "text/latex": [
       "$\\displaystyle TF*IDF = 1.0*0.301 = 0.301$"
      ],
      "text/plain": [
       "TF*IDF = 1.0*0.301 = 0.301"
      ]
     },
     "metadata": {},
     "output_type": "display_data"
    },
    {
     "name": "stdout",
     "output_type": "stream",
     "text": [
      "\n",
      "Word: consulate\n"
     ]
    },
    {
     "data": {
      "text/latex": [
       "$\\displaystyle freq(d,t) = 1$"
      ],
      "text/plain": [
       "Eq(freq(d,t), 1)"
      ]
     },
     "metadata": {},
     "output_type": "display_data"
    },
    {
     "data": {
      "text/latex": [
       "$\\displaystyle TF(d,t) = 1+log(1+log(1)) = 1.0$"
      ],
      "text/plain": [
       "TF(d,t) = 1+log(1+log(1)) = 1.0"
      ]
     },
     "metadata": {},
     "output_type": "display_data"
    },
    {
     "data": {
      "text/latex": [
       "$\\displaystyle IDF(t) = \\log{\\left(\\frac{1+5}{1} \\right)}$"
      ],
      "text/plain": [
       "Eq(IDF(t), log(1+5/1))"
      ]
     },
     "metadata": {},
     "output_type": "display_data"
    },
    {
     "data": {
      "text/latex": [
       "$\\displaystyle IDF(t) = 0.778$"
      ],
      "text/plain": [
       "Eq(IDF(t), 0.778)"
      ]
     },
     "metadata": {},
     "output_type": "display_data"
    },
    {
     "data": {
      "text/latex": [
       "$\\displaystyle TF*IDF = 1.0*0.778 = 0.778$"
      ],
      "text/plain": [
       "TF*IDF = 1.0*0.778 = 0.778"
      ]
     },
     "metadata": {},
     "output_type": "display_data"
    },
    {
     "name": "stdout",
     "output_type": "stream",
     "text": [
      "\n",
      "Word: Mumbai\n"
     ]
    },
    {
     "data": {
      "text/latex": [
       "$\\displaystyle freq(d,t) = 0$"
      ],
      "text/plain": [
       "Eq(freq(d,t), 0)"
      ]
     },
     "metadata": {},
     "output_type": "display_data"
    },
    {
     "data": {
      "text/latex": [
       "$\\displaystyle TF(d,t) = 0$"
      ],
      "text/plain": [
       "Eq(TF(d,t), 0)"
      ]
     },
     "metadata": {},
     "output_type": "display_data"
    },
    {
     "data": {
      "text/latex": [
       "$\\displaystyle IDF(t) = \\log{\\left(\\frac{1+5}{1} \\right)}$"
      ],
      "text/plain": [
       "Eq(IDF(t), log(1+5/1))"
      ]
     },
     "metadata": {},
     "output_type": "display_data"
    },
    {
     "data": {
      "text/latex": [
       "$\\displaystyle IDF(t) = 0.778$"
      ],
      "text/plain": [
       "Eq(IDF(t), 0.778)"
      ]
     },
     "metadata": {},
     "output_type": "display_data"
    },
    {
     "data": {
      "text/latex": [
       "$\\displaystyle TF*IDF = 0*0.778 = 0.0$"
      ],
      "text/plain": [
       "TF*IDF = 0*0.778 = 0.0"
      ]
     },
     "metadata": {},
     "output_type": "display_data"
    },
    {
     "name": "stdout",
     "output_type": "stream",
     "text": [
      "-------------------------------------------\n",
      "\n",
      "Document D5:\n",
      "\n",
      "Word: central\n"
     ]
    },
    {
     "data": {
      "text/latex": [
       "$\\displaystyle freq(d,t) = 0$"
      ],
      "text/plain": [
       "Eq(freq(d,t), 0)"
      ]
     },
     "metadata": {},
     "output_type": "display_data"
    },
    {
     "data": {
      "text/latex": [
       "$\\displaystyle TF(d,t) = 0$"
      ],
      "text/plain": [
       "Eq(TF(d,t), 0)"
      ]
     },
     "metadata": {},
     "output_type": "display_data"
    },
    {
     "data": {
      "text/latex": [
       "$\\displaystyle IDF(t) = \\log{\\left(\\frac{1+5}{2} \\right)}$"
      ],
      "text/plain": [
       "Eq(IDF(t), log(1+5/2))"
      ]
     },
     "metadata": {},
     "output_type": "display_data"
    },
    {
     "data": {
      "text/latex": [
       "$\\displaystyle IDF(t) = 0.477$"
      ],
      "text/plain": [
       "Eq(IDF(t), 0.477)"
      ]
     },
     "metadata": {},
     "output_type": "display_data"
    },
    {
     "data": {
      "text/latex": [
       "$\\displaystyle TF*IDF = 0*0.477 = 0.0$"
      ],
      "text/plain": [
       "TF*IDF = 0*0.477 = 0.0"
      ]
     },
     "metadata": {},
     "output_type": "display_data"
    },
    {
     "name": "stdout",
     "output_type": "stream",
     "text": [
      "\n",
      "Word: park\n"
     ]
    },
    {
     "data": {
      "text/latex": [
       "$\\displaystyle freq(d,t) = 0$"
      ],
      "text/plain": [
       "Eq(freq(d,t), 0)"
      ]
     },
     "metadata": {},
     "output_type": "display_data"
    },
    {
     "data": {
      "text/latex": [
       "$\\displaystyle TF(d,t) = 0$"
      ],
      "text/plain": [
       "Eq(TF(d,t), 0)"
      ]
     },
     "metadata": {},
     "output_type": "display_data"
    },
    {
     "data": {
      "text/latex": [
       "$\\displaystyle IDF(t) = \\log{\\left(\\frac{1+5}{2} \\right)}$"
      ],
      "text/plain": [
       "Eq(IDF(t), log(1+5/2))"
      ]
     },
     "metadata": {},
     "output_type": "display_data"
    },
    {
     "data": {
      "text/latex": [
       "$\\displaystyle IDF(t) = 0.477$"
      ],
      "text/plain": [
       "Eq(IDF(t), 0.477)"
      ]
     },
     "metadata": {},
     "output_type": "display_data"
    },
    {
     "data": {
      "text/latex": [
       "$\\displaystyle TF*IDF = 0*0.477 = 0.0$"
      ],
      "text/plain": [
       "TF*IDF = 0*0.477 = 0.0"
      ]
     },
     "metadata": {},
     "output_type": "display_data"
    },
    {
     "name": "stdout",
     "output_type": "stream",
     "text": [
      "\n",
      "Word: in\n"
     ]
    },
    {
     "data": {
      "text/latex": [
       "$\\displaystyle freq(d,t) = 0$"
      ],
      "text/plain": [
       "Eq(freq(d,t), 0)"
      ]
     },
     "metadata": {},
     "output_type": "display_data"
    },
    {
     "data": {
      "text/latex": [
       "$\\displaystyle TF(d,t) = 0$"
      ],
      "text/plain": [
       "Eq(TF(d,t), 0)"
      ]
     },
     "metadata": {},
     "output_type": "display_data"
    },
    {
     "data": {
      "text/latex": [
       "$\\displaystyle IDF(t) = \\log{\\left(\\frac{1+5}{4} \\right)}$"
      ],
      "text/plain": [
       "Eq(IDF(t), log(1+5/4))"
      ]
     },
     "metadata": {},
     "output_type": "display_data"
    },
    {
     "data": {
      "text/latex": [
       "$\\displaystyle IDF(t) = 0.176$"
      ],
      "text/plain": [
       "Eq(IDF(t), 0.176)"
      ]
     },
     "metadata": {},
     "output_type": "display_data"
    },
    {
     "data": {
      "text/latex": [
       "$\\displaystyle TF*IDF = 0*0.176 = 0.0$"
      ],
      "text/plain": [
       "TF*IDF = 0*0.176 = 0.0"
      ]
     },
     "metadata": {},
     "output_type": "display_data"
    },
    {
     "name": "stdout",
     "output_type": "stream",
     "text": [
      "\n",
      "Word: USA\n"
     ]
    },
    {
     "data": {
      "text/latex": [
       "$\\displaystyle freq(d,t) = 0$"
      ],
      "text/plain": [
       "Eq(freq(d,t), 0)"
      ]
     },
     "metadata": {},
     "output_type": "display_data"
    },
    {
     "data": {
      "text/latex": [
       "$\\displaystyle TF(d,t) = 0$"
      ],
      "text/plain": [
       "Eq(TF(d,t), 0)"
      ]
     },
     "metadata": {},
     "output_type": "display_data"
    },
    {
     "data": {
      "text/latex": [
       "$\\displaystyle IDF(t) = \\log{\\left(\\frac{1+5}{2} \\right)}$"
      ],
      "text/plain": [
       "Eq(IDF(t), log(1+5/2))"
      ]
     },
     "metadata": {},
     "output_type": "display_data"
    },
    {
     "data": {
      "text/latex": [
       "$\\displaystyle IDF(t) = 0.477$"
      ],
      "text/plain": [
       "Eq(IDF(t), 0.477)"
      ]
     },
     "metadata": {},
     "output_type": "display_data"
    },
    {
     "data": {
      "text/latex": [
       "$\\displaystyle TF*IDF = 0*0.477 = 0.0$"
      ],
      "text/plain": [
       "TF*IDF = 0*0.477 = 0.0"
      ]
     },
     "metadata": {},
     "output_type": "display_data"
    },
    {
     "name": "stdout",
     "output_type": "stream",
     "text": [
      "\n",
      "Word: city\n"
     ]
    },
    {
     "data": {
      "text/latex": [
       "$\\displaystyle freq(d,t) = 0$"
      ],
      "text/plain": [
       "Eq(freq(d,t), 0)"
      ]
     },
     "metadata": {},
     "output_type": "display_data"
    },
    {
     "data": {
      "text/latex": [
       "$\\displaystyle TF(d,t) = 0$"
      ],
      "text/plain": [
       "Eq(TF(d,t), 0)"
      ]
     },
     "metadata": {},
     "output_type": "display_data"
    },
    {
     "data": {
      "text/latex": [
       "$\\displaystyle IDF(t) = \\log{\\left(\\frac{1+5}{2} \\right)}$"
      ],
      "text/plain": [
       "Eq(IDF(t), log(1+5/2))"
      ]
     },
     "metadata": {},
     "output_type": "display_data"
    },
    {
     "data": {
      "text/latex": [
       "$\\displaystyle IDF(t) = 0.477$"
      ],
      "text/plain": [
       "Eq(IDF(t), 0.477)"
      ]
     },
     "metadata": {},
     "output_type": "display_data"
    },
    {
     "data": {
      "text/latex": [
       "$\\displaystyle TF*IDF = 0*0.477 = 0.0$"
      ],
      "text/plain": [
       "TF*IDF = 0*0.477 = 0.0"
      ]
     },
     "metadata": {},
     "output_type": "display_data"
    },
    {
     "name": "stdout",
     "output_type": "stream",
     "text": [
      "\n",
      "Word: Bangalore\n"
     ]
    },
    {
     "data": {
      "text/latex": [
       "$\\displaystyle freq(d,t) = 1$"
      ],
      "text/plain": [
       "Eq(freq(d,t), 1)"
      ]
     },
     "metadata": {},
     "output_type": "display_data"
    },
    {
     "data": {
      "text/latex": [
       "$\\displaystyle TF(d,t) = 1+log(1+log(1)) = 1.0$"
      ],
      "text/plain": [
       "TF(d,t) = 1+log(1+log(1)) = 1.0"
      ]
     },
     "metadata": {},
     "output_type": "display_data"
    },
    {
     "data": {
      "text/latex": [
       "$\\displaystyle IDF(t) = \\log{\\left(\\frac{1+5}{2} \\right)}$"
      ],
      "text/plain": [
       "Eq(IDF(t), log(1+5/2))"
      ]
     },
     "metadata": {},
     "output_type": "display_data"
    },
    {
     "data": {
      "text/latex": [
       "$\\displaystyle IDF(t) = 0.477$"
      ],
      "text/plain": [
       "Eq(IDF(t), 0.477)"
      ]
     },
     "metadata": {},
     "output_type": "display_data"
    },
    {
     "data": {
      "text/latex": [
       "$\\displaystyle TF*IDF = 1.0*0.477 = 0.477$"
      ],
      "text/plain": [
       "TF*IDF = 1.0*0.477 = 0.477"
      ]
     },
     "metadata": {},
     "output_type": "display_data"
    },
    {
     "name": "stdout",
     "output_type": "stream",
     "text": [
      "\n",
      "Word: Chennai\n"
     ]
    },
    {
     "data": {
      "text/latex": [
       "$\\displaystyle freq(d,t) = 1$"
      ],
      "text/plain": [
       "Eq(freq(d,t), 1)"
      ]
     },
     "metadata": {},
     "output_type": "display_data"
    },
    {
     "data": {
      "text/latex": [
       "$\\displaystyle TF(d,t) = 1+log(1+log(1)) = 1.0$"
      ],
      "text/plain": [
       "TF(d,t) = 1+log(1+log(1)) = 1.0"
      ]
     },
     "metadata": {},
     "output_type": "display_data"
    },
    {
     "data": {
      "text/latex": [
       "$\\displaystyle IDF(t) = \\log{\\left(\\frac{1+5}{3} \\right)}$"
      ],
      "text/plain": [
       "Eq(IDF(t), log(1+5/3))"
      ]
     },
     "metadata": {},
     "output_type": "display_data"
    },
    {
     "data": {
      "text/latex": [
       "$\\displaystyle IDF(t) = 0.301$"
      ],
      "text/plain": [
       "Eq(IDF(t), 0.301)"
      ]
     },
     "metadata": {},
     "output_type": "display_data"
    },
    {
     "data": {
      "text/latex": [
       "$\\displaystyle TF*IDF = 1.0*0.301 = 0.301$"
      ],
      "text/plain": [
       "TF*IDF = 1.0*0.301 = 0.301"
      ]
     },
     "metadata": {},
     "output_type": "display_data"
    },
    {
     "name": "stdout",
     "output_type": "stream",
     "text": [
      "\n",
      "Word: consulate\n"
     ]
    },
    {
     "data": {
      "text/latex": [
       "$\\displaystyle freq(d,t) = 0$"
      ],
      "text/plain": [
       "Eq(freq(d,t), 0)"
      ]
     },
     "metadata": {},
     "output_type": "display_data"
    },
    {
     "data": {
      "text/latex": [
       "$\\displaystyle TF(d,t) = 0$"
      ],
      "text/plain": [
       "Eq(TF(d,t), 0)"
      ]
     },
     "metadata": {},
     "output_type": "display_data"
    },
    {
     "data": {
      "text/latex": [
       "$\\displaystyle IDF(t) = \\log{\\left(\\frac{1+5}{1} \\right)}$"
      ],
      "text/plain": [
       "Eq(IDF(t), log(1+5/1))"
      ]
     },
     "metadata": {},
     "output_type": "display_data"
    },
    {
     "data": {
      "text/latex": [
       "$\\displaystyle IDF(t) = 0.778$"
      ],
      "text/plain": [
       "Eq(IDF(t), 0.778)"
      ]
     },
     "metadata": {},
     "output_type": "display_data"
    },
    {
     "data": {
      "text/latex": [
       "$\\displaystyle TF*IDF = 0*0.778 = 0.0$"
      ],
      "text/plain": [
       "TF*IDF = 0*0.778 = 0.0"
      ]
     },
     "metadata": {},
     "output_type": "display_data"
    },
    {
     "name": "stdout",
     "output_type": "stream",
     "text": [
      "\n",
      "Word: Mumbai\n"
     ]
    },
    {
     "data": {
      "text/latex": [
       "$\\displaystyle freq(d,t) = 1$"
      ],
      "text/plain": [
       "Eq(freq(d,t), 1)"
      ]
     },
     "metadata": {},
     "output_type": "display_data"
    },
    {
     "data": {
      "text/latex": [
       "$\\displaystyle TF(d,t) = 1+log(1+log(1)) = 1.0$"
      ],
      "text/plain": [
       "TF(d,t) = 1+log(1+log(1)) = 1.0"
      ]
     },
     "metadata": {},
     "output_type": "display_data"
    },
    {
     "data": {
      "text/latex": [
       "$\\displaystyle IDF(t) = \\log{\\left(\\frac{1+5}{1} \\right)}$"
      ],
      "text/plain": [
       "Eq(IDF(t), log(1+5/1))"
      ]
     },
     "metadata": {},
     "output_type": "display_data"
    },
    {
     "data": {
      "text/latex": [
       "$\\displaystyle IDF(t) = 0.778$"
      ],
      "text/plain": [
       "Eq(IDF(t), 0.778)"
      ]
     },
     "metadata": {},
     "output_type": "display_data"
    },
    {
     "data": {
      "text/latex": [
       "$\\displaystyle TF*IDF = 1.0*0.778 = 0.778$"
      ],
      "text/plain": [
       "TF*IDF = 1.0*0.778 = 0.778"
      ]
     },
     "metadata": {},
     "output_type": "display_data"
    },
    {
     "name": "stdout",
     "output_type": "stream",
     "text": [
      "-------------------------------------------\n",
      "\n",
      "TF-IDF Matrix:\n"
     ]
    },
    {
     "data": {
      "text/html": [
       "<div>\n",
       "<style scoped>\n",
       "    .dataframe tbody tr th:only-of-type {\n",
       "        vertical-align: middle;\n",
       "    }\n",
       "\n",
       "    .dataframe tbody tr th {\n",
       "        vertical-align: top;\n",
       "    }\n",
       "\n",
       "    .dataframe thead th {\n",
       "        text-align: right;\n",
       "    }\n",
       "</style>\n",
       "<table border=\"1\" class=\"dataframe\">\n",
       "  <thead>\n",
       "    <tr style=\"text-align: right;\">\n",
       "      <th></th>\n",
       "      <th>central</th>\n",
       "      <th>park</th>\n",
       "      <th>in</th>\n",
       "      <th>USA</th>\n",
       "      <th>city</th>\n",
       "      <th>Bangalore</th>\n",
       "      <th>Chennai</th>\n",
       "      <th>consulate</th>\n",
       "      <th>Mumbai</th>\n",
       "    </tr>\n",
       "  </thead>\n",
       "  <tbody>\n",
       "    <tr>\n",
       "      <th>D1</th>\n",
       "      <td>0.477</td>\n",
       "      <td>0.477</td>\n",
       "      <td>0.176</td>\n",
       "      <td>0.477</td>\n",
       "      <td>0.0</td>\n",
       "      <td>0.0</td>\n",
       "      <td>0.0</td>\n",
       "      <td>0.0</td>\n",
       "      <td>0.0</td>\n",
       "    </tr>\n",
       "    <tr>\n",
       "      <th>D2</th>\n",
       "      <td>0.0</td>\n",
       "      <td>0.477</td>\n",
       "      <td>0.176</td>\n",
       "      <td>0.0</td>\n",
       "      <td>0.531</td>\n",
       "      <td>0.477</td>\n",
       "      <td>0.0</td>\n",
       "      <td>0.0</td>\n",
       "      <td>0.0</td>\n",
       "    </tr>\n",
       "    <tr>\n",
       "      <th>D3</th>\n",
       "      <td>0.477</td>\n",
       "      <td>0.0</td>\n",
       "      <td>0.176</td>\n",
       "      <td>0.0</td>\n",
       "      <td>0.477</td>\n",
       "      <td>0.0</td>\n",
       "      <td>0.301</td>\n",
       "      <td>0.0</td>\n",
       "      <td>0.0</td>\n",
       "    </tr>\n",
       "    <tr>\n",
       "      <th>D4</th>\n",
       "      <td>0.0</td>\n",
       "      <td>0.0</td>\n",
       "      <td>0.176</td>\n",
       "      <td>0.477</td>\n",
       "      <td>0.0</td>\n",
       "      <td>0.0</td>\n",
       "      <td>0.301</td>\n",
       "      <td>0.778</td>\n",
       "      <td>0.0</td>\n",
       "    </tr>\n",
       "    <tr>\n",
       "      <th>D5</th>\n",
       "      <td>0.0</td>\n",
       "      <td>0.0</td>\n",
       "      <td>0.0</td>\n",
       "      <td>0.0</td>\n",
       "      <td>0.0</td>\n",
       "      <td>0.477</td>\n",
       "      <td>0.301</td>\n",
       "      <td>0.0</td>\n",
       "      <td>0.778</td>\n",
       "    </tr>\n",
       "  </tbody>\n",
       "</table>\n",
       "</div>"
      ],
      "text/plain": [
       "   central   park     in    USA   city Bangalore Chennai consulate Mumbai\n",
       "D1   0.477  0.477  0.176  0.477    0.0       0.0     0.0       0.0    0.0\n",
       "D2     0.0  0.477  0.176    0.0  0.531     0.477     0.0       0.0    0.0\n",
       "D3   0.477    0.0  0.176    0.0  0.477       0.0   0.301       0.0    0.0\n",
       "D4     0.0    0.0  0.176  0.477    0.0       0.0   0.301     0.778    0.0\n",
       "D5     0.0    0.0    0.0    0.0    0.0     0.477   0.301       0.0  0.778"
      ]
     },
     "metadata": {},
     "output_type": "display_data"
    },
    {
     "name": "stdout",
     "output_type": "stream",
     "text": [
      "\n",
      " Document similarity:\n"
     ]
    },
    {
     "data": {
      "text/latex": [
       "$\\displaystyle sim(D1,D2) = \\frac{D1.D2}{|D1||D2|}$"
      ],
      "text/plain": [
       "Eq(sim(D1,D2), D1.D2/|D1||D2|)"
      ]
     },
     "metadata": {},
     "output_type": "display_data"
    },
    {
     "data": {
      "text/latex": [
       "$\\displaystyle sim(D1,D2) = 0.349$"
      ],
      "text/plain": [
       "Eq(sim(D1,D2), 0.349)"
      ]
     },
     "metadata": {},
     "output_type": "display_data"
    },
    {
     "data": {
      "text/latex": [
       "$\\displaystyle sim(D1,D3) = \\frac{D1.D3}{|D1||D3|}$"
      ],
      "text/plain": [
       "Eq(sim(D1,D3), D1.D3/|D1||D3|)"
      ]
     },
     "metadata": {},
     "output_type": "display_data"
    },
    {
     "data": {
      "text/latex": [
       "$\\displaystyle sim(D1,D3) = 0.403$"
      ],
      "text/plain": [
       "Eq(sim(D1,D3), 0.403)"
      ]
     },
     "metadata": {},
     "output_type": "display_data"
    },
    {
     "data": {
      "text/latex": [
       "$\\displaystyle sim(D1,D4) = \\frac{D1.D4}{|D1||D4|}$"
      ],
      "text/plain": [
       "Eq(sim(D1,D4), D1.D4/|D1||D4|)"
      ]
     },
     "metadata": {},
     "output_type": "display_data"
    },
    {
     "data": {
      "text/latex": [
       "$\\displaystyle sim(D1,D4) = 0.313$"
      ],
      "text/plain": [
       "Eq(sim(D1,D4), 0.313)"
      ]
     },
     "metadata": {},
     "output_type": "display_data"
    },
    {
     "data": {
      "text/latex": [
       "$\\displaystyle sim(D1,D5) = \\frac{D1.D5}{|D1||D5|}$"
      ],
      "text/plain": [
       "Eq(sim(D1,D5), D1.D5/|D1||D5|)"
      ]
     },
     "metadata": {},
     "output_type": "display_data"
    },
    {
     "data": {
      "text/latex": [
       "$\\displaystyle sim(D1,D5) = 0.0$"
      ],
      "text/plain": [
       "Eq(sim(D1,D5), 0.0)"
      ]
     },
     "metadata": {},
     "output_type": "display_data"
    },
    {
     "data": {
      "text/latex": [
       "$\\displaystyle sim(D2,D3) = \\frac{D2.D3}{|D2||D3|}$"
      ],
      "text/plain": [
       "Eq(sim(D2,D3), D2.D3/|D2||D3|)"
      ]
     },
     "metadata": {},
     "output_type": "display_data"
    },
    {
     "data": {
      "text/latex": [
       "$\\displaystyle sim(D2,D3) = 0.427$"
      ],
      "text/plain": [
       "Eq(sim(D2,D3), 0.427)"
      ]
     },
     "metadata": {},
     "output_type": "display_data"
    },
    {
     "data": {
      "text/latex": [
       "$\\displaystyle sim(D2,D4) = \\frac{D2.D4}{|D2||D4|}$"
      ],
      "text/plain": [
       "Eq(sim(D2,D4), D2.D4/|D2||D4|)"
      ]
     },
     "metadata": {},
     "output_type": "display_data"
    },
    {
     "data": {
      "text/latex": [
       "$\\displaystyle sim(D2,D4) = 0.036$"
      ],
      "text/plain": [
       "Eq(sim(D2,D4), 0.036)"
      ]
     },
     "metadata": {},
     "output_type": "display_data"
    },
    {
     "data": {
      "text/latex": [
       "$\\displaystyle sim(D2,D5) = \\frac{D2.D5}{|D2||D5|}$"
      ],
      "text/plain": [
       "Eq(sim(D2,D5), D2.D5/|D2||D5|)"
      ]
     },
     "metadata": {},
     "output_type": "display_data"
    },
    {
     "data": {
      "text/latex": [
       "$\\displaystyle sim(D2,D5) = 0.27$"
      ],
      "text/plain": [
       "Eq(sim(D2,D5), 0.27)"
      ]
     },
     "metadata": {},
     "output_type": "display_data"
    },
    {
     "data": {
      "text/latex": [
       "$\\displaystyle sim(D3,D4) = \\frac{D3.D4}{|D3||D4|}$"
      ],
      "text/plain": [
       "Eq(sim(D3,D4), D3.D4/|D3||D4|)"
      ]
     },
     "metadata": {},
     "output_type": "display_data"
    },
    {
     "data": {
      "text/latex": [
       "$\\displaystyle sim(D3,D4) = 0.164$"
      ],
      "text/plain": [
       "Eq(sim(D3,D4), 0.164)"
      ]
     },
     "metadata": {},
     "output_type": "display_data"
    },
    {
     "data": {
      "text/latex": [
       "$\\displaystyle sim(D3,D5) = \\frac{D3.D5}{|D3||D5|}$"
      ],
      "text/plain": [
       "Eq(sim(D3,D5), D3.D5/|D3||D5|)"
      ]
     },
     "metadata": {},
     "output_type": "display_data"
    },
    {
     "data": {
      "text/latex": [
       "$\\displaystyle sim(D3,D5) = 0.124$"
      ],
      "text/plain": [
       "Eq(sim(D3,D5), 0.124)"
      ]
     },
     "metadata": {},
     "output_type": "display_data"
    },
    {
     "data": {
      "text/latex": [
       "$\\displaystyle sim(D4,D5) = \\frac{D4.D5}{|D4||D5|}$"
      ],
      "text/plain": [
       "Eq(sim(D4,D5), D4.D5/|D4||D5|)"
      ]
     },
     "metadata": {},
     "output_type": "display_data"
    },
    {
     "data": {
      "text/latex": [
       "$\\displaystyle sim(D4,D5) = 0.097$"
      ],
      "text/plain": [
       "Eq(sim(D4,D5), 0.097)"
      ]
     },
     "metadata": {},
     "output_type": "display_data"
    },
    {
     "name": "stdout",
     "output_type": "stream",
     "text": [
      "Max similarity is 0.427 between documents ('D2', 'D3')\n"
     ]
    }
   ],
   "source": [
    "doc1 = 'central park in USA'\n",
    "doc2 = 'city park in Bangalore city'\n",
    "doc3 = 'central in Chennai city'\n",
    "doc4 = 'USA consulate in Chennai'\n",
    "doc5 = 'Bangalore Chennai Mumbai'\n",
    "#TF_IDF( D1 = doc1, D2 = doc2, D3 = doc3,D4 = doc4, D5 = doc5, method = 'alternate', rounding_digit = 3).calculate()\n",
    "TF_IDF( D1 = doc1, D2 = doc2, D3 = doc3,D4 = doc4, D5 = doc5, method = 'Cornell', rounding_digit = 3).calculate()"
   ]
  },
  {
   "cell_type": "code",
   "execution_count": null,
   "id": "dd991bbd",
   "metadata": {},
   "outputs": [],
   "source": []
  },
  {
   "cell_type": "code",
   "execution_count": null,
   "id": "8484fe60",
   "metadata": {},
   "outputs": [],
   "source": []
  }
 ],
 "metadata": {
  "kernelspec": {
   "display_name": "Python 3 (ipykernel)",
   "language": "python",
   "name": "python3"
  },
  "language_info": {
   "codemirror_mode": {
    "name": "ipython",
    "version": 3
   },
   "file_extension": ".py",
   "mimetype": "text/x-python",
   "name": "python",
   "nbconvert_exporter": "python",
   "pygments_lexer": "ipython3",
   "version": "3.7.6"
  }
 },
 "nbformat": 4,
 "nbformat_minor": 5
}
