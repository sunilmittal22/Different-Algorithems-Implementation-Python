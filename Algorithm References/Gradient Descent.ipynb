{
 "cells": [
  {
   "cell_type": "code",
   "execution_count": 30,
   "id": "1981315f",
   "metadata": {},
   "outputs": [],
   "source": [
    "import numpy as np\n",
    "import pandas as pd\n",
    "#import statsmodels as sm\n",
    "from sympy import *"
   ]
  },
  {
   "cell_type": "code",
   "execution_count": 102,
   "id": "7c24df86",
   "metadata": {},
   "outputs": [
    {
     "data": {
      "application/javascript": [
       "IPython.OutputArea.prototype._should_scroll = function(lines) {\n",
       "    return false;\n",
       "}\n"
      ],
      "text/plain": [
       "<IPython.core.display.Javascript object>"
      ]
     },
     "metadata": {},
     "output_type": "display_data"
    }
   ],
   "source": [
    "%%javascript\n",
    "IPython.OutputArea.prototype._should_scroll = function(lines) {\n",
    "    return false;\n",
    "}"
   ]
  },
  {
   "cell_type": "code",
   "execution_count": 252,
   "id": "59ecbeab",
   "metadata": {},
   "outputs": [],
   "source": [
    "class GradientDescent:\n",
    "    def __init__(self, **kwargs):\n",
    "        self.model = kwargs.get('model')\n",
    "        self.data = kwargs.get('data')\n",
    "        self.regularization = kwargs.get('regularization')\n",
    "        self.n_iter = kwargs.get('n_iter') if kwargs.get('n_iter') else 5\n",
    "        self.theta_init = kwargs.get('theta_init')\n",
    "        self.alpha = kwargs.get('alpha') if kwargs.get('alpha') else 0.01\n",
    "        self.lambda_ = kwargs.get('lambda_') if kwargs.get('lambda_') else 0.01\n",
    "    \n",
    "    def run(self):\n",
    "        self.X = self.data.iloc[:,:-1]\n",
    "        self.y = self.data.iloc[:,-1]\n",
    "        self.X.insert(0, 'X0', np.ones(self.X.shape[0]))\n",
    "        #display(self.X)\n",
    "        \n",
    "        if not self.theta_init:\n",
    "            n = self.X.shape[1] if len(X.shape) == 2 else 1\n",
    "            self.theta_init = np.zeros(n)\n",
    "            \n",
    "        if self.model == 'Linear Regression':\n",
    "            self.run_linear_reg()\n",
    "        else:\n",
    "            self.run_log_reg()\n",
    "            \n",
    "    def run_log_reg(self):\n",
    "        if not self.regularization:\n",
    "            print('Running Gradient descent for Logistic Regression')\n",
    "            print('\\nCost Function:')\n",
    "            display(Eq(Symbol('J(\\u03B8)'), \n",
    "                       Symbol('-1/(n)\\u2211_{i=1}^n[y^{i}log(h_{\\u03B8}(x^{i})) + (1-y^{i})log(1-h_{\\u03B8}(x^{i}))]')))\n",
    "            \n",
    "            print('\\nTheta Update:')\n",
    "            display(Eq(Symbol('\\u03B8_j'), Symbol('\\u03B8_j-\\u03B1/(n)\\u2211_{i=1}^n(h_{\\u03B8}(x^{i}) - y^{i})x^{i}')))\n",
    "        \n",
    "        elif self.regularization in ['L1', 'Lasso']:\n",
    "            print('Running Gradient descent for Logistic Regression with L1 Regularization')        \n",
    "            print('\\nCost Function:')\n",
    "            display(Eq(Symbol('J(\\u03B8)'), \n",
    "                       Symbol('-1/(n)\\u2211_{i=1}^n[y^{i}log(h_{\\u03B8}(x^{i})) + (1-y^{i})log(1-h_{\\u03B8}(x^{i}))] + \\u03BB/(n)\\u2211_{j=1}^d|\\u03B8_j|')))\n",
    "            \n",
    "            print('\\nTheta Update:')\n",
    "            display(Eq(Symbol('\\u03B8_0'), Symbol('\\u03B8_0-\\u03B1/(n)\\u2211_{i=1}^n(h_{\\u03B8}(x^{i}) - y^{i})')))\n",
    "            display(Eq(Symbol('\\u03B8_j'), \n",
    "                       Symbol('\\u03B8_j-\\u03B1/(n)[1/2\\u2211_{i=1}^n(h_{\\u03B8}(x^{i}) - y^{i})x^{i} + \\u03BBsign(\\u03B8_j)]')))\n",
    "        \n",
    "\n",
    "        \n",
    "        elif self.regularization in ['L2', 'Ridge']:\n",
    "            print('Running Gradient descent for Logistic Regression with L2 Regularization')\n",
    "            print('\\nCost Function:')\n",
    "            display(Eq(Symbol('J(\\u03B8)'), \n",
    "                       Symbol('-1/(n)\\u2211_{i=1}^n[y^{i}log(h_{\\u03B8}(x^{i})) + (1-y^{i})log(1-h_{\\u03B8}(x^{i}))] + \\u03BB/(2n)\\u2211_{j=1}^d\\u03B8_j^2')))\n",
    "            \n",
    "            print('\\nTheta Update:')\n",
    "            display(Eq(Symbol('\\u03B8_0'), Symbol('\\u03B8_0-\\u03B1/(n)\\u2211_{i=1}^n(h_{\\u03B8}(x^{i}) - y^{i})')))\n",
    "            display(Eq(Symbol('\\u03B8_j'), \n",
    "                       Symbol('\\u03B8_j-\\u03B1/(n)[\\u2211_{i=1}^n(h_{\\u03B8}(x^{i}) - y^{i})x^{i} + \\u03BB\\u03B8_j]')))\n",
    "        \n",
    "        \n",
    "            \n",
    "        print('\\nWhere:')\n",
    "        display(Eq(Symbol('\\nh_{\\u03B8}(x)'), Pow(Symbol('1+ e^{-\\u03B8^{T}x}'),-1)))\n",
    "        print('\\n===============================================')\n",
    "            \n",
    "        m = self.X.shape[0]\n",
    "        n = self.X.shape[1] if len(self.X.shape) == 2 else 1\n",
    "        #print(m, self.alpha)\n",
    "        display(Eq(MatrixSymbol(f'theta_{0}', n,1), Matrix(self.theta_init)))\n",
    "        print('\\n===============================================')\n",
    "        theta = np.array(self.theta_init).astype(float)\n",
    "        for i in range(self.n_iter):\n",
    "            print(f'\\nIteration : {i+1}')\n",
    "            h = self.sigmoid(self.X @ theta)\n",
    "            #print(h)\n",
    "            display(Eq(MatrixSymbol('h_{\\u03B8}(x)', m, 1), Matrix(h)))\n",
    "            #df = pd.DataFrame({'h_{\\u03B8}(x) = ' : h, 'y(actual)'})\n",
    "            theta = self.gd_update(h,m, theta)\n",
    "            display(Eq(MatrixSymbol(f'theta_{i+1}', n,1), Matrix(theta)))\n",
    "            print(f'\\nLoss J(\\u03B8) = {self.logistic_regression_loss(theta)}')\n",
    "            print('\\n===============================================')\n",
    "        return theta\n",
    "    \n",
    "    def gd_update(self, h, m, theta):\n",
    "        if not self.regularization:\n",
    "            return theta - (self.alpha/m) * (self.X.T @ (h - self.y))\n",
    "        \n",
    "        elif self.regularization in ['L1', 'Lasso']:\n",
    "            #print(theta[0])\n",
    "            theta[0] = theta[0] - (self.alpha/m) * np.sum((h - self.y) * self.X.iloc[:, 0])\n",
    "            theta[1:] = theta[1:] - (self.alpha/m)* (self.X.iloc[:,1:].T @ (h - self.y)\n",
    "            + self.lambda_*np.sign(theta[1:]))\n",
    "            #print((self.alpha/m) * np.sum((h - self.y) * self.X.iloc[:, 0]))\n",
    "        \n",
    "        elif self.regularization in ['L2', 'Ridge']:\n",
    "            theta[0] = theta[0] - (self.alpha/m) * np.sum((h - self.y) * self.X.iloc[:, 0])\n",
    "            #print((self.alpha/m) * np.sum((h - self.y) * self.X.iloc[:, 0]))\n",
    "\n",
    "            theta[1:] = theta[1:] - (self.alpha/m)* (self.X.iloc[:,1:].T @ (h - self.y) \n",
    "            + self.lambda_*theta[1:])\n",
    "        return theta\n",
    "    \n",
    "\n",
    "    # Sigmoid function\n",
    "    def sigmoid(self, z):\n",
    "        return 1/(1 + np.exp(-z))\n",
    "\n",
    "    # Loss function for logistic regression\n",
    "    def logistic_regression_loss(self, theta):\n",
    "        m, n = self.X.shape\n",
    "        h = self.sigmoid(self.X @ theta)\n",
    "        if not self.regularization:\n",
    "            loss = (1/m) * (-self.y.T @ np.log(h) - (1 - self.y).T @ np.log(1 - h))\n",
    "        \n",
    "        elif self.regularization in ['L1', 'Lasso']:\n",
    "            loss = (1/m) * (-self.y.T @ np.log(h) - (1 - self.y).T @ np.log(1 - h)) \n",
    "            + (self.lambda_/m) * np.sum(np.abs(theta[1:]))\n",
    "\n",
    "        \n",
    "        elif self.regularization in ['L2', 'Ridge']:\n",
    "            loss = (1/m) * (-self.y.T @ np.log(h) - (1 - self.y).T @ np.log(1 - h)) \n",
    "            + (self.lambda_/(2*m)) * np.sum(theta[1:]**2)\n",
    "        \n",
    "        return loss\n",
    "        \n",
    "    def run_linear_reg(self):        \n",
    "        if not self.regularization:\n",
    "            print('Running Gradient descent for Linear Regression')\n",
    "            print('\\nCost Function:')\n",
    "            display(Eq(Symbol('J(\\u03B8)'), Symbol('1/(2n)\\u2211_{i=1}^n(h_{\\u03B8}(x^{i}) - y^{i})^2')))\n",
    "            \n",
    "            print('\\nTheta Update:')\n",
    "            display(Eq(Symbol('\\u03B8_j'), Symbol('\\u03B8_j-\\u03B1/(n)\\u2211_{i=1}^n(h_{\\u03B8}(x^{i}) - y^{i})x^{i}')))\n",
    "        \n",
    "        elif self.regularization in ['L1', 'Lasso']:\n",
    "            print('Running Gradient descent for Linear Regression with L1 Regularization')        \n",
    "            print('\\nCost Function:')\n",
    "            display(Eq(Symbol('J(\\u03B8)'), \n",
    "                       Symbol('1/(2n)\\u2211_{i=1}^n(h_{\\u03B8}(x^{i}) - y^{i})^2 + \\u03BB/(n)\\u2211_{j=1}^d|\\u03B8_j|')))\n",
    "            \n",
    "            print('\\nTheta Update:')\n",
    "            display(Eq(Symbol('\\u03B8_0'), Symbol('\\u03B8_0-\\u03B1/(n)\\u2211_{i=1}^n(h_{\\u03B8}(x^{i}) - y^{i})')))\n",
    "            display(Eq(Symbol('\\u03B8_j'), \n",
    "                       Symbol('\\u03B8_j-\\u03B1/(n)[\\u2211_{i=1}^n(h_{\\u03B8}(x^{i}) - y^{i})x^{i} + \\u03BBsign(\\u03B8_j)]')))\n",
    "        \n",
    "\n",
    "        \n",
    "        elif self.regularization in ['L2', 'Ridge']:\n",
    "            print('Running Gradient descent for Linear Regression with L2 Regularization')\n",
    "            print('\\nCost Function:')\n",
    "            display(Eq(Symbol('J(\\u03B8)'), \n",
    "                       Symbol('1/(2n)\\u2211_{i=1}^n(h_{\\u03B8}(x^{i}) - y^{i})^2 + \\u03BB/(2n)\\u2211_{j=1}^d\\u03B8_j^2')))\n",
    "            \n",
    "            print('\\nTheta Update:')\n",
    "            display(Eq(Symbol('\\u03B8_0'), Symbol('\\u03B8_0-\\u03B1/(n)\\u2211_{i=1}^n(h_{\\u03B8}(x^{i}) - y^{i})')))\n",
    "            display(Eq(Symbol('\\u03B8_j'), \n",
    "                       Symbol('\\u03B8_j-\\u03B1/(n)[\\u2211_{i=1}^n(h_{\\u03B8}(x^{i}) - y^{i})x^{i} + \\u03BB\\u03B8_j]')))\n",
    "        \n",
    "        \n",
    "            \n",
    "        print('\\nWhere:')\n",
    "        display(Eq(Symbol('\\nh_{\\u03B8}(x)'), Symbol('\\u03B8^{T}x')))\n",
    "        print('\\n===============================================')\n",
    "            \n",
    "        m = self.X.shape[0]\n",
    "        n = self.X.shape[1] if len(self.X.shape) == 2 else 1\n",
    "        #print(m, self.alpha)\n",
    "        display(Eq(MatrixSymbol(f'theta_{0}', n,1), Matrix(self.theta_init)))\n",
    "        print('\\n===============================================')\n",
    "        theta = np.array(self.theta_init).astype(float)\n",
    "        for i in range(self.n_iter):\n",
    "            print(f'\\nIteration : {i+1}')\n",
    "            h = self.X @ theta\n",
    "            display(Eq(MatrixSymbol('h_{\\u03B8}(x)', m, 1), Matrix(h)))\n",
    "            #print(h)\n",
    "            theta = self.gd_update(h,m, theta)\n",
    "            \n",
    "            display(Eq(MatrixSymbol(f'theta_{i+1}', n,1), Matrix(theta)))\n",
    "            print(f'\\nLoss J(\\u03B8) = {self.linear_regression_loss(theta)}')\n",
    "            print('\\n===============================================')\n",
    "        return theta\n",
    "    \n",
    "    def linear_regression_loss(self, theta):\n",
    "        m = self.X.shape[0]\n",
    "        n = self.X.shape[1] if len(self.X.shape) == 2 else 1\n",
    "        h = self.X @ theta\n",
    "        if not self.regularization:\n",
    "            loss = (1/(2*m)) * np.sum((h - self.y)**2)\n",
    "        \n",
    "        elif self.regularization in ['L1', 'Lasso']:\n",
    "            loss = (1/(2*m)) * np.sum((h - self.y)**2) + (self.lambda_/m) * np.sum(np.abs(theta[1:]))\n",
    "            \n",
    "        \n",
    "        elif self.regularization in ['L2', 'Ridge']:\n",
    "            loss = (1/(2*m)) * np.sum((h - self.y)**2) + (self.lambda_/(2*m)) * np.sum(theta[1:]**2)\n",
    "        \n",
    "        \n",
    "        \n",
    "        return loss\n"
   ]
  },
  {
   "cell_type": "markdown",
   "id": "a3f69cc0",
   "metadata": {},
   "source": [
    "## Linear Regression Without Regularization"
   ]
  },
  {
   "cell_type": "code",
   "execution_count": 253,
   "id": "b4f532e1",
   "metadata": {
    "scrolled": true
   },
   "outputs": [
    {
     "name": "stdout",
     "output_type": "stream",
     "text": [
      "Running Gradient descent for Linear Regression\n",
      "\n",
      "Cost Function:\n"
     ]
    },
    {
     "data": {
      "text/latex": [
       "$\\displaystyle J(θ) = 1/(2n)∑_{i=1}^n(h_{θ}(x^{i}) - y^{i})^2$"
      ],
      "text/plain": [
       "Eq(J(θ), 1/(2n)∑_{i=1}^n(h_{θ}(x^{i}) - y^{i})^2)"
      ]
     },
     "metadata": {},
     "output_type": "display_data"
    },
    {
     "name": "stdout",
     "output_type": "stream",
     "text": [
      "\n",
      "Theta Update:\n"
     ]
    },
    {
     "data": {
      "text/latex": [
       "$\\displaystyle θ_{j} = θ_j-α/(n)∑_{i=1}^n(h_{θ}(x^{i}) - y^{i})x^{i}$"
      ],
      "text/plain": [
       "Eq(θ_j, θ_j-α/(n)∑_{i=1}^n(h_{θ}(x^{i}) - y^{i})x^{i})"
      ]
     },
     "metadata": {},
     "output_type": "display_data"
    },
    {
     "name": "stdout",
     "output_type": "stream",
     "text": [
      "\n",
      "Where:\n"
     ]
    },
    {
     "data": {
      "text/latex": [
       "$\\displaystyle \n",
       "h_{θ}(x) = θ^{T}x$"
      ],
      "text/plain": [
       "Eq(\n",
       "h_{θ}(x), θ^{T}x)"
      ]
     },
     "metadata": {},
     "output_type": "display_data"
    },
    {
     "name": "stdout",
     "output_type": "stream",
     "text": [
      "\n",
      "===============================================\n"
     ]
    },
    {
     "data": {
      "text/latex": [
       "$\\displaystyle \\theta_{0} = \\left[\\begin{matrix}5\\\\-0.03\\\\-0.03\\end{matrix}\\right]$"
      ],
      "text/plain": [
       "Eq(theta_0, Matrix([\n",
       "[    5],\n",
       "[-0.03],\n",
       "[-0.03]]))"
      ]
     },
     "metadata": {},
     "output_type": "display_data"
    },
    {
     "name": "stdout",
     "output_type": "stream",
     "text": [
      "\n",
      "===============================================\n",
      "\n",
      "Iteration : 1\n"
     ]
    },
    {
     "data": {
      "text/latex": [
       "$\\displaystyle h_{θ}(x) = \\left[\\begin{matrix}1.55\\\\1.85\\\\1.1\\end{matrix}\\right]$"
      ],
      "text/plain": [
       "Eq(h_{θ}(x), Matrix([\n",
       "[1.55],\n",
       "[1.85],\n",
       "[ 1.1]]))"
      ]
     },
     "metadata": {},
     "output_type": "display_data"
    },
    {
     "data": {
      "text/latex": [
       "$\\displaystyle \\theta_{1} = \\left[\\begin{matrix}5.0016\\\\0.0476666666666667\\\\0.179333333333333\\end{matrix}\\right]$"
      ],
      "text/plain": [
       "Eq(theta_1, Matrix([\n",
       "[            5.0016],\n",
       "[0.0476666666666667],\n",
       "[ 0.179333333333333]]))"
      ]
     },
     "metadata": {},
     "output_type": "display_data"
    },
    {
     "name": "stdout",
     "output_type": "stream",
     "text": [
      "\n",
      "Loss J(θ) = 209.23321865037045\n",
      "\n",
      "===============================================\n",
      "\n",
      "Iteration : 2\n"
     ]
    },
    {
     "data": {
      "text/latex": [
       "$\\displaystyle h_{θ}(x) = \\left[\\begin{matrix}21.0166\\\\20.5399333333333\\\\24.3649333333333\\end{matrix}\\right]$"
      ],
      "text/plain": [
       "Eq(h_{θ}(x), Matrix([\n",
       "[         21.0166],\n",
       "[20.5399333333333],\n",
       "[24.3649333333333]]))"
      ]
     },
     "metadata": {},
     "output_type": "display_data"
    },
    {
     "data": {
      "text/latex": [
       "$\\displaystyle \\theta_{2} = \\left[\\begin{matrix}4.59372355555556\\\\-12.1848488888889\\\\-35.47144\\end{matrix}\\right]$"
      ],
      "text/plain": [
       "Eq(theta_2, Matrix([\n",
       "[ 4.59372355555556],\n",
       "[-12.1848488888889],\n",
       "[        -35.47144]]))"
      ]
     },
     "metadata": {},
     "output_type": "display_data"
    },
    {
     "name": "stdout",
     "output_type": "stream",
     "text": [
      "\n",
      "Loss J(θ) = 5962734.246445694\n",
      "\n",
      "===============================================\n",
      "\n",
      "Iteration : 3\n"
     ]
    },
    {
     "data": {
      "text/latex": [
       "$\\displaystyle h_{θ}(x) = \\left[\\begin{matrix}-3259.59118755556\\\\-3137.74269866667\\\\-3908.09574311111\\end{matrix}\\right]$"
      ],
      "text/plain": [
       "Eq(h_{θ}(x), Matrix([\n",
       "[-3259.59118755556],\n",
       "[-3137.74269866667],\n",
       "[-3908.09574311111]]))"
      ]
     },
     "metadata": {},
     "output_type": "display_data"
    },
    {
     "data": {
      "text/latex": [
       "$\\displaystyle \\theta_{3} = \\left[\\begin{matrix}73.3281877511111\\\\2053.93035994074\\\\5984.59312805926\\end{matrix}\\right]$"
      ],
      "text/plain": [
       "Eq(theta_3, Matrix([\n",
       "[73.3281877511111],\n",
       "[2053.93035994074],\n",
       "[5984.59312805926]]))"
      ]
     },
     "metadata": {},
     "output_type": "display_data"
    },
    {
     "name": "stdout",
     "output_type": "stream",
     "text": [
      "\n",
      "Loss J(θ) = 170032554508.70718\n",
      "\n",
      "===============================================\n",
      "\n",
      "Iteration : 4\n"
     ]
    },
    {
     "data": {
      "text/latex": [
       "$\\displaystyle h_{θ}(x) = \\left[\\begin{matrix}550728.341030418\\\\530189.037431011\\\\660150.5517919\\end{matrix}\\right]$"
      ],
      "text/plain": [
       "Eq(h_{θ}(x), Matrix([\n",
       "[550728.341030418],\n",
       "[530189.037431011],\n",
       "[  660150.5517919]]))"
      ]
     },
     "metadata": {},
     "output_type": "display_data"
    },
    {
     "data": {
      "text/latex": [
       "$\\displaystyle \\theta_{4} = \\left[\\begin{matrix}-11533.7597472711\\\\-346843.331477372\\\\-1010602.28724597\\end{matrix}\\right]$"
      ],
      "text/plain": [
       "Eq(theta_4, Matrix([\n",
       "[-11533.7597472711],\n",
       "[-346843.331477372],\n",
       "[-1010602.28724597]]))"
      ]
     },
     "metadata": {},
     "output_type": "display_data"
    },
    {
     "name": "stdout",
     "output_type": "stream",
     "text": [
      "\n",
      "Loss J(θ) = 4848626323247809.0\n",
      "\n",
      "===============================================\n",
      "\n",
      "Iteration : 5\n"
     ]
    },
    {
     "data": {
      "text/latex": [
       "$\\displaystyle h_{θ}(x) = \\left[\\begin{matrix}-92999233.3411328\\\\-89530800.0263591\\\\-111477062.428665\\end{matrix}\\right]$"
      ],
      "text/plain": [
       "Eq(h_{θ}(x), Matrix([\n",
       "[-92999233.3411328],\n",
       "[-89530800.0263591],\n",
       "[-111477062.428665]]))"
      ]
     },
     "metadata": {},
     "output_type": "display_data"
    },
    {
     "data": {
      "text/latex": [
       "$\\displaystyle \\theta_{5} = \\left[\\begin{matrix}1948513.57716044\\\\58570191.2392465\\\\170656793.217193\\end{matrix}\\right]$"
      ],
      "text/plain": [
       "Eq(theta_5, Matrix([\n",
       "[1948513.57716044],\n",
       "[58570191.2392465],\n",
       "[170656793.217193]]))"
      ]
     },
     "metadata": {},
     "output_type": "display_data"
    },
    {
     "name": "stdout",
     "output_type": "stream",
     "text": [
      "\n",
      "Loss J(θ) = 1.3826280085267869e+20\n",
      "\n",
      "===============================================\n"
     ]
    }
   ],
   "source": [
    "df = pd.DataFrame({'X1': [35,25,30], 'X2': [80,80,100], 'Y': [1.81,1.22,1.71]})\n",
    "GradientDescent(model = 'Linear Regression', data = df, alpha = 0.02, theta_init = [5,-0.03, -0.03]).run()"
   ]
  },
  {
   "cell_type": "markdown",
   "id": "00dcd368",
   "metadata": {},
   "source": [
    "## Linear Regression With L1 Regularization"
   ]
  },
  {
   "cell_type": "code",
   "execution_count": 254,
   "id": "08f519cf",
   "metadata": {
    "scrolled": true
   },
   "outputs": [
    {
     "name": "stdout",
     "output_type": "stream",
     "text": [
      "Running Gradient descent for Linear Regression with L1 Regularization\n",
      "\n",
      "Cost Function:\n"
     ]
    },
    {
     "data": {
      "text/latex": [
       "$\\displaystyle J(θ) = 1/(2n)∑_{i=1}^n(h_{θ}(x^{i}) - y^{i})^2 + λ/(n)∑_{j=1}^d|θ_j|$"
      ],
      "text/plain": [
       "Eq(J(θ), 1/(2n)∑_{i=1}^n(h_{θ}(x^{i}) - y^{i})^2 + λ/(n)∑_{j=1}^d|θ_j|)"
      ]
     },
     "metadata": {},
     "output_type": "display_data"
    },
    {
     "name": "stdout",
     "output_type": "stream",
     "text": [
      "\n",
      "Theta Update:\n"
     ]
    },
    {
     "data": {
      "text/latex": [
       "$\\displaystyle θ_{0} = θ_0-α/(n)∑_{i=1}^n(h_{θ}(x^{i}) - y^{i})$"
      ],
      "text/plain": [
       "Eq(θ_0, θ_0-α/(n)∑_{i=1}^n(h_{θ}(x^{i}) - y^{i}))"
      ]
     },
     "metadata": {},
     "output_type": "display_data"
    },
    {
     "data": {
      "text/latex": [
       "$\\displaystyle θ_{j} = θ_j-α/(n)[∑_{i=1}^n(h_{θ}(x^{i}) - y^{i})x^{i} + λsign(θ_j)]$"
      ],
      "text/plain": [
       "Eq(θ_j, θ_j-α/(n)[∑_{i=1}^n(h_{θ}(x^{i}) - y^{i})x^{i} + λsign(θ_j)])"
      ]
     },
     "metadata": {},
     "output_type": "display_data"
    },
    {
     "name": "stdout",
     "output_type": "stream",
     "text": [
      "\n",
      "Where:\n"
     ]
    },
    {
     "data": {
      "text/latex": [
       "$\\displaystyle \n",
       "h_{θ}(x) = θ^{T}x$"
      ],
      "text/plain": [
       "Eq(\n",
       "h_{θ}(x), θ^{T}x)"
      ]
     },
     "metadata": {},
     "output_type": "display_data"
    },
    {
     "name": "stdout",
     "output_type": "stream",
     "text": [
      "\n",
      "===============================================\n"
     ]
    },
    {
     "data": {
      "text/latex": [
       "$\\displaystyle \\theta_{0} = \\left[\\begin{matrix}5\\\\-0.03\\\\-0.03\\end{matrix}\\right]$"
      ],
      "text/plain": [
       "Eq(theta_0, Matrix([\n",
       "[    5],\n",
       "[-0.03],\n",
       "[-0.03]]))"
      ]
     },
     "metadata": {},
     "output_type": "display_data"
    },
    {
     "name": "stdout",
     "output_type": "stream",
     "text": [
      "\n",
      "===============================================\n",
      "\n",
      "Iteration : 1\n"
     ]
    },
    {
     "data": {
      "text/latex": [
       "$\\displaystyle h_{θ}(x) = \\left[\\begin{matrix}0.95\\\\1.85\\\\2.3\\end{matrix}\\right]$"
      ],
      "text/plain": [
       "Eq(h_{θ}(x), Matrix([\n",
       "[0.95],\n",
       "[1.85],\n",
       "[ 2.3]]))"
      ]
     },
     "metadata": {},
     "output_type": "display_data"
    },
    {
     "data": {
      "text/latex": [
       "$\\displaystyle \\theta_{1} = \\left[\\begin{matrix}4.9976\\\\-0.039\\\\-0.0153333333333334\\end{matrix}\\right]$"
      ],
      "text/plain": [
       "Eq(theta_1, Matrix([\n",
       "[             4.9976],\n",
       "[             -0.039],\n",
       "[-0.0153333333333334]]))"
      ]
     },
     "metadata": {},
     "output_type": "display_data"
    },
    {
     "name": "stdout",
     "output_type": "stream",
     "text": [
      "\n",
      "Loss J(θ) = 0.7031366948148087\n",
      "\n",
      "===============================================\n",
      "\n",
      "Iteration : 2\n"
     ]
    },
    {
     "data": {
      "text/latex": [
       "$\\displaystyle h_{θ}(x) = \\left[\\begin{matrix}2.09926666666666\\\\2.79593333333333\\\\2.9076\\end{matrix}\\right]$"
      ],
      "text/plain": [
       "Eq(h_{θ}(x), Matrix([\n",
       "[2.09926666666666],\n",
       "[2.79593333333333],\n",
       "[          2.9076]]))"
      ]
     },
     "metadata": {},
     "output_type": "display_data"
    },
    {
     "data": {
      "text/latex": [
       "$\\displaystyle \\theta_{2} = \\left[\\begin{matrix}4.97718133333333\\\\-0.595337777777774\\\\-1.51438222222221\\end{matrix}\\right]$"
      ],
      "text/plain": [
       "Eq(theta_2, Matrix([\n",
       "[  4.97718133333333],\n",
       "[-0.595337777777774],\n",
       "[ -1.51438222222221]]))"
      ]
     },
     "metadata": {},
     "output_type": "display_data"
    },
    {
     "name": "stdout",
     "output_type": "stream",
     "text": [
      "\n",
      "Loss J(θ) = 9537.335772164506\n",
      "\n",
      "===============================================\n",
      "\n",
      "Iteration : 3\n"
     ]
    },
    {
     "data": {
      "text/latex": [
       "$\\displaystyle h_{θ}(x) = \\left[\\begin{matrix}-167.29786311111\\\\-131.056840888888\\\\-103.745885333333\\end{matrix}\\right]$"
      ],
      "text/plain": [
       "Eq(h_{θ}(x), Matrix([\n",
       "[ -167.29786311111],\n",
       "[-131.056840888888],\n",
       "[-103.745885333333]]))"
      ]
     },
     "metadata": {},
     "output_type": "display_data"
    },
    {
     "data": {
      "text/latex": [
       "$\\displaystyle \\theta_{3} = \\left[\\begin{matrix}7.68945192888887\\\\82.0138141629624\\\\223.967529125924\\end{matrix}\\right]$"
      ],
      "text/plain": [
       "Eq(theta_3, Matrix([\n",
       "[7.68945192888887],\n",
       "[82.0138141629624],\n",
       "[223.967529125924]]))"
      ]
     },
     "metadata": {},
     "output_type": "display_data"
    },
    {
     "name": "stdout",
     "output_type": "stream",
     "text": [
      "\n",
      "Loss J(θ) = 215108725.00458696\n",
      "\n",
      "===============================================\n",
      "\n",
      "Iteration : 4\n"
     ]
    },
    {
     "data": {
      "text/latex": [
       "$\\displaystyle h_{θ}(x) = \\left[\\begin{matrix}25274.925860225\\\\19975.4371360769\\\\15906.1556243732\\end{matrix}\\right]$"
      ],
      "text/plain": [
       "Eq(h_{θ}(x), Matrix([\n",
       "[ 25274.925860225],\n",
       "[19975.4371360769],\n",
       "[15906.1556243732]]))"
      ]
     },
     "metadata": {},
     "output_type": "display_data"
    },
    {
     "data": {
      "text/latex": [
       "$\\displaystyle \\theta_{4} = \\left[\\begin{matrix}-399.989072208945\\\\-12324.985200777\\\\-33639.483766681\\end{matrix}\\right]$"
      ],
      "text/plain": [
       "Eq(theta_4, Matrix([\n",
       "[-399.989072208945],\n",
       "[ -12324.985200777],\n",
       "[ -33639.483766681]]))"
      ]
     },
     "metadata": {},
     "output_type": "display_data"
    },
    {
     "name": "stdout",
     "output_type": "stream",
     "text": [
      "\n",
      "Loss J(θ) = 4851777056120.387\n",
      "\n",
      "===============================================\n",
      "\n",
      "Iteration : 5\n"
     ]
    },
    {
     "data": {
      "text/latex": [
       "$\\displaystyle h_{θ}(x) = \\left[\\begin{matrix}-3795722.84776751\\\\-2999683.32042612\\\\-2388518.57109638\\end{matrix}\\right]$"
      ],
      "text/plain": [
       "Eq(h_{θ}(x), Matrix([\n",
       "[-3795722.84776751],\n",
       "[-2999683.32042612],\n",
       "[-2388518.57109638]]))"
      ]
     },
     "metadata": {},
     "output_type": "display_data"
    },
    {
     "data": {
      "text/latex": [
       "$\\displaystyle \\theta_{5} = \\left[\\begin{matrix}60826.2074563911\\\\1850995.5945686\\\\5052083.50207747\\end{matrix}\\right]$"
      ],
      "text/plain": [
       "Eq(theta_5, Matrix([\n",
       "[60826.2074563911],\n",
       "[ 1850995.5945686],\n",
       "[5052083.50207747]]))"
      ]
     },
     "metadata": {},
     "output_type": "display_data"
    },
    {
     "name": "stdout",
     "output_type": "stream",
     "text": [
      "\n",
      "Loss J(θ) = 1.0943182488777405e+17\n",
      "\n",
      "===============================================\n"
     ]
    }
   ],
   "source": [
    "df = pd.DataFrame({'X1': [35,25,30], 'X2': [100,80,60], 'Y': [1.81,1.22,1.71]})\n",
    "GradientDescent(model = 'Linear Regression', data = df, alpha = 0.02,  lambda_ = 2, regularization = 'L1',\n",
    "                theta_init = [5,-0.03, -0.03]).run()"
   ]
  },
  {
   "cell_type": "markdown",
   "id": "2d907dbb",
   "metadata": {},
   "source": [
    "## Linear Regression With L2 Regularization"
   ]
  },
  {
   "cell_type": "code",
   "execution_count": 255,
   "id": "9b14105e",
   "metadata": {
    "scrolled": false
   },
   "outputs": [
    {
     "name": "stdout",
     "output_type": "stream",
     "text": [
      "Running Gradient descent for Linear Regression with L2 Regularization\n",
      "\n",
      "Cost Function:\n"
     ]
    },
    {
     "data": {
      "text/latex": [
       "$\\displaystyle J(θ) = 1/(2n)∑_{i=1}^n(h_{θ}(x^{i}) - y^{i})^2 + λ/(2n)∑_{j=1}^dθ_j^2$"
      ],
      "text/plain": [
       "Eq(J(θ), 1/(2n)∑_{i=1}^n(h_{θ}(x^{i}) - y^{i})^2 + λ/(2n)∑_{j=1}^dθ_j^2)"
      ]
     },
     "metadata": {},
     "output_type": "display_data"
    },
    {
     "name": "stdout",
     "output_type": "stream",
     "text": [
      "\n",
      "Theta Update:\n"
     ]
    },
    {
     "data": {
      "text/latex": [
       "$\\displaystyle θ_{0} = θ_0-α/(n)∑_{i=1}^n(h_{θ}(x^{i}) - y^{i})$"
      ],
      "text/plain": [
       "Eq(θ_0, θ_0-α/(n)∑_{i=1}^n(h_{θ}(x^{i}) - y^{i}))"
      ]
     },
     "metadata": {},
     "output_type": "display_data"
    },
    {
     "data": {
      "text/latex": [
       "$\\displaystyle θ_{j} = θ_j-α/(n)[∑_{i=1}^n(h_{θ}(x^{i}) - y^{i})x^{i} + λθ_j]$"
      ],
      "text/plain": [
       "Eq(θ_j, θ_j-α/(n)[∑_{i=1}^n(h_{θ}(x^{i}) - y^{i})x^{i} + λθ_j])"
      ]
     },
     "metadata": {},
     "output_type": "display_data"
    },
    {
     "name": "stdout",
     "output_type": "stream",
     "text": [
      "\n",
      "Where:\n"
     ]
    },
    {
     "data": {
      "text/latex": [
       "$\\displaystyle \n",
       "h_{θ}(x) = θ^{T}x$"
      ],
      "text/plain": [
       "Eq(\n",
       "h_{θ}(x), θ^{T}x)"
      ]
     },
     "metadata": {},
     "output_type": "display_data"
    },
    {
     "name": "stdout",
     "output_type": "stream",
     "text": [
      "\n",
      "===============================================\n"
     ]
    },
    {
     "data": {
      "text/latex": [
       "$\\displaystyle \\theta_{0} = \\left[\\begin{matrix}5\\\\-0.03\\\\-0.03\\end{matrix}\\right]$"
      ],
      "text/plain": [
       "Eq(theta_0, Matrix([\n",
       "[    5],\n",
       "[-0.03],\n",
       "[-0.03]]))"
      ]
     },
     "metadata": {},
     "output_type": "display_data"
    },
    {
     "name": "stdout",
     "output_type": "stream",
     "text": [
      "\n",
      "===============================================\n",
      "\n",
      "Iteration : 1\n"
     ]
    },
    {
     "data": {
      "text/latex": [
       "$\\displaystyle h_{θ}(x) = \\left[\\begin{matrix}0.95\\\\1.85\\\\2.3\\end{matrix}\\right]$"
      ],
      "text/plain": [
       "Eq(h_{θ}(x), Matrix([\n",
       "[0.95],\n",
       "[1.85],\n",
       "[ 2.3]]))"
      ]
     },
     "metadata": {},
     "output_type": "display_data"
    },
    {
     "data": {
      "text/latex": [
       "$\\displaystyle \\theta_{1} = \\left[\\begin{matrix}4.9976\\\\-0.0519333333333334\\\\-0.0282666666666667\\end{matrix}\\right]$"
      ],
      "text/plain": [
       "Eq(theta_1, Matrix([\n",
       "[             4.9976],\n",
       "[-0.0519333333333334],\n",
       "[-0.0282666666666667]]))"
      ]
     },
     "metadata": {},
     "output_type": "display_data"
    },
    {
     "name": "stdout",
     "output_type": "stream",
     "text": [
      "\n",
      "Loss J(θ) = 0.36294800888889234\n",
      "\n",
      "===============================================\n",
      "\n",
      "Iteration : 2\n"
     ]
    },
    {
     "data": {
      "text/latex": [
       "$\\displaystyle h_{θ}(x) = \\left[\\begin{matrix}0.353266666666658\\\\1.43793333333333\\\\1.74359999999999\\end{matrix}\\right]$"
      ],
      "text/plain": [
       "Eq(h_{θ}(x), Matrix([\n",
       "[0.353266666666658],\n",
       "[ 1.43793333333333],\n",
       "[ 1.74359999999999]]))"
      ]
     },
     "metadata": {},
     "output_type": "display_data"
    },
    {
     "data": {
      "text/latex": [
       "$\\displaystyle \\theta_{2} = \\left[\\begin{matrix}5.00563466666667\\\\0.245621333333337\\\\0.813594666666678\\end{matrix}\\right]$"
      ],
      "text/plain": [
       "Eq(theta_2, Matrix([\n",
       "[ 5.00563466666667],\n",
       "[0.245621333333337],\n",
       "[0.813594666666678]]))"
      ]
     },
     "metadata": {},
     "output_type": "display_data"
    },
    {
     "name": "stdout",
     "output_type": "stream",
     "text": [
      "\n",
      "Loss J(θ) = 2973.939619005096\n",
      "\n",
      "===============================================\n",
      "\n",
      "Iteration : 3\n"
     ]
    },
    {
     "data": {
      "text/latex": [
       "$\\displaystyle h_{θ}(x) = \\left[\\begin{matrix}94.9618480000013\\\\76.2337413333343\\\\61.1899546666674\\end{matrix}\\right]$"
      ],
      "text/plain": [
       "Eq(h_{θ}(x), Matrix([\n",
       "[94.9618480000013],\n",
       "[76.2337413333343],\n",
       "[61.1899546666674]]))"
      ]
     },
     "metadata": {},
     "output_type": "display_data"
    },
    {
     "data": {
      "text/latex": [
       "$\\displaystyle \\theta_{3} = \\left[\\begin{matrix}3.48799770666665\\\\-45.8913659733339\\\\-125.097795840002\\end{matrix}\\right]$"
      ],
      "text/plain": [
       "Eq(theta_3, Matrix([\n",
       "[ 3.48799770666665],\n",
       "[-45.8913659733339],\n",
       "[-125.097795840002]]))"
      ]
     },
     "metadata": {},
     "output_type": "display_data"
    },
    {
     "name": "stdout",
     "output_type": "stream",
     "text": [
      "\n",
      "Loss J(θ) = 67083991.48113447\n",
      "\n",
      "===============================================\n",
      "\n",
      "Iteration : 4\n"
     ]
    },
    {
     "data": {
      "text/latex": [
       "$\\displaystyle h_{θ}(x) = \\left[\\begin{matrix}-14112.4893953602\\\\-11151.6198188268\\\\-8879.12073189345\\end{matrix}\\right]$"
      ],
      "text/plain": [
       "Eq(h_{θ}(x), Matrix([\n",
       "[-14112.4893953602],\n",
       "[-11151.6198188268],\n",
       "[-8879.12073189345]]))"
      ]
     },
     "metadata": {},
     "output_type": "display_data"
    },
    {
     "data": {
      "text/latex": [
       "$\\displaystyle \\theta_{4} = \\left[\\begin{matrix}231.141130680536\\\\6883.02982734018\\\\18786.6166344763\\end{matrix}\\right]$"
      ],
      "text/plain": [
       "Eq(theta_4, Matrix([\n",
       "[231.141130680536],\n",
       "[6883.02982734018],\n",
       "[18786.6166344763]]))"
      ]
     },
     "metadata": {},
     "output_type": "display_data"
    },
    {
     "name": "stdout",
     "output_type": "stream",
     "text": [
      "\n",
      "Loss J(θ) = 1513347972520.222\n",
      "\n",
      "===============================================\n",
      "\n",
      "Iteration : 5\n"
     ]
    },
    {
     "data": {
      "text/latex": [
       "$\\displaystyle h_{θ}(x) = \\left[\\begin{matrix}2119798.84853522\\\\1675236.21757229\\\\1333919.03401947\\end{matrix}\\right]$"
      ],
      "text/plain": [
       "Eq(h_{θ}(x), Matrix([\n",
       "[2119798.84853522],\n",
       "[1675236.21757229],\n",
       "[1333919.03401947]]))"
      ]
     },
     "metadata": {},
     "output_type": "display_data"
    },
    {
     "data": {
      "text/latex": [
       "$\\displaystyle \\theta_{5} = \\left[\\begin{matrix}-33961.8546034993\\\\-1033817.35062785\\\\-2821687.49225714\\end{matrix}\\right]$"
      ],
      "text/plain": [
       "Eq(theta_5, Matrix([\n",
       "[-33961.8546034993],\n",
       "[-1033817.35062785],\n",
       "[-2821687.49225714]]))"
      ]
     },
     "metadata": {},
     "output_type": "display_data"
    },
    {
     "name": "stdout",
     "output_type": "stream",
     "text": [
      "\n",
      "Loss J(θ) = 3.4139621735077836e+16\n",
      "\n",
      "===============================================\n"
     ]
    }
   ],
   "source": [
    "df = pd.DataFrame({'X1': [35,25,30], 'X2': [100,80,60], 'Y': [1.81,1.22,1.71]})\n",
    "GradientDescent(model = 'Linear Regression', data = df, alpha = 0.02,  lambda_ = 2, regularization = 'L2',\n",
    "                theta_init = [5,-0.03, -0.03]).run()"
   ]
  },
  {
   "cell_type": "markdown",
   "id": "312d51ce",
   "metadata": {},
   "source": [
    "## Logistic Regression Without Regularization"
   ]
  },
  {
   "cell_type": "code",
   "execution_count": 247,
   "id": "cac3ec35",
   "metadata": {
    "scrolled": true
   },
   "outputs": [
    {
     "name": "stdout",
     "output_type": "stream",
     "text": [
      "Running Gradient descent for Logistic Regression\n",
      "\n",
      "Cost Function:\n"
     ]
    },
    {
     "data": {
      "text/latex": [
       "$\\displaystyle J(θ) = -1/(n)∑_{i=1}^n[y^{i}log(h_{θ}(x^{i})) + (1-y^{i})log(1-h_{θ}(x^{i}))]$"
      ],
      "text/plain": [
       "Eq(J(θ), -1/(n)∑_{i=1}^n[y^{i}log(h_{θ}(x^{i})) + (1-y^{i})log(1-h_{θ}(x^{i}))])"
      ]
     },
     "metadata": {},
     "output_type": "display_data"
    },
    {
     "name": "stdout",
     "output_type": "stream",
     "text": [
      "\n",
      "Theta Update:\n"
     ]
    },
    {
     "data": {
      "text/latex": [
       "$\\displaystyle θ_{j} = θ_j-α/(n)∑_{i=1}^n(h_{θ}(x^{i}) - y^{i})x^{i}$"
      ],
      "text/plain": [
       "Eq(θ_j, θ_j-α/(n)∑_{i=1}^n(h_{θ}(x^{i}) - y^{i})x^{i})"
      ]
     },
     "metadata": {},
     "output_type": "display_data"
    },
    {
     "name": "stdout",
     "output_type": "stream",
     "text": [
      "\n",
      "Where:\n"
     ]
    },
    {
     "data": {
      "text/latex": [
       "$\\displaystyle \n",
       "h_{θ}(x) = \\frac{1}{1+ e^{-θ^{T}x}}$"
      ],
      "text/plain": [
       "Eq(\n",
       "h_{θ}(x), 1/1+ e^{-θ^{T}x})"
      ]
     },
     "metadata": {},
     "output_type": "display_data"
    },
    {
     "name": "stdout",
     "output_type": "stream",
     "text": [
      "\n",
      "===============================================\n"
     ]
    },
    {
     "data": {
      "text/latex": [
       "$\\displaystyle \\theta_{0} = \\left[\\begin{matrix}0\\\\0\\\\0\\end{matrix}\\right]$"
      ],
      "text/plain": [
       "Eq(theta_0, Matrix([\n",
       "[0],\n",
       "[0],\n",
       "[0]]))"
      ]
     },
     "metadata": {},
     "output_type": "display_data"
    },
    {
     "name": "stdout",
     "output_type": "stream",
     "text": [
      "\n",
      "===============================================\n",
      "\n",
      "Iteration : 1\n"
     ]
    },
    {
     "data": {
      "text/latex": [
       "$\\displaystyle h_{θ}(x) = \\left[\\begin{matrix}0.5\\\\0.5\\\\0.5\\\\0.5\\end{matrix}\\right]$"
      ],
      "text/plain": [
       "Eq(h_{θ}(x), Matrix([\n",
       "[0.5],\n",
       "[0.5],\n",
       "[0.5],\n",
       "[0.5]]))"
      ]
     },
     "metadata": {},
     "output_type": "display_data"
    },
    {
     "data": {
      "text/latex": [
       "$\\displaystyle \\theta_{1} = \\left[\\begin{matrix}-0.25\\\\0\\\\0\\end{matrix}\\right]$"
      ],
      "text/plain": [
       "Eq(theta_1, Matrix([\n",
       "[-0.25],\n",
       "[    0],\n",
       "[    0]]))"
      ]
     },
     "metadata": {},
     "output_type": "display_data"
    },
    {
     "name": "stdout",
     "output_type": "stream",
     "text": [
      "\n",
      "Loss J(θ) = 0.6384394198788437\n",
      "\n",
      "===============================================\n",
      "\n",
      "Iteration : 2\n"
     ]
    },
    {
     "data": {
      "text/latex": [
       "$\\displaystyle h_{θ}(x) = \\left[\\begin{matrix}0.437823499114202\\\\0.437823499114202\\\\0.437823499114202\\\\0.437823499114202\\end{matrix}\\right]$"
      ],
      "text/plain": [
       "Eq(h_{θ}(x), Matrix([\n",
       "[0.437823499114202],\n",
       "[0.437823499114202],\n",
       "[0.437823499114202],\n",
       "[0.437823499114202]]))"
      ]
     },
     "metadata": {},
     "output_type": "display_data"
    },
    {
     "data": {
      "text/latex": [
       "$\\displaystyle \\theta_{2} = \\left[\\begin{matrix}-0.437823499114202\\\\0.031088250442899\\\\0.031088250442899\\end{matrix}\\right]$"
      ],
      "text/plain": [
       "Eq(theta_2, Matrix([\n",
       "[-0.437823499114202],\n",
       "[ 0.031088250442899],\n",
       "[ 0.031088250442899]]))"
      ]
     },
     "metadata": {},
     "output_type": "display_data"
    },
    {
     "name": "stdout",
     "output_type": "stream",
     "text": [
      "\n",
      "Loss J(θ) = 0.6042874826272245\n",
      "\n",
      "===============================================\n",
      "\n",
      "Iteration : 3\n"
     ]
    },
    {
     "data": {
      "text/latex": [
       "$\\displaystyle h_{θ}(x) = \\left[\\begin{matrix}0.392259707869409\\\\0.39969520501907\\\\0.39969520501907\\\\0.407177215696006\\end{matrix}\\right]$"
      ],
      "text/plain": [
       "Eq(h_{θ}(x), Matrix([\n",
       "[0.392259707869409],\n",
       "[ 0.39969520501907],\n",
       "[ 0.39969520501907],\n",
       "[0.407177215696006]]))"
      ]
     },
     "metadata": {},
     "output_type": "display_data"
    },
    {
     "data": {
      "text/latex": [
       "$\\displaystyle \\theta_{3} = \\left[\\begin{matrix}-0.58753033251509\\\\0.07937014526413\\\\0.07937014526413\\end{matrix}\\right]$"
      ],
      "text/plain": [
       "Eq(theta_3, Matrix([\n",
       "[-0.58753033251509],\n",
       "[ 0.07937014526413],\n",
       "[ 0.07937014526413]]))"
      ]
     },
     "metadata": {},
     "output_type": "display_data"
    },
    {
     "name": "stdout",
     "output_type": "stream",
     "text": [
      "\n",
      "Loss J(θ) = 0.578570796042201\n",
      "\n",
      "===============================================\n",
      "\n",
      "Iteration : 4\n"
     ]
    },
    {
     "data": {
      "text/latex": [
       "$\\displaystyle h_{θ}(x) = \\left[\\begin{matrix}0.357201711121256\\\\0.375624919523644\\\\0.375624919523644\\\\0.39441529535122\\end{matrix}\\right]$"
      ],
      "text/plain": [
       "Eq(h_{θ}(x), Matrix([\n",
       "[0.357201711121256],\n",
       "[0.375624919523644],\n",
       "[0.375624919523644],\n",
       "[ 0.39441529535122]]))"
      ]
     },
     "metadata": {},
     "output_type": "display_data"
    },
    {
     "data": {
      "text/latex": [
       "$\\displaystyle \\theta_{4} = \\left[\\begin{matrix}-0.713247043895031\\\\0.136860091545414\\\\0.136860091545414\\end{matrix}\\right]$"
      ],
      "text/plain": [
       "Eq(theta_4, Matrix([\n",
       "[-0.713247043895031],\n",
       "[ 0.136860091545414],\n",
       "[ 0.136860091545414]]))"
      ]
     },
     "metadata": {},
     "output_type": "display_data"
    },
    {
     "name": "stdout",
     "output_type": "stream",
     "text": [
      "\n",
      "Loss J(θ) = 0.5568786632543374\n",
      "\n",
      "===============================================\n",
      "\n",
      "Iteration : 5\n"
     ]
    },
    {
     "data": {
      "text/latex": [
       "$\\displaystyle h_{θ}(x) = \\left[\\begin{matrix}0.328881759577646\\\\0.359764378924268\\\\0.359764378924268\\\\0.391853714625561\\end{matrix}\\right]$"
      ],
      "text/plain": [
       "Eq(h_{θ}(x), Matrix([\n",
       "[0.328881759577646],\n",
       "[0.359764378924268],\n",
       "[0.359764378924268],\n",
       "[0.391853714625561]]))"
      ]
     },
     "metadata": {},
     "output_type": "display_data"
    },
    {
     "data": {
      "text/latex": [
       "$\\displaystyle \\theta_{5} = \\left[\\begin{matrix}-0.823313101907967\\\\0.198955568157957\\\\0.198955568157957\\end{matrix}\\right]$"
      ],
      "text/plain": [
       "Eq(theta_5, Matrix([\n",
       "[-0.823313101907967],\n",
       "[ 0.198955568157957],\n",
       "[ 0.198955568157957]]))"
      ]
     },
     "metadata": {},
     "output_type": "display_data"
    },
    {
     "name": "stdout",
     "output_type": "stream",
     "text": [
      "\n",
      "Loss J(θ) = 0.537520220631412\n",
      "\n",
      "===============================================\n",
      "\n",
      "Iteration : 6\n"
     ]
    },
    {
     "data": {
      "text/latex": [
       "$\\displaystyle h_{θ}(x) = \\left[\\begin{matrix}0.305060833244023\\\\0.348791048273636\\\\0.348791048273636\\\\0.395224832554881\\end{matrix}\\right]$"
      ],
      "text/plain": [
       "Eq(h_{θ}(x), Matrix([\n",
       "[0.305060833244023],\n",
       "[0.348791048273636],\n",
       "[0.348791048273636],\n",
       "[0.395224832554881]]))"
      ]
     },
     "metadata": {},
     "output_type": "display_data"
    },
    {
     "data": {
      "text/latex": [
       "$\\displaystyle \\theta_{6} = \\left[\\begin{matrix}-0.922780042494512\\\\0.262951597950827\\\\0.262951597950827\\end{matrix}\\right]$"
      ],
      "text/plain": [
       "Eq(theta_6, Matrix([\n",
       "[-0.922780042494512],\n",
       "[ 0.262951597950827],\n",
       "[ 0.262951597950827]]))"
      ]
     },
     "metadata": {},
     "output_type": "display_data"
    },
    {
     "name": "stdout",
     "output_type": "stream",
     "text": [
      "\n",
      "Loss J(θ) = 0.51978984545148\n",
      "\n",
      "===============================================\n",
      "\n",
      "Iteration : 7\n"
     ]
    },
    {
     "data": {
      "text/latex": [
       "$\\displaystyle h_{θ}(x) = \\left[\\begin{matrix}0.284391780280939\\\\0.34077815015503\\\\0.34077815015503\\\\0.402062941792137\\end{matrix}\\right]$"
      ],
      "text/plain": [
       "Eq(h_{θ}(x), Matrix([\n",
       "[0.284391780280939],\n",
       "[ 0.34077815015503],\n",
       "[ 0.34077815015503],\n",
       "[0.402062941792137]]))"
      ]
     },
     "metadata": {},
     "output_type": "display_data"
    },
    {
     "data": {
      "text/latex": [
       "$\\displaystyle \\theta_{7} = \\left[\\begin{matrix}-1.0147827980903\\\\0.327241324964035\\\\0.327241324964035\\end{matrix}\\right]$"
      ],
      "text/plain": [
       "Eq(theta_7, Matrix([\n",
       "[ -1.0147827980903],\n",
       "[0.327241324964035],\n",
       "[0.327241324964035]]))"
      ]
     },
     "metadata": {},
     "output_type": "display_data"
    },
    {
     "name": "stdout",
     "output_type": "stream",
     "text": [
      "\n",
      "Loss J(θ) = 0.50335475399999\n",
      "\n",
      "===============================================\n"
     ]
    }
   ],
   "source": [
    "df = pd.DataFrame({'X1': [0,0,1,1], 'X2': [0,1,0,1], 'Y': [0,0,0,1]})\n",
    "GradientDescent(model = 'Logistic Regression', data = df, alpha = 1, theta_init = [0,0,0], n_iter = 7,\n",
    "               ).run()"
   ]
  },
  {
   "cell_type": "markdown",
   "id": "6e6dcbfa",
   "metadata": {},
   "source": [
    "## Logistic Regression With L1 Regularization"
   ]
  },
  {
   "cell_type": "code",
   "execution_count": 248,
   "id": "3e19fa48",
   "metadata": {
    "scrolled": true
   },
   "outputs": [
    {
     "name": "stdout",
     "output_type": "stream",
     "text": [
      "Running Gradient descent for Logistic Regression with L1 Regularization\n",
      "\n",
      "Cost Function:\n"
     ]
    },
    {
     "data": {
      "text/latex": [
       "$\\displaystyle J(θ) = -1/(n)∑_{i=1}^n[y^{i}log(h_{θ}(x^{i})) + (1-y^{i})log(1-h_{θ}(x^{i}))] + λ/(n)∑_{j=1}^d|θ_j|$"
      ],
      "text/plain": [
       "Eq(J(θ), -1/(n)∑_{i=1}^n[y^{i}log(h_{θ}(x^{i})) + (1-y^{i})log(1-h_{θ}(x^{i}))] + λ/(n)∑_{j=1}^d|θ_j|)"
      ]
     },
     "metadata": {},
     "output_type": "display_data"
    },
    {
     "name": "stdout",
     "output_type": "stream",
     "text": [
      "\n",
      "Theta Update:\n"
     ]
    },
    {
     "data": {
      "text/latex": [
       "$\\displaystyle θ_{0} = θ_0-α/(n)∑_{i=1}^n(h_{θ}(x^{i}) - y^{i})$"
      ],
      "text/plain": [
       "Eq(θ_0, θ_0-α/(n)∑_{i=1}^n(h_{θ}(x^{i}) - y^{i}))"
      ]
     },
     "metadata": {},
     "output_type": "display_data"
    },
    {
     "data": {
      "text/latex": [
       "$\\displaystyle θ_{j} = θ_j-α/(n)[1/2∑_{i=1}^n(h_{θ}(x^{i}) - y^{i})x^{i} + λsign(θ_j)]$"
      ],
      "text/plain": [
       "Eq(θ_j, θ_j-α/(n)[1/2∑_{i=1}^n(h_{θ}(x^{i}) - y^{i})x^{i} + λsign(θ_j)])"
      ]
     },
     "metadata": {},
     "output_type": "display_data"
    },
    {
     "name": "stdout",
     "output_type": "stream",
     "text": [
      "\n",
      "Where:\n"
     ]
    },
    {
     "data": {
      "text/latex": [
       "$\\displaystyle \n",
       "h_{θ}(x) = \\frac{1}{1+ e^{-θ^{T}x}}$"
      ],
      "text/plain": [
       "Eq(\n",
       "h_{θ}(x), 1/1+ e^{-θ^{T}x})"
      ]
     },
     "metadata": {},
     "output_type": "display_data"
    },
    {
     "name": "stdout",
     "output_type": "stream",
     "text": [
      "\n",
      "===============================================\n"
     ]
    },
    {
     "data": {
      "text/latex": [
       "$\\displaystyle \\theta_{0} = \\left[\\begin{matrix}0\\\\0\\\\0\\end{matrix}\\right]$"
      ],
      "text/plain": [
       "Eq(theta_0, Matrix([\n",
       "[0],\n",
       "[0],\n",
       "[0]]))"
      ]
     },
     "metadata": {},
     "output_type": "display_data"
    },
    {
     "name": "stdout",
     "output_type": "stream",
     "text": [
      "\n",
      "===============================================\n",
      "\n",
      "Iteration : 1\n"
     ]
    },
    {
     "data": {
      "text/latex": [
       "$\\displaystyle h_{θ}(x) = \\left[\\begin{matrix}0.5\\\\0.5\\\\0.5\\\\0.5\\end{matrix}\\right]$"
      ],
      "text/plain": [
       "Eq(h_{θ}(x), Matrix([\n",
       "[0.5],\n",
       "[0.5],\n",
       "[0.5],\n",
       "[0.5]]))"
      ]
     },
     "metadata": {},
     "output_type": "display_data"
    },
    {
     "data": {
      "text/latex": [
       "$\\displaystyle \\theta_{1} = \\left[\\begin{matrix}-0.25\\\\0\\\\0\\end{matrix}\\right]$"
      ],
      "text/plain": [
       "Eq(theta_1, Matrix([\n",
       "[-0.25],\n",
       "[    0],\n",
       "[    0]]))"
      ]
     },
     "metadata": {},
     "output_type": "display_data"
    },
    {
     "name": "stdout",
     "output_type": "stream",
     "text": [
      "\n",
      "Loss J(θ) = 0.6384394198788437\n",
      "\n",
      "===============================================\n",
      "\n",
      "Iteration : 2\n"
     ]
    },
    {
     "data": {
      "text/latex": [
       "$\\displaystyle h_{θ}(x) = \\left[\\begin{matrix}0.437823499114202\\\\0.437823499114202\\\\0.437823499114202\\\\0.437823499114202\\end{matrix}\\right]$"
      ],
      "text/plain": [
       "Eq(h_{θ}(x), Matrix([\n",
       "[0.437823499114202],\n",
       "[0.437823499114202],\n",
       "[0.437823499114202],\n",
       "[0.437823499114202]]))"
      ]
     },
     "metadata": {},
     "output_type": "display_data"
    },
    {
     "data": {
      "text/latex": [
       "$\\displaystyle \\theta_{2} = \\left[\\begin{matrix}-0.437823499114202\\\\0.031088250442899\\\\0.031088250442899\\end{matrix}\\right]$"
      ],
      "text/plain": [
       "Eq(theta_2, Matrix([\n",
       "[-0.437823499114202],\n",
       "[ 0.031088250442899],\n",
       "[ 0.031088250442899]]))"
      ]
     },
     "metadata": {},
     "output_type": "display_data"
    },
    {
     "name": "stdout",
     "output_type": "stream",
     "text": [
      "\n",
      "Loss J(θ) = 0.6042874826272245\n",
      "\n",
      "===============================================\n",
      "\n",
      "Iteration : 3\n"
     ]
    },
    {
     "data": {
      "text/latex": [
       "$\\displaystyle h_{θ}(x) = \\left[\\begin{matrix}0.392259707869409\\\\0.39969520501907\\\\0.39969520501907\\\\0.407177215696006\\end{matrix}\\right]$"
      ],
      "text/plain": [
       "Eq(h_{θ}(x), Matrix([\n",
       "[0.392259707869409],\n",
       "[ 0.39969520501907],\n",
       "[ 0.39969520501907],\n",
       "[0.407177215696006]]))"
      ]
     },
     "metadata": {},
     "output_type": "display_data"
    },
    {
     "data": {
      "text/latex": [
       "$\\displaystyle \\theta_{3} = \\left[\\begin{matrix}-0.58753033251509\\\\-0.17062985473587\\\\-0.17062985473587\\end{matrix}\\right]$"
      ],
      "text/plain": [
       "Eq(theta_3, Matrix([\n",
       "[-0.58753033251509],\n",
       "[-0.17062985473587],\n",
       "[-0.17062985473587]]))"
      ]
     },
     "metadata": {},
     "output_type": "display_data"
    },
    {
     "name": "stdout",
     "output_type": "stream",
     "text": [
      "\n",
      "Loss J(θ) = 0.6180379628686322\n",
      "\n",
      "===============================================\n",
      "\n",
      "Iteration : 4\n"
     ]
    },
    {
     "data": {
      "text/latex": [
       "$\\displaystyle h_{θ}(x) = \\left[\\begin{matrix}0.357201711121256\\\\0.319045842680267\\\\0.319045842680267\\\\0.283170253217801\\end{matrix}\\right]$"
      ],
      "text/plain": [
       "Eq(h_{θ}(x), Matrix([\n",
       "[0.357201711121256],\n",
       "[0.319045842680267],\n",
       "[0.319045842680267],\n",
       "[0.283170253217801]]))"
      ]
     },
     "metadata": {},
     "output_type": "display_data"
    },
    {
     "data": {
      "text/latex": [
       "$\\displaystyle \\theta_{4} = \\left[\\begin{matrix}-0.657146244939988\\\\0.178816121289613\\\\0.178816121289613\\end{matrix}\\right]$"
      ],
      "text/plain": [
       "Eq(theta_4, Matrix([\n",
       "[-0.657146244939988],\n",
       "[ 0.178816121289613],\n",
       "[ 0.178816121289613]]))"
      ]
     },
     "metadata": {},
     "output_type": "display_data"
    },
    {
     "name": "stdout",
     "output_type": "stream",
     "text": [
      "\n",
      "Loss J(θ) = 0.5590782822005457\n",
      "\n",
      "===============================================\n",
      "\n",
      "Iteration : 5\n"
     ]
    },
    {
     "data": {
      "text/latex": [
       "$\\displaystyle h_{θ}(x) = \\left[\\begin{matrix}0.341380959088345\\\\0.382646519669874\\\\0.382646519669874\\\\0.425676293646806\\end{matrix}\\right]$"
      ],
      "text/plain": [
       "Eq(h_{θ}(x), Matrix([\n",
       "[0.341380959088345],\n",
       "[0.382646519669874],\n",
       "[0.382646519669874],\n",
       "[0.425676293646806]]))"
      ]
     },
     "metadata": {},
     "output_type": "display_data"
    },
    {
     "data": {
      "text/latex": [
       "$\\displaystyle \\theta_{5} = \\left[\\begin{matrix}-0.790233817958713\\\\-0.0232645820395571\\\\-0.0232645820395571\\end{matrix}\\right]$"
      ],
      "text/plain": [
       "Eq(theta_5, Matrix([\n",
       "[ -0.790233817958713],\n",
       "[-0.0232645820395571],\n",
       "[-0.0232645820395571]]))"
      ]
     },
     "metadata": {},
     "output_type": "display_data"
    },
    {
     "name": "stdout",
     "output_type": "stream",
     "text": [
      "\n",
      "Loss J(θ) = 0.5761548121121137\n",
      "\n",
      "===============================================\n",
      "\n",
      "Iteration : 6\n"
     ]
    },
    {
     "data": {
      "text/latex": [
       "$\\displaystyle h_{θ}(x) = \\left[\\begin{matrix}0.312118466372464\\\\0.307145509311833\\\\0.307145509311833\\\\0.302216975061922\\end{matrix}\\right]$"
      ],
      "text/plain": [
       "Eq(h_{θ}(x), Matrix([\n",
       "[0.312118466372464],\n",
       "[0.307145509311833],\n",
       "[0.307145509311833],\n",
       "[0.302216975061922]]))"
      ]
     },
     "metadata": {},
     "output_type": "display_data"
    },
    {
     "data": {
      "text/latex": [
       "$\\displaystyle \\theta_{6} = \\left[\\begin{matrix}-0.847390432973226\\\\0.324394796867004\\\\0.324394796867004\\end{matrix}\\right]$"
      ],
      "text/plain": [
       "Eq(theta_6, Matrix([\n",
       "[-0.847390432973226],\n",
       "[ 0.324394796867004],\n",
       "[ 0.324394796867004]]))"
      ]
     },
     "metadata": {},
     "output_type": "display_data"
    },
    {
     "name": "stdout",
     "output_type": "stream",
     "text": [
      "\n",
      "Loss J(θ) = 0.5212328513821869\n",
      "\n",
      "===============================================\n",
      "\n",
      "Iteration : 7\n"
     ]
    },
    {
     "data": {
      "text/latex": [
       "$\\displaystyle h_{θ}(x) = \\left[\\begin{matrix}0.299980560116869\\\\0.372152021001108\\\\0.372152021001108\\\\0.450512342255997\\end{matrix}\\right]$"
      ],
      "text/plain": [
       "Eq(h_{θ}(x), Matrix([\n",
       "[0.299980560116869],\n",
       "[0.372152021001108],\n",
       "[0.372152021001108],\n",
       "[0.450512342255997]]))"
      ]
     },
     "metadata": {},
     "output_type": "display_data"
    },
    {
     "data": {
      "text/latex": [
       "$\\displaystyle \\theta_{7} = \\left[\\begin{matrix}-0.971089669066996\\\\0.118728706052728\\\\0.118728706052728\\end{matrix}\\right]$"
      ],
      "text/plain": [
       "Eq(theta_7, Matrix([\n",
       "[-0.971089669066996],\n",
       "[ 0.118728706052728],\n",
       "[ 0.118728706052728]]))"
      ]
     },
     "metadata": {},
     "output_type": "display_data"
    },
    {
     "name": "stdout",
     "output_type": "stream",
     "text": [
      "\n",
      "Loss J(θ) = 0.5393051091599013\n",
      "\n",
      "===============================================\n"
     ]
    }
   ],
   "source": [
    "df = pd.DataFrame({'X1': [0,0,1,1], 'X2': [0,1,0,1], 'Y': [0,0,0,1]})\n",
    "GradientDescent(model = 'Logistic Regression', data = df, alpha = 1,  lambda_ = 1, regularization = 'L1', n_iter = 7,\n",
    "                theta_init = [0,0,0]).run()"
   ]
  },
  {
   "cell_type": "markdown",
   "id": "233c49c4",
   "metadata": {},
   "source": [
    "## Logistic Regression With L2 Regularization"
   ]
  },
  {
   "cell_type": "code",
   "execution_count": 250,
   "id": "e73631c5",
   "metadata": {
    "scrolled": true
   },
   "outputs": [
    {
     "name": "stdout",
     "output_type": "stream",
     "text": [
      "Running Gradient descent for Logistic Regression with L2 Regularization\n",
      "\n",
      "Cost Function:\n"
     ]
    },
    {
     "data": {
      "text/latex": [
       "$\\displaystyle J(θ) = -1/(n)∑_{i=1}^n[y^{i}log(h_{θ}(x^{i})) + (1-y^{i})log(1-h_{θ}(x^{i}))] + λ/(2n)∑_{j=1}^dθ_j^2$"
      ],
      "text/plain": [
       "Eq(J(θ), -1/(n)∑_{i=1}^n[y^{i}log(h_{θ}(x^{i})) + (1-y^{i})log(1-h_{θ}(x^{i}))] + λ/(2n)∑_{j=1}^dθ_j^2)"
      ]
     },
     "metadata": {},
     "output_type": "display_data"
    },
    {
     "name": "stdout",
     "output_type": "stream",
     "text": [
      "\n",
      "Theta Update:\n"
     ]
    },
    {
     "data": {
      "text/latex": [
       "$\\displaystyle θ_{0} = θ_0-α/(n)∑_{i=1}^n(h_{θ}(x^{i}) - y^{i})$"
      ],
      "text/plain": [
       "Eq(θ_0, θ_0-α/(n)∑_{i=1}^n(h_{θ}(x^{i}) - y^{i}))"
      ]
     },
     "metadata": {},
     "output_type": "display_data"
    },
    {
     "data": {
      "text/latex": [
       "$\\displaystyle θ_{j} = θ_j-α/(n)[∑_{i=1}^n(h_{θ}(x^{i}) - y^{i})x^{i} + λθ_j]$"
      ],
      "text/plain": [
       "Eq(θ_j, θ_j-α/(n)[∑_{i=1}^n(h_{θ}(x^{i}) - y^{i})x^{i} + λθ_j])"
      ]
     },
     "metadata": {},
     "output_type": "display_data"
    },
    {
     "name": "stdout",
     "output_type": "stream",
     "text": [
      "\n",
      "Where:\n"
     ]
    },
    {
     "data": {
      "text/latex": [
       "$\\displaystyle \n",
       "h_{θ}(x) = \\frac{1}{1+ e^{-θ^{T}x}}$"
      ],
      "text/plain": [
       "Eq(\n",
       "h_{θ}(x), 1/1+ e^{-θ^{T}x})"
      ]
     },
     "metadata": {},
     "output_type": "display_data"
    },
    {
     "name": "stdout",
     "output_type": "stream",
     "text": [
      "\n",
      "===============================================\n"
     ]
    },
    {
     "data": {
      "text/latex": [
       "$\\displaystyle \\theta_{0} = \\left[\\begin{matrix}0\\\\0\\\\0\\end{matrix}\\right]$"
      ],
      "text/plain": [
       "Eq(theta_0, Matrix([\n",
       "[0],\n",
       "[0],\n",
       "[0]]))"
      ]
     },
     "metadata": {},
     "output_type": "display_data"
    },
    {
     "name": "stdout",
     "output_type": "stream",
     "text": [
      "\n",
      "===============================================\n",
      "\n",
      "Iteration : 1\n"
     ]
    },
    {
     "data": {
      "text/latex": [
       "$\\displaystyle h_{θ}(x) = \\left[\\begin{matrix}0.5\\\\0.5\\\\0.5\\\\0.5\\end{matrix}\\right]$"
      ],
      "text/plain": [
       "Eq(h_{θ}(x), Matrix([\n",
       "[0.5],\n",
       "[0.5],\n",
       "[0.5],\n",
       "[0.5]]))"
      ]
     },
     "metadata": {},
     "output_type": "display_data"
    },
    {
     "data": {
      "text/latex": [
       "$\\displaystyle \\theta_{1} = \\left[\\begin{matrix}-0.25\\\\0\\\\0\\end{matrix}\\right]$"
      ],
      "text/plain": [
       "Eq(theta_1, Matrix([\n",
       "[-0.25],\n",
       "[    0],\n",
       "[    0]]))"
      ]
     },
     "metadata": {},
     "output_type": "display_data"
    },
    {
     "name": "stdout",
     "output_type": "stream",
     "text": [
      "\n",
      "Loss J(θ) = 0.6384394198788437\n",
      "\n",
      "===============================================\n",
      "\n",
      "Iteration : 2\n"
     ]
    },
    {
     "data": {
      "text/latex": [
       "$\\displaystyle h_{θ}(x) = \\left[\\begin{matrix}0.437823499114202\\\\0.437823499114202\\\\0.437823499114202\\\\0.437823499114202\\end{matrix}\\right]$"
      ],
      "text/plain": [
       "Eq(h_{θ}(x), Matrix([\n",
       "[0.437823499114202],\n",
       "[0.437823499114202],\n",
       "[0.437823499114202],\n",
       "[0.437823499114202]]))"
      ]
     },
     "metadata": {},
     "output_type": "display_data"
    },
    {
     "data": {
      "text/latex": [
       "$\\displaystyle \\theta_{2} = \\left[\\begin{matrix}-0.437823499114202\\\\0.031088250442899\\\\0.031088250442899\\end{matrix}\\right]$"
      ],
      "text/plain": [
       "Eq(theta_2, Matrix([\n",
       "[-0.437823499114202],\n",
       "[ 0.031088250442899],\n",
       "[ 0.031088250442899]]))"
      ]
     },
     "metadata": {},
     "output_type": "display_data"
    },
    {
     "name": "stdout",
     "output_type": "stream",
     "text": [
      "\n",
      "Loss J(θ) = 0.6042874826272245\n",
      "\n",
      "===============================================\n",
      "\n",
      "Iteration : 3\n"
     ]
    },
    {
     "data": {
      "text/latex": [
       "$\\displaystyle h_{θ}(x) = \\left[\\begin{matrix}0.392259707869409\\\\0.39969520501907\\\\0.39969520501907\\\\0.407177215696006\\end{matrix}\\right]$"
      ],
      "text/plain": [
       "Eq(h_{θ}(x), Matrix([\n",
       "[0.392259707869409],\n",
       "[ 0.39969520501907],\n",
       "[ 0.39969520501907],\n",
       "[0.407177215696006]]))"
      ]
     },
     "metadata": {},
     "output_type": "display_data"
    },
    {
     "data": {
      "text/latex": [
       "$\\displaystyle \\theta_{3} = \\left[\\begin{matrix}-0.58753033251509\\\\0.0715980826534052\\\\0.0715980826534052\\end{matrix}\\right]$"
      ],
      "text/plain": [
       "Eq(theta_3, Matrix([\n",
       "[ -0.58753033251509],\n",
       "[0.0715980826534052],\n",
       "[0.0715980826534052]]))"
      ]
     },
     "metadata": {},
     "output_type": "display_data"
    },
    {
     "name": "stdout",
     "output_type": "stream",
     "text": [
      "\n",
      "Loss J(θ) = 0.5794751723455329\n",
      "\n",
      "===============================================\n",
      "\n",
      "Iteration : 4\n"
     ]
    },
    {
     "data": {
      "text/latex": [
       "$\\displaystyle h_{θ}(x) = \\left[\\begin{matrix}0.357201711121256\\\\0.37380390061215\\\\0.37380390061215\\\\0.390708709933118\\end{matrix}\\right]$"
      ],
      "text/plain": [
       "Eq(h_{θ}(x), Matrix([\n",
       "[0.357201711121256],\n",
       "[ 0.37380390061215],\n",
       "[ 0.37380390061215],\n",
       "[0.390708709933118]]))"
      ]
     },
     "metadata": {},
     "output_type": "display_data"
    },
    {
     "data": {
      "text/latex": [
       "$\\displaystyle \\theta_{4} = \\left[\\begin{matrix}-0.711409888084759\\\\0.112570409353737\\\\0.112570409353737\\end{matrix}\\right]$"
      ],
      "text/plain": [
       "Eq(theta_4, Matrix([\n",
       "[-0.711409888084759],\n",
       "[ 0.112570409353737],\n",
       "[ 0.112570409353737]]))"
      ]
     },
     "metadata": {},
     "output_type": "display_data"
    },
    {
     "name": "stdout",
     "output_type": "stream",
     "text": [
      "\n",
      "Loss J(θ) = 0.5601913486026288\n",
      "\n",
      "===============================================\n",
      "\n",
      "Iteration : 5\n"
     ]
    },
    {
     "data": {
      "text/latex": [
       "$\\displaystyle h_{θ}(x) = \\left[\\begin{matrix}0.329287381341743\\\\0.354609247609945\\\\0.354609247609945\\\\0.380772872571612\\end{matrix}\\right]$"
      ],
      "text/plain": [
       "Eq(h_{θ}(x), Matrix([\n",
       "[0.329287381341743],\n",
       "[0.354609247609945],\n",
       "[0.354609247609945],\n",
       "[0.380772872571612]]))"
      ]
     },
     "metadata": {},
     "output_type": "display_data"
    },
    {
     "data": {
      "text/latex": [
       "$\\displaystyle \\theta_{5} = \\left[\\begin{matrix}-0.81622957536807\\\\0.150582276969913\\\\0.150582276969913\\end{matrix}\\right]$"
      ],
      "text/plain": [
       "Eq(theta_5, Matrix([\n",
       "[-0.81622957536807],\n",
       "[0.150582276969913],\n",
       "[0.150582276969913]]))"
      ]
     },
     "metadata": {},
     "output_type": "display_data"
    },
    {
     "name": "stdout",
     "output_type": "stream",
     "text": [
      "\n",
      "Loss J(θ) = 0.5447525535380514\n",
      "\n",
      "===============================================\n"
     ]
    }
   ],
   "source": [
    "df = pd.DataFrame({'X1': [0,0,1,1], 'X2': [0,1,0,1], 'Y': [0,0,0,1]})\n",
    "GradientDescent(model = 'Logistic Regression', data = df, alpha = 1,  lambda_ = 1, regularization = 'L2',\n",
    "                theta_init = [0,0,0]).run()"
   ]
  },
  {
   "cell_type": "code",
   "execution_count": 251,
   "id": "6bb39dcd",
   "metadata": {},
   "outputs": [
    {
     "name": "stdout",
     "output_type": "stream",
     "text": [
      "Running Gradient descent for Logistic Regression\n",
      "\n",
      "Cost Function:\n"
     ]
    },
    {
     "data": {
      "text/latex": [
       "$\\displaystyle J(θ) = -1/(n)∑_{i=1}^n[y^{i}log(h_{θ}(x^{i})) + (1-y^{i})log(1-h_{θ}(x^{i}))]$"
      ],
      "text/plain": [
       "Eq(J(θ), -1/(n)∑_{i=1}^n[y^{i}log(h_{θ}(x^{i})) + (1-y^{i})log(1-h_{θ}(x^{i}))])"
      ]
     },
     "metadata": {},
     "output_type": "display_data"
    },
    {
     "name": "stdout",
     "output_type": "stream",
     "text": [
      "\n",
      "Theta Update:\n"
     ]
    },
    {
     "data": {
      "text/latex": [
       "$\\displaystyle θ_{j} = θ_j-α/(n)∑_{i=1}^n(h_{θ}(x^{i}) - y^{i})x^{i}$"
      ],
      "text/plain": [
       "Eq(θ_j, θ_j-α/(n)∑_{i=1}^n(h_{θ}(x^{i}) - y^{i})x^{i})"
      ]
     },
     "metadata": {},
     "output_type": "display_data"
    },
    {
     "name": "stdout",
     "output_type": "stream",
     "text": [
      "\n",
      "Where:\n"
     ]
    },
    {
     "data": {
      "text/latex": [
       "$\\displaystyle \n",
       "h_{θ}(x) = \\frac{1}{1+ e^{-θ^{T}x}}$"
      ],
      "text/plain": [
       "Eq(\n",
       "h_{θ}(x), 1/1+ e^{-θ^{T}x})"
      ]
     },
     "metadata": {},
     "output_type": "display_data"
    },
    {
     "name": "stdout",
     "output_type": "stream",
     "text": [
      "\n",
      "===============================================\n"
     ]
    },
    {
     "data": {
      "text/latex": [
       "$\\displaystyle \\theta_{0} = \\left[\\begin{matrix}1\\\\1\\\\1\\end{matrix}\\right]$"
      ],
      "text/plain": [
       "Eq(theta_0, Matrix([\n",
       "[1],\n",
       "[1],\n",
       "[1]]))"
      ]
     },
     "metadata": {},
     "output_type": "display_data"
    },
    {
     "name": "stdout",
     "output_type": "stream",
     "text": [
      "\n",
      "===============================================\n",
      "\n",
      "Iteration : 1\n"
     ]
    },
    {
     "data": {
      "text/latex": [
       "$\\displaystyle h_{θ}(x) = \\left[\\begin{matrix}0.0474258731775668\\\\0.952574126822433\\\\0.268941421369995\\\\0.0474258731775668\\\\0.880797077977882\\\\0.5\\end{matrix}\\right]$"
      ],
      "text/plain": [
       "Eq(h_{θ}(x), Matrix([\n",
       "[0.0474258731775668],\n",
       "[ 0.952574126822433],\n",
       "[ 0.268941421369995],\n",
       "[0.0474258731775668],\n",
       "[ 0.880797077977882],\n",
       "[               0.5]]))"
      ]
     },
     "metadata": {},
     "output_type": "display_data"
    },
    {
     "data": {
      "text/latex": [
       "$\\displaystyle \\theta_{1} = \\left[\\begin{matrix}0.941902968956213\\\\1.03161724878504\\\\0.854328125926437\\end{matrix}\\right]$"
      ],
      "text/plain": [
       "Eq(theta_1, Matrix([\n",
       "[0.941902968956213],\n",
       "[ 1.03161724878504],\n",
       "[0.854328125926437]]))"
      ]
     },
     "metadata": {},
     "output_type": "display_data"
    },
    {
     "name": "stdout",
     "output_type": "stream",
     "text": [
      "\n",
      "Loss J(θ) = 0.6642119957731525\n",
      "\n",
      "===============================================\n",
      "\n",
      "Iteration : 2\n"
     ]
    },
    {
     "data": {
      "text/latex": [
       "$\\displaystyle h_{θ}(x) = \\left[\\begin{matrix}0.0397506794282286\\\\0.934045449417086\\\\0.317181854480769\\\\0.0397506794282286\\\\0.857689529190199\\\\0.521879728930573\\end{matrix}\\right]$"
      ],
      "text/plain": [
       "Eq(h_{θ}(x), Matrix([\n",
       "[0.0397506794282286],\n",
       "[ 0.934045449417086],\n",
       "[ 0.317181854480769],\n",
       "[0.0397506794282286],\n",
       "[ 0.857689529190199],\n",
       "[ 0.521879728930573]]))"
      ]
     },
     "metadata": {},
     "output_type": "display_data"
    },
    {
     "data": {
      "text/latex": [
       "$\\displaystyle \\theta_{2} = \\left[\\begin{matrix}0.882711475549956\\\\1.0581177017372\\\\0.723533376748748\\end{matrix}\\right]$"
      ],
      "text/plain": [
       "Eq(theta_2, Matrix([\n",
       "[0.882711475549956],\n",
       "[  1.0581177017372],\n",
       "[0.723533376748748]]))"
      ]
     },
     "metadata": {},
     "output_type": "display_data"
    },
    {
     "name": "stdout",
     "output_type": "stream",
     "text": [
      "\n",
      "Loss J(θ) = 0.6235782528900514\n",
      "\n",
      "===============================================\n",
      "\n",
      "Iteration : 3\n"
     ]
    },
    {
     "data": {
      "text/latex": [
       "$\\displaystyle h_{θ}(x) = \\left[\\begin{matrix}0.0339030460451886\\\\0.911313414569012\\\\0.362540332556025\\\\0.0339030460451886\\\\0.832889380613594\\\\0.539710712020612\\end{matrix}\\right]$"
      ],
      "text/plain": [
       "Eq(h_{θ}(x), Matrix([\n",
       "[0.0339030460451886],\n",
       "[ 0.911313414569012],\n",
       "[ 0.362540332556025],\n",
       "[0.0339030460451886],\n",
       "[ 0.832889380613594],\n",
       "[ 0.539710712020612]]))"
      ]
     },
     "metadata": {},
     "output_type": "display_data"
    },
    {
     "data": {
      "text/latex": [
       "$\\displaystyle \\theta_{3} = \\left[\\begin{matrix}0.823189814562488\\\\1.08071973243399\\\\0.607639640697169\\end{matrix}\\right]$"
      ],
      "text/plain": [
       "Eq(theta_3, Matrix([\n",
       "[0.823189814562488],\n",
       "[ 1.08071973243399],\n",
       "[0.607639640697169]]))"
      ]
     },
     "metadata": {},
     "output_type": "display_data"
    },
    {
     "name": "stdout",
     "output_type": "stream",
     "text": [
      "\n",
      "Loss J(θ) = 0.5903612091303095\n",
      "\n",
      "===============================================\n"
     ]
    }
   ],
   "source": [
    "df = pd.DataFrame({'X1': [-4,0,0,-4,0,0], 'X2': [0,2,-2,0,1,-1], 'Y': [0,0,0,0,1,1]})\n",
    "GradientDescent(model = 'Logistic Regression', data = df, alpha = 0.5, theta_init = [1,1,1], n_iter = 3,\n",
    "               ).run()"
   ]
  },
  {
   "cell_type": "code",
   "execution_count": null,
   "id": "8fb1455b",
   "metadata": {},
   "outputs": [],
   "source": []
  }
 ],
 "metadata": {
  "kernelspec": {
   "display_name": "Python 3 (ipykernel)",
   "language": "python",
   "name": "python3"
  },
  "language_info": {
   "codemirror_mode": {
    "name": "ipython",
    "version": 3
   },
   "file_extension": ".py",
   "mimetype": "text/x-python",
   "name": "python",
   "nbconvert_exporter": "python",
   "pygments_lexer": "ipython3",
   "version": "3.7.6"
  }
 },
 "nbformat": 4,
 "nbformat_minor": 5
}
