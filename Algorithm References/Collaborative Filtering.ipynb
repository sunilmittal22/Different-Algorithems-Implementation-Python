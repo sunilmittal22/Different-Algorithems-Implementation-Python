{
 "cells": [
  {
   "cell_type": "code",
   "execution_count": 42,
   "id": "d40741e3",
   "metadata": {},
   "outputs": [],
   "source": [
    "import numpy as np\n",
    "import pandas as pd\n",
    "import scipy.spatial.distance as dist\n",
    "from sympy import *\n",
    "from itertools import product"
   ]
  },
  {
   "cell_type": "code",
   "execution_count": 43,
   "id": "e4d4c41e",
   "metadata": {},
   "outputs": [
    {
     "data": {
      "application/javascript": [
       "IPython.OutputArea.prototype._should_scroll = function(lines) {\n",
       "    return false;\n",
       "}\n"
      ],
      "text/plain": [
       "<IPython.core.display.Javascript object>"
      ]
     },
     "metadata": {},
     "output_type": "display_data"
    }
   ],
   "source": [
    "%%javascript\n",
    "IPython.OutputArea.prototype._should_scroll = function(lines) {\n",
    "    return false;\n",
    "}"
   ]
  },
  {
   "cell_type": "code",
   "execution_count": 132,
   "id": "d51aa974",
   "metadata": {},
   "outputs": [],
   "source": [
    "class CollaborativeFiltering:\n",
    "    def __init__(self,  items, data, users=None, rounding_digit = 2):\n",
    "        self.users = users\n",
    "        self.items = items\n",
    "        self.rounding_digit  = rounding_digit\n",
    "        if not self.users:\n",
    "            self.users = [f'U{i+1}' for i in range(len(data))]\n",
    "        self.cf_matrix = pd.DataFrame(data, index = self.users, columns=self.items)\n",
    "    def calculate_jaccard_similarity(self):\n",
    "        print('Calculating Jaccard Similarity')\n",
    "        display(self.cf_matrix)\n",
    "        \n",
    "        user_combs = [(i, j) for i, j in list(product(self.users, self.users)) if  i < j]\n",
    "        \n",
    "        for comb in user_combs:\n",
    "            c1 = comb[0]\n",
    "            c2 = comb[1]\n",
    "            display(Eq(Symbol(f'sim({c1},{c2})'), Symbol(f'r_{{{c1}}} \\u2229 r_{{{c2}}}')/\n",
    "                       Symbol(f'r_{{{c1}}} \\u222A r_{{{c2}}}')))\n",
    "            r_a = self.cf_matrix.loc[c1]\n",
    "            r_b = self.cf_matrix.loc[c2]\n",
    "            \n",
    "            num = sum(r_a.astype(bool)&r_b.astype(bool))\n",
    "            \n",
    "            den = sum(r_a.astype(bool)|r_b.astype(bool))\n",
    "            display(Eq(Symbol(f'sim({c1},{c2})'), Symbol(f'{num}')/\n",
    "                       Symbol(f'{den}')))\n",
    "            display(Eq(Symbol(f'sim({c1},{c2})'), round(num/den, self.rounding_digit)))\n",
    "            print('\\n---------------------------------------------\\n')\n",
    "            \n",
    "    def calculate_cosine_similarity(self):\n",
    "        print('Calculating Cosine Similarity')\n",
    "        display(self.cf_matrix)\n",
    "        \n",
    "        user_combs = [(i, j) for i, j in list(product(self.users, self.users)) if  i < j]\n",
    "        \n",
    "        for comb in user_combs:\n",
    "            c1 = comb[0]\n",
    "            c2 = comb[1]\n",
    "            display(Eq(Symbol(f'sim({c1},{c2})'), Symbol(f'cos(r_{{{c1}}}, r_{{{c2}}})')))\n",
    "            \n",
    "            display(Eq(Symbol(f'sim({c1},{c2})'), Symbol(f'r_{{{c1}}}. r_{{{c2}}}')/\n",
    "                       Symbol(f'|r_{{{c1}}}| |r_{{{c2}}}|')))\n",
    "            r_a = self.cf_matrix.loc[c1]\n",
    "            r_b = self.cf_matrix.loc[c2]\n",
    "            \n",
    "            sim = r_a@r_b/(np.linalg.norm(r_a)*np.linalg.norm(r_b))\n",
    "            \n",
    "            display(Eq(Symbol(f'sim({c1},{c2})'), round(sim, self.rounding_digit)))\n",
    "            print('\\n---------------------------------------------\\n')\n",
    "            \n",
    "    def calculate_centered_cosine_similarity(self):\n",
    "        print('Calculating Cosine Similarity')\n",
    "        print('\\n CF matrix')\n",
    "        display(self.cf_matrix)\n",
    "        print('\\n CF matrix normalized by mean')\n",
    "        \n",
    "        diff_df = self.cf_matrix.sum(axis=1)/self.cf_matrix.astype(bool).sum(axis=1)\n",
    "        self.cf_centered_matrix = self.cf_matrix.subtract(diff_df,axis=0)\n",
    "        self.cf_centered_matrix = self.cf_centered_matrix[self.cf_matrix.astype(bool)]\n",
    "        self.cf_centered_matrix.fillna(0, inplace=True)\n",
    "        self.cf_centered_matrix = np.round(self.cf_centered_matrix, self.rounding_digit)\n",
    "        display(self.cf_centered_matrix)\n",
    "        \n",
    "        user_combs = [(i, j) for i, j in list(product(self.users, self.users)) if  i < j]\n",
    "        \n",
    "        for comb in user_combs:\n",
    "            c1 = comb[0]\n",
    "            c2 = comb[1]\n",
    "            display(Eq(Symbol(f'sim({c1},{c2})'), Symbol(f'cos(r_{{{c1}}}, r_{{{c2}}})')))\n",
    "            \n",
    "            display(Eq(Symbol(f'sim({c1},{c2})'), Symbol(f'r_{{{c1}}}. r_{{{c2}}}')/\n",
    "                       Symbol(f'|r_{{{c1}}}| |r_{{{c2}}}|')))\n",
    "            r_a = self.cf_centered_matrix.loc[c1]\n",
    "            r_b = self.cf_centered_matrix.loc[c2]\n",
    "            \n",
    "            sim = r_a@r_b/(np.linalg.norm(r_a)*np.linalg.norm(r_b))\n",
    "            \n",
    "            display(Symbol(f'sim({c1},{c2}) = {round(sim, self.rounding_digit)}'))\n",
    "            print('\\n---------------------------------------------\\n')\n",
    "                "
   ]
  },
  {
   "cell_type": "code",
   "execution_count": 127,
   "id": "cb56cb1e",
   "metadata": {},
   "outputs": [
    {
     "name": "stdout",
     "output_type": "stream",
     "text": [
      "Calculating Jaccard Similarity\n"
     ]
    },
    {
     "data": {
      "text/html": [
       "<div>\n",
       "<style scoped>\n",
       "    .dataframe tbody tr th:only-of-type {\n",
       "        vertical-align: middle;\n",
       "    }\n",
       "\n",
       "    .dataframe tbody tr th {\n",
       "        vertical-align: top;\n",
       "    }\n",
       "\n",
       "    .dataframe thead th {\n",
       "        text-align: right;\n",
       "    }\n",
       "</style>\n",
       "<table border=\"1\" class=\"dataframe\">\n",
       "  <thead>\n",
       "    <tr style=\"text-align: right;\">\n",
       "      <th></th>\n",
       "      <th>HP1</th>\n",
       "      <th>HP2</th>\n",
       "      <th>HP3</th>\n",
       "      <th>TW</th>\n",
       "      <th>SW1</th>\n",
       "      <th>SW2</th>\n",
       "      <th>SW3</th>\n",
       "    </tr>\n",
       "  </thead>\n",
       "  <tbody>\n",
       "    <tr>\n",
       "      <th>A</th>\n",
       "      <td>4</td>\n",
       "      <td>0</td>\n",
       "      <td>0</td>\n",
       "      <td>5</td>\n",
       "      <td>1</td>\n",
       "      <td>0</td>\n",
       "      <td>0</td>\n",
       "    </tr>\n",
       "    <tr>\n",
       "      <th>B</th>\n",
       "      <td>5</td>\n",
       "      <td>5</td>\n",
       "      <td>4</td>\n",
       "      <td>0</td>\n",
       "      <td>0</td>\n",
       "      <td>0</td>\n",
       "      <td>0</td>\n",
       "    </tr>\n",
       "    <tr>\n",
       "      <th>C</th>\n",
       "      <td>0</td>\n",
       "      <td>0</td>\n",
       "      <td>0</td>\n",
       "      <td>2</td>\n",
       "      <td>4</td>\n",
       "      <td>5</td>\n",
       "      <td>0</td>\n",
       "    </tr>\n",
       "    <tr>\n",
       "      <th>D</th>\n",
       "      <td>0</td>\n",
       "      <td>3</td>\n",
       "      <td>0</td>\n",
       "      <td>0</td>\n",
       "      <td>0</td>\n",
       "      <td>0</td>\n",
       "      <td>3</td>\n",
       "    </tr>\n",
       "  </tbody>\n",
       "</table>\n",
       "</div>"
      ],
      "text/plain": [
       "   HP1  HP2  HP3  TW  SW1  SW2  SW3\n",
       "A    4    0    0   5    1    0    0\n",
       "B    5    5    4   0    0    0    0\n",
       "C    0    0    0   2    4    5    0\n",
       "D    0    3    0   0    0    0    3"
      ]
     },
     "metadata": {},
     "output_type": "display_data"
    },
    {
     "data": {
      "text/latex": [
       "$\\displaystyle sim(A,B) = \\frac{r_{A} ∩ r_{B}}{r_{A} ∪ r_{B}}$"
      ],
      "text/plain": [
       "Eq(sim(A,B), r_{A} ∩ r_{B}/r_{A} ∪ r_{B})"
      ]
     },
     "metadata": {},
     "output_type": "display_data"
    },
    {
     "data": {
      "text/latex": [
       "$\\displaystyle sim(A,B) = \\frac{1}{5}$"
      ],
      "text/plain": [
       "Eq(sim(A,B), 1/5)"
      ]
     },
     "metadata": {},
     "output_type": "display_data"
    },
    {
     "data": {
      "text/latex": [
       "$\\displaystyle sim(A,B) = 0.2$"
      ],
      "text/plain": [
       "Eq(sim(A,B), 0.2)"
      ]
     },
     "metadata": {},
     "output_type": "display_data"
    },
    {
     "name": "stdout",
     "output_type": "stream",
     "text": [
      "\n",
      "---------------------------------------------\n",
      "\n"
     ]
    },
    {
     "data": {
      "text/latex": [
       "$\\displaystyle sim(A,C) = \\frac{r_{A} ∩ r_{C}}{r_{A} ∪ r_{C}}$"
      ],
      "text/plain": [
       "Eq(sim(A,C), r_{A} ∩ r_{C}/r_{A} ∪ r_{C})"
      ]
     },
     "metadata": {},
     "output_type": "display_data"
    },
    {
     "data": {
      "text/latex": [
       "$\\displaystyle sim(A,C) = \\frac{2}{4}$"
      ],
      "text/plain": [
       "Eq(sim(A,C), 2/4)"
      ]
     },
     "metadata": {},
     "output_type": "display_data"
    },
    {
     "data": {
      "text/latex": [
       "$\\displaystyle sim(A,C) = 0.5$"
      ],
      "text/plain": [
       "Eq(sim(A,C), 0.5)"
      ]
     },
     "metadata": {},
     "output_type": "display_data"
    },
    {
     "name": "stdout",
     "output_type": "stream",
     "text": [
      "\n",
      "---------------------------------------------\n",
      "\n"
     ]
    },
    {
     "data": {
      "text/latex": [
       "$\\displaystyle sim(A,D) = \\frac{r_{A} ∩ r_{D}}{r_{A} ∪ r_{D}}$"
      ],
      "text/plain": [
       "Eq(sim(A,D), r_{A} ∩ r_{D}/r_{A} ∪ r_{D})"
      ]
     },
     "metadata": {},
     "output_type": "display_data"
    },
    {
     "data": {
      "text/latex": [
       "$\\displaystyle sim(A,D) = \\frac{0}{5}$"
      ],
      "text/plain": [
       "Eq(sim(A,D), 0/5)"
      ]
     },
     "metadata": {},
     "output_type": "display_data"
    },
    {
     "data": {
      "text/latex": [
       "$\\displaystyle sim(A,D) = 0.0$"
      ],
      "text/plain": [
       "Eq(sim(A,D), 0.0)"
      ]
     },
     "metadata": {},
     "output_type": "display_data"
    },
    {
     "name": "stdout",
     "output_type": "stream",
     "text": [
      "\n",
      "---------------------------------------------\n",
      "\n"
     ]
    },
    {
     "data": {
      "text/latex": [
       "$\\displaystyle sim(B,C) = \\frac{r_{B} ∩ r_{C}}{r_{B} ∪ r_{C}}$"
      ],
      "text/plain": [
       "Eq(sim(B,C), r_{B} ∩ r_{C}/r_{B} ∪ r_{C})"
      ]
     },
     "metadata": {},
     "output_type": "display_data"
    },
    {
     "data": {
      "text/latex": [
       "$\\displaystyle sim(B,C) = \\frac{0}{6}$"
      ],
      "text/plain": [
       "Eq(sim(B,C), 0/6)"
      ]
     },
     "metadata": {},
     "output_type": "display_data"
    },
    {
     "data": {
      "text/latex": [
       "$\\displaystyle sim(B,C) = 0.0$"
      ],
      "text/plain": [
       "Eq(sim(B,C), 0.0)"
      ]
     },
     "metadata": {},
     "output_type": "display_data"
    },
    {
     "name": "stdout",
     "output_type": "stream",
     "text": [
      "\n",
      "---------------------------------------------\n",
      "\n"
     ]
    },
    {
     "data": {
      "text/latex": [
       "$\\displaystyle sim(B,D) = \\frac{r_{B} ∩ r_{D}}{r_{B} ∪ r_{D}}$"
      ],
      "text/plain": [
       "Eq(sim(B,D), r_{B} ∩ r_{D}/r_{B} ∪ r_{D})"
      ]
     },
     "metadata": {},
     "output_type": "display_data"
    },
    {
     "data": {
      "text/latex": [
       "$\\displaystyle sim(B,D) = \\frac{1}{4}$"
      ],
      "text/plain": [
       "Eq(sim(B,D), 1/4)"
      ]
     },
     "metadata": {},
     "output_type": "display_data"
    },
    {
     "data": {
      "text/latex": [
       "$\\displaystyle sim(B,D) = 0.25$"
      ],
      "text/plain": [
       "Eq(sim(B,D), 0.25)"
      ]
     },
     "metadata": {},
     "output_type": "display_data"
    },
    {
     "name": "stdout",
     "output_type": "stream",
     "text": [
      "\n",
      "---------------------------------------------\n",
      "\n"
     ]
    },
    {
     "data": {
      "text/latex": [
       "$\\displaystyle sim(C,D) = \\frac{r_{C} ∩ r_{D}}{r_{C} ∪ r_{D}}$"
      ],
      "text/plain": [
       "Eq(sim(C,D), r_{C} ∩ r_{D}/r_{C} ∪ r_{D})"
      ]
     },
     "metadata": {},
     "output_type": "display_data"
    },
    {
     "data": {
      "text/latex": [
       "$\\displaystyle sim(C,D) = \\frac{0}{5}$"
      ],
      "text/plain": [
       "Eq(sim(C,D), 0/5)"
      ]
     },
     "metadata": {},
     "output_type": "display_data"
    },
    {
     "data": {
      "text/latex": [
       "$\\displaystyle sim(C,D) = 0.0$"
      ],
      "text/plain": [
       "Eq(sim(C,D), 0.0)"
      ]
     },
     "metadata": {},
     "output_type": "display_data"
    },
    {
     "name": "stdout",
     "output_type": "stream",
     "text": [
      "\n",
      "---------------------------------------------\n",
      "\n"
     ]
    }
   ],
   "source": [
    "items = ['HP1', 'HP2', 'HP3', 'TW', 'SW1', 'SW2', 'SW3']\n",
    "users = ['A', 'B', 'C', 'D']\n",
    "data = [\n",
    "    [4,0,0,5,1,0,0],\n",
    "    [5,5,4,0,0,0,0],\n",
    "    [0,0,0,2,4,5,0],\n",
    "    [0,3,0,0,0,0,3]\n",
    "]\n",
    "CollaborativeFiltering(items=items, data=data, users=users).calculate_jaccard_similarity()"
   ]
  },
  {
   "cell_type": "code",
   "execution_count": 130,
   "id": "203a4844",
   "metadata": {},
   "outputs": [
    {
     "name": "stdout",
     "output_type": "stream",
     "text": [
      "Calculating Cosine Similarity\n"
     ]
    },
    {
     "data": {
      "text/html": [
       "<div>\n",
       "<style scoped>\n",
       "    .dataframe tbody tr th:only-of-type {\n",
       "        vertical-align: middle;\n",
       "    }\n",
       "\n",
       "    .dataframe tbody tr th {\n",
       "        vertical-align: top;\n",
       "    }\n",
       "\n",
       "    .dataframe thead th {\n",
       "        text-align: right;\n",
       "    }\n",
       "</style>\n",
       "<table border=\"1\" class=\"dataframe\">\n",
       "  <thead>\n",
       "    <tr style=\"text-align: right;\">\n",
       "      <th></th>\n",
       "      <th>HP1</th>\n",
       "      <th>HP2</th>\n",
       "      <th>HP3</th>\n",
       "      <th>TW</th>\n",
       "      <th>SW1</th>\n",
       "      <th>SW2</th>\n",
       "      <th>SW3</th>\n",
       "    </tr>\n",
       "  </thead>\n",
       "  <tbody>\n",
       "    <tr>\n",
       "      <th>A</th>\n",
       "      <td>4</td>\n",
       "      <td>0</td>\n",
       "      <td>0</td>\n",
       "      <td>5</td>\n",
       "      <td>1</td>\n",
       "      <td>0</td>\n",
       "      <td>0</td>\n",
       "    </tr>\n",
       "    <tr>\n",
       "      <th>B</th>\n",
       "      <td>5</td>\n",
       "      <td>5</td>\n",
       "      <td>4</td>\n",
       "      <td>0</td>\n",
       "      <td>0</td>\n",
       "      <td>0</td>\n",
       "      <td>0</td>\n",
       "    </tr>\n",
       "    <tr>\n",
       "      <th>C</th>\n",
       "      <td>0</td>\n",
       "      <td>0</td>\n",
       "      <td>0</td>\n",
       "      <td>2</td>\n",
       "      <td>4</td>\n",
       "      <td>5</td>\n",
       "      <td>0</td>\n",
       "    </tr>\n",
       "    <tr>\n",
       "      <th>D</th>\n",
       "      <td>0</td>\n",
       "      <td>3</td>\n",
       "      <td>0</td>\n",
       "      <td>0</td>\n",
       "      <td>0</td>\n",
       "      <td>0</td>\n",
       "      <td>3</td>\n",
       "    </tr>\n",
       "  </tbody>\n",
       "</table>\n",
       "</div>"
      ],
      "text/plain": [
       "   HP1  HP2  HP3  TW  SW1  SW2  SW3\n",
       "A    4    0    0   5    1    0    0\n",
       "B    5    5    4   0    0    0    0\n",
       "C    0    0    0   2    4    5    0\n",
       "D    0    3    0   0    0    0    3"
      ]
     },
     "metadata": {},
     "output_type": "display_data"
    },
    {
     "data": {
      "text/latex": [
       "$\\displaystyle sim(A,B) = cos(r_{A}, r_{B})$"
      ],
      "text/plain": [
       "Eq(sim(A,B), cos(r_{A}, r_{B}))"
      ]
     },
     "metadata": {},
     "output_type": "display_data"
    },
    {
     "data": {
      "text/latex": [
       "$\\displaystyle sim(A,B) = \\frac{r_{A}. r_{B}}{|r_{A}| |r_{B}|}$"
      ],
      "text/plain": [
       "Eq(sim(A,B), r_{A}. r_{B}/|r_{A}| |r_{B}|)"
      ]
     },
     "metadata": {},
     "output_type": "display_data"
    },
    {
     "data": {
      "text/latex": [
       "$\\displaystyle sim(A,B) = 0.38$"
      ],
      "text/plain": [
       "Eq(sim(A,B), 0.38)"
      ]
     },
     "metadata": {},
     "output_type": "display_data"
    },
    {
     "name": "stdout",
     "output_type": "stream",
     "text": [
      "\n",
      "---------------------------------------------\n",
      "\n"
     ]
    },
    {
     "data": {
      "text/latex": [
       "$\\displaystyle sim(A,C) = cos(r_{A}, r_{C})$"
      ],
      "text/plain": [
       "Eq(sim(A,C), cos(r_{A}, r_{C}))"
      ]
     },
     "metadata": {},
     "output_type": "display_data"
    },
    {
     "data": {
      "text/latex": [
       "$\\displaystyle sim(A,C) = \\frac{r_{A}. r_{C}}{|r_{A}| |r_{C}|}$"
      ],
      "text/plain": [
       "Eq(sim(A,C), r_{A}. r_{C}/|r_{A}| |r_{C}|)"
      ]
     },
     "metadata": {},
     "output_type": "display_data"
    },
    {
     "data": {
      "text/latex": [
       "$\\displaystyle sim(A,C) = 0.32$"
      ],
      "text/plain": [
       "Eq(sim(A,C), 0.32)"
      ]
     },
     "metadata": {},
     "output_type": "display_data"
    },
    {
     "name": "stdout",
     "output_type": "stream",
     "text": [
      "\n",
      "---------------------------------------------\n",
      "\n"
     ]
    },
    {
     "data": {
      "text/latex": [
       "$\\displaystyle sim(A,D) = cos(r_{A}, r_{D})$"
      ],
      "text/plain": [
       "Eq(sim(A,D), cos(r_{A}, r_{D}))"
      ]
     },
     "metadata": {},
     "output_type": "display_data"
    },
    {
     "data": {
      "text/latex": [
       "$\\displaystyle sim(A,D) = \\frac{r_{A}. r_{D}}{|r_{A}| |r_{D}|}$"
      ],
      "text/plain": [
       "Eq(sim(A,D), r_{A}. r_{D}/|r_{A}| |r_{D}|)"
      ]
     },
     "metadata": {},
     "output_type": "display_data"
    },
    {
     "data": {
      "text/latex": [
       "$\\displaystyle sim(A,D) = 0.0$"
      ],
      "text/plain": [
       "Eq(sim(A,D), 0.0)"
      ]
     },
     "metadata": {},
     "output_type": "display_data"
    },
    {
     "name": "stdout",
     "output_type": "stream",
     "text": [
      "\n",
      "---------------------------------------------\n",
      "\n"
     ]
    },
    {
     "data": {
      "text/latex": [
       "$\\displaystyle sim(B,C) = cos(r_{B}, r_{C})$"
      ],
      "text/plain": [
       "Eq(sim(B,C), cos(r_{B}, r_{C}))"
      ]
     },
     "metadata": {},
     "output_type": "display_data"
    },
    {
     "data": {
      "text/latex": [
       "$\\displaystyle sim(B,C) = \\frac{r_{B}. r_{C}}{|r_{B}| |r_{C}|}$"
      ],
      "text/plain": [
       "Eq(sim(B,C), r_{B}. r_{C}/|r_{B}| |r_{C}|)"
      ]
     },
     "metadata": {},
     "output_type": "display_data"
    },
    {
     "data": {
      "text/latex": [
       "$\\displaystyle sim(B,C) = 0.0$"
      ],
      "text/plain": [
       "Eq(sim(B,C), 0.0)"
      ]
     },
     "metadata": {},
     "output_type": "display_data"
    },
    {
     "name": "stdout",
     "output_type": "stream",
     "text": [
      "\n",
      "---------------------------------------------\n",
      "\n"
     ]
    },
    {
     "data": {
      "text/latex": [
       "$\\displaystyle sim(B,D) = cos(r_{B}, r_{D})$"
      ],
      "text/plain": [
       "Eq(sim(B,D), cos(r_{B}, r_{D}))"
      ]
     },
     "metadata": {},
     "output_type": "display_data"
    },
    {
     "data": {
      "text/latex": [
       "$\\displaystyle sim(B,D) = \\frac{r_{B}. r_{D}}{|r_{B}| |r_{D}|}$"
      ],
      "text/plain": [
       "Eq(sim(B,D), r_{B}. r_{D}/|r_{B}| |r_{D}|)"
      ]
     },
     "metadata": {},
     "output_type": "display_data"
    },
    {
     "data": {
      "text/latex": [
       "$\\displaystyle sim(B,D) = 0.44$"
      ],
      "text/plain": [
       "Eq(sim(B,D), 0.44)"
      ]
     },
     "metadata": {},
     "output_type": "display_data"
    },
    {
     "name": "stdout",
     "output_type": "stream",
     "text": [
      "\n",
      "---------------------------------------------\n",
      "\n"
     ]
    },
    {
     "data": {
      "text/latex": [
       "$\\displaystyle sim(C,D) = cos(r_{C}, r_{D})$"
      ],
      "text/plain": [
       "Eq(sim(C,D), cos(r_{C}, r_{D}))"
      ]
     },
     "metadata": {},
     "output_type": "display_data"
    },
    {
     "data": {
      "text/latex": [
       "$\\displaystyle sim(C,D) = \\frac{r_{C}. r_{D}}{|r_{C}| |r_{D}|}$"
      ],
      "text/plain": [
       "Eq(sim(C,D), r_{C}. r_{D}/|r_{C}| |r_{D}|)"
      ]
     },
     "metadata": {},
     "output_type": "display_data"
    },
    {
     "data": {
      "text/latex": [
       "$\\displaystyle sim(C,D) = 0.0$"
      ],
      "text/plain": [
       "Eq(sim(C,D), 0.0)"
      ]
     },
     "metadata": {},
     "output_type": "display_data"
    },
    {
     "name": "stdout",
     "output_type": "stream",
     "text": [
      "\n",
      "---------------------------------------------\n",
      "\n"
     ]
    }
   ],
   "source": [
    "CollaborativeFiltering(items=items, data=data, users=users).calculate_cosine_similarity()"
   ]
  },
  {
   "cell_type": "code",
   "execution_count": 133,
   "id": "7048b6bd",
   "metadata": {},
   "outputs": [
    {
     "name": "stdout",
     "output_type": "stream",
     "text": [
      "Calculating Cosine Similarity\n",
      "\n",
      " CF matrix\n"
     ]
    },
    {
     "data": {
      "text/html": [
       "<div>\n",
       "<style scoped>\n",
       "    .dataframe tbody tr th:only-of-type {\n",
       "        vertical-align: middle;\n",
       "    }\n",
       "\n",
       "    .dataframe tbody tr th {\n",
       "        vertical-align: top;\n",
       "    }\n",
       "\n",
       "    .dataframe thead th {\n",
       "        text-align: right;\n",
       "    }\n",
       "</style>\n",
       "<table border=\"1\" class=\"dataframe\">\n",
       "  <thead>\n",
       "    <tr style=\"text-align: right;\">\n",
       "      <th></th>\n",
       "      <th>HP1</th>\n",
       "      <th>HP2</th>\n",
       "      <th>HP3</th>\n",
       "      <th>TW</th>\n",
       "      <th>SW1</th>\n",
       "      <th>SW2</th>\n",
       "      <th>SW3</th>\n",
       "    </tr>\n",
       "  </thead>\n",
       "  <tbody>\n",
       "    <tr>\n",
       "      <th>A</th>\n",
       "      <td>4</td>\n",
       "      <td>0</td>\n",
       "      <td>0</td>\n",
       "      <td>5</td>\n",
       "      <td>1</td>\n",
       "      <td>0</td>\n",
       "      <td>0</td>\n",
       "    </tr>\n",
       "    <tr>\n",
       "      <th>B</th>\n",
       "      <td>5</td>\n",
       "      <td>5</td>\n",
       "      <td>4</td>\n",
       "      <td>0</td>\n",
       "      <td>0</td>\n",
       "      <td>0</td>\n",
       "      <td>0</td>\n",
       "    </tr>\n",
       "    <tr>\n",
       "      <th>C</th>\n",
       "      <td>0</td>\n",
       "      <td>0</td>\n",
       "      <td>0</td>\n",
       "      <td>2</td>\n",
       "      <td>4</td>\n",
       "      <td>5</td>\n",
       "      <td>0</td>\n",
       "    </tr>\n",
       "    <tr>\n",
       "      <th>D</th>\n",
       "      <td>0</td>\n",
       "      <td>3</td>\n",
       "      <td>0</td>\n",
       "      <td>0</td>\n",
       "      <td>0</td>\n",
       "      <td>0</td>\n",
       "      <td>3</td>\n",
       "    </tr>\n",
       "  </tbody>\n",
       "</table>\n",
       "</div>"
      ],
      "text/plain": [
       "   HP1  HP2  HP3  TW  SW1  SW2  SW3\n",
       "A    4    0    0   5    1    0    0\n",
       "B    5    5    4   0    0    0    0\n",
       "C    0    0    0   2    4    5    0\n",
       "D    0    3    0   0    0    0    3"
      ]
     },
     "metadata": {},
     "output_type": "display_data"
    },
    {
     "name": "stdout",
     "output_type": "stream",
     "text": [
      "\n",
      " CF matrix normalized by mean\n"
     ]
    },
    {
     "data": {
      "text/html": [
       "<div>\n",
       "<style scoped>\n",
       "    .dataframe tbody tr th:only-of-type {\n",
       "        vertical-align: middle;\n",
       "    }\n",
       "\n",
       "    .dataframe tbody tr th {\n",
       "        vertical-align: top;\n",
       "    }\n",
       "\n",
       "    .dataframe thead th {\n",
       "        text-align: right;\n",
       "    }\n",
       "</style>\n",
       "<table border=\"1\" class=\"dataframe\">\n",
       "  <thead>\n",
       "    <tr style=\"text-align: right;\">\n",
       "      <th></th>\n",
       "      <th>HP1</th>\n",
       "      <th>HP2</th>\n",
       "      <th>HP3</th>\n",
       "      <th>TW</th>\n",
       "      <th>SW1</th>\n",
       "      <th>SW2</th>\n",
       "      <th>SW3</th>\n",
       "    </tr>\n",
       "  </thead>\n",
       "  <tbody>\n",
       "    <tr>\n",
       "      <th>A</th>\n",
       "      <td>0.67</td>\n",
       "      <td>0.00</td>\n",
       "      <td>0.00</td>\n",
       "      <td>1.67</td>\n",
       "      <td>-2.33</td>\n",
       "      <td>0.00</td>\n",
       "      <td>0.0</td>\n",
       "    </tr>\n",
       "    <tr>\n",
       "      <th>B</th>\n",
       "      <td>0.33</td>\n",
       "      <td>0.33</td>\n",
       "      <td>-0.67</td>\n",
       "      <td>0.00</td>\n",
       "      <td>0.00</td>\n",
       "      <td>0.00</td>\n",
       "      <td>0.0</td>\n",
       "    </tr>\n",
       "    <tr>\n",
       "      <th>C</th>\n",
       "      <td>0.00</td>\n",
       "      <td>0.00</td>\n",
       "      <td>0.00</td>\n",
       "      <td>-1.67</td>\n",
       "      <td>0.33</td>\n",
       "      <td>1.33</td>\n",
       "      <td>0.0</td>\n",
       "    </tr>\n",
       "    <tr>\n",
       "      <th>D</th>\n",
       "      <td>0.00</td>\n",
       "      <td>0.00</td>\n",
       "      <td>0.00</td>\n",
       "      <td>0.00</td>\n",
       "      <td>0.00</td>\n",
       "      <td>0.00</td>\n",
       "      <td>0.0</td>\n",
       "    </tr>\n",
       "  </tbody>\n",
       "</table>\n",
       "</div>"
      ],
      "text/plain": [
       "    HP1   HP2   HP3    TW   SW1   SW2  SW3\n",
       "A  0.67  0.00  0.00  1.67 -2.33  0.00  0.0\n",
       "B  0.33  0.33 -0.67  0.00  0.00  0.00  0.0\n",
       "C  0.00  0.00  0.00 -1.67  0.33  1.33  0.0\n",
       "D  0.00  0.00  0.00  0.00  0.00  0.00  0.0"
      ]
     },
     "metadata": {},
     "output_type": "display_data"
    },
    {
     "data": {
      "text/latex": [
       "$\\displaystyle sim(A,B) = cos(r_{A}, r_{B})$"
      ],
      "text/plain": [
       "Eq(sim(A,B), cos(r_{A}, r_{B}))"
      ]
     },
     "metadata": {},
     "output_type": "display_data"
    },
    {
     "data": {
      "text/latex": [
       "$\\displaystyle sim(A,B) = \\frac{r_{A}. r_{B}}{|r_{A}| |r_{B}|}$"
      ],
      "text/plain": [
       "Eq(sim(A,B), r_{A}. r_{B}/|r_{A}| |r_{B}|)"
      ]
     },
     "metadata": {},
     "output_type": "display_data"
    },
    {
     "data": {
      "text/latex": [
       "$\\displaystyle sim(A,B) = 0.09$"
      ],
      "text/plain": [
       "sim(A,B) = 0.09"
      ]
     },
     "metadata": {},
     "output_type": "display_data"
    },
    {
     "name": "stdout",
     "output_type": "stream",
     "text": [
      "\n",
      "---------------------------------------------\n",
      "\n"
     ]
    },
    {
     "data": {
      "text/latex": [
       "$\\displaystyle sim(A,C) = cos(r_{A}, r_{C})$"
      ],
      "text/plain": [
       "Eq(sim(A,C), cos(r_{A}, r_{C}))"
      ]
     },
     "metadata": {},
     "output_type": "display_data"
    },
    {
     "data": {
      "text/latex": [
       "$\\displaystyle sim(A,C) = \\frac{r_{A}. r_{C}}{|r_{A}| |r_{C}|}$"
      ],
      "text/plain": [
       "Eq(sim(A,C), r_{A}. r_{C}/|r_{A}| |r_{C}|)"
      ]
     },
     "metadata": {},
     "output_type": "display_data"
    },
    {
     "data": {
      "text/latex": [
       "$\\displaystyle sim(A,C) = -0.56$"
      ],
      "text/plain": [
       "sim(A,C) = -0.56"
      ]
     },
     "metadata": {},
     "output_type": "display_data"
    },
    {
     "name": "stdout",
     "output_type": "stream",
     "text": [
      "\n",
      "---------------------------------------------\n",
      "\n"
     ]
    },
    {
     "data": {
      "text/latex": [
       "$\\displaystyle sim(A,D) = cos(r_{A}, r_{D})$"
      ],
      "text/plain": [
       "Eq(sim(A,D), cos(r_{A}, r_{D}))"
      ]
     },
     "metadata": {},
     "output_type": "display_data"
    },
    {
     "data": {
      "text/latex": [
       "$\\displaystyle sim(A,D) = \\frac{r_{A}. r_{D}}{|r_{A}| |r_{D}|}$"
      ],
      "text/plain": [
       "Eq(sim(A,D), r_{A}. r_{D}/|r_{A}| |r_{D}|)"
      ]
     },
     "metadata": {},
     "output_type": "display_data"
    },
    {
     "name": "stderr",
     "output_type": "stream",
     "text": [
      "C:\\Users\\sumil\\Anaconda3\\lib\\site-packages\\ipykernel_launcher.py:77: RuntimeWarning: invalid value encountered in double_scalars\n"
     ]
    },
    {
     "data": {
      "text/latex": [
       "$\\displaystyle sim(A,D) = nan$"
      ],
      "text/plain": [
       "sim(A,D) = nan"
      ]
     },
     "metadata": {},
     "output_type": "display_data"
    },
    {
     "name": "stdout",
     "output_type": "stream",
     "text": [
      "\n",
      "---------------------------------------------\n",
      "\n"
     ]
    },
    {
     "data": {
      "text/latex": [
       "$\\displaystyle sim(B,C) = cos(r_{B}, r_{C})$"
      ],
      "text/plain": [
       "Eq(sim(B,C), cos(r_{B}, r_{C}))"
      ]
     },
     "metadata": {},
     "output_type": "display_data"
    },
    {
     "data": {
      "text/latex": [
       "$\\displaystyle sim(B,C) = \\frac{r_{B}. r_{C}}{|r_{B}| |r_{C}|}$"
      ],
      "text/plain": [
       "Eq(sim(B,C), r_{B}. r_{C}/|r_{B}| |r_{C}|)"
      ]
     },
     "metadata": {},
     "output_type": "display_data"
    },
    {
     "data": {
      "text/latex": [
       "$\\displaystyle sim(B,C) = 0.0$"
      ],
      "text/plain": [
       "sim(B,C) = 0.0"
      ]
     },
     "metadata": {},
     "output_type": "display_data"
    },
    {
     "name": "stdout",
     "output_type": "stream",
     "text": [
      "\n",
      "---------------------------------------------\n",
      "\n"
     ]
    },
    {
     "data": {
      "text/latex": [
       "$\\displaystyle sim(B,D) = cos(r_{B}, r_{D})$"
      ],
      "text/plain": [
       "Eq(sim(B,D), cos(r_{B}, r_{D}))"
      ]
     },
     "metadata": {},
     "output_type": "display_data"
    },
    {
     "data": {
      "text/latex": [
       "$\\displaystyle sim(B,D) = \\frac{r_{B}. r_{D}}{|r_{B}| |r_{D}|}$"
      ],
      "text/plain": [
       "Eq(sim(B,D), r_{B}. r_{D}/|r_{B}| |r_{D}|)"
      ]
     },
     "metadata": {},
     "output_type": "display_data"
    },
    {
     "data": {
      "text/latex": [
       "$\\displaystyle sim(B,D) = nan$"
      ],
      "text/plain": [
       "sim(B,D) = nan"
      ]
     },
     "metadata": {},
     "output_type": "display_data"
    },
    {
     "name": "stdout",
     "output_type": "stream",
     "text": [
      "\n",
      "---------------------------------------------\n",
      "\n"
     ]
    },
    {
     "data": {
      "text/latex": [
       "$\\displaystyle sim(C,D) = cos(r_{C}, r_{D})$"
      ],
      "text/plain": [
       "Eq(sim(C,D), cos(r_{C}, r_{D}))"
      ]
     },
     "metadata": {},
     "output_type": "display_data"
    },
    {
     "data": {
      "text/latex": [
       "$\\displaystyle sim(C,D) = \\frac{r_{C}. r_{D}}{|r_{C}| |r_{D}|}$"
      ],
      "text/plain": [
       "Eq(sim(C,D), r_{C}. r_{D}/|r_{C}| |r_{D}|)"
      ]
     },
     "metadata": {},
     "output_type": "display_data"
    },
    {
     "data": {
      "text/latex": [
       "$\\displaystyle sim(C,D) = nan$"
      ],
      "text/plain": [
       "sim(C,D) = nan"
      ]
     },
     "metadata": {},
     "output_type": "display_data"
    },
    {
     "name": "stdout",
     "output_type": "stream",
     "text": [
      "\n",
      "---------------------------------------------\n",
      "\n"
     ]
    }
   ],
   "source": [
    "CollaborativeFiltering(items=items, data=data, users=users).calculate_centered_cosine_similarity()"
   ]
  },
  {
   "cell_type": "code",
   "execution_count": null,
   "id": "fd0ee407",
   "metadata": {},
   "outputs": [],
   "source": []
  },
  {
   "cell_type": "code",
   "execution_count": null,
   "id": "0451048c",
   "metadata": {},
   "outputs": [],
   "source": []
  },
  {
   "cell_type": "code",
   "execution_count": null,
   "id": "ed790c4a",
   "metadata": {},
   "outputs": [],
   "source": []
  }
 ],
 "metadata": {
  "kernelspec": {
   "display_name": "Python 3 (ipykernel)",
   "language": "python",
   "name": "python3"
  },
  "language_info": {
   "codemirror_mode": {
    "name": "ipython",
    "version": 3
   },
   "file_extension": ".py",
   "mimetype": "text/x-python",
   "name": "python",
   "nbconvert_exporter": "python",
   "pygments_lexer": "ipython3",
   "version": "3.7.6"
  }
 },
 "nbformat": 4,
 "nbformat_minor": 5
}
