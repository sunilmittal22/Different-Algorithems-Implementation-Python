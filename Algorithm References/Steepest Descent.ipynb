{
 "cells": [
  {
   "cell_type": "code",
   "execution_count": 8,
   "id": "fb715c06",
   "metadata": {},
   "outputs": [],
   "source": [
    "from sympy import *\n",
    "from sympy.parsing.sympy_parser import parse_expr\n",
    "from sympy.printing.latex import LatexPrinter\n",
    "from sympy.solvers.solveset import linsolve\n",
    "from sympy.solvers import solve_poly_system\n",
    "from IPython.display import display, Latex\n",
    "import numpy as np"
   ]
  },
  {
   "cell_type": "code",
   "execution_count": 9,
   "id": "3ef23357",
   "metadata": {},
   "outputs": [
    {
     "data": {
      "application/javascript": [
       "IPython.OutputArea.prototype._should_scroll = function(lines) {\n",
       "    return false;\n",
       "}\n"
      ],
      "text/plain": [
       "<IPython.core.display.Javascript object>"
      ]
     },
     "metadata": {},
     "output_type": "display_data"
    }
   ],
   "source": [
    "%%javascript\n",
    "IPython.OutputArea.prototype._should_scroll = function(lines) {\n",
    "    return false;\n",
    "}"
   ]
  },
  {
   "cell_type": "code",
   "execution_count": 12,
   "id": "d4785e06",
   "metadata": {},
   "outputs": [],
   "source": [
    "def steepest_descent(str_expr, str_symbols, x_init, tau = None, n_iter=10, rounding_digit=4):\n",
    "    sym = symbols(str_symbols)\n",
    "    f = Function('f')(*sym)\n",
    "    \n",
    "    expr = parse_expr(str_expr)\n",
    "    print('The function is')\n",
    "    display(Eq(f,expr))\n",
    "    grad = MatrixSymbol('\\u2207f',len(sym),1)\n",
    "    print('\\nStep-1: Finding gradient and hessian Matrix of the function')\n",
    "    display(Eq(grad, Matrix([Derivative(f,x) for x in sym])))\n",
    "    display(Eq(grad, Matrix([Derivative(expr,x) for x in sym])))\n",
    "    grad_m = Matrix([diff(expr,x) for x in sym])\n",
    "    display(Eq(grad, grad_m))\n",
    "    \n",
    "    print('\\nCreating the Hessian Matrix')\n",
    "    hess = MatrixSymbol('Hf',len(sym),len(sym))\n",
    "    hess_m_f = zeros(len(sym))\n",
    "    hess_m_expr = zeros(len(sym))\n",
    "    hess_m = zeros(len(sym))\n",
    "    for i,x in enumerate(sym):\n",
    "        for j,y in enumerate(sym):\n",
    "            hess_m_f[i,j] = Derivative(Derivative(f,y),x)\n",
    "            hess_m_expr[i,j] = Derivative(Derivative(expr,y),x)\n",
    "            hess_m[i,j] = diff(diff(expr,y),x)\n",
    "    display(Eq(hess,hess_m_f))  \n",
    "    display(Eq(hess,hess_m_expr)) \n",
    "    display(Eq(hess,hess_m))\n",
    "    print('\\nStep-2: Computing the step size \\u03C4\\n')\n",
    "    #display(hess_m.subs(sym[1], Symbol('y_i')))\n",
    "   \n",
    "    sym_list = str_symbols.split()#[x.strip() for x in  list(''.join(str_symbols)) if x !=' ']\n",
    "    grad_m_i = grad_m.subs([(s,Symbol(f'{t}_i')) for s,t in zip(sym,sym_list)])\n",
    "    hess_m_i = hess_m.subs([(s,Symbol(f'{t}_i')) for s,t in zip(sym,sym_list)])\n",
    "    tau_sym = Symbol('\\u03C4_i')\n",
    "    grad_i = Symbol('\\u2207f_i')\n",
    "    grad_i_T = Symbol('\\u2207f_i^T')\n",
    "    hess_i = Symbol('Hf_i')\n",
    "    \n",
    "    if not tau:\n",
    "        tau_f = Mul(Mul(grad_i_T,grad_i), Pow(Mul(Mul(grad_i_T,hess_i),grad_i), Integer(-1)), evaluate=False)\n",
    "\n",
    "    #     Mul(Mul(Mul(Mul(Transpose(grad_i),grad_i),Pow(Transpose(grad_i),Integer(-1))),Pow(hess_i, Integer(-1))),\n",
    "    #                 Pow(grad_i, Integer(-1)))\n",
    "\n",
    "        #display(Eq(tau,tau_f))\n",
    "        print('\\u03C4\\u1D62 = \\u2207f\\u1D62\\u1D40*\\u2207f\\u1D62/\\u2207f\\u1D62\\u1D40*Hf\\u1D62*\\u2207f\\u1D62\\n')\n",
    "        tau_expr = MatMul(MatMul(Transpose(grad_m_i),grad_m_i), Pow(MatMul(MatMul(Transpose(grad_m_i),hess_m_i, evaluate=False)\n",
    "                                                                  ,grad_m_i, evaluate=False)\n",
    "                                                              , Integer(-1)), evaluate=False)\n",
    "        display(tau_expr)\n",
    "        num = (Transpose(grad_m_i)*grad_m_i)[0]\n",
    "        den = (Transpose(grad_m_i)*hess_m_i*grad_m_i)[0]\n",
    "        tau_expr = num/den\n",
    "    else:\n",
    "        tau_expr = tau\n",
    "        \n",
    "    display(Eq(tau_sym,tau_expr))\n",
    "    \n",
    "    print('\\nStep-3: Iterate the minimum point')\n",
    "    display(Eq(Symbol('x_i_+_1'), Symbol('x_i') - tau_sym*grad_i))\n",
    "    sym_i = [Symbol(f'{t}_i') for t in sym_list]\n",
    "    sym_i_plus = [Symbol(f'{t}_i_+_1') for t in sym_list]\n",
    "    display(Eq(Matrix(sym_i_plus), MatAdd(Matrix(sym_i), - MatMul(tau_sym,grad_m_i), evaluate=False)))\n",
    "    display(Eq(Matrix(sym_i_plus), MatAdd(Matrix(sym_i), - MatMul(tau_expr,grad_m_i))))\n",
    "    \n",
    "    x_old = x_init\n",
    "    display(Eq(Matrix([Symbol(f'{t}_0') for t in sym_list]), Matrix(x_old)))\n",
    "    for i in range(n_iter):\n",
    "        print(f'\\nIteration - {i+1}:\\n')\n",
    "        sym_old = [Symbol(f'{t}_{i}') for t in sym_list]\n",
    "        sym_new = [Symbol(f'{t}_{i+1}') for t in sym_list]\n",
    "        display(Eq(Symbol(f'tau_{i}'),  tau_expr if isinstance(tau_expr, float) else \n",
    "                   tau_expr.subs([(s,t) for s,t in zip(sym_i, sym_old)])))\n",
    "                \n",
    "        display(Eq(Symbol(f'tau_{i}'),  tau_expr if isinstance(tau_expr, float) else\n",
    "                   tau_expr.subs([(s,t) for s,t in zip(sym_i, x_old)])))\n",
    "                \n",
    "        display(Eq(Matrix(sym_new), MatAdd(Matrix(sym_old), - MatMul(tau_expr if isinstance(tau_expr, float) else\n",
    "                                                    tau_expr.subs([(s,t) for s,t in zip(sym_i, sym_old)])\n",
    "                                                                     ,grad_m_i.subs([(s,t) for s,t in zip(sym_i, sym_old)])))))\n",
    "        display(Eq(Matrix(sym_new), MatAdd(Matrix(x_old), - MatMul(tau_expr if isinstance(tau_expr, float) else\n",
    "                                                                tau_expr.subs([(s,t) for s,t in zip(sym_i, x_old)])\n",
    "                                                                     ,grad_m_i.subs([(s,t) for s,t in zip(sym_i, x_old)]),\n",
    "                                                                  evaluate=False))))\n",
    "        x_new = Add(Matrix(x_old), - MatMul(tau_expr if isinstance(tau_expr, float) else\n",
    "                                            tau_expr.subs([(s,t) for s,t in zip(sym_i, x_old)])\n",
    "                                                                     ,grad_m_i.subs([(s,t) for s,t in zip(sym_i, x_old)]),\n",
    "                                                                  evaluate=False))\n",
    "        x_new = [N(element, rounding_digit) for element in x_new]\n",
    "        if i ==0:\n",
    "            display(Eq(Matrix(sym_new), Add(Matrix(x_old), - MatMul(tau_expr if isinstance(tau_expr, float) else\n",
    "                                                                    tau_expr.subs([(s,t) for s,t in zip(sym_i, x_old)])\n",
    "                                                                         ,grad_m_i.subs([(s,t) for s,t in zip(sym_i, x_old)]),\n",
    "                                                                      evaluate=False))))\n",
    "        display(Eq(Matrix(sym_new), Matrix(x_new)))\n",
    "        \n",
    "        display(Eq(f.subs([(s,t) for s,t in zip(sym, sym_new)]), expr.subs([(s,t) for s,t in zip(sym, sym_new)])))\n",
    "        \n",
    "        display(Eq(f.subs([(s,t) for s,t in zip(sym, x_new)]), expr.subs([(s,t) for s,t in zip(sym, x_new)])))\n",
    "        \n",
    "        x_old = x_new\n",
    "        \n",
    "        #display(Eq(Matrix(sym_i_plus), MatAdd(Matrix(sym_i), - MatMul(tau_expr,grad_m_i))))"
   ]
  },
  {
   "cell_type": "code",
   "execution_count": 6,
   "id": "5242523d",
   "metadata": {},
   "outputs": [
    {
     "name": "stdout",
     "output_type": "stream",
     "text": [
      "The function is\n"
     ]
    },
    {
     "data": {
      "text/latex": [
       "$\\displaystyle f{\\left(x,y,z \\right)} = x^{2} - 2 y^{2} + 4 z^{2}$"
      ],
      "text/plain": [
       "Eq(f(x, y, z), x**2 - 2*y**2 + 4*z**2)"
      ]
     },
     "metadata": {},
     "output_type": "display_data"
    },
    {
     "name": "stdout",
     "output_type": "stream",
     "text": [
      "\n",
      "Step-1: Finding gradient and hessian Matrix of the function\n"
     ]
    },
    {
     "data": {
      "text/latex": [
       "$\\displaystyle ∇f = \\left[\\begin{matrix}\\frac{\\partial}{\\partial x} f{\\left(x,y,z \\right)}\\\\\\frac{\\partial}{\\partial y} f{\\left(x,y,z \\right)}\\\\\\frac{\\partial}{\\partial z} f{\\left(x,y,z \\right)}\\end{matrix}\\right]$"
      ],
      "text/plain": [
       "Eq(∇f, Matrix([\n",
       "[Derivative(f(x, y, z), x)],\n",
       "[Derivative(f(x, y, z), y)],\n",
       "[Derivative(f(x, y, z), z)]]))"
      ]
     },
     "metadata": {},
     "output_type": "display_data"
    },
    {
     "data": {
      "text/latex": [
       "$\\displaystyle ∇f = \\left[\\begin{matrix}\\frac{\\partial}{\\partial x} \\left(x^{2} - 2 y^{2} + 4 z^{2}\\right)\\\\\\frac{\\partial}{\\partial y} \\left(x^{2} - 2 y^{2} + 4 z^{2}\\right)\\\\\\frac{\\partial}{\\partial z} \\left(x^{2} - 2 y^{2} + 4 z^{2}\\right)\\end{matrix}\\right]$"
      ],
      "text/plain": [
       "Eq(∇f, Matrix([\n",
       "[Derivative(x**2 - 2*y**2 + 4*z**2, x)],\n",
       "[Derivative(x**2 - 2*y**2 + 4*z**2, y)],\n",
       "[Derivative(x**2 - 2*y**2 + 4*z**2, z)]]))"
      ]
     },
     "metadata": {},
     "output_type": "display_data"
    },
    {
     "data": {
      "text/latex": [
       "$\\displaystyle ∇f = \\left[\\begin{matrix}2 x\\\\- 4 y\\\\8 z\\end{matrix}\\right]$"
      ],
      "text/plain": [
       "Eq(∇f, Matrix([\n",
       "[ 2*x],\n",
       "[-4*y],\n",
       "[ 8*z]]))"
      ]
     },
     "metadata": {},
     "output_type": "display_data"
    },
    {
     "name": "stdout",
     "output_type": "stream",
     "text": [
      "\n",
      "Creating the Hessian Matrix\n"
     ]
    },
    {
     "data": {
      "text/latex": [
       "$\\displaystyle Hf = \\left[\\begin{matrix}\\frac{\\partial^{2}}{\\partial x^{2}} f{\\left(x,y,z \\right)} & \\frac{\\partial^{2}}{\\partial x\\partial y} f{\\left(x,y,z \\right)} & \\frac{\\partial^{2}}{\\partial x\\partial z} f{\\left(x,y,z \\right)}\\\\\\frac{\\partial^{2}}{\\partial y\\partial x} f{\\left(x,y,z \\right)} & \\frac{\\partial^{2}}{\\partial y^{2}} f{\\left(x,y,z \\right)} & \\frac{\\partial^{2}}{\\partial y\\partial z} f{\\left(x,y,z \\right)}\\\\\\frac{\\partial^{2}}{\\partial z\\partial x} f{\\left(x,y,z \\right)} & \\frac{\\partial^{2}}{\\partial z\\partial y} f{\\left(x,y,z \\right)} & \\frac{\\partial^{2}}{\\partial z^{2}} f{\\left(x,y,z \\right)}\\end{matrix}\\right]$"
      ],
      "text/plain": [
       "Eq(Hf, Matrix([\n",
       "[Derivative(f(x, y, z), (x, 2)),   Derivative(f(x, y, z), y, x),   Derivative(f(x, y, z), z, x)],\n",
       "[  Derivative(f(x, y, z), x, y), Derivative(f(x, y, z), (y, 2)),   Derivative(f(x, y, z), z, y)],\n",
       "[  Derivative(f(x, y, z), x, z),   Derivative(f(x, y, z), y, z), Derivative(f(x, y, z), (z, 2))]]))"
      ]
     },
     "metadata": {},
     "output_type": "display_data"
    },
    {
     "data": {
      "text/latex": [
       "$\\displaystyle Hf = \\left[\\begin{matrix}\\frac{\\partial^{2}}{\\partial x^{2}} \\left(x^{2} - 2 y^{2} + 4 z^{2}\\right) & \\frac{\\partial^{2}}{\\partial x\\partial y} \\left(x^{2} - 2 y^{2} + 4 z^{2}\\right) & \\frac{\\partial^{2}}{\\partial x\\partial z} \\left(x^{2} - 2 y^{2} + 4 z^{2}\\right)\\\\\\frac{\\partial^{2}}{\\partial y\\partial x} \\left(x^{2} - 2 y^{2} + 4 z^{2}\\right) & \\frac{\\partial^{2}}{\\partial y^{2}} \\left(x^{2} - 2 y^{2} + 4 z^{2}\\right) & \\frac{\\partial^{2}}{\\partial y\\partial z} \\left(x^{2} - 2 y^{2} + 4 z^{2}\\right)\\\\\\frac{\\partial^{2}}{\\partial z\\partial x} \\left(x^{2} - 2 y^{2} + 4 z^{2}\\right) & \\frac{\\partial^{2}}{\\partial z\\partial y} \\left(x^{2} - 2 y^{2} + 4 z^{2}\\right) & \\frac{\\partial^{2}}{\\partial z^{2}} \\left(x^{2} - 2 y^{2} + 4 z^{2}\\right)\\end{matrix}\\right]$"
      ],
      "text/plain": [
       "Eq(Hf, Matrix([\n",
       "[Derivative(x**2 - 2*y**2 + 4*z**2, (x, 2)),   Derivative(x**2 - 2*y**2 + 4*z**2, y, x),   Derivative(x**2 - 2*y**2 + 4*z**2, z, x)],\n",
       "[  Derivative(x**2 - 2*y**2 + 4*z**2, x, y), Derivative(x**2 - 2*y**2 + 4*z**2, (y, 2)),   Derivative(x**2 - 2*y**2 + 4*z**2, z, y)],\n",
       "[  Derivative(x**2 - 2*y**2 + 4*z**2, x, z),   Derivative(x**2 - 2*y**2 + 4*z**2, y, z), Derivative(x**2 - 2*y**2 + 4*z**2, (z, 2))]]))"
      ]
     },
     "metadata": {},
     "output_type": "display_data"
    },
    {
     "data": {
      "text/latex": [
       "$\\displaystyle Hf = \\left[\\begin{matrix}2 & 0 & 0\\\\0 & -4 & 0\\\\0 & 0 & 8\\end{matrix}\\right]$"
      ],
      "text/plain": [
       "Eq(Hf, Matrix([\n",
       "[2,  0, 0],\n",
       "[0, -4, 0],\n",
       "[0,  0, 8]]))"
      ]
     },
     "metadata": {},
     "output_type": "display_data"
    },
    {
     "name": "stdout",
     "output_type": "stream",
     "text": [
      "\n",
      "Step-2: Computing the step size τ\n",
      "\n",
      "τᵢ = ∇fᵢᵀ*∇fᵢ/∇fᵢᵀ*Hfᵢ*∇fᵢ\n",
      "\n"
     ]
    },
    {
     "data": {
      "text/latex": [
       "$\\displaystyle \\left(\\left[\\begin{matrix}2 x_{i}\\\\- 4 y_{i}\\\\8 z_{i}\\end{matrix}\\right]\\right)^{T} \\left[\\begin{matrix}2 x_{i}\\\\- 4 y_{i}\\\\8 z_{i}\\end{matrix}\\right] \\left(\\left(\\left[\\begin{matrix}2 x_{i}\\\\- 4 y_{i}\\\\8 z_{i}\\end{matrix}\\right]\\right)^{T} \\left[\\begin{matrix}2 & 0 & 0\\\\0 & -4 & 0\\\\0 & 0 & 8\\end{matrix}\\right] \\left[\\begin{matrix}2 x_{i}\\\\- 4 y_{i}\\\\8 z_{i}\\end{matrix}\\right]\\right)^{-1}$"
      ],
      "text/plain": [
       "(Matrix([\n",
       "[ 2*x_i],\n",
       "[-4*y_i],\n",
       "[ 8*z_i]]).T*Matrix([\n",
       "[ 2*x_i],\n",
       "[-4*y_i],\n",
       "[ 8*z_i]]))*((Matrix([\n",
       "[ 2*x_i],\n",
       "[-4*y_i],\n",
       "[ 8*z_i]]).T*Matrix([\n",
       "[2,  0, 0],\n",
       "[0, -4, 0],\n",
       "[0,  0, 8]]))*Matrix([\n",
       "[ 2*x_i],\n",
       "[-4*y_i],\n",
       "[ 8*z_i]]))**(-1)"
      ]
     },
     "metadata": {},
     "output_type": "display_data"
    },
    {
     "data": {
      "text/latex": [
       "$\\displaystyle τ_{i} = \\frac{4 x_{i}^{2} + 16 y_{i}^{2} + 64 z_{i}^{2}}{8 x_{i}^{2} - 64 y_{i}^{2} + 512 z_{i}^{2}}$"
      ],
      "text/plain": [
       "Eq(τ_i, (4*x_i**2 + 16*y_i**2 + 64*z_i**2)/(8*x_i**2 - 64*y_i**2 + 512*z_i**2))"
      ]
     },
     "metadata": {},
     "output_type": "display_data"
    },
    {
     "name": "stdout",
     "output_type": "stream",
     "text": [
      "\n",
      "Step-3: Iterate the minimum point\n"
     ]
    },
    {
     "data": {
      "text/latex": [
       "$\\displaystyle x_{i + 1} = x_{i} - τ_{i} ∇f_{i}$"
      ],
      "text/plain": [
       "Eq(x_i_+_1, x_i - τ_i*∇f_i)"
      ]
     },
     "metadata": {},
     "output_type": "display_data"
    },
    {
     "data": {
      "text/latex": [
       "$\\displaystyle \\left[\\begin{matrix}x_{i + 1}\\\\y_{i + 1}\\\\z_{i + 1}\\end{matrix}\\right] = - τ_{i} \\left[\\begin{matrix}2 x_{i}\\\\- 4 y_{i}\\\\8 z_{i}\\end{matrix}\\right] + \\left[\\begin{matrix}x_{i}\\\\y_{i}\\\\z_{i}\\end{matrix}\\right]$"
      ],
      "text/plain": [
       "Eq(Matrix([\n",
       "[x_i_+_1],\n",
       "[y_i_+_1],\n",
       "[z_i_+_1]]), (-τ_i)*Matrix([\n",
       "[ 2*x_i],\n",
       "[-4*y_i],\n",
       "[ 8*z_i]]) + Matrix([\n",
       "[x_i],\n",
       "[y_i],\n",
       "[z_i]]))"
      ]
     },
     "metadata": {},
     "output_type": "display_data"
    },
    {
     "data": {
      "text/latex": [
       "$\\displaystyle \\left[\\begin{matrix}x_{i + 1}\\\\y_{i + 1}\\\\z_{i + 1}\\end{matrix}\\right] = - \\left(4 x_{i}^{2} + 16 y_{i}^{2} + 64 z_{i}^{2}\\right) \\frac{1}{8 x_{i}^{2} - 64 y_{i}^{2} + 512 z_{i}^{2}} \\left[\\begin{matrix}2 x_{i}\\\\- 4 y_{i}\\\\8 z_{i}\\end{matrix}\\right] + \\left[\\begin{matrix}x_{i}\\\\y_{i}\\\\z_{i}\\end{matrix}\\right]$"
      ],
      "text/plain": [
       "Eq(Matrix([\n",
       "[x_i_+_1],\n",
       "[y_i_+_1],\n",
       "[z_i_+_1]]), (-(4*x_i**2 + 16*y_i**2 + 64*z_i**2)/(8*x_i**2 - 64*y_i**2 + 512*z_i**2))*Matrix([\n",
       "[ 2*x_i],\n",
       "[-4*y_i],\n",
       "[ 8*z_i]]) + Matrix([\n",
       "[x_i],\n",
       "[y_i],\n",
       "[z_i]]))"
      ]
     },
     "metadata": {},
     "output_type": "display_data"
    },
    {
     "data": {
      "text/latex": [
       "$\\displaystyle \\left[\\begin{matrix}x_{0}\\\\y_{0}\\\\z_{0}\\end{matrix}\\right] = \\left[\\begin{matrix}-1\\\\2\\\\0\\end{matrix}\\right]$"
      ],
      "text/plain": [
       "Eq(Matrix([\n",
       "[x_0],\n",
       "[y_0],\n",
       "[z_0]]), Matrix([\n",
       "[-1],\n",
       "[ 2],\n",
       "[ 0]]))"
      ]
     },
     "metadata": {},
     "output_type": "display_data"
    },
    {
     "name": "stdout",
     "output_type": "stream",
     "text": [
      "\n",
      "Iteration - 1:\n",
      "\n"
     ]
    },
    {
     "data": {
      "text/latex": [
       "$\\displaystyle \\tau_{0} = \\frac{4 x_{0}^{2} + 16 y_{0}^{2} + 64 z_{0}^{2}}{8 x_{0}^{2} - 64 y_{0}^{2} + 512 z_{0}^{2}}$"
      ],
      "text/plain": [
       "Eq(tau_0, (4*x_0**2 + 16*y_0**2 + 64*z_0**2)/(8*x_0**2 - 64*y_0**2 + 512*z_0**2))"
      ]
     },
     "metadata": {},
     "output_type": "display_data"
    },
    {
     "data": {
      "text/latex": [
       "$\\displaystyle \\tau_{0} = - \\frac{17}{62}$"
      ],
      "text/plain": [
       "Eq(tau_0, -17/62)"
      ]
     },
     "metadata": {},
     "output_type": "display_data"
    },
    {
     "data": {
      "text/latex": [
       "$\\displaystyle \\left[\\begin{matrix}x_{1}\\\\y_{1}\\\\z_{1}\\end{matrix}\\right] = - \\left(4 x_{0}^{2} + 16 y_{0}^{2} + 64 z_{0}^{2}\\right) \\frac{1}{8 x_{0}^{2} - 64 y_{0}^{2} + 512 z_{0}^{2}} \\left[\\begin{matrix}2 x_{0}\\\\- 4 y_{0}\\\\8 z_{0}\\end{matrix}\\right] + \\left[\\begin{matrix}x_{0}\\\\y_{0}\\\\z_{0}\\end{matrix}\\right]$"
      ],
      "text/plain": [
       "Eq(Matrix([\n",
       "[x_1],\n",
       "[y_1],\n",
       "[z_1]]), (-(4*x_0**2 + 16*y_0**2 + 64*z_0**2)/(8*x_0**2 - 64*y_0**2 + 512*z_0**2))*Matrix([\n",
       "[ 2*x_0],\n",
       "[-4*y_0],\n",
       "[ 8*z_0]]) + Matrix([\n",
       "[x_0],\n",
       "[y_0],\n",
       "[z_0]]))"
      ]
     },
     "metadata": {},
     "output_type": "display_data"
    },
    {
     "data": {
      "text/latex": [
       "$\\displaystyle \\left[\\begin{matrix}x_{1}\\\\y_{1}\\\\z_{1}\\end{matrix}\\right] = \\left[\\begin{matrix}-1\\\\2\\\\0\\end{matrix}\\right] + \\left[\\begin{matrix}- \\frac{17}{31}\\\\- \\frac{68}{31}\\\\0\\end{matrix}\\right]$"
      ],
      "text/plain": [
       "Eq(Matrix([\n",
       "[x_1],\n",
       "[y_1],\n",
       "[z_1]]), Matrix([\n",
       "[-1],\n",
       "[ 2],\n",
       "[ 0]]) + Matrix([\n",
       "[-17/31],\n",
       "[-68/31],\n",
       "[     0]]))"
      ]
     },
     "metadata": {},
     "output_type": "display_data"
    },
    {
     "data": {
      "text/latex": [
       "$\\displaystyle \\left[\\begin{matrix}x_{1}\\\\y_{1}\\\\z_{1}\\end{matrix}\\right] = \\left[\\begin{matrix}- \\frac{48}{31}\\\\- \\frac{6}{31}\\\\0\\end{matrix}\\right]$"
      ],
      "text/plain": [
       "Eq(Matrix([\n",
       "[x_1],\n",
       "[y_1],\n",
       "[z_1]]), Matrix([\n",
       "[-48/31],\n",
       "[ -6/31],\n",
       "[     0]]))"
      ]
     },
     "metadata": {},
     "output_type": "display_data"
    },
    {
     "data": {
      "text/latex": [
       "$\\displaystyle \\left[\\begin{matrix}x_{1}\\\\y_{1}\\\\z_{1}\\end{matrix}\\right] = \\left[\\begin{matrix}-1.548\\\\-0.1935\\\\0\\end{matrix}\\right]$"
      ],
      "text/plain": [
       "Eq(Matrix([\n",
       "[x_1],\n",
       "[y_1],\n",
       "[z_1]]), Matrix([\n",
       "[ -1.548],\n",
       "[-0.1935],\n",
       "[      0]]))"
      ]
     },
     "metadata": {},
     "output_type": "display_data"
    },
    {
     "data": {
      "text/latex": [
       "$\\displaystyle f{\\left(x_{1},y_{1},z_{1} \\right)} = x_{1}^{2} - 2 y_{1}^{2} + 4 z_{1}^{2}$"
      ],
      "text/plain": [
       "Eq(f(x_1, y_1, z_1), x_1**2 - 2*y_1**2 + 4*z_1**2)"
      ]
     },
     "metadata": {},
     "output_type": "display_data"
    },
    {
     "data": {
      "text/latex": [
       "$\\displaystyle f{\\left(-1.548,-0.1935,0 \\right)} = 2.323$"
      ],
      "text/plain": [
       "Eq(f(-1.548, -0.1935, 0), 2.323)"
      ]
     },
     "metadata": {},
     "output_type": "display_data"
    },
    {
     "name": "stdout",
     "output_type": "stream",
     "text": [
      "\n",
      "Iteration - 2:\n",
      "\n"
     ]
    },
    {
     "data": {
      "text/latex": [
       "$\\displaystyle \\tau_{1} = \\frac{4 x_{1}^{2} + 16 y_{1}^{2} + 64 z_{1}^{2}}{8 x_{1}^{2} - 64 y_{1}^{2} + 512 z_{1}^{2}}$"
      ],
      "text/plain": [
       "Eq(tau_1, (4*x_1**2 + 16*y_1**2 + 64*z_1**2)/(8*x_1**2 - 64*y_1**2 + 512*z_1**2))"
      ]
     },
     "metadata": {},
     "output_type": "display_data"
    },
    {
     "data": {
      "text/latex": [
       "$\\displaystyle \\tau_{1} = 0.6071$"
      ],
      "text/plain": [
       "Eq(tau_1, 0.6071)"
      ]
     },
     "metadata": {},
     "output_type": "display_data"
    },
    {
     "data": {
      "text/latex": [
       "$\\displaystyle \\left[\\begin{matrix}x_{2}\\\\y_{2}\\\\z_{2}\\end{matrix}\\right] = - \\left(4 x_{1}^{2} + 16 y_{1}^{2} + 64 z_{1}^{2}\\right) \\frac{1}{8 x_{1}^{2} - 64 y_{1}^{2} + 512 z_{1}^{2}} \\left[\\begin{matrix}2 x_{1}\\\\- 4 y_{1}\\\\8 z_{1}\\end{matrix}\\right] + \\left[\\begin{matrix}x_{1}\\\\y_{1}\\\\z_{1}\\end{matrix}\\right]$"
      ],
      "text/plain": [
       "Eq(Matrix([\n",
       "[x_2],\n",
       "[y_2],\n",
       "[z_2]]), (-(4*x_1**2 + 16*y_1**2 + 64*z_1**2)/(8*x_1**2 - 64*y_1**2 + 512*z_1**2))*Matrix([\n",
       "[ 2*x_1],\n",
       "[-4*y_1],\n",
       "[ 8*z_1]]) + Matrix([\n",
       "[x_1],\n",
       "[y_1],\n",
       "[z_1]]))"
      ]
     },
     "metadata": {},
     "output_type": "display_data"
    },
    {
     "data": {
      "text/latex": [
       "$\\displaystyle \\left[\\begin{matrix}x_{2}\\\\y_{2}\\\\z_{2}\\end{matrix}\\right] = \\left[\\begin{matrix}-1.548\\\\-0.1935\\\\0\\end{matrix}\\right] + \\left[\\begin{matrix}1.88\\\\-0.47\\\\0\\end{matrix}\\right]$"
      ],
      "text/plain": [
       "Eq(Matrix([\n",
       "[x_2],\n",
       "[y_2],\n",
       "[z_2]]), Matrix([\n",
       "[ -1.548],\n",
       "[-0.1935],\n",
       "[      0]]) + Matrix([\n",
       "[ 1.88],\n",
       "[-0.47],\n",
       "[    0]]))"
      ]
     },
     "metadata": {},
     "output_type": "display_data"
    },
    {
     "data": {
      "text/latex": [
       "$\\displaystyle \\left[\\begin{matrix}x_{2}\\\\y_{2}\\\\z_{2}\\end{matrix}\\right] = \\left[\\begin{matrix}0.3318\\\\-0.6636\\\\0\\end{matrix}\\right]$"
      ],
      "text/plain": [
       "Eq(Matrix([\n",
       "[x_2],\n",
       "[y_2],\n",
       "[z_2]]), Matrix([\n",
       "[ 0.3318],\n",
       "[-0.6636],\n",
       "[      0]]))"
      ]
     },
     "metadata": {},
     "output_type": "display_data"
    },
    {
     "data": {
      "text/latex": [
       "$\\displaystyle f{\\left(x_{2},y_{2},z_{2} \\right)} = x_{2}^{2} - 2 y_{2}^{2} + 4 z_{2}^{2}$"
      ],
      "text/plain": [
       "Eq(f(x_2, y_2, z_2), x_2**2 - 2*y_2**2 + 4*z_2**2)"
      ]
     },
     "metadata": {},
     "output_type": "display_data"
    },
    {
     "data": {
      "text/latex": [
       "$\\displaystyle f{\\left(0.3318,-0.6636,0 \\right)} = -0.7706$"
      ],
      "text/plain": [
       "Eq(f(0.3318, -0.6636, 0), -0.7706)"
      ]
     },
     "metadata": {},
     "output_type": "display_data"
    },
    {
     "name": "stdout",
     "output_type": "stream",
     "text": [
      "\n",
      "Iteration - 3:\n",
      "\n"
     ]
    },
    {
     "data": {
      "text/latex": [
       "$\\displaystyle \\tau_{2} = \\frac{4 x_{2}^{2} + 16 y_{2}^{2} + 64 z_{2}^{2}}{8 x_{2}^{2} - 64 y_{2}^{2} + 512 z_{2}^{2}}$"
      ],
      "text/plain": [
       "Eq(tau_2, (4*x_2**2 + 16*y_2**2 + 64*z_2**2)/(8*x_2**2 - 64*y_2**2 + 512*z_2**2))"
      ]
     },
     "metadata": {},
     "output_type": "display_data"
    },
    {
     "data": {
      "text/latex": [
       "$\\displaystyle \\tau_{2} = -0.2742$"
      ],
      "text/plain": [
       "Eq(tau_2, -0.2742)"
      ]
     },
     "metadata": {},
     "output_type": "display_data"
    },
    {
     "data": {
      "text/latex": [
       "$\\displaystyle \\left[\\begin{matrix}x_{3}\\\\y_{3}\\\\z_{3}\\end{matrix}\\right] = - \\left(4 x_{2}^{2} + 16 y_{2}^{2} + 64 z_{2}^{2}\\right) \\frac{1}{8 x_{2}^{2} - 64 y_{2}^{2} + 512 z_{2}^{2}} \\left[\\begin{matrix}2 x_{2}\\\\- 4 y_{2}\\\\8 z_{2}\\end{matrix}\\right] + \\left[\\begin{matrix}x_{2}\\\\y_{2}\\\\z_{2}\\end{matrix}\\right]$"
      ],
      "text/plain": [
       "Eq(Matrix([\n",
       "[x_3],\n",
       "[y_3],\n",
       "[z_3]]), (-(4*x_2**2 + 16*y_2**2 + 64*z_2**2)/(8*x_2**2 - 64*y_2**2 + 512*z_2**2))*Matrix([\n",
       "[ 2*x_2],\n",
       "[-4*y_2],\n",
       "[ 8*z_2]]) + Matrix([\n",
       "[x_2],\n",
       "[y_2],\n",
       "[z_2]]))"
      ]
     },
     "metadata": {},
     "output_type": "display_data"
    },
    {
     "data": {
      "text/latex": [
       "$\\displaystyle \\left[\\begin{matrix}x_{3}\\\\y_{3}\\\\z_{3}\\end{matrix}\\right] = \\left[\\begin{matrix}0.1819\\\\0.7278\\\\0\\end{matrix}\\right] + \\left[\\begin{matrix}0.3318\\\\-0.6636\\\\0\\end{matrix}\\right]$"
      ],
      "text/plain": [
       "Eq(Matrix([\n",
       "[x_3],\n",
       "[y_3],\n",
       "[z_3]]), Matrix([\n",
       "[0.1819],\n",
       "[0.7278],\n",
       "[     0]]) + Matrix([\n",
       "[ 0.3318],\n",
       "[-0.6636],\n",
       "[      0]]))"
      ]
     },
     "metadata": {},
     "output_type": "display_data"
    },
    {
     "data": {
      "text/latex": [
       "$\\displaystyle \\left[\\begin{matrix}x_{3}\\\\y_{3}\\\\z_{3}\\end{matrix}\\right] = \\left[\\begin{matrix}0.5137\\\\0.06422\\\\0\\end{matrix}\\right]$"
      ],
      "text/plain": [
       "Eq(Matrix([\n",
       "[x_3],\n",
       "[y_3],\n",
       "[z_3]]), Matrix([\n",
       "[ 0.5137],\n",
       "[0.06422],\n",
       "[      0]]))"
      ]
     },
     "metadata": {},
     "output_type": "display_data"
    },
    {
     "data": {
      "text/latex": [
       "$\\displaystyle f{\\left(x_{3},y_{3},z_{3} \\right)} = x_{3}^{2} - 2 y_{3}^{2} + 4 z_{3}^{2}$"
      ],
      "text/plain": [
       "Eq(f(x_3, y_3, z_3), x_3**2 - 2*y_3**2 + 4*z_3**2)"
      ]
     },
     "metadata": {},
     "output_type": "display_data"
    },
    {
     "data": {
      "text/latex": [
       "$\\displaystyle f{\\left(0.5137,0.06422,0 \\right)} = 0.2557$"
      ],
      "text/plain": [
       "Eq(f(0.5137, 0.06422, 0), 0.2557)"
      ]
     },
     "metadata": {},
     "output_type": "display_data"
    },
    {
     "name": "stdout",
     "output_type": "stream",
     "text": [
      "\n",
      "Iteration - 4:\n",
      "\n"
     ]
    },
    {
     "data": {
      "text/latex": [
       "$\\displaystyle \\tau_{3} = \\frac{4 x_{3}^{2} + 16 y_{3}^{2} + 64 z_{3}^{2}}{8 x_{3}^{2} - 64 y_{3}^{2} + 512 z_{3}^{2}}$"
      ],
      "text/plain": [
       "Eq(tau_3, (4*x_3**2 + 16*y_3**2 + 64*z_3**2)/(8*x_3**2 - 64*y_3**2 + 512*z_3**2))"
      ]
     },
     "metadata": {},
     "output_type": "display_data"
    },
    {
     "data": {
      "text/latex": [
       "$\\displaystyle \\tau_{3} = 0.6071$"
      ],
      "text/plain": [
       "Eq(tau_3, 0.6071)"
      ]
     },
     "metadata": {},
     "output_type": "display_data"
    },
    {
     "data": {
      "text/latex": [
       "$\\displaystyle \\left[\\begin{matrix}x_{4}\\\\y_{4}\\\\z_{4}\\end{matrix}\\right] = - \\left(4 x_{3}^{2} + 16 y_{3}^{2} + 64 z_{3}^{2}\\right) \\frac{1}{8 x_{3}^{2} - 64 y_{3}^{2} + 512 z_{3}^{2}} \\left[\\begin{matrix}2 x_{3}\\\\- 4 y_{3}\\\\8 z_{3}\\end{matrix}\\right] + \\left[\\begin{matrix}x_{3}\\\\y_{3}\\\\z_{3}\\end{matrix}\\right]$"
      ],
      "text/plain": [
       "Eq(Matrix([\n",
       "[x_4],\n",
       "[y_4],\n",
       "[z_4]]), (-(4*x_3**2 + 16*y_3**2 + 64*z_3**2)/(8*x_3**2 - 64*y_3**2 + 512*z_3**2))*Matrix([\n",
       "[ 2*x_3],\n",
       "[-4*y_3],\n",
       "[ 8*z_3]]) + Matrix([\n",
       "[x_3],\n",
       "[y_3],\n",
       "[z_3]]))"
      ]
     },
     "metadata": {},
     "output_type": "display_data"
    },
    {
     "data": {
      "text/latex": [
       "$\\displaystyle \\left[\\begin{matrix}x_{4}\\\\y_{4}\\\\z_{4}\\end{matrix}\\right] = \\left[\\begin{matrix}-0.6238\\\\0.156\\\\0\\end{matrix}\\right] + \\left[\\begin{matrix}0.5137\\\\0.06422\\\\0\\end{matrix}\\right]$"
      ],
      "text/plain": [
       "Eq(Matrix([\n",
       "[x_4],\n",
       "[y_4],\n",
       "[z_4]]), Matrix([\n",
       "[-0.6238],\n",
       "[  0.156],\n",
       "[      0]]) + Matrix([\n",
       "[ 0.5137],\n",
       "[0.06422],\n",
       "[      0]]))"
      ]
     },
     "metadata": {},
     "output_type": "display_data"
    },
    {
     "data": {
      "text/latex": [
       "$\\displaystyle \\left[\\begin{matrix}x_{4}\\\\y_{4}\\\\z_{4}\\end{matrix}\\right] = \\left[\\begin{matrix}-0.1101\\\\0.2202\\\\0\\end{matrix}\\right]$"
      ],
      "text/plain": [
       "Eq(Matrix([\n",
       "[x_4],\n",
       "[y_4],\n",
       "[z_4]]), Matrix([\n",
       "[-0.1101],\n",
       "[ 0.2202],\n",
       "[      0]]))"
      ]
     },
     "metadata": {},
     "output_type": "display_data"
    },
    {
     "data": {
      "text/latex": [
       "$\\displaystyle f{\\left(x_{4},y_{4},z_{4} \\right)} = x_{4}^{2} - 2 y_{4}^{2} + 4 z_{4}^{2}$"
      ],
      "text/plain": [
       "Eq(f(x_4, y_4, z_4), x_4**2 - 2*y_4**2 + 4*z_4**2)"
      ]
     },
     "metadata": {},
     "output_type": "display_data"
    },
    {
     "data": {
      "text/latex": [
       "$\\displaystyle f{\\left(-0.1101,0.2202,0 \\right)} = -0.08483$"
      ],
      "text/plain": [
       "Eq(f(-0.1101, 0.2202, 0), -0.08483)"
      ]
     },
     "metadata": {},
     "output_type": "display_data"
    },
    {
     "name": "stdout",
     "output_type": "stream",
     "text": [
      "\n",
      "Iteration - 5:\n",
      "\n"
     ]
    },
    {
     "data": {
      "text/latex": [
       "$\\displaystyle \\tau_{4} = \\frac{4 x_{4}^{2} + 16 y_{4}^{2} + 64 z_{4}^{2}}{8 x_{4}^{2} - 64 y_{4}^{2} + 512 z_{4}^{2}}$"
      ],
      "text/plain": [
       "Eq(tau_4, (4*x_4**2 + 16*y_4**2 + 64*z_4**2)/(8*x_4**2 - 64*y_4**2 + 512*z_4**2))"
      ]
     },
     "metadata": {},
     "output_type": "display_data"
    },
    {
     "data": {
      "text/latex": [
       "$\\displaystyle \\tau_{4} = -0.2742$"
      ],
      "text/plain": [
       "Eq(tau_4, -0.2742)"
      ]
     },
     "metadata": {},
     "output_type": "display_data"
    },
    {
     "data": {
      "text/latex": [
       "$\\displaystyle \\left[\\begin{matrix}x_{5}\\\\y_{5}\\\\z_{5}\\end{matrix}\\right] = - \\left(4 x_{4}^{2} + 16 y_{4}^{2} + 64 z_{4}^{2}\\right) \\frac{1}{8 x_{4}^{2} - 64 y_{4}^{2} + 512 z_{4}^{2}} \\left[\\begin{matrix}2 x_{4}\\\\- 4 y_{4}\\\\8 z_{4}\\end{matrix}\\right] + \\left[\\begin{matrix}x_{4}\\\\y_{4}\\\\z_{4}\\end{matrix}\\right]$"
      ],
      "text/plain": [
       "Eq(Matrix([\n",
       "[x_5],\n",
       "[y_5],\n",
       "[z_5]]), (-(4*x_4**2 + 16*y_4**2 + 64*z_4**2)/(8*x_4**2 - 64*y_4**2 + 512*z_4**2))*Matrix([\n",
       "[ 2*x_4],\n",
       "[-4*y_4],\n",
       "[ 8*z_4]]) + Matrix([\n",
       "[x_4],\n",
       "[y_4],\n",
       "[z_4]]))"
      ]
     },
     "metadata": {},
     "output_type": "display_data"
    },
    {
     "data": {
      "text/latex": [
       "$\\displaystyle \\left[\\begin{matrix}x_{5}\\\\y_{5}\\\\z_{5}\\end{matrix}\\right] = \\left[\\begin{matrix}-0.1101\\\\0.2202\\\\0\\end{matrix}\\right] + \\left[\\begin{matrix}-0.06037\\\\-0.2415\\\\0\\end{matrix}\\right]$"
      ],
      "text/plain": [
       "Eq(Matrix([\n",
       "[x_5],\n",
       "[y_5],\n",
       "[z_5]]), Matrix([\n",
       "[-0.1101],\n",
       "[ 0.2202],\n",
       "[      0]]) + Matrix([\n",
       "[-0.06037],\n",
       "[ -0.2415],\n",
       "[       0]]))"
      ]
     },
     "metadata": {},
     "output_type": "display_data"
    },
    {
     "data": {
      "text/latex": [
       "$\\displaystyle \\left[\\begin{matrix}x_{5}\\\\y_{5}\\\\z_{5}\\end{matrix}\\right] = \\left[\\begin{matrix}-0.1705\\\\-0.02131\\\\0\\end{matrix}\\right]$"
      ],
      "text/plain": [
       "Eq(Matrix([\n",
       "[x_5],\n",
       "[y_5],\n",
       "[z_5]]), Matrix([\n",
       "[ -0.1705],\n",
       "[-0.02131],\n",
       "[       0]]))"
      ]
     },
     "metadata": {},
     "output_type": "display_data"
    },
    {
     "data": {
      "text/latex": [
       "$\\displaystyle f{\\left(x_{5},y_{5},z_{5} \\right)} = x_{5}^{2} - 2 y_{5}^{2} + 4 z_{5}^{2}$"
      ],
      "text/plain": [
       "Eq(f(x_5, y_5, z_5), x_5**2 - 2*y_5**2 + 4*z_5**2)"
      ]
     },
     "metadata": {},
     "output_type": "display_data"
    },
    {
     "data": {
      "text/latex": [
       "$\\displaystyle f{\\left(-0.1705,-0.02131,0 \\right)} = 0.02815$"
      ],
      "text/plain": [
       "Eq(f(-0.1705, -0.02131, 0), 0.02815)"
      ]
     },
     "metadata": {},
     "output_type": "display_data"
    },
    {
     "name": "stdout",
     "output_type": "stream",
     "text": [
      "\n",
      "Iteration - 6:\n",
      "\n"
     ]
    },
    {
     "data": {
      "text/latex": [
       "$\\displaystyle \\tau_{5} = \\frac{4 x_{5}^{2} + 16 y_{5}^{2} + 64 z_{5}^{2}}{8 x_{5}^{2} - 64 y_{5}^{2} + 512 z_{5}^{2}}$"
      ],
      "text/plain": [
       "Eq(tau_5, (4*x_5**2 + 16*y_5**2 + 64*z_5**2)/(8*x_5**2 - 64*y_5**2 + 512*z_5**2))"
      ]
     },
     "metadata": {},
     "output_type": "display_data"
    },
    {
     "data": {
      "text/latex": [
       "$\\displaystyle \\tau_{5} = 0.6072$"
      ],
      "text/plain": [
       "Eq(tau_5, 0.6072)"
      ]
     },
     "metadata": {},
     "output_type": "display_data"
    },
    {
     "data": {
      "text/latex": [
       "$\\displaystyle \\left[\\begin{matrix}x_{6}\\\\y_{6}\\\\z_{6}\\end{matrix}\\right] = - \\left(4 x_{5}^{2} + 16 y_{5}^{2} + 64 z_{5}^{2}\\right) \\frac{1}{8 x_{5}^{2} - 64 y_{5}^{2} + 512 z_{5}^{2}} \\left[\\begin{matrix}2 x_{5}\\\\- 4 y_{5}\\\\8 z_{5}\\end{matrix}\\right] + \\left[\\begin{matrix}x_{5}\\\\y_{5}\\\\z_{5}\\end{matrix}\\right]$"
      ],
      "text/plain": [
       "Eq(Matrix([\n",
       "[x_6],\n",
       "[y_6],\n",
       "[z_6]]), (-(4*x_5**2 + 16*y_5**2 + 64*z_5**2)/(8*x_5**2 - 64*y_5**2 + 512*z_5**2))*Matrix([\n",
       "[ 2*x_5],\n",
       "[-4*y_5],\n",
       "[ 8*z_5]]) + Matrix([\n",
       "[x_5],\n",
       "[y_5],\n",
       "[z_5]]))"
      ]
     },
     "metadata": {},
     "output_type": "display_data"
    },
    {
     "data": {
      "text/latex": [
       "$\\displaystyle \\left[\\begin{matrix}x_{6}\\\\y_{6}\\\\z_{6}\\end{matrix}\\right] = \\left[\\begin{matrix}-0.1705\\\\-0.02131\\\\0\\end{matrix}\\right] + \\left[\\begin{matrix}0.207\\\\-0.05175\\\\0\\end{matrix}\\right]$"
      ],
      "text/plain": [
       "Eq(Matrix([\n",
       "[x_6],\n",
       "[y_6],\n",
       "[z_6]]), Matrix([\n",
       "[ -0.1705],\n",
       "[-0.02131],\n",
       "[       0]]) + Matrix([\n",
       "[   0.207],\n",
       "[-0.05175],\n",
       "[       0]]))"
      ]
     },
     "metadata": {},
     "output_type": "display_data"
    },
    {
     "data": {
      "text/latex": [
       "$\\displaystyle \\left[\\begin{matrix}x_{6}\\\\y_{6}\\\\z_{6}\\end{matrix}\\right] = \\left[\\begin{matrix}0.03654\\\\-0.07306\\\\0\\end{matrix}\\right]$"
      ],
      "text/plain": [
       "Eq(Matrix([\n",
       "[x_6],\n",
       "[y_6],\n",
       "[z_6]]), Matrix([\n",
       "[ 0.03654],\n",
       "[-0.07306],\n",
       "[       0]]))"
      ]
     },
     "metadata": {},
     "output_type": "display_data"
    },
    {
     "data": {
      "text/latex": [
       "$\\displaystyle f{\\left(x_{6},y_{6},z_{6} \\right)} = x_{6}^{2} - 2 y_{6}^{2} + 4 z_{6}^{2}$"
      ],
      "text/plain": [
       "Eq(f(x_6, y_6, z_6), x_6**2 - 2*y_6**2 + 4*z_6**2)"
      ]
     },
     "metadata": {},
     "output_type": "display_data"
    },
    {
     "data": {
      "text/latex": [
       "$\\displaystyle f{\\left(0.03654,-0.07306,0 \\right)} = -0.009341$"
      ],
      "text/plain": [
       "Eq(f(0.03654, -0.07306, 0), -0.009341)"
      ]
     },
     "metadata": {},
     "output_type": "display_data"
    },
    {
     "name": "stdout",
     "output_type": "stream",
     "text": [
      "\n",
      "Iteration - 7:\n",
      "\n"
     ]
    },
    {
     "data": {
      "text/latex": [
       "$\\displaystyle \\tau_{6} = \\frac{4 x_{6}^{2} + 16 y_{6}^{2} + 64 z_{6}^{2}}{8 x_{6}^{2} - 64 y_{6}^{2} + 512 z_{6}^{2}}$"
      ],
      "text/plain": [
       "Eq(tau_6, (4*x_6**2 + 16*y_6**2 + 64*z_6**2)/(8*x_6**2 - 64*y_6**2 + 512*z_6**2))"
      ]
     },
     "metadata": {},
     "output_type": "display_data"
    },
    {
     "data": {
      "text/latex": [
       "$\\displaystyle \\tau_{6} = -0.2742$"
      ],
      "text/plain": [
       "Eq(tau_6, -0.2742)"
      ]
     },
     "metadata": {},
     "output_type": "display_data"
    },
    {
     "data": {
      "text/latex": [
       "$\\displaystyle \\left[\\begin{matrix}x_{7}\\\\y_{7}\\\\z_{7}\\end{matrix}\\right] = - \\left(4 x_{6}^{2} + 16 y_{6}^{2} + 64 z_{6}^{2}\\right) \\frac{1}{8 x_{6}^{2} - 64 y_{6}^{2} + 512 z_{6}^{2}} \\left[\\begin{matrix}2 x_{6}\\\\- 4 y_{6}\\\\8 z_{6}\\end{matrix}\\right] + \\left[\\begin{matrix}x_{6}\\\\y_{6}\\\\z_{6}\\end{matrix}\\right]$"
      ],
      "text/plain": [
       "Eq(Matrix([\n",
       "[x_7],\n",
       "[y_7],\n",
       "[z_7]]), (-(4*x_6**2 + 16*y_6**2 + 64*z_6**2)/(8*x_6**2 - 64*y_6**2 + 512*z_6**2))*Matrix([\n",
       "[ 2*x_6],\n",
       "[-4*y_6],\n",
       "[ 8*z_6]]) + Matrix([\n",
       "[x_6],\n",
       "[y_6],\n",
       "[z_6]]))"
      ]
     },
     "metadata": {},
     "output_type": "display_data"
    },
    {
     "data": {
      "text/latex": [
       "$\\displaystyle \\left[\\begin{matrix}x_{7}\\\\y_{7}\\\\z_{7}\\end{matrix}\\right] = \\left[\\begin{matrix}0.02004\\\\0.08013\\\\0\\end{matrix}\\right] + \\left[\\begin{matrix}0.03654\\\\-0.07306\\\\0\\end{matrix}\\right]$"
      ],
      "text/plain": [
       "Eq(Matrix([\n",
       "[x_7],\n",
       "[y_7],\n",
       "[z_7]]), Matrix([\n",
       "[0.02004],\n",
       "[0.08013],\n",
       "[      0]]) + Matrix([\n",
       "[ 0.03654],\n",
       "[-0.07306],\n",
       "[       0]]))"
      ]
     },
     "metadata": {},
     "output_type": "display_data"
    },
    {
     "data": {
      "text/latex": [
       "$\\displaystyle \\left[\\begin{matrix}x_{7}\\\\y_{7}\\\\z_{7}\\end{matrix}\\right] = \\left[\\begin{matrix}0.05657\\\\0.007072\\\\0\\end{matrix}\\right]$"
      ],
      "text/plain": [
       "Eq(Matrix([\n",
       "[x_7],\n",
       "[y_7],\n",
       "[z_7]]), Matrix([\n",
       "[ 0.05657],\n",
       "[0.007072],\n",
       "[       0]]))"
      ]
     },
     "metadata": {},
     "output_type": "display_data"
    },
    {
     "data": {
      "text/latex": [
       "$\\displaystyle f{\\left(x_{7},y_{7},z_{7} \\right)} = x_{7}^{2} - 2 y_{7}^{2} + 4 z_{7}^{2}$"
      ],
      "text/plain": [
       "Eq(f(x_7, y_7, z_7), x_7**2 - 2*y_7**2 + 4*z_7**2)"
      ]
     },
     "metadata": {},
     "output_type": "display_data"
    },
    {
     "data": {
      "text/latex": [
       "$\\displaystyle f{\\left(0.05657,0.007072,0 \\right)} = 0.0031$"
      ],
      "text/plain": [
       "Eq(f(0.05657, 0.007072, 0), 0.0031)"
      ]
     },
     "metadata": {},
     "output_type": "display_data"
    },
    {
     "name": "stdout",
     "output_type": "stream",
     "text": [
      "\n",
      "Iteration - 8:\n",
      "\n"
     ]
    },
    {
     "data": {
      "text/latex": [
       "$\\displaystyle \\tau_{7} = \\frac{4 x_{7}^{2} + 16 y_{7}^{2} + 64 z_{7}^{2}}{8 x_{7}^{2} - 64 y_{7}^{2} + 512 z_{7}^{2}}$"
      ],
      "text/plain": [
       "Eq(tau_7, (4*x_7**2 + 16*y_7**2 + 64*z_7**2)/(8*x_7**2 - 64*y_7**2 + 512*z_7**2))"
      ]
     },
     "metadata": {},
     "output_type": "display_data"
    },
    {
     "data": {
      "text/latex": [
       "$\\displaystyle \\tau_{7} = 0.6072$"
      ],
      "text/plain": [
       "Eq(tau_7, 0.6072)"
      ]
     },
     "metadata": {},
     "output_type": "display_data"
    },
    {
     "data": {
      "text/latex": [
       "$\\displaystyle \\left[\\begin{matrix}x_{8}\\\\y_{8}\\\\z_{8}\\end{matrix}\\right] = - \\left(4 x_{7}^{2} + 16 y_{7}^{2} + 64 z_{7}^{2}\\right) \\frac{1}{8 x_{7}^{2} - 64 y_{7}^{2} + 512 z_{7}^{2}} \\left[\\begin{matrix}2 x_{7}\\\\- 4 y_{7}\\\\8 z_{7}\\end{matrix}\\right] + \\left[\\begin{matrix}x_{7}\\\\y_{7}\\\\z_{7}\\end{matrix}\\right]$"
      ],
      "text/plain": [
       "Eq(Matrix([\n",
       "[x_8],\n",
       "[y_8],\n",
       "[z_8]]), (-(4*x_7**2 + 16*y_7**2 + 64*z_7**2)/(8*x_7**2 - 64*y_7**2 + 512*z_7**2))*Matrix([\n",
       "[ 2*x_7],\n",
       "[-4*y_7],\n",
       "[ 8*z_7]]) + Matrix([\n",
       "[x_7],\n",
       "[y_7],\n",
       "[z_7]]))"
      ]
     },
     "metadata": {},
     "output_type": "display_data"
    },
    {
     "data": {
      "text/latex": [
       "$\\displaystyle \\left[\\begin{matrix}x_{8}\\\\y_{8}\\\\z_{8}\\end{matrix}\\right] = \\left[\\begin{matrix}-0.0687\\\\0.01718\\\\0\\end{matrix}\\right] + \\left[\\begin{matrix}0.05657\\\\0.007072\\\\0\\end{matrix}\\right]$"
      ],
      "text/plain": [
       "Eq(Matrix([\n",
       "[x_8],\n",
       "[y_8],\n",
       "[z_8]]), Matrix([\n",
       "[-0.0687],\n",
       "[0.01718],\n",
       "[      0]]) + Matrix([\n",
       "[ 0.05657],\n",
       "[0.007072],\n",
       "[       0]]))"
      ]
     },
     "metadata": {},
     "output_type": "display_data"
    },
    {
     "data": {
      "text/latex": [
       "$\\displaystyle \\left[\\begin{matrix}x_{8}\\\\y_{8}\\\\z_{8}\\end{matrix}\\right] = \\left[\\begin{matrix}-0.01213\\\\0.02425\\\\0\\end{matrix}\\right]$"
      ],
      "text/plain": [
       "Eq(Matrix([\n",
       "[x_8],\n",
       "[y_8],\n",
       "[z_8]]), Matrix([\n",
       "[-0.01213],\n",
       "[ 0.02425],\n",
       "[       0]]))"
      ]
     },
     "metadata": {},
     "output_type": "display_data"
    },
    {
     "data": {
      "text/latex": [
       "$\\displaystyle f{\\left(x_{8},y_{8},z_{8} \\right)} = x_{8}^{2} - 2 y_{8}^{2} + 4 z_{8}^{2}$"
      ],
      "text/plain": [
       "Eq(f(x_8, y_8, z_8), x_8**2 - 2*y_8**2 + 4*z_8**2)"
      ]
     },
     "metadata": {},
     "output_type": "display_data"
    },
    {
     "data": {
      "text/latex": [
       "$\\displaystyle f{\\left(-0.01213,0.02425,0 \\right)} = -0.001029$"
      ],
      "text/plain": [
       "Eq(f(-0.01213, 0.02425, 0), -0.001029)"
      ]
     },
     "metadata": {},
     "output_type": "display_data"
    },
    {
     "name": "stdout",
     "output_type": "stream",
     "text": [
      "\n",
      "Iteration - 9:\n",
      "\n"
     ]
    },
    {
     "data": {
      "text/latex": [
       "$\\displaystyle \\tau_{8} = \\frac{4 x_{8}^{2} + 16 y_{8}^{2} + 64 z_{8}^{2}}{8 x_{8}^{2} - 64 y_{8}^{2} + 512 z_{8}^{2}}$"
      ],
      "text/plain": [
       "Eq(tau_8, (4*x_8**2 + 16*y_8**2 + 64*z_8**2)/(8*x_8**2 - 64*y_8**2 + 512*z_8**2))"
      ]
     },
     "metadata": {},
     "output_type": "display_data"
    },
    {
     "data": {
      "text/latex": [
       "$\\displaystyle \\tau_{8} = -0.2742$"
      ],
      "text/plain": [
       "Eq(tau_8, -0.2742)"
      ]
     },
     "metadata": {},
     "output_type": "display_data"
    },
    {
     "data": {
      "text/latex": [
       "$\\displaystyle \\left[\\begin{matrix}x_{9}\\\\y_{9}\\\\z_{9}\\end{matrix}\\right] = - \\left(4 x_{8}^{2} + 16 y_{8}^{2} + 64 z_{8}^{2}\\right) \\frac{1}{8 x_{8}^{2} - 64 y_{8}^{2} + 512 z_{8}^{2}} \\left[\\begin{matrix}2 x_{8}\\\\- 4 y_{8}\\\\8 z_{8}\\end{matrix}\\right] + \\left[\\begin{matrix}x_{8}\\\\y_{8}\\\\z_{8}\\end{matrix}\\right]$"
      ],
      "text/plain": [
       "Eq(Matrix([\n",
       "[x_9],\n",
       "[y_9],\n",
       "[z_9]]), (-(4*x_8**2 + 16*y_8**2 + 64*z_8**2)/(8*x_8**2 - 64*y_8**2 + 512*z_8**2))*Matrix([\n",
       "[ 2*x_8],\n",
       "[-4*y_8],\n",
       "[ 8*z_8]]) + Matrix([\n",
       "[x_8],\n",
       "[y_8],\n",
       "[z_8]]))"
      ]
     },
     "metadata": {},
     "output_type": "display_data"
    },
    {
     "data": {
      "text/latex": [
       "$\\displaystyle \\left[\\begin{matrix}x_{9}\\\\y_{9}\\\\z_{9}\\end{matrix}\\right] = \\left[\\begin{matrix}-0.01213\\\\0.02425\\\\0\\end{matrix}\\right] + \\left[\\begin{matrix}-0.00665\\\\-0.0266\\\\0\\end{matrix}\\right]$"
      ],
      "text/plain": [
       "Eq(Matrix([\n",
       "[x_9],\n",
       "[y_9],\n",
       "[z_9]]), Matrix([\n",
       "[-0.01213],\n",
       "[ 0.02425],\n",
       "[       0]]) + Matrix([\n",
       "[-0.00665],\n",
       "[ -0.0266],\n",
       "[       0]]))"
      ]
     },
     "metadata": {},
     "output_type": "display_data"
    },
    {
     "data": {
      "text/latex": [
       "$\\displaystyle \\left[\\begin{matrix}x_{9}\\\\y_{9}\\\\z_{9}\\end{matrix}\\right] = \\left[\\begin{matrix}-0.01878\\\\-0.002347\\\\0\\end{matrix}\\right]$"
      ],
      "text/plain": [
       "Eq(Matrix([\n",
       "[x_9],\n",
       "[y_9],\n",
       "[z_9]]), Matrix([\n",
       "[ -0.01878],\n",
       "[-0.002347],\n",
       "[        0]]))"
      ]
     },
     "metadata": {},
     "output_type": "display_data"
    },
    {
     "data": {
      "text/latex": [
       "$\\displaystyle f{\\left(x_{9},y_{9},z_{9} \\right)} = x_{9}^{2} - 2 y_{9}^{2} + 4 z_{9}^{2}$"
      ],
      "text/plain": [
       "Eq(f(x_9, y_9, z_9), x_9**2 - 2*y_9**2 + 4*z_9**2)"
      ]
     },
     "metadata": {},
     "output_type": "display_data"
    },
    {
     "data": {
      "text/latex": [
       "$\\displaystyle f{\\left(-0.01878,-0.002347,0 \\right)} = 0.0003415$"
      ],
      "text/plain": [
       "Eq(f(-0.01878, -0.002347, 0), 0.0003415)"
      ]
     },
     "metadata": {},
     "output_type": "display_data"
    },
    {
     "name": "stdout",
     "output_type": "stream",
     "text": [
      "\n",
      "Iteration - 10:\n",
      "\n"
     ]
    },
    {
     "data": {
      "text/latex": [
       "$\\displaystyle \\tau_{9} = \\frac{4 x_{9}^{2} + 16 y_{9}^{2} + 64 z_{9}^{2}}{8 x_{9}^{2} - 64 y_{9}^{2} + 512 z_{9}^{2}}$"
      ],
      "text/plain": [
       "Eq(tau_9, (4*x_9**2 + 16*y_9**2 + 64*z_9**2)/(8*x_9**2 - 64*y_9**2 + 512*z_9**2))"
      ]
     },
     "metadata": {},
     "output_type": "display_data"
    },
    {
     "data": {
      "text/latex": [
       "$\\displaystyle \\tau_{9} = 0.6072$"
      ],
      "text/plain": [
       "Eq(tau_9, 0.6072)"
      ]
     },
     "metadata": {},
     "output_type": "display_data"
    },
    {
     "data": {
      "text/latex": [
       "$\\displaystyle \\left[\\begin{matrix}x_{10}\\\\y_{10}\\\\z_{10}\\end{matrix}\\right] = - \\left(4 x_{9}^{2} + 16 y_{9}^{2} + 64 z_{9}^{2}\\right) \\frac{1}{8 x_{9}^{2} - 64 y_{9}^{2} + 512 z_{9}^{2}} \\left[\\begin{matrix}2 x_{9}\\\\- 4 y_{9}\\\\8 z_{9}\\end{matrix}\\right] + \\left[\\begin{matrix}x_{9}\\\\y_{9}\\\\z_{9}\\end{matrix}\\right]$"
      ],
      "text/plain": [
       "Eq(Matrix([\n",
       "[x_10],\n",
       "[y_10],\n",
       "[z_10]]), (-(4*x_9**2 + 16*y_9**2 + 64*z_9**2)/(8*x_9**2 - 64*y_9**2 + 512*z_9**2))*Matrix([\n",
       "[ 2*x_9],\n",
       "[-4*y_9],\n",
       "[ 8*z_9]]) + Matrix([\n",
       "[x_9],\n",
       "[y_9],\n",
       "[z_9]]))"
      ]
     },
     "metadata": {},
     "output_type": "display_data"
    },
    {
     "data": {
      "text/latex": [
       "$\\displaystyle \\left[\\begin{matrix}x_{10}\\\\y_{10}\\\\z_{10}\\end{matrix}\\right] = \\left[\\begin{matrix}-0.01878\\\\-0.002347\\\\0\\end{matrix}\\right] + \\left[\\begin{matrix}0.0228\\\\-0.005701\\\\0\\end{matrix}\\right]$"
      ],
      "text/plain": [
       "Eq(Matrix([\n",
       "[x_10],\n",
       "[y_10],\n",
       "[z_10]]), Matrix([\n",
       "[ -0.01878],\n",
       "[-0.002347],\n",
       "[        0]]) + Matrix([\n",
       "[   0.0228],\n",
       "[-0.005701],\n",
       "[        0]]))"
      ]
     },
     "metadata": {},
     "output_type": "display_data"
    },
    {
     "data": {
      "text/latex": [
       "$\\displaystyle \\left[\\begin{matrix}x_{10}\\\\y_{10}\\\\z_{10}\\end{matrix}\\right] = \\left[\\begin{matrix}0.004025\\\\-0.008049\\\\0\\end{matrix}\\right]$"
      ],
      "text/plain": [
       "Eq(Matrix([\n",
       "[x_10],\n",
       "[y_10],\n",
       "[z_10]]), Matrix([\n",
       "[ 0.004025],\n",
       "[-0.008049],\n",
       "[        0]]))"
      ]
     },
     "metadata": {},
     "output_type": "display_data"
    },
    {
     "data": {
      "text/latex": [
       "$\\displaystyle f{\\left(x_{10},y_{10},z_{10} \\right)} = x_{10}^{2} - 2 y_{10}^{2} + 4 z_{10}^{2}$"
      ],
      "text/plain": [
       "Eq(f(x_10, y_10, z_10), x_10**2 - 2*y_10**2 + 4*z_10**2)"
      ]
     },
     "metadata": {},
     "output_type": "display_data"
    },
    {
     "data": {
      "text/latex": [
       "$\\displaystyle f{\\left(0.004025,-0.008049,0 \\right)} = -0.0001134$"
      ],
      "text/plain": [
       "Eq(f(0.004025, -0.008049, 0), -0.0001134)"
      ]
     },
     "metadata": {},
     "output_type": "display_data"
    }
   ],
   "source": [
    "#variable tau\n",
    "steepest_descent(str_expr='x**2 - 2*y**2 + 4*z**2' , str_symbols= 'x y z', x_init=[-1, 2, 0], \n",
    "                 tau=None, n_iter=10, rounding_digit = 4)"
   ]
  },
  {
   "cell_type": "code",
   "execution_count": 13,
   "id": "39528fa9",
   "metadata": {},
   "outputs": [
    {
     "name": "stdout",
     "output_type": "stream",
     "text": [
      "The function is\n"
     ]
    },
    {
     "data": {
      "text/latex": [
       "$\\displaystyle f{\\left(x,y \\right)} = 3 x^{2} + 7 x + 4 y^{2}$"
      ],
      "text/plain": [
       "Eq(f(x, y), 3*x**2 + 7*x + 4*y**2)"
      ]
     },
     "metadata": {},
     "output_type": "display_data"
    },
    {
     "name": "stdout",
     "output_type": "stream",
     "text": [
      "\n",
      "Step-1: Finding gradient and hessian Matrix of the function\n"
     ]
    },
    {
     "data": {
      "text/latex": [
       "$\\displaystyle ∇f = \\left[\\begin{matrix}\\frac{\\partial}{\\partial x} f{\\left(x,y \\right)}\\\\\\frac{\\partial}{\\partial y} f{\\left(x,y \\right)}\\end{matrix}\\right]$"
      ],
      "text/plain": [
       "Eq(∇f, Matrix([\n",
       "[Derivative(f(x, y), x)],\n",
       "[Derivative(f(x, y), y)]]))"
      ]
     },
     "metadata": {},
     "output_type": "display_data"
    },
    {
     "data": {
      "text/latex": [
       "$\\displaystyle ∇f = \\left[\\begin{matrix}\\frac{\\partial}{\\partial x} \\left(3 x^{2} + 7 x + 4 y^{2}\\right)\\\\\\frac{\\partial}{\\partial y} \\left(3 x^{2} + 7 x + 4 y^{2}\\right)\\end{matrix}\\right]$"
      ],
      "text/plain": [
       "Eq(∇f, Matrix([\n",
       "[Derivative(3*x**2 + 7*x + 4*y**2, x)],\n",
       "[Derivative(3*x**2 + 7*x + 4*y**2, y)]]))"
      ]
     },
     "metadata": {},
     "output_type": "display_data"
    },
    {
     "data": {
      "text/latex": [
       "$\\displaystyle ∇f = \\left[\\begin{matrix}6 x + 7\\\\8 y\\end{matrix}\\right]$"
      ],
      "text/plain": [
       "Eq(∇f, Matrix([\n",
       "[6*x + 7],\n",
       "[    8*y]]))"
      ]
     },
     "metadata": {},
     "output_type": "display_data"
    },
    {
     "name": "stdout",
     "output_type": "stream",
     "text": [
      "\n",
      "Creating the Hessian Matrix\n"
     ]
    },
    {
     "data": {
      "text/latex": [
       "$\\displaystyle Hf = \\left[\\begin{matrix}\\frac{\\partial^{2}}{\\partial x^{2}} f{\\left(x,y \\right)} & \\frac{\\partial^{2}}{\\partial x\\partial y} f{\\left(x,y \\right)}\\\\\\frac{\\partial^{2}}{\\partial y\\partial x} f{\\left(x,y \\right)} & \\frac{\\partial^{2}}{\\partial y^{2}} f{\\left(x,y \\right)}\\end{matrix}\\right]$"
      ],
      "text/plain": [
       "Eq(Hf, Matrix([\n",
       "[Derivative(f(x, y), (x, 2)),   Derivative(f(x, y), y, x)],\n",
       "[  Derivative(f(x, y), x, y), Derivative(f(x, y), (y, 2))]]))"
      ]
     },
     "metadata": {},
     "output_type": "display_data"
    },
    {
     "data": {
      "text/latex": [
       "$\\displaystyle Hf = \\left[\\begin{matrix}\\frac{\\partial^{2}}{\\partial x^{2}} \\left(3 x^{2} + 7 x + 4 y^{2}\\right) & \\frac{\\partial^{2}}{\\partial x\\partial y} \\left(3 x^{2} + 7 x + 4 y^{2}\\right)\\\\\\frac{\\partial^{2}}{\\partial y\\partial x} \\left(3 x^{2} + 7 x + 4 y^{2}\\right) & \\frac{\\partial^{2}}{\\partial y^{2}} \\left(3 x^{2} + 7 x + 4 y^{2}\\right)\\end{matrix}\\right]$"
      ],
      "text/plain": [
       "Eq(Hf, Matrix([\n",
       "[Derivative(3*x**2 + 7*x + 4*y**2, (x, 2)),   Derivative(3*x**2 + 7*x + 4*y**2, y, x)],\n",
       "[  Derivative(3*x**2 + 7*x + 4*y**2, x, y), Derivative(3*x**2 + 7*x + 4*y**2, (y, 2))]]))"
      ]
     },
     "metadata": {},
     "output_type": "display_data"
    },
    {
     "data": {
      "text/latex": [
       "$\\displaystyle Hf = \\left[\\begin{matrix}6 & 0\\\\0 & 8\\end{matrix}\\right]$"
      ],
      "text/plain": [
       "Eq(Hf, Matrix([\n",
       "[6, 0],\n",
       "[0, 8]]))"
      ]
     },
     "metadata": {},
     "output_type": "display_data"
    },
    {
     "name": "stdout",
     "output_type": "stream",
     "text": [
      "\n",
      "Step-2: Computing the step size τ\n",
      "\n"
     ]
    },
    {
     "data": {
      "text/latex": [
       "$\\displaystyle τ_{i} = 0.1$"
      ],
      "text/plain": [
       "Eq(τ_i, 0.1)"
      ]
     },
     "metadata": {},
     "output_type": "display_data"
    },
    {
     "name": "stdout",
     "output_type": "stream",
     "text": [
      "\n",
      "Step-3: Iterate the minimum point\n"
     ]
    },
    {
     "data": {
      "text/latex": [
       "$\\displaystyle x_{i + 1} = x_{i} - τ_{i} ∇f_{i}$"
      ],
      "text/plain": [
       "Eq(x_i_+_1, x_i - τ_i*∇f_i)"
      ]
     },
     "metadata": {},
     "output_type": "display_data"
    },
    {
     "data": {
      "text/latex": [
       "$\\displaystyle \\left[\\begin{matrix}x_{i + 1}\\\\y_{i + 1}\\end{matrix}\\right] = - τ_{i} \\left[\\begin{matrix}6 x_{i} + 7\\\\8 y_{i}\\end{matrix}\\right] + \\left[\\begin{matrix}x_{i}\\\\y_{i}\\end{matrix}\\right]$"
      ],
      "text/plain": [
       "Eq(Matrix([\n",
       "[x_i_+_1],\n",
       "[y_i_+_1]]), (-τ_i)*Matrix([\n",
       "[6*x_i + 7],\n",
       "[    8*y_i]]) + Matrix([\n",
       "[x_i],\n",
       "[y_i]]))"
      ]
     },
     "metadata": {},
     "output_type": "display_data"
    },
    {
     "data": {
      "text/latex": [
       "$\\displaystyle \\left[\\begin{matrix}x_{i + 1}\\\\y_{i + 1}\\end{matrix}\\right] = \\left[\\begin{matrix}x_{i}\\\\y_{i}\\end{matrix}\\right] + \\left[\\begin{matrix}- 0.6 x_{i} - 0.7\\\\- 0.8 y_{i}\\end{matrix}\\right]$"
      ],
      "text/plain": [
       "Eq(Matrix([\n",
       "[x_i_+_1],\n",
       "[y_i_+_1]]), Matrix([\n",
       "[x_i],\n",
       "[y_i]]) + Matrix([\n",
       "[-0.6*x_i - 0.7],\n",
       "[      -0.8*y_i]]))"
      ]
     },
     "metadata": {},
     "output_type": "display_data"
    },
    {
     "data": {
      "text/latex": [
       "$\\displaystyle \\left[\\begin{matrix}x_{0}\\\\y_{0}\\end{matrix}\\right] = \\left[\\begin{matrix}4\\\\3\\end{matrix}\\right]$"
      ],
      "text/plain": [
       "Eq(Matrix([\n",
       "[x_0],\n",
       "[y_0]]), Matrix([\n",
       "[4],\n",
       "[3]]))"
      ]
     },
     "metadata": {},
     "output_type": "display_data"
    },
    {
     "name": "stdout",
     "output_type": "stream",
     "text": [
      "\n",
      "Iteration - 1:\n",
      "\n"
     ]
    },
    {
     "data": {
      "text/latex": [
       "$\\displaystyle \\tau_{0} = 0.1$"
      ],
      "text/plain": [
       "Eq(tau_0, 0.1)"
      ]
     },
     "metadata": {},
     "output_type": "display_data"
    },
    {
     "data": {
      "text/latex": [
       "$\\displaystyle \\tau_{0} = 0.1$"
      ],
      "text/plain": [
       "Eq(tau_0, 0.1)"
      ]
     },
     "metadata": {},
     "output_type": "display_data"
    },
    {
     "data": {
      "text/latex": [
       "$\\displaystyle \\left[\\begin{matrix}x_{1}\\\\y_{1}\\end{matrix}\\right] = \\left[\\begin{matrix}x_{0}\\\\y_{0}\\end{matrix}\\right] + \\left[\\begin{matrix}- 0.6 x_{0} - 0.7\\\\- 0.8 y_{0}\\end{matrix}\\right]$"
      ],
      "text/plain": [
       "Eq(Matrix([\n",
       "[x_1],\n",
       "[y_1]]), Matrix([\n",
       "[x_0],\n",
       "[y_0]]) + Matrix([\n",
       "[-0.6*x_0 - 0.7],\n",
       "[      -0.8*y_0]]))"
      ]
     },
     "metadata": {},
     "output_type": "display_data"
    },
    {
     "data": {
      "text/latex": [
       "$\\displaystyle \\left[\\begin{matrix}x_{1}\\\\y_{1}\\end{matrix}\\right] = \\left[\\begin{matrix}-3.1\\\\-2.4\\end{matrix}\\right] + \\left[\\begin{matrix}4\\\\3\\end{matrix}\\right]$"
      ],
      "text/plain": [
       "Eq(Matrix([\n",
       "[x_1],\n",
       "[y_1]]), Matrix([\n",
       "[-3.1],\n",
       "[-2.4]]) + Matrix([\n",
       "[4],\n",
       "[3]]))"
      ]
     },
     "metadata": {},
     "output_type": "display_data"
    },
    {
     "data": {
      "text/latex": [
       "$\\displaystyle \\left[\\begin{matrix}x_{1}\\\\y_{1}\\end{matrix}\\right] = \\left[\\begin{matrix}0.9\\\\0.6\\end{matrix}\\right]$"
      ],
      "text/plain": [
       "Eq(Matrix([\n",
       "[x_1],\n",
       "[y_1]]), Matrix([\n",
       "[0.9],\n",
       "[0.6]]))"
      ]
     },
     "metadata": {},
     "output_type": "display_data"
    },
    {
     "data": {
      "text/latex": [
       "$\\displaystyle \\left[\\begin{matrix}x_{1}\\\\y_{1}\\end{matrix}\\right] = \\left[\\begin{matrix}0.9\\\\0.6\\end{matrix}\\right]$"
      ],
      "text/plain": [
       "Eq(Matrix([\n",
       "[x_1],\n",
       "[y_1]]), Matrix([\n",
       "[0.9],\n",
       "[0.6]]))"
      ]
     },
     "metadata": {},
     "output_type": "display_data"
    },
    {
     "data": {
      "text/latex": [
       "$\\displaystyle f{\\left(x_{1},y_{1} \\right)} = 3 x_{1}^{2} + 7 x_{1} + 4 y_{1}^{2}$"
      ],
      "text/plain": [
       "Eq(f(x_1, y_1), 3*x_1**2 + 7*x_1 + 4*y_1**2)"
      ]
     },
     "metadata": {},
     "output_type": "display_data"
    },
    {
     "data": {
      "text/latex": [
       "$\\displaystyle f{\\left(0.9,0.6 \\right)} = 10.17$"
      ],
      "text/plain": [
       "Eq(f(0.9, 0.6), 10.17)"
      ]
     },
     "metadata": {},
     "output_type": "display_data"
    },
    {
     "name": "stdout",
     "output_type": "stream",
     "text": [
      "\n",
      "Iteration - 2:\n",
      "\n"
     ]
    },
    {
     "data": {
      "text/latex": [
       "$\\displaystyle \\tau_{1} = 0.1$"
      ],
      "text/plain": [
       "Eq(tau_1, 0.1)"
      ]
     },
     "metadata": {},
     "output_type": "display_data"
    },
    {
     "data": {
      "text/latex": [
       "$\\displaystyle \\tau_{1} = 0.1$"
      ],
      "text/plain": [
       "Eq(tau_1, 0.1)"
      ]
     },
     "metadata": {},
     "output_type": "display_data"
    },
    {
     "data": {
      "text/latex": [
       "$\\displaystyle \\left[\\begin{matrix}x_{2}\\\\y_{2}\\end{matrix}\\right] = \\left[\\begin{matrix}x_{1}\\\\y_{1}\\end{matrix}\\right] + \\left[\\begin{matrix}- 0.6 x_{1} - 0.7\\\\- 0.8 y_{1}\\end{matrix}\\right]$"
      ],
      "text/plain": [
       "Eq(Matrix([\n",
       "[x_2],\n",
       "[y_2]]), Matrix([\n",
       "[x_1],\n",
       "[y_1]]) + Matrix([\n",
       "[-0.6*x_1 - 0.7],\n",
       "[      -0.8*y_1]]))"
      ]
     },
     "metadata": {},
     "output_type": "display_data"
    },
    {
     "data": {
      "text/latex": [
       "$\\displaystyle \\left[\\begin{matrix}x_{2}\\\\y_{2}\\end{matrix}\\right] = \\left[\\begin{matrix}-1.24000244140625\\\\-0.479998779296875\\end{matrix}\\right] + \\left[\\begin{matrix}0.9\\\\0.6\\end{matrix}\\right]$"
      ],
      "text/plain": [
       "Eq(Matrix([\n",
       "[x_2],\n",
       "[y_2]]), Matrix([\n",
       "[ -1.24000244140625],\n",
       "[-0.479998779296875]]) + Matrix([\n",
       "[0.9],\n",
       "[0.6]]))"
      ]
     },
     "metadata": {},
     "output_type": "display_data"
    },
    {
     "data": {
      "text/latex": [
       "$\\displaystyle \\left[\\begin{matrix}x_{2}\\\\y_{2}\\end{matrix}\\right] = \\left[\\begin{matrix}-0.34\\\\0.12\\end{matrix}\\right]$"
      ],
      "text/plain": [
       "Eq(Matrix([\n",
       "[x_2],\n",
       "[y_2]]), Matrix([\n",
       "[-0.34],\n",
       "[ 0.12]]))"
      ]
     },
     "metadata": {},
     "output_type": "display_data"
    },
    {
     "data": {
      "text/latex": [
       "$\\displaystyle f{\\left(x_{2},y_{2} \\right)} = 3 x_{2}^{2} + 7 x_{2} + 4 y_{2}^{2}$"
      ],
      "text/plain": [
       "Eq(f(x_2, y_2), 3*x_2**2 + 7*x_2 + 4*y_2**2)"
      ]
     },
     "metadata": {},
     "output_type": "display_data"
    },
    {
     "data": {
      "text/latex": [
       "$\\displaystyle f{\\left(-0.34,0.12 \\right)} = -1.976$"
      ],
      "text/plain": [
       "Eq(f(-0.34, 0.12), -1.976)"
      ]
     },
     "metadata": {},
     "output_type": "display_data"
    },
    {
     "name": "stdout",
     "output_type": "stream",
     "text": [
      "\n",
      "Iteration - 3:\n",
      "\n"
     ]
    },
    {
     "data": {
      "text/latex": [
       "$\\displaystyle \\tau_{2} = 0.1$"
      ],
      "text/plain": [
       "Eq(tau_2, 0.1)"
      ]
     },
     "metadata": {},
     "output_type": "display_data"
    },
    {
     "data": {
      "text/latex": [
       "$\\displaystyle \\tau_{2} = 0.1$"
      ],
      "text/plain": [
       "Eq(tau_2, 0.1)"
      ]
     },
     "metadata": {},
     "output_type": "display_data"
    },
    {
     "data": {
      "text/latex": [
       "$\\displaystyle \\left[\\begin{matrix}x_{3}\\\\y_{3}\\end{matrix}\\right] = \\left[\\begin{matrix}x_{2}\\\\y_{2}\\end{matrix}\\right] + \\left[\\begin{matrix}- 0.6 x_{2} - 0.7\\\\- 0.8 y_{2}\\end{matrix}\\right]$"
      ],
      "text/plain": [
       "Eq(Matrix([\n",
       "[x_3],\n",
       "[y_3]]), Matrix([\n",
       "[x_2],\n",
       "[y_2]]) + Matrix([\n",
       "[-0.6*x_2 - 0.7],\n",
       "[      -0.8*y_2]]))"
      ]
     },
     "metadata": {},
     "output_type": "display_data"
    },
    {
     "data": {
      "text/latex": [
       "$\\displaystyle \\left[\\begin{matrix}x_{3}\\\\y_{3}\\end{matrix}\\right] = \\left[\\begin{matrix}-0.49599609375\\\\-0.0959999084472656\\end{matrix}\\right] + \\left[\\begin{matrix}-0.34\\\\0.12\\end{matrix}\\right]$"
      ],
      "text/plain": [
       "Eq(Matrix([\n",
       "[x_3],\n",
       "[y_3]]), Matrix([\n",
       "[     -0.49599609375],\n",
       "[-0.0959999084472656]]) + Matrix([\n",
       "[-0.34],\n",
       "[ 0.12]]))"
      ]
     },
     "metadata": {},
     "output_type": "display_data"
    },
    {
     "data": {
      "text/latex": [
       "$\\displaystyle \\left[\\begin{matrix}x_{3}\\\\y_{3}\\end{matrix}\\right] = \\left[\\begin{matrix}-0.836\\\\0.024\\end{matrix}\\right]$"
      ],
      "text/plain": [
       "Eq(Matrix([\n",
       "[x_3],\n",
       "[y_3]]), Matrix([\n",
       "[-0.836],\n",
       "[ 0.024]]))"
      ]
     },
     "metadata": {},
     "output_type": "display_data"
    },
    {
     "data": {
      "text/latex": [
       "$\\displaystyle f{\\left(x_{3},y_{3} \\right)} = 3 x_{3}^{2} + 7 x_{3} + 4 y_{3}^{2}$"
      ],
      "text/plain": [
       "Eq(f(x_3, y_3), 3*x_3**2 + 7*x_3 + 4*y_3**2)"
      ]
     },
     "metadata": {},
     "output_type": "display_data"
    },
    {
     "data": {
      "text/latex": [
       "$\\displaystyle f{\\left(-0.836,0.024 \\right)} = -3.753$"
      ],
      "text/plain": [
       "Eq(f(-0.836, 0.024), -3.753)"
      ]
     },
     "metadata": {},
     "output_type": "display_data"
    },
    {
     "name": "stdout",
     "output_type": "stream",
     "text": [
      "\n",
      "Iteration - 4:\n",
      "\n"
     ]
    },
    {
     "data": {
      "text/latex": [
       "$\\displaystyle \\tau_{3} = 0.1$"
      ],
      "text/plain": [
       "Eq(tau_3, 0.1)"
      ]
     },
     "metadata": {},
     "output_type": "display_data"
    },
    {
     "data": {
      "text/latex": [
       "$\\displaystyle \\tau_{3} = 0.1$"
      ],
      "text/plain": [
       "Eq(tau_3, 0.1)"
      ]
     },
     "metadata": {},
     "output_type": "display_data"
    },
    {
     "data": {
      "text/latex": [
       "$\\displaystyle \\left[\\begin{matrix}x_{4}\\\\y_{4}\\end{matrix}\\right] = \\left[\\begin{matrix}x_{3}\\\\y_{3}\\end{matrix}\\right] + \\left[\\begin{matrix}- 0.6 x_{3} - 0.7\\\\- 0.8 y_{3}\\end{matrix}\\right]$"
      ],
      "text/plain": [
       "Eq(Matrix([\n",
       "[x_4],\n",
       "[y_4]]), Matrix([\n",
       "[x_3],\n",
       "[y_3]]) + Matrix([\n",
       "[-0.6*x_3 - 0.7],\n",
       "[      -0.8*y_3]]))"
      ]
     },
     "metadata": {},
     "output_type": "display_data"
    },
    {
     "data": {
      "text/latex": [
       "$\\displaystyle \\left[\\begin{matrix}x_{4}\\\\y_{4}\\end{matrix}\\right] = \\left[\\begin{matrix}-0.836\\\\0.024\\end{matrix}\\right] + \\left[\\begin{matrix}-0.19840087890625\\\\-0.0191999435424805\\end{matrix}\\right]$"
      ],
      "text/plain": [
       "Eq(Matrix([\n",
       "[x_4],\n",
       "[y_4]]), Matrix([\n",
       "[-0.836],\n",
       "[ 0.024]]) + Matrix([\n",
       "[  -0.19840087890625],\n",
       "[-0.0191999435424805]]))"
      ]
     },
     "metadata": {},
     "output_type": "display_data"
    },
    {
     "data": {
      "text/latex": [
       "$\\displaystyle \\left[\\begin{matrix}x_{4}\\\\y_{4}\\end{matrix}\\right] = \\left[\\begin{matrix}-1.034\\\\0.0048\\end{matrix}\\right]$"
      ],
      "text/plain": [
       "Eq(Matrix([\n",
       "[x_4],\n",
       "[y_4]]), Matrix([\n",
       "[-1.034],\n",
       "[0.0048]]))"
      ]
     },
     "metadata": {},
     "output_type": "display_data"
    },
    {
     "data": {
      "text/latex": [
       "$\\displaystyle f{\\left(x_{4},y_{4} \\right)} = 3 x_{4}^{2} + 7 x_{4} + 4 y_{4}^{2}$"
      ],
      "text/plain": [
       "Eq(f(x_4, y_4), 3*x_4**2 + 7*x_4 + 4*y_4**2)"
      ]
     },
     "metadata": {},
     "output_type": "display_data"
    },
    {
     "data": {
      "text/latex": [
       "$\\displaystyle f{\\left(-1.034,0.0048 \\right)} = -4.031$"
      ],
      "text/plain": [
       "Eq(f(-1.034, 0.0048), -4.031)"
      ]
     },
     "metadata": {},
     "output_type": "display_data"
    },
    {
     "name": "stdout",
     "output_type": "stream",
     "text": [
      "\n",
      "Iteration - 5:\n",
      "\n"
     ]
    },
    {
     "data": {
      "text/latex": [
       "$\\displaystyle \\tau_{4} = 0.1$"
      ],
      "text/plain": [
       "Eq(tau_4, 0.1)"
      ]
     },
     "metadata": {},
     "output_type": "display_data"
    },
    {
     "data": {
      "text/latex": [
       "$\\displaystyle \\tau_{4} = 0.1$"
      ],
      "text/plain": [
       "Eq(tau_4, 0.1)"
      ]
     },
     "metadata": {},
     "output_type": "display_data"
    },
    {
     "data": {
      "text/latex": [
       "$\\displaystyle \\left[\\begin{matrix}x_{5}\\\\y_{5}\\end{matrix}\\right] = \\left[\\begin{matrix}x_{4}\\\\y_{4}\\end{matrix}\\right] + \\left[\\begin{matrix}- 0.6 x_{4} - 0.7\\\\- 0.8 y_{4}\\end{matrix}\\right]$"
      ],
      "text/plain": [
       "Eq(Matrix([\n",
       "[x_5],\n",
       "[y_5]]), Matrix([\n",
       "[x_4],\n",
       "[y_4]]) + Matrix([\n",
       "[-0.6*x_4 - 0.7],\n",
       "[      -0.8*y_4]]))"
      ]
     },
     "metadata": {},
     "output_type": "display_data"
    },
    {
     "data": {
      "text/latex": [
       "$\\displaystyle \\left[\\begin{matrix}x_{5}\\\\y_{5}\\end{matrix}\\right] = \\left[\\begin{matrix}-1.034\\\\0.0048\\end{matrix}\\right] + \\left[\\begin{matrix}-0.079364013671875\\\\-0.00383996963500977\\end{matrix}\\right]$"
      ],
      "text/plain": [
       "Eq(Matrix([\n",
       "[x_5],\n",
       "[y_5]]), Matrix([\n",
       "[-1.034],\n",
       "[0.0048]]) + Matrix([\n",
       "[  -0.079364013671875],\n",
       "[-0.00383996963500977]]))"
      ]
     },
     "metadata": {},
     "output_type": "display_data"
    },
    {
     "data": {
      "text/latex": [
       "$\\displaystyle \\left[\\begin{matrix}x_{5}\\\\y_{5}\\end{matrix}\\right] = \\left[\\begin{matrix}-1.114\\\\0.00096\\end{matrix}\\right]$"
      ],
      "text/plain": [
       "Eq(Matrix([\n",
       "[x_5],\n",
       "[y_5]]), Matrix([\n",
       "[ -1.114],\n",
       "[0.00096]]))"
      ]
     },
     "metadata": {},
     "output_type": "display_data"
    },
    {
     "data": {
      "text/latex": [
       "$\\displaystyle f{\\left(x_{5},y_{5} \\right)} = 3 x_{5}^{2} + 7 x_{5} + 4 y_{5}^{2}$"
      ],
      "text/plain": [
       "Eq(f(x_5, y_5), 3*x_5**2 + 7*x_5 + 4*y_5**2)"
      ]
     },
     "metadata": {},
     "output_type": "display_data"
    },
    {
     "data": {
      "text/latex": [
       "$\\displaystyle f{\\left(-1.114,0.00096 \\right)} = -4.075$"
      ],
      "text/plain": [
       "Eq(f(-1.114, 0.00096), -4.075)"
      ]
     },
     "metadata": {},
     "output_type": "display_data"
    },
    {
     "name": "stdout",
     "output_type": "stream",
     "text": [
      "\n",
      "Iteration - 6:\n",
      "\n"
     ]
    },
    {
     "data": {
      "text/latex": [
       "$\\displaystyle \\tau_{5} = 0.1$"
      ],
      "text/plain": [
       "Eq(tau_5, 0.1)"
      ]
     },
     "metadata": {},
     "output_type": "display_data"
    },
    {
     "data": {
      "text/latex": [
       "$\\displaystyle \\tau_{5} = 0.1$"
      ],
      "text/plain": [
       "Eq(tau_5, 0.1)"
      ]
     },
     "metadata": {},
     "output_type": "display_data"
    },
    {
     "data": {
      "text/latex": [
       "$\\displaystyle \\left[\\begin{matrix}x_{6}\\\\y_{6}\\end{matrix}\\right] = \\left[\\begin{matrix}x_{5}\\\\y_{5}\\end{matrix}\\right] + \\left[\\begin{matrix}- 0.6 x_{5} - 0.7\\\\- 0.8 y_{5}\\end{matrix}\\right]$"
      ],
      "text/plain": [
       "Eq(Matrix([\n",
       "[x_6],\n",
       "[y_6]]), Matrix([\n",
       "[x_5],\n",
       "[y_5]]) + Matrix([\n",
       "[-0.6*x_5 - 0.7],\n",
       "[      -0.8*y_5]]))"
      ]
     },
     "metadata": {},
     "output_type": "display_data"
    },
    {
     "data": {
      "text/latex": [
       "$\\displaystyle \\left[\\begin{matrix}x_{6}\\\\y_{6}\\end{matrix}\\right] = \\left[\\begin{matrix}-1.114\\\\0.00096\\end{matrix}\\right] + \\left[\\begin{matrix}-0.03175048828125\\\\-0.000767993927001953\\end{matrix}\\right]$"
      ],
      "text/plain": [
       "Eq(Matrix([\n",
       "[x_6],\n",
       "[y_6]]), Matrix([\n",
       "[ -1.114],\n",
       "[0.00096]]) + Matrix([\n",
       "[    -0.03175048828125],\n",
       "[-0.000767993927001953]]))"
      ]
     },
     "metadata": {},
     "output_type": "display_data"
    },
    {
     "data": {
      "text/latex": [
       "$\\displaystyle \\left[\\begin{matrix}x_{6}\\\\y_{6}\\end{matrix}\\right] = \\left[\\begin{matrix}-1.146\\\\0.000192\\end{matrix}\\right]$"
      ],
      "text/plain": [
       "Eq(Matrix([\n",
       "[x_6],\n",
       "[y_6]]), Matrix([\n",
       "[  -1.146],\n",
       "[0.000192]]))"
      ]
     },
     "metadata": {},
     "output_type": "display_data"
    },
    {
     "data": {
      "text/latex": [
       "$\\displaystyle f{\\left(x_{6},y_{6} \\right)} = 3 x_{6}^{2} + 7 x_{6} + 4 y_{6}^{2}$"
      ],
      "text/plain": [
       "Eq(f(x_6, y_6), 3*x_6**2 + 7*x_6 + 4*y_6**2)"
      ]
     },
     "metadata": {},
     "output_type": "display_data"
    },
    {
     "data": {
      "text/latex": [
       "$\\displaystyle f{\\left(-1.146,0.000192 \\right)} = -4.082$"
      ],
      "text/plain": [
       "Eq(f(-1.146, 0.000192), -4.082)"
      ]
     },
     "metadata": {},
     "output_type": "display_data"
    },
    {
     "name": "stdout",
     "output_type": "stream",
     "text": [
      "\n",
      "Iteration - 7:\n",
      "\n"
     ]
    },
    {
     "data": {
      "text/latex": [
       "$\\displaystyle \\tau_{6} = 0.1$"
      ],
      "text/plain": [
       "Eq(tau_6, 0.1)"
      ]
     },
     "metadata": {},
     "output_type": "display_data"
    },
    {
     "data": {
      "text/latex": [
       "$\\displaystyle \\tau_{6} = 0.1$"
      ],
      "text/plain": [
       "Eq(tau_6, 0.1)"
      ]
     },
     "metadata": {},
     "output_type": "display_data"
    },
    {
     "data": {
      "text/latex": [
       "$\\displaystyle \\left[\\begin{matrix}x_{7}\\\\y_{7}\\end{matrix}\\right] = \\left[\\begin{matrix}x_{6}\\\\y_{6}\\end{matrix}\\right] + \\left[\\begin{matrix}- 0.6 x_{6} - 0.7\\\\- 0.8 y_{6}\\end{matrix}\\right]$"
      ],
      "text/plain": [
       "Eq(Matrix([\n",
       "[x_7],\n",
       "[y_7]]), Matrix([\n",
       "[x_6],\n",
       "[y_6]]) + Matrix([\n",
       "[-0.6*x_6 - 0.7],\n",
       "[      -0.8*y_6]]))"
      ]
     },
     "metadata": {},
     "output_type": "display_data"
    },
    {
     "data": {
      "text/latex": [
       "$\\displaystyle \\left[\\begin{matrix}x_{7}\\\\y_{7}\\end{matrix}\\right] = \\left[\\begin{matrix}-1.146\\\\0.000192\\end{matrix}\\right] + \\left[\\begin{matrix}-0.0126953125\\\\-0.000153598189353943\\end{matrix}\\right]$"
      ],
      "text/plain": [
       "Eq(Matrix([\n",
       "[x_7],\n",
       "[y_7]]), Matrix([\n",
       "[  -1.146],\n",
       "[0.000192]]) + Matrix([\n",
       "[        -0.0126953125],\n",
       "[-0.000153598189353943]]))"
      ]
     },
     "metadata": {},
     "output_type": "display_data"
    },
    {
     "data": {
      "text/latex": [
       "$\\displaystyle \\left[\\begin{matrix}x_{7}\\\\y_{7}\\end{matrix}\\right] = \\left[\\begin{matrix}-1.158\\\\3.84 \\cdot 10^{-5}\\end{matrix}\\right]$"
      ],
      "text/plain": [
       "Eq(Matrix([\n",
       "[x_7],\n",
       "[y_7]]), Matrix([\n",
       "[ -1.158],\n",
       "[3.84e-5]]))"
      ]
     },
     "metadata": {},
     "output_type": "display_data"
    },
    {
     "data": {
      "text/latex": [
       "$\\displaystyle f{\\left(x_{7},y_{7} \\right)} = 3 x_{7}^{2} + 7 x_{7} + 4 y_{7}^{2}$"
      ],
      "text/plain": [
       "Eq(f(x_7, y_7), 3*x_7**2 + 7*x_7 + 4*y_7**2)"
      ]
     },
     "metadata": {},
     "output_type": "display_data"
    },
    {
     "data": {
      "text/latex": [
       "$\\displaystyle f{\\left(-1.158,3.84 \\cdot 10^{-5} \\right)} = -4.083$"
      ],
      "text/plain": [
       "Eq(f(-1.158, 3.84e-5), -4.083)"
      ]
     },
     "metadata": {},
     "output_type": "display_data"
    },
    {
     "name": "stdout",
     "output_type": "stream",
     "text": [
      "\n",
      "Iteration - 8:\n",
      "\n"
     ]
    },
    {
     "data": {
      "text/latex": [
       "$\\displaystyle \\tau_{7} = 0.1$"
      ],
      "text/plain": [
       "Eq(tau_7, 0.1)"
      ]
     },
     "metadata": {},
     "output_type": "display_data"
    },
    {
     "data": {
      "text/latex": [
       "$\\displaystyle \\tau_{7} = 0.1$"
      ],
      "text/plain": [
       "Eq(tau_7, 0.1)"
      ]
     },
     "metadata": {},
     "output_type": "display_data"
    },
    {
     "data": {
      "text/latex": [
       "$\\displaystyle \\left[\\begin{matrix}x_{8}\\\\y_{8}\\end{matrix}\\right] = \\left[\\begin{matrix}x_{7}\\\\y_{7}\\end{matrix}\\right] + \\left[\\begin{matrix}- 0.6 x_{7} - 0.7\\\\- 0.8 y_{7}\\end{matrix}\\right]$"
      ],
      "text/plain": [
       "Eq(Matrix([\n",
       "[x_8],\n",
       "[y_8]]), Matrix([\n",
       "[x_7],\n",
       "[y_7]]) + Matrix([\n",
       "[-0.6*x_7 - 0.7],\n",
       "[      -0.8*y_7]]))"
      ]
     },
     "metadata": {},
     "output_type": "display_data"
    },
    {
     "data": {
      "text/latex": [
       "$\\displaystyle \\left[\\begin{matrix}x_{8}\\\\y_{8}\\end{matrix}\\right] = \\left[\\begin{matrix}-1.158\\\\3.84 \\cdot 10^{-5}\\end{matrix}\\right] + \\left[\\begin{matrix}-0.005078125\\\\-3.07194888591766 \\cdot 10^{-5}\\end{matrix}\\right]$"
      ],
      "text/plain": [
       "Eq(Matrix([\n",
       "[x_8],\n",
       "[y_8]]), Matrix([\n",
       "[ -1.158],\n",
       "[3.84e-5]]) + Matrix([\n",
       "[        -0.005078125],\n",
       "[-3.07194888591766e-5]]))"
      ]
     },
     "metadata": {},
     "output_type": "display_data"
    },
    {
     "data": {
      "text/latex": [
       "$\\displaystyle \\left[\\begin{matrix}x_{8}\\\\y_{8}\\end{matrix}\\right] = \\left[\\begin{matrix}-1.163\\\\7.68 \\cdot 10^{-6}\\end{matrix}\\right]$"
      ],
      "text/plain": [
       "Eq(Matrix([\n",
       "[x_8],\n",
       "[y_8]]), Matrix([\n",
       "[ -1.163],\n",
       "[7.68e-6]]))"
      ]
     },
     "metadata": {},
     "output_type": "display_data"
    },
    {
     "data": {
      "text/latex": [
       "$\\displaystyle f{\\left(x_{8},y_{8} \\right)} = 3 x_{8}^{2} + 7 x_{8} + 4 y_{8}^{2}$"
      ],
      "text/plain": [
       "Eq(f(x_8, y_8), 3*x_8**2 + 7*x_8 + 4*y_8**2)"
      ]
     },
     "metadata": {},
     "output_type": "display_data"
    },
    {
     "data": {
      "text/latex": [
       "$\\displaystyle f{\\left(-1.163,7.68 \\cdot 10^{-6} \\right)} = -4.083$"
      ],
      "text/plain": [
       "Eq(f(-1.163, 7.68e-6), -4.083)"
      ]
     },
     "metadata": {},
     "output_type": "display_data"
    },
    {
     "name": "stdout",
     "output_type": "stream",
     "text": [
      "\n",
      "Iteration - 9:\n",
      "\n"
     ]
    },
    {
     "data": {
      "text/latex": [
       "$\\displaystyle \\tau_{8} = 0.1$"
      ],
      "text/plain": [
       "Eq(tau_8, 0.1)"
      ]
     },
     "metadata": {},
     "output_type": "display_data"
    },
    {
     "data": {
      "text/latex": [
       "$\\displaystyle \\tau_{8} = 0.1$"
      ],
      "text/plain": [
       "Eq(tau_8, 0.1)"
      ]
     },
     "metadata": {},
     "output_type": "display_data"
    },
    {
     "data": {
      "text/latex": [
       "$\\displaystyle \\left[\\begin{matrix}x_{9}\\\\y_{9}\\end{matrix}\\right] = \\left[\\begin{matrix}x_{8}\\\\y_{8}\\end{matrix}\\right] + \\left[\\begin{matrix}- 0.6 x_{8} - 0.7\\\\- 0.8 y_{8}\\end{matrix}\\right]$"
      ],
      "text/plain": [
       "Eq(Matrix([\n",
       "[x_9],\n",
       "[y_9]]), Matrix([\n",
       "[x_8],\n",
       "[y_8]]) + Matrix([\n",
       "[-0.6*x_8 - 0.7],\n",
       "[      -0.8*y_8]]))"
      ]
     },
     "metadata": {},
     "output_type": "display_data"
    },
    {
     "data": {
      "text/latex": [
       "$\\displaystyle \\left[\\begin{matrix}x_{9}\\\\y_{9}\\end{matrix}\\right] = \\left[\\begin{matrix}-1.163\\\\7.68 \\cdot 10^{-6}\\end{matrix}\\right] + \\left[\\begin{matrix}-0.0020263671875\\\\-6.14393502473831 \\cdot 10^{-6}\\end{matrix}\\right]$"
      ],
      "text/plain": [
       "Eq(Matrix([\n",
       "[x_9],\n",
       "[y_9]]), Matrix([\n",
       "[ -1.163],\n",
       "[7.68e-6]]) + Matrix([\n",
       "[    -0.0020263671875],\n",
       "[-6.14393502473831e-6]]))"
      ]
     },
     "metadata": {},
     "output_type": "display_data"
    },
    {
     "data": {
      "text/latex": [
       "$\\displaystyle \\left[\\begin{matrix}x_{9}\\\\y_{9}\\end{matrix}\\right] = \\left[\\begin{matrix}-1.165\\\\1.536 \\cdot 10^{-6}\\end{matrix}\\right]$"
      ],
      "text/plain": [
       "Eq(Matrix([\n",
       "[x_9],\n",
       "[y_9]]), Matrix([\n",
       "[  -1.165],\n",
       "[1.536e-6]]))"
      ]
     },
     "metadata": {},
     "output_type": "display_data"
    },
    {
     "data": {
      "text/latex": [
       "$\\displaystyle f{\\left(x_{9},y_{9} \\right)} = 3 x_{9}^{2} + 7 x_{9} + 4 y_{9}^{2}$"
      ],
      "text/plain": [
       "Eq(f(x_9, y_9), 3*x_9**2 + 7*x_9 + 4*y_9**2)"
      ]
     },
     "metadata": {},
     "output_type": "display_data"
    },
    {
     "data": {
      "text/latex": [
       "$\\displaystyle f{\\left(-1.165,1.536 \\cdot 10^{-6} \\right)} = -4.083$"
      ],
      "text/plain": [
       "Eq(f(-1.165, 1.536e-6), -4.083)"
      ]
     },
     "metadata": {},
     "output_type": "display_data"
    },
    {
     "name": "stdout",
     "output_type": "stream",
     "text": [
      "\n",
      "Iteration - 10:\n",
      "\n"
     ]
    },
    {
     "data": {
      "text/latex": [
       "$\\displaystyle \\tau_{9} = 0.1$"
      ],
      "text/plain": [
       "Eq(tau_9, 0.1)"
      ]
     },
     "metadata": {},
     "output_type": "display_data"
    },
    {
     "data": {
      "text/latex": [
       "$\\displaystyle \\tau_{9} = 0.1$"
      ],
      "text/plain": [
       "Eq(tau_9, 0.1)"
      ]
     },
     "metadata": {},
     "output_type": "display_data"
    },
    {
     "data": {
      "text/latex": [
       "$\\displaystyle \\left[\\begin{matrix}x_{10}\\\\y_{10}\\end{matrix}\\right] = \\left[\\begin{matrix}x_{9}\\\\y_{9}\\end{matrix}\\right] + \\left[\\begin{matrix}- 0.6 x_{9} - 0.7\\\\- 0.8 y_{9}\\end{matrix}\\right]$"
      ],
      "text/plain": [
       "Eq(Matrix([\n",
       "[x_10],\n",
       "[y_10]]), Matrix([\n",
       "[x_9],\n",
       "[y_9]]) + Matrix([\n",
       "[-0.6*x_9 - 0.7],\n",
       "[      -0.8*y_9]]))"
      ]
     },
     "metadata": {},
     "output_type": "display_data"
    },
    {
     "data": {
      "text/latex": [
       "$\\displaystyle \\left[\\begin{matrix}x_{10}\\\\y_{10}\\end{matrix}\\right] = \\left[\\begin{matrix}-1.165\\\\1.536 \\cdot 10^{-6}\\end{matrix}\\right] + \\left[\\begin{matrix}-0.000811767578125\\\\-1.22878700494766 \\cdot 10^{-6}\\end{matrix}\\right]$"
      ],
      "text/plain": [
       "Eq(Matrix([\n",
       "[x_10],\n",
       "[y_10]]), Matrix([\n",
       "[  -1.165],\n",
       "[1.536e-6]]) + Matrix([\n",
       "[  -0.000811767578125],\n",
       "[-1.22878700494766e-6]]))"
      ]
     },
     "metadata": {},
     "output_type": "display_data"
    },
    {
     "data": {
      "text/latex": [
       "$\\displaystyle \\left[\\begin{matrix}x_{10}\\\\y_{10}\\end{matrix}\\right] = \\left[\\begin{matrix}-1.166\\\\3.072 \\cdot 10^{-7}\\end{matrix}\\right]$"
      ],
      "text/plain": [
       "Eq(Matrix([\n",
       "[x_10],\n",
       "[y_10]]), Matrix([\n",
       "[  -1.166],\n",
       "[3.072e-7]]))"
      ]
     },
     "metadata": {},
     "output_type": "display_data"
    },
    {
     "data": {
      "text/latex": [
       "$\\displaystyle f{\\left(x_{10},y_{10} \\right)} = 3 x_{10}^{2} + 7 x_{10} + 4 y_{10}^{2}$"
      ],
      "text/plain": [
       "Eq(f(x_10, y_10), 3*x_10**2 + 7*x_10 + 4*y_10**2)"
      ]
     },
     "metadata": {},
     "output_type": "display_data"
    },
    {
     "data": {
      "text/latex": [
       "$\\displaystyle f{\\left(-1.166,3.072 \\cdot 10^{-7} \\right)} = -4.083$"
      ],
      "text/plain": [
       "Eq(f(-1.166, 3.072e-7), -4.083)"
      ]
     },
     "metadata": {},
     "output_type": "display_data"
    }
   ],
   "source": [
    "#constant tau\n",
    "steepest_descent(str_expr='3*x**2 + 4*y**2 + 7*x' , str_symbols= 'x y', x_init=[4,3], \n",
    "                 tau=0.1, n_iter=10, rounding_digit = 4)"
   ]
  },
  {
   "cell_type": "code",
   "execution_count": null,
   "id": "78f2a3b7",
   "metadata": {},
   "outputs": [],
   "source": []
  }
 ],
 "metadata": {
  "kernelspec": {
   "display_name": "Python 3 (ipykernel)",
   "language": "python",
   "name": "python3"
  },
  "language_info": {
   "codemirror_mode": {
    "name": "ipython",
    "version": 3
   },
   "file_extension": ".py",
   "mimetype": "text/x-python",
   "name": "python",
   "nbconvert_exporter": "python",
   "pygments_lexer": "ipython3",
   "version": "3.7.6"
  }
 },
 "nbformat": 4,
 "nbformat_minor": 5
}
