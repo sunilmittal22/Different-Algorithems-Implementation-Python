{
 "cells": [
  {
   "cell_type": "code",
   "execution_count": 40,
   "id": "5e6ab539",
   "metadata": {},
   "outputs": [],
   "source": [
    "from sympy import *"
   ]
  },
  {
   "cell_type": "code",
   "execution_count": 57,
   "id": "36bebcbf",
   "metadata": {},
   "outputs": [
    {
     "data": {
      "application/javascript": [
       "IPython.OutputArea.prototype._should_scroll = function(lines) {\n",
       "    return false;\n",
       "}\n"
      ],
      "text/plain": [
       "<IPython.core.display.Javascript object>"
      ]
     },
     "metadata": {},
     "output_type": "display_data"
    }
   ],
   "source": [
    "%%javascript\n",
    "IPython.OutputArea.prototype._should_scroll = function(lines) {\n",
    "    return false;\n",
    "}"
   ]
  },
  {
   "cell_type": "code",
   "execution_count": 76,
   "id": "a9f0cb9e",
   "metadata": {},
   "outputs": [],
   "source": [
    "def karatsuba_mul(x,y, i = 1):\n",
    "    \"\"\"Function to multiply 2 numbers in a more efficient manner than the grade school algorithm\"\"\"\n",
    "    print('------------------------------------------------------')\n",
    "    print(f'\\nCompute {x} * {y} using Karatsuba Multiplication')\n",
    "    display(Eq(Symbol('X'), x))\n",
    "    display(Eq(Symbol('Y'), y))\n",
    "    if len(str(x)) == 1 or len(str(y)) == 1:\n",
    "        display(Eq(Symbol('X*Y'), x*y))\n",
    "        return x*y\n",
    "    else:\n",
    "        n = max(len(str(x)),len(str(y)))\n",
    "        nby2 = int(n / 2)\n",
    "        \n",
    "        a = int(x / 10**(nby2))\n",
    "        b = x % 10**(nby2)\n",
    "        c = int(y / 10**(nby2))\n",
    "        d = y % 10**(nby2)\n",
    "        print()\n",
    "        m = max(len(str(a)),len(str(b)), len(str(c)), len(str(d)))\n",
    "        display(Symbol('Subproblems:'))\n",
    "        if m > 1:\n",
    "            display(Symbol(f'X_{{H}} = {a}, X_{{L}} = {b}, Y_{{H}} = {c}, Y_{{L}} = {d}'))\n",
    "\n",
    "            display(Symbol(f'a_{{{i}}} = X_{{H}}*Y_{{H}} = {a}*{c}'))\n",
    "            display(Symbol(f'd_{{{i}}} = X_{{L}}*Y_{{L}} = {b}*{d}'))\n",
    "            display(Symbol(f'e_{{{i}}} = (X_{{H}}+X_{{L}})*(Y_{{H}}+Y_{{L}}) - a_{{{i}}} - d_{{{i}}}'))\n",
    "            display(Symbol(f'          = ({a}+{b})*({c}+{d}) - a_{{{i}}} - d_{{{i}}}'))\n",
    "            display(Symbol(f'          = {a+b}*{c+d} - a_{{{i}}} - d_{{{i}}}'))\n",
    "\n",
    "            print('\\nSolving the above 3 subproblems recursively using karatsuba multiplication\\n')\n",
    "            i+=1\n",
    "            ac = karatsuba_mul(a,c, i)\n",
    "            bd = karatsuba_mul(b,d, i)\n",
    "            ad_plus_bc = karatsuba_mul(a+b,c+d) - ac - bd\n",
    "            print('\\nWe get')\n",
    "            display(Symbol(f'a_{{{i}}} = {a}*{c} = {ac}'))\n",
    "            display(Symbol(f'd_{{{i}}} = {b}*{d} = {bd}'))\n",
    "            display(Symbol(f'e_{{{i}}} = {a+b}*{c+d} - a_{{{i}}} - d_{{{i}}} = {ad_plus_bc}'))\n",
    "        else:\n",
    "            ac = a*c\n",
    "            bd = b*d\n",
    "            ad_plus_bc = (a+b)*(c+d) - ac - bd \n",
    "            display(Symbol(f'X_{{H}} = {a}, X_{{L}} = {b}, Y_{{H}} = {c}, Y_{{L}} = {d}'))\n",
    "\n",
    "            display(Symbol(f'a_{{{i}}} = X_{{H}}*Y_{{H}} = {a}*{c} = {ac}'))\n",
    "            display(Symbol(f'd_{{{i}}} = X_{{L}}*Y_{{L}} = {b}*{d} = {bd}'))\n",
    "            display(Symbol(f'e_{{{i}}} = (X_{{H}}+X_{{L}})*(Y_{{H}}+Y_{{L}}) - a_{{{i}}} - d_{{{i}}}'))\n",
    "            display(Symbol(f'          = ({a}+{b})*({c}+{d}) - {ac} - {bd} = {ad_plus_bc}'))\n",
    "            #display(Symbol(f'          = {a+b}*{c+d} - a_{{{i}}} - d_{{{i}}}'))\n",
    "\n",
    "\n",
    "        \n",
    "        # this little trick, writing n as 2*nby2 takes care of both even and odd n\n",
    "        prod = ac * 10**(2*nby2) + (ad_plus_bc * 10**nby2) + bd\n",
    "        display(Symbol(f'{x}*{y} = a_{{{i}}}*10^{{{2*nby2}}} +e_{{{i}}}*10^{{{nby2}}} + d_{{{i}}}'))\n",
    "        display(Symbol(f'{x}*{y} = {ac}*10^{{{2*nby2}}} +{ad_plus_bc}*10^{{{nby2}}} + {bd}'))\n",
    "        display(Symbol(f'          = {prod}'))\n",
    "\n",
    "        return prod"
   ]
  },
  {
   "cell_type": "code",
   "execution_count": 77,
   "id": "ff092257",
   "metadata": {},
   "outputs": [
    {
     "name": "stdout",
     "output_type": "stream",
     "text": [
      "------------------------------------------------------\n",
      "\n",
      "Compute 1234 * 4321 using Karatsuba Multiplication\n"
     ]
    },
    {
     "data": {
      "text/latex": [
       "$\\displaystyle X = 1234$"
      ],
      "text/plain": [
       "Eq(X, 1234)"
      ]
     },
     "metadata": {},
     "output_type": "display_data"
    },
    {
     "data": {
      "text/latex": [
       "$\\displaystyle Y = 4321$"
      ],
      "text/plain": [
       "Eq(Y, 4321)"
      ]
     },
     "metadata": {},
     "output_type": "display_data"
    },
    {
     "name": "stdout",
     "output_type": "stream",
     "text": [
      "\n"
     ]
    },
    {
     "data": {
      "text/latex": [
       "$\\displaystyle Subproblems:$"
      ],
      "text/plain": [
       "Subproblems:"
      ]
     },
     "metadata": {},
     "output_type": "display_data"
    },
    {
     "data": {
      "text/latex": [
       "$\\displaystyle X_{H} = 12, X_{L} = 34, Y_{H} = 43, Y_{L} = 21$"
      ],
      "text/plain": [
       "X_{H} = 12, X_{L} = 34, Y_{H} = 43, Y_{L} = 21"
      ]
     },
     "metadata": {},
     "output_type": "display_data"
    },
    {
     "data": {
      "text/latex": [
       "$\\displaystyle a_{1} = X_{H}*Y_{H} = 12*43$"
      ],
      "text/plain": [
       "a_{1} = X_{H}*Y_{H} = 12*43"
      ]
     },
     "metadata": {},
     "output_type": "display_data"
    },
    {
     "data": {
      "text/latex": [
       "$\\displaystyle d_{1} = X_{L}*Y_{L} = 34*21$"
      ],
      "text/plain": [
       "d_{1} = X_{L}*Y_{L} = 34*21"
      ]
     },
     "metadata": {},
     "output_type": "display_data"
    },
    {
     "data": {
      "text/latex": [
       "$\\displaystyle e_{1} = (X_{H}+X_{L})*(Y_{H}+Y_{L}) - a_{1} - d_{1}$"
      ],
      "text/plain": [
       "e_{1} = (X_{H}+X_{L})*(Y_{H}+Y_{L}) - a_{1} - d_{1}"
      ]
     },
     "metadata": {},
     "output_type": "display_data"
    },
    {
     "data": {
      "text/latex": [
       "$\\displaystyle           = (12+34)*(43+21) - a_{1} - d_{1}$"
      ],
      "text/plain": [
       "          = (12+34)*(43+21) - a_{1} - d_{1}"
      ]
     },
     "metadata": {},
     "output_type": "display_data"
    },
    {
     "data": {
      "text/latex": [
       "$\\displaystyle           = 46*64 - a_{1} - d_{1}$"
      ],
      "text/plain": [
       "          = 46*64 - a_{1} - d_{1}"
      ]
     },
     "metadata": {},
     "output_type": "display_data"
    },
    {
     "name": "stdout",
     "output_type": "stream",
     "text": [
      "\n",
      "Solving the above 3 subproblems recursively using karatsuba multiplication\n",
      "\n",
      "------------------------------------------------------\n",
      "\n",
      "Compute 12 * 43 using Karatsuba Multiplication\n"
     ]
    },
    {
     "data": {
      "text/latex": [
       "$\\displaystyle X = 12$"
      ],
      "text/plain": [
       "Eq(X, 12)"
      ]
     },
     "metadata": {},
     "output_type": "display_data"
    },
    {
     "data": {
      "text/latex": [
       "$\\displaystyle Y = 43$"
      ],
      "text/plain": [
       "Eq(Y, 43)"
      ]
     },
     "metadata": {},
     "output_type": "display_data"
    },
    {
     "name": "stdout",
     "output_type": "stream",
     "text": [
      "\n"
     ]
    },
    {
     "data": {
      "text/latex": [
       "$\\displaystyle Subproblems:$"
      ],
      "text/plain": [
       "Subproblems:"
      ]
     },
     "metadata": {},
     "output_type": "display_data"
    },
    {
     "data": {
      "text/latex": [
       "$\\displaystyle X_{H} = 1, X_{L} = 2, Y_{H} = 4, Y_{L} = 3$"
      ],
      "text/plain": [
       "X_{H} = 1, X_{L} = 2, Y_{H} = 4, Y_{L} = 3"
      ]
     },
     "metadata": {},
     "output_type": "display_data"
    },
    {
     "data": {
      "text/latex": [
       "$\\displaystyle a_{2} = X_{H}*Y_{H} = 1*4 = 4$"
      ],
      "text/plain": [
       "a_{2} = X_{H}*Y_{H} = 1*4 = 4"
      ]
     },
     "metadata": {},
     "output_type": "display_data"
    },
    {
     "data": {
      "text/latex": [
       "$\\displaystyle d_{2} = X_{L}*Y_{L} = 2*3 = 6$"
      ],
      "text/plain": [
       "d_{2} = X_{L}*Y_{L} = 2*3 = 6"
      ]
     },
     "metadata": {},
     "output_type": "display_data"
    },
    {
     "data": {
      "text/latex": [
       "$\\displaystyle e_{2} = (X_{H}+X_{L})*(Y_{H}+Y_{L}) - a_{2} - d_{2}$"
      ],
      "text/plain": [
       "e_{2} = (X_{H}+X_{L})*(Y_{H}+Y_{L}) - a_{2} - d_{2}"
      ]
     },
     "metadata": {},
     "output_type": "display_data"
    },
    {
     "data": {
      "text/latex": [
       "$\\displaystyle           = (1+2)*(4+3) - 4 - 6 = 11$"
      ],
      "text/plain": [
       "          = (1+2)*(4+3) - 4 - 6 = 11"
      ]
     },
     "metadata": {},
     "output_type": "display_data"
    },
    {
     "data": {
      "text/latex": [
       "$\\displaystyle 12*43 = a_{2}*10^{2} +e_{2}*10^{1} + d_{2}$"
      ],
      "text/plain": [
       "12*43 = a_{2}*10^{2} +e_{2}*10^{1} + d_{2}"
      ]
     },
     "metadata": {},
     "output_type": "display_data"
    },
    {
     "data": {
      "text/latex": [
       "$\\displaystyle 12*43 = 4*10^{2} +11*10^{1} + 6$"
      ],
      "text/plain": [
       "12*43 = 4*10^{2} +11*10^{1} + 6"
      ]
     },
     "metadata": {},
     "output_type": "display_data"
    },
    {
     "data": {
      "text/latex": [
       "$\\displaystyle           = 516$"
      ],
      "text/plain": [
       "          = 516"
      ]
     },
     "metadata": {},
     "output_type": "display_data"
    },
    {
     "name": "stdout",
     "output_type": "stream",
     "text": [
      "------------------------------------------------------\n",
      "\n",
      "Compute 34 * 21 using Karatsuba Multiplication\n"
     ]
    },
    {
     "data": {
      "text/latex": [
       "$\\displaystyle X = 34$"
      ],
      "text/plain": [
       "Eq(X, 34)"
      ]
     },
     "metadata": {},
     "output_type": "display_data"
    },
    {
     "data": {
      "text/latex": [
       "$\\displaystyle Y = 21$"
      ],
      "text/plain": [
       "Eq(Y, 21)"
      ]
     },
     "metadata": {},
     "output_type": "display_data"
    },
    {
     "name": "stdout",
     "output_type": "stream",
     "text": [
      "\n"
     ]
    },
    {
     "data": {
      "text/latex": [
       "$\\displaystyle Subproblems:$"
      ],
      "text/plain": [
       "Subproblems:"
      ]
     },
     "metadata": {},
     "output_type": "display_data"
    },
    {
     "data": {
      "text/latex": [
       "$\\displaystyle X_{H} = 3, X_{L} = 4, Y_{H} = 2, Y_{L} = 1$"
      ],
      "text/plain": [
       "X_{H} = 3, X_{L} = 4, Y_{H} = 2, Y_{L} = 1"
      ]
     },
     "metadata": {},
     "output_type": "display_data"
    },
    {
     "data": {
      "text/latex": [
       "$\\displaystyle a_{2} = X_{H}*Y_{H} = 3*2 = 6$"
      ],
      "text/plain": [
       "a_{2} = X_{H}*Y_{H} = 3*2 = 6"
      ]
     },
     "metadata": {},
     "output_type": "display_data"
    },
    {
     "data": {
      "text/latex": [
       "$\\displaystyle d_{2} = X_{L}*Y_{L} = 4*1 = 4$"
      ],
      "text/plain": [
       "d_{2} = X_{L}*Y_{L} = 4*1 = 4"
      ]
     },
     "metadata": {},
     "output_type": "display_data"
    },
    {
     "data": {
      "text/latex": [
       "$\\displaystyle e_{2} = (X_{H}+X_{L})*(Y_{H}+Y_{L}) - a_{2} - d_{2}$"
      ],
      "text/plain": [
       "e_{2} = (X_{H}+X_{L})*(Y_{H}+Y_{L}) - a_{2} - d_{2}"
      ]
     },
     "metadata": {},
     "output_type": "display_data"
    },
    {
     "data": {
      "text/latex": [
       "$\\displaystyle           = (3+4)*(2+1) - 6 - 4 = 11$"
      ],
      "text/plain": [
       "          = (3+4)*(2+1) - 6 - 4 = 11"
      ]
     },
     "metadata": {},
     "output_type": "display_data"
    },
    {
     "data": {
      "text/latex": [
       "$\\displaystyle 34*21 = a_{2}*10^{2} +e_{2}*10^{1} + d_{2}$"
      ],
      "text/plain": [
       "34*21 = a_{2}*10^{2} +e_{2}*10^{1} + d_{2}"
      ]
     },
     "metadata": {},
     "output_type": "display_data"
    },
    {
     "data": {
      "text/latex": [
       "$\\displaystyle 34*21 = 6*10^{2} +11*10^{1} + 4$"
      ],
      "text/plain": [
       "34*21 = 6*10^{2} +11*10^{1} + 4"
      ]
     },
     "metadata": {},
     "output_type": "display_data"
    },
    {
     "data": {
      "text/latex": [
       "$\\displaystyle           = 714$"
      ],
      "text/plain": [
       "          = 714"
      ]
     },
     "metadata": {},
     "output_type": "display_data"
    },
    {
     "name": "stdout",
     "output_type": "stream",
     "text": [
      "------------------------------------------------------\n",
      "\n",
      "Compute 46 * 64 using Karatsuba Multiplication\n"
     ]
    },
    {
     "data": {
      "text/latex": [
       "$\\displaystyle X = 46$"
      ],
      "text/plain": [
       "Eq(X, 46)"
      ]
     },
     "metadata": {},
     "output_type": "display_data"
    },
    {
     "data": {
      "text/latex": [
       "$\\displaystyle Y = 64$"
      ],
      "text/plain": [
       "Eq(Y, 64)"
      ]
     },
     "metadata": {},
     "output_type": "display_data"
    },
    {
     "name": "stdout",
     "output_type": "stream",
     "text": [
      "\n"
     ]
    },
    {
     "data": {
      "text/latex": [
       "$\\displaystyle Subproblems:$"
      ],
      "text/plain": [
       "Subproblems:"
      ]
     },
     "metadata": {},
     "output_type": "display_data"
    },
    {
     "data": {
      "text/latex": [
       "$\\displaystyle X_{H} = 4, X_{L} = 6, Y_{H} = 6, Y_{L} = 4$"
      ],
      "text/plain": [
       "X_{H} = 4, X_{L} = 6, Y_{H} = 6, Y_{L} = 4"
      ]
     },
     "metadata": {},
     "output_type": "display_data"
    },
    {
     "data": {
      "text/latex": [
       "$\\displaystyle a_{1} = X_{H}*Y_{H} = 4*6 = 24$"
      ],
      "text/plain": [
       "a_{1} = X_{H}*Y_{H} = 4*6 = 24"
      ]
     },
     "metadata": {},
     "output_type": "display_data"
    },
    {
     "data": {
      "text/latex": [
       "$\\displaystyle d_{1} = X_{L}*Y_{L} = 6*4 = 24$"
      ],
      "text/plain": [
       "d_{1} = X_{L}*Y_{L} = 6*4 = 24"
      ]
     },
     "metadata": {},
     "output_type": "display_data"
    },
    {
     "data": {
      "text/latex": [
       "$\\displaystyle e_{1} = (X_{H}+X_{L})*(Y_{H}+Y_{L}) - a_{1} - d_{1}$"
      ],
      "text/plain": [
       "e_{1} = (X_{H}+X_{L})*(Y_{H}+Y_{L}) - a_{1} - d_{1}"
      ]
     },
     "metadata": {},
     "output_type": "display_data"
    },
    {
     "data": {
      "text/latex": [
       "$\\displaystyle           = (4+6)*(6+4) - 24 - 24 = 52$"
      ],
      "text/plain": [
       "          = (4+6)*(6+4) - 24 - 24 = 52"
      ]
     },
     "metadata": {},
     "output_type": "display_data"
    },
    {
     "data": {
      "text/latex": [
       "$\\displaystyle 46*64 = a_{1}*10^{2} +e_{1}*10^{1} + d_{1}$"
      ],
      "text/plain": [
       "46*64 = a_{1}*10^{2} +e_{1}*10^{1} + d_{1}"
      ]
     },
     "metadata": {},
     "output_type": "display_data"
    },
    {
     "data": {
      "text/latex": [
       "$\\displaystyle 46*64 = 24*10^{2} +52*10^{1} + 24$"
      ],
      "text/plain": [
       "46*64 = 24*10^{2} +52*10^{1} + 24"
      ]
     },
     "metadata": {},
     "output_type": "display_data"
    },
    {
     "data": {
      "text/latex": [
       "$\\displaystyle           = 2944$"
      ],
      "text/plain": [
       "          = 2944"
      ]
     },
     "metadata": {},
     "output_type": "display_data"
    },
    {
     "name": "stdout",
     "output_type": "stream",
     "text": [
      "\n",
      "We get\n"
     ]
    },
    {
     "data": {
      "text/latex": [
       "$\\displaystyle a_{2} = 12*43 = 516$"
      ],
      "text/plain": [
       "a_{2} = 12*43 = 516"
      ]
     },
     "metadata": {},
     "output_type": "display_data"
    },
    {
     "data": {
      "text/latex": [
       "$\\displaystyle d_{2} = 34*21 = 714$"
      ],
      "text/plain": [
       "d_{2} = 34*21 = 714"
      ]
     },
     "metadata": {},
     "output_type": "display_data"
    },
    {
     "data": {
      "text/latex": [
       "$\\displaystyle e_{2} = 46*64 - a_{2} - d_{2} = 1714$"
      ],
      "text/plain": [
       "e_{2} = 46*64 - a_{2} - d_{2} = 1714"
      ]
     },
     "metadata": {},
     "output_type": "display_data"
    },
    {
     "data": {
      "text/latex": [
       "$\\displaystyle 1234*4321 = a_{2}*10^{4} +e_{2}*10^{2} + d_{2}$"
      ],
      "text/plain": [
       "1234*4321 = a_{2}*10^{4} +e_{2}*10^{2} + d_{2}"
      ]
     },
     "metadata": {},
     "output_type": "display_data"
    },
    {
     "data": {
      "text/latex": [
       "$\\displaystyle 1234*4321 = 516*10^{4} +1714*10^{2} + 714$"
      ],
      "text/plain": [
       "1234*4321 = 516*10^{4} +1714*10^{2} + 714"
      ]
     },
     "metadata": {},
     "output_type": "display_data"
    },
    {
     "data": {
      "text/latex": [
       "$\\displaystyle           = 5332114$"
      ],
      "text/plain": [
       "          = 5332114"
      ]
     },
     "metadata": {},
     "output_type": "display_data"
    },
    {
     "data": {
      "text/plain": [
       "5332114"
      ]
     },
     "execution_count": 77,
     "metadata": {},
     "output_type": "execute_result"
    }
   ],
   "source": [
    "karatsuba_mul(1234,4321)"
   ]
  },
  {
   "cell_type": "code",
   "execution_count": 36,
   "id": "04e62113",
   "metadata": {},
   "outputs": [
    {
     "data": {
      "text/plain": [
       "10888896557771484"
      ]
     },
     "execution_count": 36,
     "metadata": {},
     "output_type": "execute_result"
    }
   ],
   "source": [
    "23333322*466667222"
   ]
  },
  {
   "cell_type": "code",
   "execution_count": null,
   "id": "0e575f27",
   "metadata": {},
   "outputs": [],
   "source": []
  }
 ],
 "metadata": {
  "kernelspec": {
   "display_name": "Python 3 (ipykernel)",
   "language": "python",
   "name": "python3"
  },
  "language_info": {
   "codemirror_mode": {
    "name": "ipython",
    "version": 3
   },
   "file_extension": ".py",
   "mimetype": "text/x-python",
   "name": "python",
   "nbconvert_exporter": "python",
   "pygments_lexer": "ipython3",
   "version": "3.7.6"
  }
 },
 "nbformat": 4,
 "nbformat_minor": 5
}
