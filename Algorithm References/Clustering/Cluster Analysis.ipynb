{
 "cells": [
  {
   "cell_type": "code",
   "execution_count": 6,
   "id": "3bdf4d02",
   "metadata": {},
   "outputs": [],
   "source": [
    "import numpy as np\n",
    "import pandas as pd\n",
    "import scipy.spatial.distance as dist\n",
    "from sympy import *\n",
    "import random"
   ]
  },
  {
   "cell_type": "code",
   "execution_count": 2,
   "id": "b01916a5",
   "metadata": {},
   "outputs": [
    {
     "data": {
      "application/javascript": [
       "IPython.OutputArea.prototype._should_scroll = function(lines) {\n",
       "    return false;\n",
       "}\n"
      ],
      "text/plain": [
       "<IPython.core.display.Javascript object>"
      ]
     },
     "metadata": {},
     "output_type": "display_data"
    }
   ],
   "source": [
    "%%javascript\n",
    "IPython.OutputArea.prototype._should_scroll = function(lines) {\n",
    "    return false;\n",
    "}"
   ]
  },
  {
   "cell_type": "code",
   "execution_count": 59,
   "id": "c764b91b",
   "metadata": {},
   "outputs": [],
   "source": [
    "class ClusterAnalyser:\n",
    "    \n",
    "    @classmethod\n",
    "    def check_purity(cls, cluster):\n",
    "        print('Purity of cluster i is\\n')\n",
    "        display(Symbol('P_{i} = max(p_{ij})'))\n",
    "        display(Eq(Symbol('p_{ij}'),Symbol('m_{ij}')/Symbol('M_{i}')))\n",
    "        print('Where, m_ij is the no of objects of class j in cluster i')\n",
    "        print('And M_i is the total no of object in cluster i')\n",
    "        \n",
    "        purity = max(list(Matrix(cluster)/sum(cluster)))\n",
    "        \n",
    "        print(f'\\nP = max{list(Matrix(cluster)/sum(cluster))} = {purity} = {N(purity,3)}')\n",
    "    \n",
    "    @classmethod\n",
    "    def cal_entropy(cls, cluster):\n",
    "        print('Entropy of cluster i is\\n')\n",
    "        display(Symbol('e_{i} = \\u03A3_{j=1}^{L}p_{ij}log_{2}(p_{ij})'))\n",
    "        display(Eq(Symbol('p_{ij}'),Symbol('m_{ij}')/Symbol('M_{i}')))\n",
    "        print('Where, m_ij is the no of objects of class j in cluster i')\n",
    "        print('And M_i is the total no of object in cluster i')\n",
    "        \n",
    "        p_ij = list(Matrix(cluster)/sum(cluster))\n",
    "        \n",
    "        e_str =[f'-{x}log\\u2082({x})' for x in p_ij]\n",
    "        sum_c = sum(cluster)\n",
    "        \n",
    "        entropy = round(sum([-x/sum_c*np.log2(x/sum_c) for x in cluster if x > 0]),3)\n",
    "        print(f'\\ne = {\"\".join(e_str)} = {entropy} ')\n",
    "    @classmethod\n",
    "    def cal_hopkins_stat(cls, cluster):\n",
    "        print('Calculating hopkins statistics to check uniformity of cluster distribution\\n')\n",
    "        print(f'\\nCluster: {cluster}')\n",
    "        choice = int(np.ceil(len(cluster)/2))\n",
    "        #print(choice)\n",
    "        print (f'\\n Randomly select {choice} elements from cluster')\n",
    "        sample1 = random.sample(cluster, choice)\n",
    "        print(f'\\nSample: {sample1}')\n",
    "        print('\\nFind point nearest to each point in the sample and sum all the nearest distances')\n",
    "        pm = cls.prepare_proximity_matrix(cluster)\n",
    "        s = ''\n",
    "        sum_x = 0\n",
    "        for idx in sample1:\n",
    "            dist = pm.loc[idx].sort_values(ascending=True).iloc[1]\n",
    "            i = pm.loc[idx].sort_values(ascending=True).index[1]\n",
    "            sum_x+=dist\n",
    "            s+=f'd({idx},{i}) +'\n",
    "        s = s[:-1]\n",
    "        display(Eq(Symbol('\\u03A3x_i'), Symbol(s)))\n",
    "        display(Eq(Symbol('\\u03A3x_i'), sum_x))\n",
    "        \n",
    "        sample2=[]\n",
    "        print (f'\\nRandomly select {choice} elements from cluster and remove from cluster')\n",
    "        \n",
    "        for i in range(choice):\n",
    "            p = random.choice(cluster)\n",
    "            cluster.remove(p)\n",
    "            print(f'P{i+1} = {p}, cluster = {cluster}')\n",
    "            sample2.append(p)\n",
    "        s = ''\n",
    "        sum_y=0    \n",
    "        for idx in sample2:\n",
    "            dist = pm.loc[idx].sort_values(ascending=True).iloc[1]\n",
    "            i = pm.loc[idx].sort_values(ascending=True).index[1]\n",
    "            sum_y+=dist\n",
    "            s+=f'd({idx},{i}) +'\n",
    "        s = s[:-1]\n",
    "        display(Eq(Symbol('\\u03A3y_i'), Symbol(s)))\n",
    "        display(Eq(Symbol('\\u03A3y_i'), sum_y))\n",
    "        display(Eq(Symbol('H'), Symbol('\\u03A3y_i')/Symbol('\\u03A3x_{i} + \\u03A3y_{i}')))\n",
    "        h = sum_y/(sum_x + sum_y)\n",
    "        display(Eq(Symbol('H'), round(h,3)))\n",
    "        \n",
    "        if h<= 0.5:\n",
    "            print('Since H <= 0.5, data is uniformly distributed as per Hopkins statistics and not suitable for clustering')\n",
    "        else:\n",
    "            print('Since H > 0.5, data is not uniformly distributed as per Hopkins statistics and suitable for clustering')\n",
    "                \n",
    "        \n",
    "    @classmethod    \n",
    "    def cal_distance(cls, x1, x2, distance = 'Euclidean'):\n",
    "        if distance == 'Euclidean':\n",
    "            return round(dist.euclidean(x1,x2),3)\n",
    "        elif distance == 'Manhattan':\n",
    "            return sum([abs(i-j) for i,j in zip(x1,x2)])\n",
    "        \n",
    "    @classmethod\n",
    "    def prepare_proximity_matrix(cls, cluster):\n",
    "        \n",
    "        proximity_matrix = pd.DataFrame(index=cluster, columns=cluster)\n",
    "        proximity_matrix.fillna('', inplace=True)        \n",
    "        \n",
    "        for i in range(len(cluster)):\n",
    "            for j in range(len(cluster)):                \n",
    "                proximity_matrix.iloc[i,j] = cls.cal_distance(cluster[i], cluster[j])\n",
    "        #print(proximity_matrix)\n",
    "        return proximity_matrix"
   ]
  },
  {
   "cell_type": "markdown",
   "id": "928478eb",
   "metadata": {},
   "source": [
    "## Cluster Purity"
   ]
  },
  {
   "cell_type": "code",
   "execution_count": 56,
   "id": "9183e576",
   "metadata": {},
   "outputs": [
    {
     "name": "stdout",
     "output_type": "stream",
     "text": [
      "Purity of cluster i is\n",
      "\n"
     ]
    },
    {
     "data": {
      "text/latex": [
       "$\\displaystyle P_{i} = max(p_{ij})$"
      ],
      "text/plain": [
       "P_{i} = max(p_{ij})"
      ]
     },
     "metadata": {},
     "output_type": "display_data"
    },
    {
     "data": {
      "text/latex": [
       "$\\displaystyle p_{ij} = \\frac{m_{ij}}{M_{i}}$"
      ],
      "text/plain": [
       "Eq(p_{ij}, m_{ij}/M_{i})"
      ]
     },
     "metadata": {},
     "output_type": "display_data"
    },
    {
     "name": "stdout",
     "output_type": "stream",
     "text": [
      "Where, m_ij is the no of objects of class j in cluster i\n",
      "And M_i is the total no of object in cluster i\n",
      "\n",
      "P = max[1/693, 1/693, 0, 1/63, 4/693, 676/693] = 676/693 = 0.975\n"
     ]
    }
   ],
   "source": [
    "ClusterAnalyser.check_purity([1,1,0,11,4,676])"
   ]
  },
  {
   "cell_type": "markdown",
   "id": "2244de70",
   "metadata": {},
   "source": [
    "## Cluster Entropy"
   ]
  },
  {
   "cell_type": "code",
   "execution_count": 57,
   "id": "392e4517",
   "metadata": {},
   "outputs": [
    {
     "name": "stdout",
     "output_type": "stream",
     "text": [
      "Entropy of cluster i is\n",
      "\n"
     ]
    },
    {
     "data": {
      "text/latex": [
       "$\\displaystyle e_{i} = Σ_{j=1}^{L}p_{ij}log_{2}(p_{ij})$"
      ],
      "text/plain": [
       "e_{i} = Σ_{j=1}^{L}p_{ij}log_{2}(p_{ij})"
      ]
     },
     "metadata": {},
     "output_type": "display_data"
    },
    {
     "data": {
      "text/latex": [
       "$\\displaystyle p_{ij} = \\frac{m_{ij}}{M_{i}}$"
      ],
      "text/plain": [
       "Eq(p_{ij}, m_{ij}/M_{i})"
      ]
     },
     "metadata": {},
     "output_type": "display_data"
    },
    {
     "name": "stdout",
     "output_type": "stream",
     "text": [
      "Where, m_ij is the no of objects of class j in cluster i\n",
      "And M_i is the total no of object in cluster i\n",
      "\n",
      "e = -1/693log₂(1/693)-1/693log₂(1/693)-0log₂(0)-1/63log₂(1/63)-4/693log₂(4/693)-676/693log₂(676/693) = 0.2 \n"
     ]
    }
   ],
   "source": [
    "ClusterAnalyser.cal_entropy([1,1,0,11,4,676])"
   ]
  },
  {
   "cell_type": "markdown",
   "id": "00ed8d81",
   "metadata": {},
   "source": [
    "## Hopkins Statistics"
   ]
  },
  {
   "cell_type": "code",
   "execution_count": 58,
   "id": "61b26315",
   "metadata": {},
   "outputs": [
    {
     "name": "stdout",
     "output_type": "stream",
     "text": [
      "Calculating hopkins statistics to check uniformity of cluster distribution\n",
      "\n",
      "\n",
      "Cluster: [2, 10, 12, 4, 25, 3, 30, 20, 11]\n",
      "\n",
      " Randomly select 5 elements from cluster\n",
      "\n",
      "Sample: [12, 4, 20, 30, 11]\n",
      "\n",
      "Find point nearest to each point in the sample and sum all the nearest distances\n"
     ]
    },
    {
     "data": {
      "text/latex": [
       "$\\displaystyle Σx_{i} = d(12,11) +d(4,3) +d(20,25) +d(30,25) +d(11,10) $"
      ],
      "text/plain": [
       "Eq(Σx_i, d(12,11) +d(4,3) +d(20,25) +d(30,25) +d(11,10) )"
      ]
     },
     "metadata": {},
     "output_type": "display_data"
    },
    {
     "data": {
      "text/latex": [
       "$\\displaystyle Σx_{i} = 13.0$"
      ],
      "text/plain": [
       "Eq(Σx_i, 13.0)"
      ]
     },
     "metadata": {},
     "output_type": "display_data"
    },
    {
     "name": "stdout",
     "output_type": "stream",
     "text": [
      "\n",
      " Randomly select 5 elements from cluster and remove from cluster\n",
      "P1 = 10, cluster = [2, 12, 4, 25, 3, 30, 20, 11]\n",
      "P2 = 11, cluster = [2, 12, 4, 25, 3, 30, 20]\n",
      "P3 = 25, cluster = [2, 12, 4, 3, 30, 20]\n",
      "P4 = 30, cluster = [2, 12, 4, 3, 20]\n",
      "P5 = 12, cluster = [2, 4, 3, 20]\n"
     ]
    },
    {
     "data": {
      "text/latex": [
       "$\\displaystyle Σy_{i} = d(10,11) +d(11,10) +d(25,30) +d(30,25) +d(12,11) $"
      ],
      "text/plain": [
       "Eq(Σy_i, d(10,11) +d(11,10) +d(25,30) +d(30,25) +d(12,11) )"
      ]
     },
     "metadata": {},
     "output_type": "display_data"
    },
    {
     "data": {
      "text/latex": [
       "$\\displaystyle Σy_{i} = 13.0$"
      ],
      "text/plain": [
       "Eq(Σy_i, 13.0)"
      ]
     },
     "metadata": {},
     "output_type": "display_data"
    },
    {
     "data": {
      "text/latex": [
       "$\\displaystyle H = \\frac{Σy_{i}}{Σx_{i} + Σy_{i}}$"
      ],
      "text/plain": [
       "Eq(H, Σy_i/Σx_{i} + Σy_{i})"
      ]
     },
     "metadata": {},
     "output_type": "display_data"
    },
    {
     "data": {
      "text/latex": [
       "$\\displaystyle H = 0.5$"
      ],
      "text/plain": [
       "Eq(H, 0.5)"
      ]
     },
     "metadata": {},
     "output_type": "display_data"
    },
    {
     "name": "stdout",
     "output_type": "stream",
     "text": [
      "Since H <= 0.5, data is uniformly distributed as per Hopkins statistics and not suitable for clustering\n"
     ]
    }
   ],
   "source": [
    "ClusterAnalyser.cal_hopkins_stat([2,10,12,4,25,3,30,20,11])"
   ]
  },
  {
   "cell_type": "code",
   "execution_count": null,
   "id": "3792ce7e",
   "metadata": {},
   "outputs": [],
   "source": []
  },
  {
   "cell_type": "code",
   "execution_count": null,
   "id": "d45da14c",
   "metadata": {},
   "outputs": [],
   "source": []
  }
 ],
 "metadata": {
  "kernelspec": {
   "display_name": "Python 3 (ipykernel)",
   "language": "python",
   "name": "python3"
  },
  "language_info": {
   "codemirror_mode": {
    "name": "ipython",
    "version": 3
   },
   "file_extension": ".py",
   "mimetype": "text/x-python",
   "name": "python",
   "nbconvert_exporter": "python",
   "pygments_lexer": "ipython3",
   "version": "3.7.6"
  }
 },
 "nbformat": 4,
 "nbformat_minor": 5
}
