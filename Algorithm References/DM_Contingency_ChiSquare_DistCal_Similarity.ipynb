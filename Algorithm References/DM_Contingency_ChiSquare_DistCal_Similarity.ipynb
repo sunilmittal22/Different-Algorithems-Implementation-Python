{
 "cells": [
  {
   "cell_type": "code",
   "execution_count": 7,
   "id": "a1b643cb",
   "metadata": {},
   "outputs": [],
   "source": [
    "from scipy import stats\n",
    "import numpy as np\n",
    "import matplotlib.pyplot as plt\n",
    "import pandas as pd\n",
    "from sklearn.metrics import confusion_matrix, precision_recall_fscore_support, classification_report\n",
    "import scipy.spatial.distance as dist\n",
    "from scipy.stats import chi2_contingency\n",
    "from sympy import *"
   ]
  },
  {
   "cell_type": "code",
   "execution_count": 2,
   "id": "4cabc1ce",
   "metadata": {},
   "outputs": [],
   "source": [
    "#Code to disable scrolling"
   ]
  },
  {
   "cell_type": "code",
   "execution_count": 3,
   "id": "e24fbfe4",
   "metadata": {},
   "outputs": [
    {
     "data": {
      "application/javascript": [
       "IPython.OutputArea.prototype._should_scroll = function(lines) {\n",
       "    return false;\n",
       "}\n"
      ],
      "text/plain": [
       "<IPython.core.display.Javascript object>"
      ]
     },
     "metadata": {},
     "output_type": "display_data"
    }
   ],
   "source": [
    "%%javascript\n",
    "IPython.OutputArea.prototype._should_scroll = function(lines) {\n",
    "    return false;\n",
    "}"
   ]
  },
  {
   "cell_type": "markdown",
   "id": "bd653c94",
   "metadata": {},
   "source": [
    "## IQR and Five point summary"
   ]
  },
  {
   "cell_type": "code",
   "execution_count": 4,
   "id": "eeabceb3",
   "metadata": {},
   "outputs": [],
   "source": [
    "def calc_five_point_summary(data):\n",
    "    data = sorted(data)\n",
    "    print(f'Data: {data}\\n')\n",
    "    print(f'Minimum: {min(data)}')\n",
    "    if len(data)%2 != 0:\n",
    "        Q1 = np.percentile(data, 25, interpolation = 'lower')\n",
    "        Q3 = np.percentile(data, 75, interpolation = 'higher')\n",
    "    else:\n",
    "        Q1 = np.percentile(data, 25, interpolation = 'midpoint')\n",
    "        Q3 = np.percentile(data, 75, interpolation = 'midpoint')\n",
    "    print(f'Quartile (Q1): {Q1}')\n",
    "    median = np.median(data)\n",
    "    print(f'Median: {median}')\n",
    "    \n",
    "    print(f'Quartile (Q3): {Q3}')\n",
    "    print(f'Maximum: {max(data)}')\n",
    "    IQR = Q3 - Q1\n",
    "    print(f'IQR = Q3 - Q1: {IQR}')\n",
    "    high_value = Q3 + 1.5 *IQR\n",
    "    low_value = Q1 - 1.5*IQR\n",
    "    print(f'High value = Q3 + 1.5 * IQR : {high_value}')\n",
    "    print(f'Low value = Q1 - 1.5 * IQR : {low_value}')\n",
    "    outliers = [x for x in data if x > high_value or x < low_value]\n",
    "    print(f'Value less than {low_value} greater than {high_value} are outliers')\n",
    "    print(f'The outliers are {outliers}')\n",
    "    plt.boxplot(data)\n"
   ]
  },
  {
   "cell_type": "code",
   "execution_count": 5,
   "id": "60f9a921",
   "metadata": {},
   "outputs": [],
   "source": [
    "data = [3,3,3,4,4,4,4,4,6,12,18]"
   ]
  },
  {
   "cell_type": "code",
   "execution_count": 6,
   "id": "9ca1c4a6",
   "metadata": {},
   "outputs": [
    {
     "name": "stdout",
     "output_type": "stream",
     "text": [
      "Data: [3, 3, 3, 4, 4, 4, 4, 4, 6, 12, 18]\n",
      "\n",
      "Minimum: 3\n",
      "Quartile (Q1): 3\n",
      "Median: 4.0\n",
      "Quartile (Q3): 6\n",
      "Maximum: 18\n",
      "IQR = Q3 - Q1: 3\n",
      "High value = Q3 + 1.5 * IQR : 10.5\n",
      "Low value = Q1 - 1.5 * IQR : -1.5\n",
      "Value less than -1.5 greater than 10.5 are outliers\n",
      "The outliers are [12, 18]\n"
     ]
    },
    {
     "data": {
      "image/png": "[encoded data removed]",
      "text/plain": [
       "<Figure size 432x288 with 1 Axes>"
      ]
     },
     "metadata": {
      "needs_background": "light"
     },
     "output_type": "display_data"
    }
   ],
   "source": [
    "calc_five_point_summary(data)"
   ]
  },
  {
   "cell_type": "code",
   "execution_count": 8,
   "id": "f86622b8",
   "metadata": {},
   "outputs": [
    {
     "name": "stdout",
     "output_type": "stream",
     "text": [
      "1.5\n"
     ]
    }
   ],
   "source": [
    "IQR = stats.iqr(data )\n",
    "  \n",
    "print(IQR)"
   ]
  },
  {
   "cell_type": "markdown",
   "id": "56d40e5b",
   "metadata": {},
   "source": [
    "## Confusion Matrix"
   ]
  },
  {
   "cell_type": "code",
   "execution_count": 9,
   "id": "c62d9bf2",
   "metadata": {},
   "outputs": [],
   "source": [
    "pred = ['X','X','X','Y','Y','Y','Z','Z','Z','Z']\n",
    "act = ['X','X','Z','Y','Y','Y','X','X','X','Z']"
   ]
  },
  {
   "cell_type": "code",
   "execution_count": 10,
   "id": "9c67102c",
   "metadata": {},
   "outputs": [
    {
     "data": {
      "text/plain": [
       "array([[2, 0, 3],\n",
       "       [0, 3, 0],\n",
       "       [1, 0, 1]], dtype=int64)"
      ]
     },
     "execution_count": 10,
     "metadata": {},
     "output_type": "execute_result"
    }
   ],
   "source": [
    "confusion_matrix(act, pred)"
   ]
  },
  {
   "cell_type": "code",
   "execution_count": 11,
   "id": "f25dea21",
   "metadata": {},
   "outputs": [
    {
     "name": "stdout",
     "output_type": "stream",
     "text": [
      "(array([0.66666667, 1.        , 0.25      ]), array([0.4, 1. , 0.5]), array([0.5       , 1.        , 0.33333333]), array([5, 3, 2], dtype=int64))\n"
     ]
    }
   ],
   "source": [
    "print(precision_recall_fscore_support(act, pred))"
   ]
  },
  {
   "cell_type": "code",
   "execution_count": 12,
   "id": "9b0911dc",
   "metadata": {},
   "outputs": [
    {
     "name": "stdout",
     "output_type": "stream",
     "text": [
      "              precision    recall  f1-score   support\n",
      "\n",
      "           X       0.67      0.40      0.50         5\n",
      "           Y       1.00      1.00      1.00         3\n",
      "           Z       0.25      0.50      0.33         2\n",
      "\n",
      "    accuracy                           0.60        10\n",
      "   macro avg       0.64      0.63      0.61        10\n",
      "weighted avg       0.68      0.60      0.62        10\n",
      "\n"
     ]
    }
   ],
   "source": [
    "print(classification_report(act, pred))"
   ]
  },
  {
   "cell_type": "markdown",
   "id": "dddac1b8",
   "metadata": {},
   "source": [
    "## Chi Square test"
   ]
  },
  {
   "cell_type": "code",
   "execution_count": 125,
   "id": "6ca63231",
   "metadata": {},
   "outputs": [
    {
     "name": "stdout",
     "output_type": "stream",
     "text": [
      "504.76686507936506 8.725823025133513e-112 1 [[ 90. 360.]\n",
      " [210. 840.]]\n",
      "\n",
      "dof:\n",
      "1\n",
      "\n",
      "Expected:\n",
      "[[ 90. 360.]\n",
      " [210. 840.]]\n"
     ]
    },
    {
     "data": {
      "text/latex": [
       "$\\displaystyle \\chi^{2} = \\frac{Σ(observed-expected)^{2}}{expected}$"
      ],
      "text/plain": [
       "Eq(chi^2, Σ(observed-expected)^{2}/expected)"
      ]
     },
     "metadata": {},
     "output_type": "display_data"
    },
    {
     "data": {
      "text/latex": [
       "$\\displaystyle \\chi^{2} = 504.766865079365$"
      ],
      "text/plain": [
       "Eq(chi^2, 504.766865079365)"
      ]
     },
     "metadata": {},
     "output_type": "display_data"
    },
    {
     "name": "stdout",
     "output_type": "stream",
     "text": [
      "\n",
      "p value is 8.725823025133513e-112\n",
      "p value is less than alpha. So variables are dependent (reject H0)\n"
     ]
    }
   ],
   "source": [
    "\n",
    "# defining the table\n",
    "# data = [[60, 40], [54, 44],[46,53],[41,57]]\n",
    "data = [[250,200], [50,1000]]\n",
    "stat, p, dof, expected = chi2_contingency(data)\n",
    "  \n",
    "# interpret p-value\n",
    "alpha = 0.05\n",
    "\n",
    "print(stat, p, dof, expected)\n",
    "\n",
    "print (f'\\ndof:\\n{dof}')\n",
    "print (f'\\nExpected:\\n{expected}')\n",
    "\n",
    "display(Eq(Symbol('chi^2'), Symbol(f'\\u03A3(observed-expected)^{{{2}}}')/Symbol('expected')))\n",
    "display(Eq(Symbol('chi^2'), stat))\n",
    "print(\"\\np value is \" + str(p))\n",
    "\n",
    "if p <= alpha:\n",
    "    print('p value is less than alpha. So variables are dependent (reject H0)')\n",
    "else:\n",
    "    print('p value is greater than alpha. So variables are independent (H0 holds true)')"
   ]
  },
  {
   "cell_type": "markdown",
   "id": "ed32d604",
   "metadata": {},
   "source": [
    "## Creating contingency table/crosstab"
   ]
  },
  {
   "cell_type": "code",
   "execution_count": 85,
   "id": "c38c16a8",
   "metadata": {},
   "outputs": [],
   "source": [
    "df1 = pd.DataFrame({'Order': [1, 2, 3, 4, 5, 6, 7, 8, 9, 10,\n",
    "                            11, 12, 13, 14, 15, 16, 17, 18, 19, 20],\n",
    "                   'Product': ['TV', 'TV', 'Comp', 'TV', 'TV', 'Comp',\n",
    "                               'Comp', 'Comp', 'TV', 'Radio', 'TV', 'Radio', 'Radio',\n",
    "                               'Radio', 'Comp', 'Comp', 'TV', 'TV', 'Radio', 'TV'],\n",
    "                   'Country': ['A', 'A', 'A', 'A', 'B', 'B', 'B', 'B', 'B', 'B', 'B',\n",
    "                               'B', 'C', 'C', 'C', 'C', 'C', 'C', 'C', 'C']})\n"
   ]
  },
  {
   "cell_type": "code",
   "execution_count": 86,
   "id": "ed768bd6",
   "metadata": {},
   "outputs": [
    {
     "data": {
      "text/html": [
       "<div>\n",
       "<style scoped>\n",
       "    .dataframe tbody tr th:only-of-type {\n",
       "        vertical-align: middle;\n",
       "    }\n",
       "\n",
       "    .dataframe tbody tr th {\n",
       "        vertical-align: top;\n",
       "    }\n",
       "\n",
       "    .dataframe thead th {\n",
       "        text-align: right;\n",
       "    }\n",
       "</style>\n",
       "<table border=\"1\" class=\"dataframe\">\n",
       "  <thead>\n",
       "    <tr style=\"text-align: right;\">\n",
       "      <th></th>\n",
       "      <th>Order</th>\n",
       "      <th>Product</th>\n",
       "      <th>Country</th>\n",
       "    </tr>\n",
       "  </thead>\n",
       "  <tbody>\n",
       "    <tr>\n",
       "      <th>0</th>\n",
       "      <td>1</td>\n",
       "      <td>TV</td>\n",
       "      <td>A</td>\n",
       "    </tr>\n",
       "    <tr>\n",
       "      <th>1</th>\n",
       "      <td>2</td>\n",
       "      <td>TV</td>\n",
       "      <td>A</td>\n",
       "    </tr>\n",
       "    <tr>\n",
       "      <th>2</th>\n",
       "      <td>3</td>\n",
       "      <td>Comp</td>\n",
       "      <td>A</td>\n",
       "    </tr>\n",
       "    <tr>\n",
       "      <th>3</th>\n",
       "      <td>4</td>\n",
       "      <td>TV</td>\n",
       "      <td>A</td>\n",
       "    </tr>\n",
       "    <tr>\n",
       "      <th>4</th>\n",
       "      <td>5</td>\n",
       "      <td>TV</td>\n",
       "      <td>B</td>\n",
       "    </tr>\n",
       "    <tr>\n",
       "      <th>5</th>\n",
       "      <td>6</td>\n",
       "      <td>Comp</td>\n",
       "      <td>B</td>\n",
       "    </tr>\n",
       "    <tr>\n",
       "      <th>6</th>\n",
       "      <td>7</td>\n",
       "      <td>Comp</td>\n",
       "      <td>B</td>\n",
       "    </tr>\n",
       "    <tr>\n",
       "      <th>7</th>\n",
       "      <td>8</td>\n",
       "      <td>Comp</td>\n",
       "      <td>B</td>\n",
       "    </tr>\n",
       "    <tr>\n",
       "      <th>8</th>\n",
       "      <td>9</td>\n",
       "      <td>TV</td>\n",
       "      <td>B</td>\n",
       "    </tr>\n",
       "    <tr>\n",
       "      <th>9</th>\n",
       "      <td>10</td>\n",
       "      <td>Radio</td>\n",
       "      <td>B</td>\n",
       "    </tr>\n",
       "    <tr>\n",
       "      <th>10</th>\n",
       "      <td>11</td>\n",
       "      <td>TV</td>\n",
       "      <td>B</td>\n",
       "    </tr>\n",
       "    <tr>\n",
       "      <th>11</th>\n",
       "      <td>12</td>\n",
       "      <td>Radio</td>\n",
       "      <td>B</td>\n",
       "    </tr>\n",
       "    <tr>\n",
       "      <th>12</th>\n",
       "      <td>13</td>\n",
       "      <td>Radio</td>\n",
       "      <td>C</td>\n",
       "    </tr>\n",
       "    <tr>\n",
       "      <th>13</th>\n",
       "      <td>14</td>\n",
       "      <td>Radio</td>\n",
       "      <td>C</td>\n",
       "    </tr>\n",
       "    <tr>\n",
       "      <th>14</th>\n",
       "      <td>15</td>\n",
       "      <td>Comp</td>\n",
       "      <td>C</td>\n",
       "    </tr>\n",
       "    <tr>\n",
       "      <th>15</th>\n",
       "      <td>16</td>\n",
       "      <td>Comp</td>\n",
       "      <td>C</td>\n",
       "    </tr>\n",
       "    <tr>\n",
       "      <th>16</th>\n",
       "      <td>17</td>\n",
       "      <td>TV</td>\n",
       "      <td>C</td>\n",
       "    </tr>\n",
       "    <tr>\n",
       "      <th>17</th>\n",
       "      <td>18</td>\n",
       "      <td>TV</td>\n",
       "      <td>C</td>\n",
       "    </tr>\n",
       "    <tr>\n",
       "      <th>18</th>\n",
       "      <td>19</td>\n",
       "      <td>Radio</td>\n",
       "      <td>C</td>\n",
       "    </tr>\n",
       "    <tr>\n",
       "      <th>19</th>\n",
       "      <td>20</td>\n",
       "      <td>TV</td>\n",
       "      <td>C</td>\n",
       "    </tr>\n",
       "  </tbody>\n",
       "</table>\n",
       "</div>"
      ],
      "text/plain": [
       "    Order Product Country\n",
       "0       1      TV       A\n",
       "1       2      TV       A\n",
       "2       3    Comp       A\n",
       "3       4      TV       A\n",
       "4       5      TV       B\n",
       "5       6    Comp       B\n",
       "6       7    Comp       B\n",
       "7       8    Comp       B\n",
       "8       9      TV       B\n",
       "9      10   Radio       B\n",
       "10     11      TV       B\n",
       "11     12   Radio       B\n",
       "12     13   Radio       C\n",
       "13     14   Radio       C\n",
       "14     15    Comp       C\n",
       "15     16    Comp       C\n",
       "16     17      TV       C\n",
       "17     18      TV       C\n",
       "18     19   Radio       C\n",
       "19     20      TV       C"
      ]
     },
     "execution_count": 86,
     "metadata": {},
     "output_type": "execute_result"
    }
   ],
   "source": [
    "df1"
   ]
  },
  {
   "cell_type": "code",
   "execution_count": 87,
   "id": "88d25005",
   "metadata": {},
   "outputs": [
    {
     "name": "stdout",
     "output_type": "stream",
     "text": [
      "Country  A  B  C\n",
      "Product         \n",
      "Comp     1  3  2\n",
      "Radio    0  2  3\n",
      "TV       3  3  3\n"
     ]
    }
   ],
   "source": [
    "# creating contingency table/crosstab\n",
    "data_crosstab = pd.crosstab(df1['Product'],\n",
    "                            df1['Country'], \n",
    "                               margins = False)\n",
    "print(data_crosstab)"
   ]
  },
  {
   "cell_type": "markdown",
   "id": "0917b976",
   "metadata": {},
   "source": [
    "## Correlation"
   ]
  },
  {
   "cell_type": "code",
   "execution_count": 14,
   "id": "dd899b12",
   "metadata": {},
   "outputs": [],
   "source": [
    "X = [2, 6, 7]\n",
    "Y = [27, 20, 13]"
   ]
  },
  {
   "cell_type": "code",
   "execution_count": 15,
   "id": "fe5e3fee",
   "metadata": {
    "scrolled": true
   },
   "outputs": [
    {
     "data": {
      "text/plain": [
       "array([[ 1.        , -0.94491118],\n",
       "       [-0.94491118,  1.        ]])"
      ]
     },
     "execution_count": 15,
     "metadata": {},
     "output_type": "execute_result"
    }
   ],
   "source": [
    "np.corrcoef(X,Y)"
   ]
  },
  {
   "cell_type": "markdown",
   "id": "6d97c357",
   "metadata": {},
   "source": [
    "## Distance calculation"
   ]
  },
  {
   "cell_type": "code",
   "execution_count": 16,
   "id": "e89cc5dd",
   "metadata": {},
   "outputs": [
    {
     "data": {
      "text/plain": [
       "15"
      ]
     },
     "execution_count": 16,
     "metadata": {},
     "output_type": "execute_result"
    }
   ],
   "source": [
    "#supremum\n",
    "dist.chebyshev((21, 12, 3, 17, 48, 11, 82, 41, 35),  (34, 5, 13, 3, 57, 26, 69, 55, 27))"
   ]
  },
  {
   "cell_type": "code",
   "execution_count": 109,
   "id": "fe334c4a",
   "metadata": {},
   "outputs": [
    {
     "data": {
      "text/plain": [
       "35.34119409414458"
      ]
     },
     "execution_count": 109,
     "metadata": {},
     "output_type": "execute_result"
    }
   ],
   "source": [
    "##euclidean\n",
    "dist.euclidean((21, 12, 3, 17, 48, 11, 82, 41, 35),  (34, 5, 13, 3, 57, 26, 69, 55, 27))"
   ]
  },
  {
   "cell_type": "code",
   "execution_count": 108,
   "id": "e0a9ad52",
   "metadata": {},
   "outputs": [
    {
     "data": {
      "text/plain": [
       "103"
      ]
     },
     "execution_count": 108,
     "metadata": {},
     "output_type": "execute_result"
    }
   ],
   "source": [
    "#manhattan\n",
    "a = (21, 12, 3, 17, 48, 11, 82, 41, 35)\n",
    "b = (34, 5, 13, 3, 57, 26, 69, 55, 27)\n",
    "\n",
    "sum([abs(i-j) for i,j in zip(a,b)])"
   ]
  },
  {
   "cell_type": "code",
   "execution_count": 100,
   "id": "96433d52",
   "metadata": {},
   "outputs": [],
   "source": [
    "def minkowski(a,b,order):\n",
    "    return round(sum([abs(i-j)**order for i,j in zip(a,b)])**(1/order),2)"
   ]
  },
  {
   "cell_type": "code",
   "execution_count": 110,
   "id": "dd016a34",
   "metadata": {},
   "outputs": [
    {
     "data": {
      "text/plain": [
       "35.34"
      ]
     },
     "execution_count": 110,
     "metadata": {},
     "output_type": "execute_result"
    }
   ],
   "source": [
    "a=(21, 12, 3, 17, 48, 11, 82, 41, 35)\n",
    "b=(34, 5, 13, 3, 57, 26, 69, 55, 27)\n",
    "minkowski(a,b,2)"
   ]
  },
  {
   "cell_type": "markdown",
   "id": "4e52c6db",
   "metadata": {},
   "source": [
    "### Cosine Similarity"
   ]
  },
  {
   "cell_type": "code",
   "execution_count": 77,
   "id": "cc778bf5",
   "metadata": {},
   "outputs": [],
   "source": [
    "def cos_similarity(a,b):\n",
    "    a = np.array(a)\n",
    "    b = np.array(b)\n",
    "    return a @ b/ (np.linalg.norm(a)* np.linalg.norm(b))"
   ]
  },
  {
   "cell_type": "code",
   "execution_count": 78,
   "id": "41cb7d0b",
   "metadata": {},
   "outputs": [
    {
     "data": {
      "text/plain": [
       "0.9537803748418658"
      ]
     },
     "execution_count": 78,
     "metadata": {},
     "output_type": "execute_result"
    }
   ],
   "source": [
    "a = (21, 12, 3, 17, 48, 11, 82, 41, 35)\n",
    "b = (34, 5, 13, 3, 57, 26, 69, 55, 27)\n",
    "cos_similarity(a,b)"
   ]
  },
  {
   "cell_type": "markdown",
   "id": "4ea3caa7",
   "metadata": {},
   "source": [
    "## Dissimilarity Matrix"
   ]
  },
  {
   "cell_type": "code",
   "execution_count": null,
   "id": "04e754d0",
   "metadata": {},
   "outputs": [],
   "source": [
    "def cal_dissimilarity_matrix(data, dissimilarity_type):\n",
    "    "
   ]
  },
  {
   "cell_type": "markdown",
   "id": "3f409acc",
   "metadata": {},
   "source": [
    "## Min Max scaling"
   ]
  },
  {
   "cell_type": "code",
   "execution_count": 47,
   "id": "94967b83",
   "metadata": {},
   "outputs": [],
   "source": [
    "def min_max_scale(data, min_new = 0, max_new = 1):\n",
    "    arr = np.array(data)\n",
    "    min_old = arr.min()\n",
    "    max_old = arr.max()\n",
    "    display(Eq(Symbol('Min_old'), min_old))\n",
    "    display(Eq(Symbol('Max_old'), max_old))\n",
    "    display(Eq(Symbol('Min_new'), min_new))\n",
    "    display(Eq(Symbol('Max_new'), max_new))\n",
    "    display(Eq(Symbol(\"v^'\"), Symbol('v - Min_old')/Symbol('Max_{old} - Min_{old}')*Symbol('Max_{new} - Min_{new}') + Symbol('Min_new')))\n",
    "    arr_new = (arr - min_old)/(max_old-min_old)*(max_new-min_new) + min_new\n",
    "    print('Final output:')\n",
    "    return list(np.round(arr_new, 3))"
   ]
  },
  {
   "cell_type": "code",
   "execution_count": 48,
   "id": "5e197120",
   "metadata": {},
   "outputs": [],
   "source": [
    "marks = [57, 67,77,87, 61, 45, 32, 56, 71, 78]"
   ]
  },
  {
   "cell_type": "code",
   "execution_count": 49,
   "id": "d47dc8dd",
   "metadata": {},
   "outputs": [
    {
     "data": {
      "text/latex": [
       "$\\displaystyle Min_{old} = 32$"
      ],
      "text/plain": [
       "Eq(Min_old, 32)"
      ]
     },
     "metadata": {},
     "output_type": "display_data"
    },
    {
     "data": {
      "text/latex": [
       "$\\displaystyle Max_{old} = 87$"
      ],
      "text/plain": [
       "Eq(Max_old, 87)"
      ]
     },
     "metadata": {},
     "output_type": "display_data"
    },
    {
     "data": {
      "text/latex": [
       "$\\displaystyle Min_{new} = 55$"
      ],
      "text/plain": [
       "Eq(Min_new, 55)"
      ]
     },
     "metadata": {},
     "output_type": "display_data"
    },
    {
     "data": {
      "text/latex": [
       "$\\displaystyle Max_{new} = 100$"
      ],
      "text/plain": [
       "Eq(Max_new, 100)"
      ]
     },
     "metadata": {},
     "output_type": "display_data"
    },
    {
     "data": {
      "text/latex": [
       "$\\displaystyle v^{'} = \\frac{Max_{new} - Min_{new} v - Min_{old}}{Max_{old} - Min_{old}} + Min_{new}$"
      ],
      "text/plain": [
       "Eq(v^', Max_{new} - Min_{new}*v - Min_old/Max_{old} - Min_{old} + Min_new)"
      ]
     },
     "metadata": {},
     "output_type": "display_data"
    },
    {
     "name": "stdout",
     "output_type": "stream",
     "text": [
      "Final output:\n"
     ]
    },
    {
     "data": {
      "text/plain": [
       "[75.455, 83.636, 91.818, 100.0, 78.727, 65.636, 55.0, 74.636, 86.909, 92.636]"
      ]
     },
     "execution_count": 49,
     "metadata": {},
     "output_type": "execute_result"
    }
   ],
   "source": [
    "min_max_scale(marks, 55, 100)"
   ]
  },
  {
   "cell_type": "markdown",
   "id": "3970baa6",
   "metadata": {},
   "source": [
    "## Z-score normalization"
   ]
  },
  {
   "cell_type": "code",
   "execution_count": 45,
   "id": "b537a580",
   "metadata": {},
   "outputs": [],
   "source": [
    "def z_score(data):\n",
    "    arr = np.array(data)\n",
    "    mean = np.mean(arr)\n",
    "    std = np.std(arr)\n",
    "    display(Eq(Symbol('mu'), mean))\n",
    "    display(Eq(Symbol('sigma'), std))\n",
    "    \n",
    "    display(Eq(Symbol(\"v^'\"), Symbol('v - \\u03BC')/Symbol('sigma')))\n",
    "    arr_new = (arr - mean)/std\n",
    "    print('Final output:')\n",
    "    return list(np.round(arr_new, 3))"
   ]
  },
  {
   "cell_type": "code",
   "execution_count": 46,
   "id": "39db3897",
   "metadata": {},
   "outputs": [
    {
     "data": {
      "text/latex": [
       "$\\displaystyle \\mu = 63.1$"
      ],
      "text/plain": [
       "Eq(mu, 63.1)"
      ]
     },
     "metadata": {},
     "output_type": "display_data"
    },
    {
     "data": {
      "text/latex": [
       "$\\displaystyle \\sigma = 15.655350523064$"
      ],
      "text/plain": [
       "Eq(sigma, 15.655350523064)"
      ]
     },
     "metadata": {},
     "output_type": "display_data"
    },
    {
     "data": {
      "text/latex": [
       "$\\displaystyle v^{'} = \\frac{v - μ}{\\sigma}$"
      ],
      "text/plain": [
       "Eq(v^', v - μ/sigma)"
      ]
     },
     "metadata": {},
     "output_type": "display_data"
    },
    {
     "name": "stdout",
     "output_type": "stream",
     "text": [
      "Final output:\n"
     ]
    },
    {
     "data": {
      "text/plain": [
       "[-0.39, 0.249, 0.888, 1.527, -0.134, -1.156, -1.987, -0.454, 0.505, 0.952]"
      ]
     },
     "execution_count": 46,
     "metadata": {},
     "output_type": "execute_result"
    }
   ],
   "source": [
    "marks = [57, 67,77,87, 61, 45, 32, 56, 71, 78]\n",
    "z_score(marks)"
   ]
  },
  {
   "cell_type": "markdown",
   "id": "c6f03131",
   "metadata": {},
   "source": [
    "## Binning methods for data smoothening"
   ]
  },
  {
   "cell_type": "code",
   "execution_count": 97,
   "id": "ec910c39",
   "metadata": {},
   "outputs": [],
   "source": [
    "def apply_binning(input_data, n_bins):\n",
    "    input_data = sorted(input_data)\n",
    "    print(f'Sorted input data: {input_data}')\n",
    "    print(f'\\nNo of bins: {n_bins}')\n",
    "    \n",
    "    print(f'\\nPartition into equal-frequency bins:')\n",
    "    partition_size = len(input_data)//n_bins\n",
    "    partition_index = 0\n",
    "    partitions = []\n",
    "    while partition_index <= len(input_data) -partition_size:\n",
    "        partitions.append(input_data[partition_index:partition_index + partition_size])\n",
    "        partition_index +=partition_size\n",
    "    partition_index -=partition_size\n",
    "    #print(input_data[partition_index + partition_size:])\n",
    "    if len(input_data[partition_index + partition_size:]) >0:\n",
    "        \n",
    "        partitions[-1].extend(input_data[partition_index + partition_size:])\n",
    "        \n",
    "    for i, partition in enumerate(partitions):\n",
    "        print(f'Bin {i+1}: {partition}')\n",
    "    \n",
    "    print('\\nSmoothening by bin means:')\n",
    "    for i, partition in enumerate(partitions):\n",
    "        print(f'Bin {i+1}: {[round(np.mean(partition),3) for x in partition]}')\n",
    "    \n",
    "    print('\\nSmoothening by bin boundaries:')\n",
    "    for i, partition in enumerate(partitions):\n",
    "        boundary_l = min(partition)\n",
    "        boundary_r = max(partition)\n",
    "        print(f'Bin {i+1}: {[boundary_l if abs(x-boundary_l) < abs(boundary_r-x) else boundary_r for x in partition]}')"
   ]
  },
  {
   "cell_type": "code",
   "execution_count": 99,
   "id": "8db8d719",
   "metadata": {},
   "outputs": [
    {
     "name": "stdout",
     "output_type": "stream",
     "text": [
      "Sorted input data: [32, 45, 56, 57, 61, 67, 71, 77, 78]\n",
      "\n",
      "No of bins: 3\n",
      "\n",
      "Partition into equal-frequency bins:\n",
      "Bin 1: [32, 45, 56]\n",
      "Bin 2: [57, 61, 67]\n",
      "Bin 3: [71, 77, 78]\n",
      "\n",
      "Smoothening by bin means:\n",
      "Bin 1: [44.333, 44.333, 44.333]\n",
      "Bin 2: [61.667, 61.667, 61.667]\n",
      "Bin 3: [75.333, 75.333, 75.333]\n",
      "\n",
      "Smoothening by bin boundaries:\n",
      "Bin 1: [32, 56, 56]\n",
      "Bin 2: [57, 57, 67]\n",
      "Bin 3: [71, 78, 78]\n"
     ]
    }
   ],
   "source": [
    "apply_binning(input_data=[57, 67,77, 61, 45, 32, 56, 71, 78], n_bins=3)"
   ]
  },
  {
   "cell_type": "markdown",
   "id": "840fe37b",
   "metadata": {},
   "source": [
    "### Foil gain and Likelyhood ratio for rule based classification"
   ]
  },
  {
   "cell_type": "code",
   "execution_count": 26,
   "id": "eedeba4e",
   "metadata": {},
   "outputs": [],
   "source": [
    "def foil_gain(p_0, n_0, p_1, n_1):\n",
    "    return p_1*(np.log2(p_1/(n_1+p_1)) - np.log2(p_0/(n_0+p_0)))"
   ]
  },
  {
   "cell_type": "code",
   "execution_count": 29,
   "id": "e0e9e731",
   "metadata": {},
   "outputs": [
    {
     "data": {
      "text/plain": [
       "57.206717868255545"
      ]
     },
     "execution_count": 29,
     "metadata": {},
     "output_type": "execute_result"
    }
   ],
   "source": [
    "foil_gain(100,400,30,10)"
   ]
  }
 ],
 "metadata": {
  "kernelspec": {
   "display_name": "Python 3 (ipykernel)",
   "language": "python",
   "name": "python3"
  },
  "language_info": {
   "codemirror_mode": {
    "name": "ipython",
    "version": 3
   },
   "file_extension": ".py",
   "mimetype": "text/x-python",
   "name": "python",
   "nbconvert_exporter": "python",
   "pygments_lexer": "ipython3",
   "version": "3.7.6"
  }
 },
 "nbformat": 4,
 "nbformat_minor": 5
}
