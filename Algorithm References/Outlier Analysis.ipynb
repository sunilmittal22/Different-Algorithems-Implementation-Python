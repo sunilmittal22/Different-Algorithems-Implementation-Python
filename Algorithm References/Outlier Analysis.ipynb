{
 "cells": [
  {
   "cell_type": "code",
   "execution_count": 4,
   "id": "d9270b5a",
   "metadata": {},
   "outputs": [],
   "source": [
    "import numpy as np\n",
    "import pandas as pd\n",
    "import scipy.spatial.distance as dist\n",
    "from sympy import *"
   ]
  },
  {
   "cell_type": "code",
   "execution_count": 5,
   "id": "7ee16688",
   "metadata": {},
   "outputs": [
    {
     "data": {
      "application/javascript": [
       "IPython.OutputArea.prototype._should_scroll = function(lines) {\n",
       "    return false;\n",
       "}\n"
      ],
      "text/plain": [
       "<IPython.core.display.Javascript object>"
      ]
     },
     "metadata": {},
     "output_type": "display_data"
    }
   ],
   "source": [
    "%%javascript\n",
    "IPython.OutputArea.prototype._should_scroll = function(lines) {\n",
    "    return false;\n",
    "}"
   ]
  },
  {
   "cell_type": "code",
   "execution_count": 22,
   "id": "f6f7799c",
   "metadata": {},
   "outputs": [],
   "source": [
    "class OutlierDetector:\n",
    "    def __init__(self, points = None, proximity_matrix = None, pt_list = None, distance='Euclidean', rounding_digit=2):\n",
    "        self.proximity_matrix = proximity_matrix\n",
    "        self.points = points\n",
    "        self.pt_list = pt_list\n",
    "        if self.pt_list and not self.points:\n",
    "            self.proximity_matrix = pd.DataFrame(proximity_matrix, index=self.pt_list, columns=self.pt_list)\n",
    "            self.points_df = pd.Series(self.pt_list, index=self.pt_list)\n",
    "        elif not self.pt_list and not self.points:\n",
    "            self.pt_list = [f'P{i+1}' for i in range(len(self.proximity_matrix))]\n",
    "            self.points_df = pd.Series(self.pt_list, index=self.pt_list)\n",
    "            self.proximity_matrix = pd.DataFrame(self.proximity_matrix, index=self.pt_list, columns=self.pt_list)\n",
    "        self.distance = distance\n",
    "        self.rounding_digit = rounding_digit\n",
    "        if self.proximity_matrix is None:\n",
    "            self.prepare_proximity_matrix()\n",
    "        \n",
    "    def cal_distance(self, x1, x2):\n",
    "        if self.distance == 'Euclidean':\n",
    "            return round(dist.euclidean(x1,x2),self.rounding_digit)\n",
    "        elif self.distance == 'Manhattan':\n",
    "            return sum([abs(i-j) for i,j in zip(x1,x2)])\n",
    "    \n",
    "    def prepare_proximity_matrix(self):\n",
    "        if not self.pt_list:\n",
    "            self.pt_list = [f'P{i+1}' for i in range(len(self.points))]\n",
    "        self.points_df = pd.Series(self.points, index=self.pt_list)\n",
    "        #print(self.points_df.to_string())\n",
    "        #self.pt_list = [f'P{i+1}' for i in range(len(self.points))]\n",
    "        self.proximity_matrix = pd.DataFrame(index=self.pt_list, columns=self.pt_list)\n",
    "        self.proximity_matrix.fillna('', inplace=True)        \n",
    "        \n",
    "        for i in range(len(self.points)):\n",
    "            for j in range(len(self.points)):                \n",
    "                self.proximity_matrix.iloc[i,j] = self.cal_distance(self.points[i], self.points[j])\n",
    "    \n",
    "    def detect(self, method, k):\n",
    "        self.k = k\n",
    "        if method == 'proximity-based':\n",
    "            self.detect_proximity_based()\n",
    "        elif method == 'ard-based':\n",
    "            self.detect_ard_based()        \n",
    "    \n",
    "    def detect_proximity_based(self):\n",
    "        print('\\nProximity based outlier detection')\n",
    "        display(self.proximity_matrix)\n",
    "        print(f'\\nk = {self.k}')\n",
    "        print('\\nOutlier score, OS for a point p is given by:')\n",
    "        display(Eq(Symbol('OS(p)'), Symbol('d(p, x_{1}) + d(p, x_{2})+...+d(p, x_{k})')/Symbol('k')))\n",
    "        max_os = 0\n",
    "        max_pt = None\n",
    "        for pt in self.pt_list:\n",
    "            if self.points:\n",
    "                print(f'\\nPoint {pt} = {self.points_df[pt]}:')\n",
    "            else:\n",
    "                print(f'\\nPoint {pt}:')\n",
    "            nn = self.proximity_matrix.loc[pt].sort_values(ascending=True)[1:self.k+1]\n",
    "            print(f'\\nNearest {self.k} neighbours are {nn.index.values}')\n",
    "            s = ''\n",
    "            sum_s = 0\n",
    "            for n in nn:\n",
    "                s+=f'{n} +'\n",
    "                sum_s +=n\n",
    "            s = s[:-1]\n",
    "            os = sum_s/self.k\n",
    "            if os > max_os:\n",
    "                max_os = os\n",
    "                max_pt = pt\n",
    "            display(Eq(Symbol(f'OS({pt})'), Symbol(s)/Symbol(f'{self.k}')))\n",
    "            display(Eq(Symbol(f'OS({pt})'), Symbol(f'{sum_s}')/Symbol(f'{self.k}')))\n",
    "            display(Eq(Symbol(f'OS({pt})'), os))\n",
    "            print('\\n----------------------------------------------------------')\n",
    "        print(f'\\nOutlier Score for point {max_pt} is the highest, so it is termed as outlier')\n",
    "    \n",
    "    def detect_ard_based(self):\n",
    "        print('\\nAverage Relative Density based outlier detection')\n",
    "        print('\\nProximity Matrix:')\n",
    "        display(self.proximity_matrix)\n",
    "        print(f'\\nk = {self.k}')\n",
    "#         print('\\nOutlier score, OS for a point p is given by:')\n",
    "#         display(Eq(Symbol('OS(p)'), Symbol('d(p, x_{1}) + d(p, x_{2})+...+d(p, x_{k})')/Symbol('k')))\n",
    "        print('\\nFor all points x, determine local reachability density, lrd(x,k) for k-nearest neighbours using formula\\n')\n",
    "        display(Eq(Symbol('lrd(x,k)'), Symbol('|N(x,k)|')/Symbol('\\u03A3_{y\\u2208N(x,k)}RD(x,y)')))\n",
    "        print('\\nWhere Reachability density, RD is given by')\n",
    "        display(Eq(Symbol('RD(x,y)'), Symbol('max(k-dist(y), dist(x,y))')))\n",
    "        \n",
    "\n",
    "        density_dict = {}\n",
    "        for pt in self.pt_list:\n",
    "            if self.points:\n",
    "                print(f'\\nPoint {pt} = {self.points_df[pt]}:')\n",
    "            else:\n",
    "                print(f'\\nPoint {pt}:')\n",
    "            nn = self.proximity_matrix.loc[pt].sort_values(ascending=True).iloc[1:self.k+1]\n",
    "            print(f'\\nNearest {self.k} neighbours are {nn.index.values}')\n",
    "            s1 = ''\n",
    "            s2 = ''\n",
    "            sum_s = 0\n",
    "            for i,n in enumerate(nn):\n",
    "                k_dist = self.proximity_matrix.loc[nn.index.values[i]].sort_values(ascending=True).iloc[self.k]\n",
    "                #k_dist = self.proximity_matrix.loc[pt].sort_values(ascending=True)[self.k]\n",
    "                rd = max(k_dist,n)\n",
    "                display(Symbol(f'RD({pt}\\u2190{nn.index.values[i]}) = max(k-dist({nn.index.values[i]}), \\\n",
    "                               dist({pt},{nn.index.values[i]})) =max({k_dist},{n})= {rd}'))\n",
    "                s1 += f'RD({pt}\\u2190{nn.index.values[i]}) +'\n",
    "                s2+=f'{n} +'\n",
    "                sum_s +=rd\n",
    "            s1 = s1[:-1]\n",
    "            s2 = s2[:-1]\n",
    "            density = round(self.k/sum_s, self.rounding_digit)\n",
    "            density_dict[pt] = density\n",
    "#             if os > max_os:\n",
    "#                 max_os = os\n",
    "#                 max_pt = pt\n",
    "            display(Eq(Symbol(f'lrd({pt},{self.k})'), Symbol(f'{self.k}')/Symbol(s1)))\n",
    "            display(Eq(Symbol(f'lrd({pt},{self.k})'), Symbol(f'{self.k}')/Symbol(s2)))\n",
    "            display(Eq(Symbol(f'lrd({pt},{self.k})'), Symbol(f'{self.k}')/Symbol(f'{sum_s}')))\n",
    "            display(Eq(Symbol(f'lrd({pt},{self.k})'), density))\n",
    "            print('\\n----------------------------------------------------------')\n",
    "        \n",
    "        print('\\n==================================================================================')\n",
    "        print('\\nFor all points x, determine Local Outlier Factor LOF(x,k)  given by:')\n",
    "        display(Eq(Symbol('LOF(x,k)'), (Symbol('\\u03A3_{y\\u2208N(x,k)}lrd(y,k) /|N(x,k)|')/Symbol('lrd(x,k)'))))\n",
    "        \n",
    "        \n",
    "        max_lof = 0\n",
    "        max_pt = None\n",
    "        \n",
    "        for pt in self.pt_list:\n",
    "            if self.points:\n",
    "                print(f'\\nPoint {pt} = {self.points_df[pt]}:')\n",
    "            else:\n",
    "                print(f'\\nPoint {pt}:')\n",
    "            nn = self.proximity_matrix.loc[pt].sort_values(ascending=True).iloc[1:self.k+1]\n",
    "            print(f'\\nNearest {self.k} neighbours are {nn.index.values}')\n",
    "            s1 = ''\n",
    "            s2 = ''\n",
    "            sum_s = 0\n",
    "            for i,n in enumerate(nn):\n",
    "                s1 += f'lrd({nn.index.values[i]}, {self.k})/{self.k} +'\n",
    "                s2+=f'{density_dict[nn.index.values[i]]}/{self.k} +'\n",
    "                sum_s +=density_dict[nn.index.values[i]]/self.k\n",
    "            s1 = s1[:-1]\n",
    "            s2 = s2[:-1]\n",
    "            lof = round(sum_s/density_dict[pt], self.rounding_digit)\n",
    "            ard = round(1/lof, self.rounding_digit)\n",
    "            if lof > max_lof:\n",
    "                max_lof = lof\n",
    "                max_pt = pt\n",
    "            display(Eq(Symbol(f'LOF({pt},{self.k})'), Symbol(s1)/Symbol(f'lrd({pt}, {self.k})')))\n",
    "            display(Eq(Symbol(f'LOF({pt},{self.k})'), Symbol(s2)/Symbol(f'{density_dict[pt]}')))\n",
    "            #display(Eq(Symbol(f'density({pt},{self.k})'), Symbol(f'{sum_s}')/Symbol(f'{self.k}')))\n",
    "            display(Eq(Symbol(f'LOF({pt},{self.k})'), lof))\n",
    "            #display(Symbol(f'ARD({pt}) = 1/LOF({pt},{self.k}) = {ard}'))\n",
    "            print('\\n----------------------------------------------------------')\n",
    "        print(f'\\nLOF for point {max_pt} is the highest, so it is termed as outlier')\n",
    "        \n",
    "    "
   ]
  },
  {
   "cell_type": "markdown",
   "id": "341e7657",
   "metadata": {},
   "source": [
    "## Proximity based outlier detection"
   ]
  },
  {
   "cell_type": "code",
   "execution_count": 23,
   "id": "1d76bbd8",
   "metadata": {},
   "outputs": [
    {
     "name": "stdout",
     "output_type": "stream",
     "text": [
      "\n",
      "Proximity based outlier detection\n"
     ]
    },
    {
     "data": {
      "text/html": [
       "<div>\n",
       "<style scoped>\n",
       "    .dataframe tbody tr th:only-of-type {\n",
       "        vertical-align: middle;\n",
       "    }\n",
       "\n",
       "    .dataframe tbody tr th {\n",
       "        vertical-align: top;\n",
       "    }\n",
       "\n",
       "    .dataframe thead th {\n",
       "        text-align: right;\n",
       "    }\n",
       "</style>\n",
       "<table border=\"1\" class=\"dataframe\">\n",
       "  <thead>\n",
       "    <tr style=\"text-align: right;\">\n",
       "      <th></th>\n",
       "      <th>P1</th>\n",
       "      <th>P2</th>\n",
       "      <th>P3</th>\n",
       "      <th>P4</th>\n",
       "      <th>P5</th>\n",
       "    </tr>\n",
       "  </thead>\n",
       "  <tbody>\n",
       "    <tr>\n",
       "      <th>P1</th>\n",
       "      <td>0.0</td>\n",
       "      <td>1.41</td>\n",
       "      <td>5.0</td>\n",
       "      <td>6.32</td>\n",
       "      <td>5.1</td>\n",
       "    </tr>\n",
       "    <tr>\n",
       "      <th>P2</th>\n",
       "      <td>1.41</td>\n",
       "      <td>0.0</td>\n",
       "      <td>3.61</td>\n",
       "      <td>5.1</td>\n",
       "      <td>4.0</td>\n",
       "    </tr>\n",
       "    <tr>\n",
       "      <th>P3</th>\n",
       "      <td>5.0</td>\n",
       "      <td>3.61</td>\n",
       "      <td>0.0</td>\n",
       "      <td>2.24</td>\n",
       "      <td>2.24</td>\n",
       "    </tr>\n",
       "    <tr>\n",
       "      <th>P4</th>\n",
       "      <td>6.32</td>\n",
       "      <td>5.1</td>\n",
       "      <td>2.24</td>\n",
       "      <td>0.0</td>\n",
       "      <td>1.41</td>\n",
       "    </tr>\n",
       "    <tr>\n",
       "      <th>P5</th>\n",
       "      <td>5.1</td>\n",
       "      <td>4.0</td>\n",
       "      <td>2.24</td>\n",
       "      <td>1.41</td>\n",
       "      <td>0.0</td>\n",
       "    </tr>\n",
       "  </tbody>\n",
       "</table>\n",
       "</div>"
      ],
      "text/plain": [
       "      P1    P2    P3    P4    P5\n",
       "P1   0.0  1.41   5.0  6.32   5.1\n",
       "P2  1.41   0.0  3.61   5.1   4.0\n",
       "P3   5.0  3.61   0.0  2.24  2.24\n",
       "P4  6.32   5.1  2.24   0.0  1.41\n",
       "P5   5.1   4.0  2.24  1.41   0.0"
      ]
     },
     "metadata": {},
     "output_type": "display_data"
    },
    {
     "name": "stdout",
     "output_type": "stream",
     "text": [
      "\n",
      "k = 2\n",
      "\n",
      "Outlier score, OS for a point p is given by:\n"
     ]
    },
    {
     "data": {
      "text/latex": [
       "$\\displaystyle OS(p) = \\frac{d(p, x_{1}) + d(p, x_{2})+...+d(p, x_{k})}{k}$"
      ],
      "text/plain": [
       "Eq(OS(p), d(p, x_{1}) + d(p, x_{2})+...+d(p, x_{k})/k)"
      ]
     },
     "metadata": {},
     "output_type": "display_data"
    },
    {
     "name": "stdout",
     "output_type": "stream",
     "text": [
      "\n",
      "Point P1 = (1, 1):\n",
      "\n",
      "Nearest 2 neighbours are ['P2' 'P3']\n"
     ]
    },
    {
     "data": {
      "text/latex": [
       "$\\displaystyle OS(P1) = \\frac{1.41 +5.0 }{2}$"
      ],
      "text/plain": [
       "Eq(OS(P1), 1.41 +5.0 /2)"
      ]
     },
     "metadata": {},
     "output_type": "display_data"
    },
    {
     "data": {
      "text/latex": [
       "$\\displaystyle OS(P1) = \\frac{6.41}{2}$"
      ],
      "text/plain": [
       "Eq(OS(P1), 6.41/2)"
      ]
     },
     "metadata": {},
     "output_type": "display_data"
    },
    {
     "data": {
      "text/latex": [
       "$\\displaystyle OS(P1) = 3.205$"
      ],
      "text/plain": [
       "Eq(OS(P1), 3.205)"
      ]
     },
     "metadata": {},
     "output_type": "display_data"
    },
    {
     "name": "stdout",
     "output_type": "stream",
     "text": [
      "\n",
      "----------------------------------------------------------\n",
      "\n",
      "Point P2 = (2, 2):\n",
      "\n",
      "Nearest 2 neighbours are ['P1' 'P3']\n"
     ]
    },
    {
     "data": {
      "text/latex": [
       "$\\displaystyle OS(P2) = \\frac{1.41 +3.61 }{2}$"
      ],
      "text/plain": [
       "Eq(OS(P2), 1.41 +3.61 /2)"
      ]
     },
     "metadata": {},
     "output_type": "display_data"
    },
    {
     "data": {
      "text/latex": [
       "$\\displaystyle OS(P2) = \\frac{5.02}{2}$"
      ],
      "text/plain": [
       "Eq(OS(P2), 5.02/2)"
      ]
     },
     "metadata": {},
     "output_type": "display_data"
    },
    {
     "data": {
      "text/latex": [
       "$\\displaystyle OS(P2) = 2.51$"
      ],
      "text/plain": [
       "Eq(OS(P2), 2.51)"
      ]
     },
     "metadata": {},
     "output_type": "display_data"
    },
    {
     "name": "stdout",
     "output_type": "stream",
     "text": [
      "\n",
      "----------------------------------------------------------\n",
      "\n",
      "Point P3 = (4, 5):\n",
      "\n",
      "Nearest 2 neighbours are ['P4' 'P5']\n"
     ]
    },
    {
     "data": {
      "text/latex": [
       "$\\displaystyle OS(P3) = \\frac{2.24 +2.24 }{2}$"
      ],
      "text/plain": [
       "Eq(OS(P3), 2.24 +2.24 /2)"
      ]
     },
     "metadata": {},
     "output_type": "display_data"
    },
    {
     "data": {
      "text/latex": [
       "$\\displaystyle OS(P3) = \\frac{4.48}{2}$"
      ],
      "text/plain": [
       "Eq(OS(P3), 4.48/2)"
      ]
     },
     "metadata": {},
     "output_type": "display_data"
    },
    {
     "data": {
      "text/latex": [
       "$\\displaystyle OS(P3) = 2.24$"
      ],
      "text/plain": [
       "Eq(OS(P3), 2.24)"
      ]
     },
     "metadata": {},
     "output_type": "display_data"
    },
    {
     "name": "stdout",
     "output_type": "stream",
     "text": [
      "\n",
      "----------------------------------------------------------\n",
      "\n",
      "Point P4 = (3, 7):\n",
      "\n",
      "Nearest 2 neighbours are ['P5' 'P3']\n"
     ]
    },
    {
     "data": {
      "text/latex": [
       "$\\displaystyle OS(P4) = \\frac{1.41 +2.24 }{2}$"
      ],
      "text/plain": [
       "Eq(OS(P4), 1.41 +2.24 /2)"
      ]
     },
     "metadata": {},
     "output_type": "display_data"
    },
    {
     "data": {
      "text/latex": [
       "$\\displaystyle OS(P4) = \\frac{3.6500000000000004}{2}$"
      ],
      "text/plain": [
       "Eq(OS(P4), 3.6500000000000004/2)"
      ]
     },
     "metadata": {},
     "output_type": "display_data"
    },
    {
     "data": {
      "text/latex": [
       "$\\displaystyle OS(P4) = 1.825$"
      ],
      "text/plain": [
       "Eq(OS(P4), 1.825)"
      ]
     },
     "metadata": {},
     "output_type": "display_data"
    },
    {
     "name": "stdout",
     "output_type": "stream",
     "text": [
      "\n",
      "----------------------------------------------------------\n",
      "\n",
      "Point P5 = (2, 6):\n",
      "\n",
      "Nearest 2 neighbours are ['P4' 'P3']\n"
     ]
    },
    {
     "data": {
      "text/latex": [
       "$\\displaystyle OS(P5) = \\frac{1.41 +2.24 }{2}$"
      ],
      "text/plain": [
       "Eq(OS(P5), 1.41 +2.24 /2)"
      ]
     },
     "metadata": {},
     "output_type": "display_data"
    },
    {
     "data": {
      "text/latex": [
       "$\\displaystyle OS(P5) = \\frac{3.6500000000000004}{2}$"
      ],
      "text/plain": [
       "Eq(OS(P5), 3.6500000000000004/2)"
      ]
     },
     "metadata": {},
     "output_type": "display_data"
    },
    {
     "data": {
      "text/latex": [
       "$\\displaystyle OS(P5) = 1.825$"
      ],
      "text/plain": [
       "Eq(OS(P5), 1.825)"
      ]
     },
     "metadata": {},
     "output_type": "display_data"
    },
    {
     "name": "stdout",
     "output_type": "stream",
     "text": [
      "\n",
      "----------------------------------------------------------\n",
      "\n",
      "Outlier Score for point P1 is the highest, so it is termed as outlier\n"
     ]
    }
   ],
   "source": [
    "points = [(1,1),(2,2),(4,5),(3,7),(2,6)]\n",
    "pm = [\n",
    "    [0,1,4,5,7],\n",
    "    [1,0,2,6,8],\n",
    "    [4,2,0,3,4],\n",
    "    [5,6,3,0,4],\n",
    "    [7,8,4,4,0]\n",
    "]\n",
    "pt_list = ['A', 'B', 'C', 'D', 'E']\n",
    "\n",
    "OutlierDetector(points=points).detect(method='proximity-based', k=2)\n",
    "\n",
    "#OutlierDetector(proximity_matrix=pm, pt_list=pt_list).detect(method='proximity-based', k=2)\n"
   ]
  },
  {
   "cell_type": "markdown",
   "id": "f6890752",
   "metadata": {},
   "source": [
    "## Average Relative Density based outlier detection"
   ]
  },
  {
   "cell_type": "code",
   "execution_count": 24,
   "id": "7548253d",
   "metadata": {},
   "outputs": [
    {
     "name": "stdout",
     "output_type": "stream",
     "text": [
      "\n",
      "Average Relative Density based outlier detection\n",
      "\n",
      "Proximity Matrix:\n"
     ]
    },
    {
     "data": {
      "text/html": [
       "<div>\n",
       "<style scoped>\n",
       "    .dataframe tbody tr th:only-of-type {\n",
       "        vertical-align: middle;\n",
       "    }\n",
       "\n",
       "    .dataframe tbody tr th {\n",
       "        vertical-align: top;\n",
       "    }\n",
       "\n",
       "    .dataframe thead th {\n",
       "        text-align: right;\n",
       "    }\n",
       "</style>\n",
       "<table border=\"1\" class=\"dataframe\">\n",
       "  <thead>\n",
       "    <tr style=\"text-align: right;\">\n",
       "      <th></th>\n",
       "      <th>A</th>\n",
       "      <th>B</th>\n",
       "      <th>C</th>\n",
       "      <th>D</th>\n",
       "      <th>E</th>\n",
       "    </tr>\n",
       "  </thead>\n",
       "  <tbody>\n",
       "    <tr>\n",
       "      <th>A</th>\n",
       "      <td>0</td>\n",
       "      <td>1</td>\n",
       "      <td>4</td>\n",
       "      <td>5</td>\n",
       "      <td>7</td>\n",
       "    </tr>\n",
       "    <tr>\n",
       "      <th>B</th>\n",
       "      <td>1</td>\n",
       "      <td>0</td>\n",
       "      <td>2</td>\n",
       "      <td>6</td>\n",
       "      <td>8</td>\n",
       "    </tr>\n",
       "    <tr>\n",
       "      <th>C</th>\n",
       "      <td>4</td>\n",
       "      <td>2</td>\n",
       "      <td>0</td>\n",
       "      <td>3</td>\n",
       "      <td>4</td>\n",
       "    </tr>\n",
       "    <tr>\n",
       "      <th>D</th>\n",
       "      <td>5</td>\n",
       "      <td>6</td>\n",
       "      <td>3</td>\n",
       "      <td>0</td>\n",
       "      <td>4</td>\n",
       "    </tr>\n",
       "    <tr>\n",
       "      <th>E</th>\n",
       "      <td>7</td>\n",
       "      <td>8</td>\n",
       "      <td>4</td>\n",
       "      <td>4</td>\n",
       "      <td>0</td>\n",
       "    </tr>\n",
       "  </tbody>\n",
       "</table>\n",
       "</div>"
      ],
      "text/plain": [
       "   A  B  C  D  E\n",
       "A  0  1  4  5  7\n",
       "B  1  0  2  6  8\n",
       "C  4  2  0  3  4\n",
       "D  5  6  3  0  4\n",
       "E  7  8  4  4  0"
      ]
     },
     "metadata": {},
     "output_type": "display_data"
    },
    {
     "name": "stdout",
     "output_type": "stream",
     "text": [
      "\n",
      "k = 3\n",
      "\n",
      "For all points x, determine local reachability density, lrd(x,k) for k-nearest neighbours using formula\n",
      "\n"
     ]
    },
    {
     "data": {
      "text/latex": [
       "$\\displaystyle lrd(x,k) = \\frac{|N(x,k)|}{Σ_{y∈N(x,k)}RD(x,y)}$"
      ],
      "text/plain": [
       "Eq(lrd(x,k), |N(x,k)|/Σ_{y∈N(x,k)}RD(x,y))"
      ]
     },
     "metadata": {},
     "output_type": "display_data"
    },
    {
     "name": "stdout",
     "output_type": "stream",
     "text": [
      "\n",
      "Where Reachability density, RD is given by\n"
     ]
    },
    {
     "data": {
      "text/latex": [
       "$\\displaystyle RD(x,y) = max(k-dist(y), dist(x,y))$"
      ],
      "text/plain": [
       "Eq(RD(x,y), max(k-dist(y), dist(x,y)))"
      ]
     },
     "metadata": {},
     "output_type": "display_data"
    },
    {
     "name": "stdout",
     "output_type": "stream",
     "text": [
      "\n",
      "Point A:\n",
      "\n",
      "Nearest 3 neighbours are ['B' 'C' 'D']\n"
     ]
    },
    {
     "data": {
      "text/latex": [
       "$\\displaystyle RD(A←B) = max(k-dist(B),                                dist(A,B)) =max(6,1)= 6$"
      ],
      "text/plain": [
       "RD(A←B) = max(k-dist(B),                                dist(A,B)) =max(6,1)= 6"
      ]
     },
     "metadata": {},
     "output_type": "display_data"
    },
    {
     "data": {
      "text/latex": [
       "$\\displaystyle RD(A←C) = max(k-dist(C),                                dist(A,C)) =max(4,4)= 4$"
      ],
      "text/plain": [
       "RD(A←C) = max(k-dist(C),                                dist(A,C)) =max(4,4)= 4"
      ]
     },
     "metadata": {},
     "output_type": "display_data"
    },
    {
     "data": {
      "text/latex": [
       "$\\displaystyle RD(A←D) = max(k-dist(D),                                dist(A,D)) =max(5,5)= 5$"
      ],
      "text/plain": [
       "RD(A←D) = max(k-dist(D),                                dist(A,D)) =max(5,5)= 5"
      ]
     },
     "metadata": {},
     "output_type": "display_data"
    },
    {
     "data": {
      "text/latex": [
       "$\\displaystyle lrd(A,3) = \\frac{3}{RD(A←B) +RD(A←C) +RD(A←D) }$"
      ],
      "text/plain": [
       "Eq(lrd(A,3), 3/RD(A←B) +RD(A←C) +RD(A←D) )"
      ]
     },
     "metadata": {},
     "output_type": "display_data"
    },
    {
     "data": {
      "text/latex": [
       "$\\displaystyle lrd(A,3) = \\frac{3}{1 +4 +5 }$"
      ],
      "text/plain": [
       "Eq(lrd(A,3), 3/1 +4 +5 )"
      ]
     },
     "metadata": {},
     "output_type": "display_data"
    },
    {
     "data": {
      "text/latex": [
       "$\\displaystyle lrd(A,3) = \\frac{3}{15}$"
      ],
      "text/plain": [
       "Eq(lrd(A,3), 3/15)"
      ]
     },
     "metadata": {},
     "output_type": "display_data"
    },
    {
     "data": {
      "text/latex": [
       "$\\displaystyle lrd(A,3) = 0.2$"
      ],
      "text/plain": [
       "Eq(lrd(A,3), 0.2)"
      ]
     },
     "metadata": {},
     "output_type": "display_data"
    },
    {
     "name": "stdout",
     "output_type": "stream",
     "text": [
      "\n",
      "----------------------------------------------------------\n",
      "\n",
      "Point B:\n",
      "\n",
      "Nearest 3 neighbours are ['A' 'C' 'D']\n"
     ]
    },
    {
     "data": {
      "text/latex": [
       "$\\displaystyle RD(B←A) = max(k-dist(A),                                dist(B,A)) =max(5,1)= 5$"
      ],
      "text/plain": [
       "RD(B←A) = max(k-dist(A),                                dist(B,A)) =max(5,1)= 5"
      ]
     },
     "metadata": {},
     "output_type": "display_data"
    },
    {
     "data": {
      "text/latex": [
       "$\\displaystyle RD(B←C) = max(k-dist(C),                                dist(B,C)) =max(4,2)= 4$"
      ],
      "text/plain": [
       "RD(B←C) = max(k-dist(C),                                dist(B,C)) =max(4,2)= 4"
      ]
     },
     "metadata": {},
     "output_type": "display_data"
    },
    {
     "data": {
      "text/latex": [
       "$\\displaystyle RD(B←D) = max(k-dist(D),                                dist(B,D)) =max(5,6)= 6$"
      ],
      "text/plain": [
       "RD(B←D) = max(k-dist(D),                                dist(B,D)) =max(5,6)= 6"
      ]
     },
     "metadata": {},
     "output_type": "display_data"
    },
    {
     "data": {
      "text/latex": [
       "$\\displaystyle lrd(B,3) = \\frac{3}{RD(B←A) +RD(B←C) +RD(B←D) }$"
      ],
      "text/plain": [
       "Eq(lrd(B,3), 3/RD(B←A) +RD(B←C) +RD(B←D) )"
      ]
     },
     "metadata": {},
     "output_type": "display_data"
    },
    {
     "data": {
      "text/latex": [
       "$\\displaystyle lrd(B,3) = \\frac{3}{1 +2 +6 }$"
      ],
      "text/plain": [
       "Eq(lrd(B,3), 3/1 +2 +6 )"
      ]
     },
     "metadata": {},
     "output_type": "display_data"
    },
    {
     "data": {
      "text/latex": [
       "$\\displaystyle lrd(B,3) = \\frac{3}{15}$"
      ],
      "text/plain": [
       "Eq(lrd(B,3), 3/15)"
      ]
     },
     "metadata": {},
     "output_type": "display_data"
    },
    {
     "data": {
      "text/latex": [
       "$\\displaystyle lrd(B,3) = 0.2$"
      ],
      "text/plain": [
       "Eq(lrd(B,3), 0.2)"
      ]
     },
     "metadata": {},
     "output_type": "display_data"
    },
    {
     "name": "stdout",
     "output_type": "stream",
     "text": [
      "\n",
      "----------------------------------------------------------\n",
      "\n",
      "Point C:\n",
      "\n",
      "Nearest 3 neighbours are ['B' 'D' 'A']\n"
     ]
    },
    {
     "data": {
      "text/latex": [
       "$\\displaystyle RD(C←B) = max(k-dist(B),                                dist(C,B)) =max(6,2)= 6$"
      ],
      "text/plain": [
       "RD(C←B) = max(k-dist(B),                                dist(C,B)) =max(6,2)= 6"
      ]
     },
     "metadata": {},
     "output_type": "display_data"
    },
    {
     "data": {
      "text/latex": [
       "$\\displaystyle RD(C←D) = max(k-dist(D),                                dist(C,D)) =max(5,3)= 5$"
      ],
      "text/plain": [
       "RD(C←D) = max(k-dist(D),                                dist(C,D)) =max(5,3)= 5"
      ]
     },
     "metadata": {},
     "output_type": "display_data"
    },
    {
     "data": {
      "text/latex": [
       "$\\displaystyle RD(C←A) = max(k-dist(A),                                dist(C,A)) =max(5,4)= 5$"
      ],
      "text/plain": [
       "RD(C←A) = max(k-dist(A),                                dist(C,A)) =max(5,4)= 5"
      ]
     },
     "metadata": {},
     "output_type": "display_data"
    },
    {
     "data": {
      "text/latex": [
       "$\\displaystyle lrd(C,3) = \\frac{3}{RD(C←B) +RD(C←D) +RD(C←A) }$"
      ],
      "text/plain": [
       "Eq(lrd(C,3), 3/RD(C←B) +RD(C←D) +RD(C←A) )"
      ]
     },
     "metadata": {},
     "output_type": "display_data"
    },
    {
     "data": {
      "text/latex": [
       "$\\displaystyle lrd(C,3) = \\frac{3}{2 +3 +4 }$"
      ],
      "text/plain": [
       "Eq(lrd(C,3), 3/2 +3 +4 )"
      ]
     },
     "metadata": {},
     "output_type": "display_data"
    },
    {
     "data": {
      "text/latex": [
       "$\\displaystyle lrd(C,3) = \\frac{3}{16}$"
      ],
      "text/plain": [
       "Eq(lrd(C,3), 3/16)"
      ]
     },
     "metadata": {},
     "output_type": "display_data"
    },
    {
     "data": {
      "text/latex": [
       "$\\displaystyle lrd(C,3) = 0.188$"
      ],
      "text/plain": [
       "Eq(lrd(C,3), 0.188)"
      ]
     },
     "metadata": {},
     "output_type": "display_data"
    },
    {
     "name": "stdout",
     "output_type": "stream",
     "text": [
      "\n",
      "----------------------------------------------------------\n",
      "\n",
      "Point D:\n",
      "\n",
      "Nearest 3 neighbours are ['C' 'E' 'A']\n"
     ]
    },
    {
     "data": {
      "text/latex": [
       "$\\displaystyle RD(D←C) = max(k-dist(C),                                dist(D,C)) =max(4,3)= 4$"
      ],
      "text/plain": [
       "RD(D←C) = max(k-dist(C),                                dist(D,C)) =max(4,3)= 4"
      ]
     },
     "metadata": {},
     "output_type": "display_data"
    },
    {
     "data": {
      "text/latex": [
       "$\\displaystyle RD(D←E) = max(k-dist(E),                                dist(D,E)) =max(7,4)= 7$"
      ],
      "text/plain": [
       "RD(D←E) = max(k-dist(E),                                dist(D,E)) =max(7,4)= 7"
      ]
     },
     "metadata": {},
     "output_type": "display_data"
    },
    {
     "data": {
      "text/latex": [
       "$\\displaystyle RD(D←A) = max(k-dist(A),                                dist(D,A)) =max(5,5)= 5$"
      ],
      "text/plain": [
       "RD(D←A) = max(k-dist(A),                                dist(D,A)) =max(5,5)= 5"
      ]
     },
     "metadata": {},
     "output_type": "display_data"
    },
    {
     "data": {
      "text/latex": [
       "$\\displaystyle lrd(D,3) = \\frac{3}{RD(D←C) +RD(D←E) +RD(D←A) }$"
      ],
      "text/plain": [
       "Eq(lrd(D,3), 3/RD(D←C) +RD(D←E) +RD(D←A) )"
      ]
     },
     "metadata": {},
     "output_type": "display_data"
    },
    {
     "data": {
      "text/latex": [
       "$\\displaystyle lrd(D,3) = \\frac{3}{3 +4 +5 }$"
      ],
      "text/plain": [
       "Eq(lrd(D,3), 3/3 +4 +5 )"
      ]
     },
     "metadata": {},
     "output_type": "display_data"
    },
    {
     "data": {
      "text/latex": [
       "$\\displaystyle lrd(D,3) = \\frac{3}{16}$"
      ],
      "text/plain": [
       "Eq(lrd(D,3), 3/16)"
      ]
     },
     "metadata": {},
     "output_type": "display_data"
    },
    {
     "data": {
      "text/latex": [
       "$\\displaystyle lrd(D,3) = 0.188$"
      ],
      "text/plain": [
       "Eq(lrd(D,3), 0.188)"
      ]
     },
     "metadata": {},
     "output_type": "display_data"
    },
    {
     "name": "stdout",
     "output_type": "stream",
     "text": [
      "\n",
      "----------------------------------------------------------\n",
      "\n",
      "Point E:\n",
      "\n",
      "Nearest 3 neighbours are ['C' 'D' 'A']\n"
     ]
    },
    {
     "data": {
      "text/latex": [
       "$\\displaystyle RD(E←C) = max(k-dist(C),                                dist(E,C)) =max(4,4)= 4$"
      ],
      "text/plain": [
       "RD(E←C) = max(k-dist(C),                                dist(E,C)) =max(4,4)= 4"
      ]
     },
     "metadata": {},
     "output_type": "display_data"
    },
    {
     "data": {
      "text/latex": [
       "$\\displaystyle RD(E←D) = max(k-dist(D),                                dist(E,D)) =max(5,4)= 5$"
      ],
      "text/plain": [
       "RD(E←D) = max(k-dist(D),                                dist(E,D)) =max(5,4)= 5"
      ]
     },
     "metadata": {},
     "output_type": "display_data"
    },
    {
     "data": {
      "text/latex": [
       "$\\displaystyle RD(E←A) = max(k-dist(A),                                dist(E,A)) =max(5,7)= 7$"
      ],
      "text/plain": [
       "RD(E←A) = max(k-dist(A),                                dist(E,A)) =max(5,7)= 7"
      ]
     },
     "metadata": {},
     "output_type": "display_data"
    },
    {
     "data": {
      "text/latex": [
       "$\\displaystyle lrd(E,3) = \\frac{3}{RD(E←C) +RD(E←D) +RD(E←A) }$"
      ],
      "text/plain": [
       "Eq(lrd(E,3), 3/RD(E←C) +RD(E←D) +RD(E←A) )"
      ]
     },
     "metadata": {},
     "output_type": "display_data"
    },
    {
     "data": {
      "text/latex": [
       "$\\displaystyle lrd(E,3) = \\frac{3}{4 +4 +7 }$"
      ],
      "text/plain": [
       "Eq(lrd(E,3), 3/4 +4 +7 )"
      ]
     },
     "metadata": {},
     "output_type": "display_data"
    },
    {
     "data": {
      "text/latex": [
       "$\\displaystyle lrd(E,3) = \\frac{3}{16}$"
      ],
      "text/plain": [
       "Eq(lrd(E,3), 3/16)"
      ]
     },
     "metadata": {},
     "output_type": "display_data"
    },
    {
     "data": {
      "text/latex": [
       "$\\displaystyle lrd(E,3) = 0.188$"
      ],
      "text/plain": [
       "Eq(lrd(E,3), 0.188)"
      ]
     },
     "metadata": {},
     "output_type": "display_data"
    },
    {
     "name": "stdout",
     "output_type": "stream",
     "text": [
      "\n",
      "----------------------------------------------------------\n",
      "\n",
      "==================================================================================\n",
      "\n",
      "For all points x, determine Local Outlier Factor LOF(x,k)  given by:\n"
     ]
    },
    {
     "data": {
      "text/latex": [
       "$\\displaystyle LOF(x,k) = \\frac{Σ_{y∈N(x,k)}lrd(y,k) /|N(x,k)|}{lrd(x,k)}$"
      ],
      "text/plain": [
       "Eq(LOF(x,k), Σ_{y∈N(x,k)}lrd(y,k) /|N(x,k)|/lrd(x,k))"
      ]
     },
     "metadata": {},
     "output_type": "display_data"
    },
    {
     "name": "stdout",
     "output_type": "stream",
     "text": [
      "\n",
      "Point A:\n",
      "\n",
      "Nearest 3 neighbours are ['B' 'C' 'D']\n"
     ]
    },
    {
     "data": {
      "text/latex": [
       "$\\displaystyle LOF(A,3) = \\frac{lrd(B, 3)/3 +lrd(C, 3)/3 +lrd(D, 3)/3 }{lrd(A, 3)}$"
      ],
      "text/plain": [
       "Eq(LOF(A,3), lrd(B, 3)/3 +lrd(C, 3)/3 +lrd(D, 3)/3 /lrd(A, 3))"
      ]
     },
     "metadata": {},
     "output_type": "display_data"
    },
    {
     "data": {
      "text/latex": [
       "$\\displaystyle LOF(A,3) = \\frac{0.2/3 +0.188/3 +0.188/3 }{0.2}$"
      ],
      "text/plain": [
       "Eq(LOF(A,3), 0.2/3 +0.188/3 +0.188/3 /0.2)"
      ]
     },
     "metadata": {},
     "output_type": "display_data"
    },
    {
     "data": {
      "text/latex": [
       "$\\displaystyle LOF(A,3) = 0.96$"
      ],
      "text/plain": [
       "Eq(LOF(A,3), 0.96)"
      ]
     },
     "metadata": {},
     "output_type": "display_data"
    },
    {
     "name": "stdout",
     "output_type": "stream",
     "text": [
      "\n",
      "----------------------------------------------------------\n",
      "\n",
      "Point B:\n",
      "\n",
      "Nearest 3 neighbours are ['A' 'C' 'D']\n"
     ]
    },
    {
     "data": {
      "text/latex": [
       "$\\displaystyle LOF(B,3) = \\frac{lrd(A, 3)/3 +lrd(C, 3)/3 +lrd(D, 3)/3 }{lrd(B, 3)}$"
      ],
      "text/plain": [
       "Eq(LOF(B,3), lrd(A, 3)/3 +lrd(C, 3)/3 +lrd(D, 3)/3 /lrd(B, 3))"
      ]
     },
     "metadata": {},
     "output_type": "display_data"
    },
    {
     "data": {
      "text/latex": [
       "$\\displaystyle LOF(B,3) = \\frac{0.2/3 +0.188/3 +0.188/3 }{0.2}$"
      ],
      "text/plain": [
       "Eq(LOF(B,3), 0.2/3 +0.188/3 +0.188/3 /0.2)"
      ]
     },
     "metadata": {},
     "output_type": "display_data"
    },
    {
     "data": {
      "text/latex": [
       "$\\displaystyle LOF(B,3) = 0.96$"
      ],
      "text/plain": [
       "Eq(LOF(B,3), 0.96)"
      ]
     },
     "metadata": {},
     "output_type": "display_data"
    },
    {
     "name": "stdout",
     "output_type": "stream",
     "text": [
      "\n",
      "----------------------------------------------------------\n",
      "\n",
      "Point C:\n",
      "\n",
      "Nearest 3 neighbours are ['B' 'D' 'A']\n"
     ]
    },
    {
     "data": {
      "text/latex": [
       "$\\displaystyle LOF(C,3) = \\frac{lrd(B, 3)/3 +lrd(D, 3)/3 +lrd(A, 3)/3 }{lrd(C, 3)}$"
      ],
      "text/plain": [
       "Eq(LOF(C,3), lrd(B, 3)/3 +lrd(D, 3)/3 +lrd(A, 3)/3 /lrd(C, 3))"
      ]
     },
     "metadata": {},
     "output_type": "display_data"
    },
    {
     "data": {
      "text/latex": [
       "$\\displaystyle LOF(C,3) = \\frac{0.2/3 +0.188/3 +0.2/3 }{0.188}$"
      ],
      "text/plain": [
       "Eq(LOF(C,3), 0.2/3 +0.188/3 +0.2/3 /0.188)"
      ]
     },
     "metadata": {},
     "output_type": "display_data"
    },
    {
     "data": {
      "text/latex": [
       "$\\displaystyle LOF(C,3) = 1.043$"
      ],
      "text/plain": [
       "Eq(LOF(C,3), 1.043)"
      ]
     },
     "metadata": {},
     "output_type": "display_data"
    },
    {
     "name": "stdout",
     "output_type": "stream",
     "text": [
      "\n",
      "----------------------------------------------------------\n",
      "\n",
      "Point D:\n",
      "\n",
      "Nearest 3 neighbours are ['C' 'E' 'A']\n"
     ]
    },
    {
     "data": {
      "text/latex": [
       "$\\displaystyle LOF(D,3) = \\frac{lrd(C, 3)/3 +lrd(E, 3)/3 +lrd(A, 3)/3 }{lrd(D, 3)}$"
      ],
      "text/plain": [
       "Eq(LOF(D,3), lrd(C, 3)/3 +lrd(E, 3)/3 +lrd(A, 3)/3 /lrd(D, 3))"
      ]
     },
     "metadata": {},
     "output_type": "display_data"
    },
    {
     "data": {
      "text/latex": [
       "$\\displaystyle LOF(D,3) = \\frac{0.188/3 +0.188/3 +0.2/3 }{0.188}$"
      ],
      "text/plain": [
       "Eq(LOF(D,3), 0.188/3 +0.188/3 +0.2/3 /0.188)"
      ]
     },
     "metadata": {},
     "output_type": "display_data"
    },
    {
     "data": {
      "text/latex": [
       "$\\displaystyle LOF(D,3) = 1.021$"
      ],
      "text/plain": [
       "Eq(LOF(D,3), 1.021)"
      ]
     },
     "metadata": {},
     "output_type": "display_data"
    },
    {
     "name": "stdout",
     "output_type": "stream",
     "text": [
      "\n",
      "----------------------------------------------------------\n",
      "\n",
      "Point E:\n",
      "\n",
      "Nearest 3 neighbours are ['C' 'D' 'A']\n"
     ]
    },
    {
     "data": {
      "text/latex": [
       "$\\displaystyle LOF(E,3) = \\frac{lrd(C, 3)/3 +lrd(D, 3)/3 +lrd(A, 3)/3 }{lrd(E, 3)}$"
      ],
      "text/plain": [
       "Eq(LOF(E,3), lrd(C, 3)/3 +lrd(D, 3)/3 +lrd(A, 3)/3 /lrd(E, 3))"
      ]
     },
     "metadata": {},
     "output_type": "display_data"
    },
    {
     "data": {
      "text/latex": [
       "$\\displaystyle LOF(E,3) = \\frac{0.188/3 +0.188/3 +0.2/3 }{0.188}$"
      ],
      "text/plain": [
       "Eq(LOF(E,3), 0.188/3 +0.188/3 +0.2/3 /0.188)"
      ]
     },
     "metadata": {},
     "output_type": "display_data"
    },
    {
     "data": {
      "text/latex": [
       "$\\displaystyle LOF(E,3) = 1.021$"
      ],
      "text/plain": [
       "Eq(LOF(E,3), 1.021)"
      ]
     },
     "metadata": {},
     "output_type": "display_data"
    },
    {
     "name": "stdout",
     "output_type": "stream",
     "text": [
      "\n",
      "----------------------------------------------------------\n",
      "\n",
      "LOF for point C is the highest, so it is termed as outlier\n"
     ]
    }
   ],
   "source": [
    "OutlierDetector(proximity_matrix=pm, pt_list=pt_list, rounding_digit=3).detect(method='ard-based', k=3)"
   ]
  },
  {
   "cell_type": "code",
   "execution_count": 25,
   "id": "4b8afaff",
   "metadata": {},
   "outputs": [
    {
     "name": "stdout",
     "output_type": "stream",
     "text": [
      "\n",
      "Average Relative Density based outlier detection\n",
      "\n",
      "Proximity Matrix:\n"
     ]
    },
    {
     "data": {
      "text/html": [
       "<div>\n",
       "<style scoped>\n",
       "    .dataframe tbody tr th:only-of-type {\n",
       "        vertical-align: middle;\n",
       "    }\n",
       "\n",
       "    .dataframe tbody tr th {\n",
       "        vertical-align: top;\n",
       "    }\n",
       "\n",
       "    .dataframe thead th {\n",
       "        text-align: right;\n",
       "    }\n",
       "</style>\n",
       "<table border=\"1\" class=\"dataframe\">\n",
       "  <thead>\n",
       "    <tr style=\"text-align: right;\">\n",
       "      <th></th>\n",
       "      <th>A</th>\n",
       "      <th>B</th>\n",
       "      <th>C</th>\n",
       "      <th>D</th>\n",
       "    </tr>\n",
       "  </thead>\n",
       "  <tbody>\n",
       "    <tr>\n",
       "      <th>A</th>\n",
       "      <td>0</td>\n",
       "      <td>1</td>\n",
       "      <td>2</td>\n",
       "      <td>3</td>\n",
       "    </tr>\n",
       "    <tr>\n",
       "      <th>B</th>\n",
       "      <td>1</td>\n",
       "      <td>0</td>\n",
       "      <td>1</td>\n",
       "      <td>4</td>\n",
       "    </tr>\n",
       "    <tr>\n",
       "      <th>C</th>\n",
       "      <td>2</td>\n",
       "      <td>1</td>\n",
       "      <td>0</td>\n",
       "      <td>3</td>\n",
       "    </tr>\n",
       "    <tr>\n",
       "      <th>D</th>\n",
       "      <td>3</td>\n",
       "      <td>4</td>\n",
       "      <td>3</td>\n",
       "      <td>0</td>\n",
       "    </tr>\n",
       "  </tbody>\n",
       "</table>\n",
       "</div>"
      ],
      "text/plain": [
       "   A  B  C  D\n",
       "A  0  1  2  3\n",
       "B  1  0  1  4\n",
       "C  2  1  0  3\n",
       "D  3  4  3  0"
      ]
     },
     "metadata": {},
     "output_type": "display_data"
    },
    {
     "name": "stdout",
     "output_type": "stream",
     "text": [
      "\n",
      "k = 2\n",
      "\n",
      "For all points x, determine local reachability density, lrd(x,k) for k-nearest neighbours using formula\n",
      "\n"
     ]
    },
    {
     "data": {
      "text/latex": [
       "$\\displaystyle lrd(x,k) = \\frac{|N(x,k)|}{Σ_{y∈N(x,k)}RD(x,y)}$"
      ],
      "text/plain": [
       "Eq(lrd(x,k), |N(x,k)|/Σ_{y∈N(x,k)}RD(x,y))"
      ]
     },
     "metadata": {},
     "output_type": "display_data"
    },
    {
     "name": "stdout",
     "output_type": "stream",
     "text": [
      "\n",
      "Where Reachability density, RD is given by\n"
     ]
    },
    {
     "data": {
      "text/latex": [
       "$\\displaystyle RD(x,y) = max(k-dist(y), dist(x,y))$"
      ],
      "text/plain": [
       "Eq(RD(x,y), max(k-dist(y), dist(x,y)))"
      ]
     },
     "metadata": {},
     "output_type": "display_data"
    },
    {
     "name": "stdout",
     "output_type": "stream",
     "text": [
      "\n",
      "Point A = (0, 0):\n",
      "\n",
      "Nearest 2 neighbours are ['B' 'C']\n"
     ]
    },
    {
     "data": {
      "text/latex": [
       "$\\displaystyle RD(A←B) = max(k-dist(B),                                dist(A,B)) =max(1,1)= 1$"
      ],
      "text/plain": [
       "RD(A←B) = max(k-dist(B),                                dist(A,B)) =max(1,1)= 1"
      ]
     },
     "metadata": {},
     "output_type": "display_data"
    },
    {
     "data": {
      "text/latex": [
       "$\\displaystyle RD(A←C) = max(k-dist(C),                                dist(A,C)) =max(2,2)= 2$"
      ],
      "text/plain": [
       "RD(A←C) = max(k-dist(C),                                dist(A,C)) =max(2,2)= 2"
      ]
     },
     "metadata": {},
     "output_type": "display_data"
    },
    {
     "data": {
      "text/latex": [
       "$\\displaystyle lrd(A,2) = \\frac{2}{RD(A←B) +RD(A←C) }$"
      ],
      "text/plain": [
       "Eq(lrd(A,2), 2/RD(A←B) +RD(A←C) )"
      ]
     },
     "metadata": {},
     "output_type": "display_data"
    },
    {
     "data": {
      "text/latex": [
       "$\\displaystyle lrd(A,2) = \\frac{2}{1 +2 }$"
      ],
      "text/plain": [
       "Eq(lrd(A,2), 2/1 +2 )"
      ]
     },
     "metadata": {},
     "output_type": "display_data"
    },
    {
     "data": {
      "text/latex": [
       "$\\displaystyle lrd(A,2) = \\frac{2}{3}$"
      ],
      "text/plain": [
       "Eq(lrd(A,2), 2/3)"
      ]
     },
     "metadata": {},
     "output_type": "display_data"
    },
    {
     "data": {
      "text/latex": [
       "$\\displaystyle lrd(A,2) = 0.667$"
      ],
      "text/plain": [
       "Eq(lrd(A,2), 0.667)"
      ]
     },
     "metadata": {},
     "output_type": "display_data"
    },
    {
     "name": "stdout",
     "output_type": "stream",
     "text": [
      "\n",
      "----------------------------------------------------------\n",
      "\n",
      "Point B = (1, 0):\n",
      "\n",
      "Nearest 2 neighbours are ['A' 'C']\n"
     ]
    },
    {
     "data": {
      "text/latex": [
       "$\\displaystyle RD(B←A) = max(k-dist(A),                                dist(B,A)) =max(2,1)= 2$"
      ],
      "text/plain": [
       "RD(B←A) = max(k-dist(A),                                dist(B,A)) =max(2,1)= 2"
      ]
     },
     "metadata": {},
     "output_type": "display_data"
    },
    {
     "data": {
      "text/latex": [
       "$\\displaystyle RD(B←C) = max(k-dist(C),                                dist(B,C)) =max(2,1)= 2$"
      ],
      "text/plain": [
       "RD(B←C) = max(k-dist(C),                                dist(B,C)) =max(2,1)= 2"
      ]
     },
     "metadata": {},
     "output_type": "display_data"
    },
    {
     "data": {
      "text/latex": [
       "$\\displaystyle lrd(B,2) = \\frac{2}{RD(B←A) +RD(B←C) }$"
      ],
      "text/plain": [
       "Eq(lrd(B,2), 2/RD(B←A) +RD(B←C) )"
      ]
     },
     "metadata": {},
     "output_type": "display_data"
    },
    {
     "data": {
      "text/latex": [
       "$\\displaystyle lrd(B,2) = \\frac{2}{1 +1 }$"
      ],
      "text/plain": [
       "Eq(lrd(B,2), 2/1 +1 )"
      ]
     },
     "metadata": {},
     "output_type": "display_data"
    },
    {
     "data": {
      "text/latex": [
       "$\\displaystyle lrd(B,2) = \\frac{2}{4}$"
      ],
      "text/plain": [
       "Eq(lrd(B,2), 2/4)"
      ]
     },
     "metadata": {},
     "output_type": "display_data"
    },
    {
     "data": {
      "text/latex": [
       "$\\displaystyle lrd(B,2) = 0.5$"
      ],
      "text/plain": [
       "Eq(lrd(B,2), 0.5)"
      ]
     },
     "metadata": {},
     "output_type": "display_data"
    },
    {
     "name": "stdout",
     "output_type": "stream",
     "text": [
      "\n",
      "----------------------------------------------------------\n",
      "\n",
      "Point C = (1, 1):\n",
      "\n",
      "Nearest 2 neighbours are ['B' 'A']\n"
     ]
    },
    {
     "data": {
      "text/latex": [
       "$\\displaystyle RD(C←B) = max(k-dist(B),                                dist(C,B)) =max(1,1)= 1$"
      ],
      "text/plain": [
       "RD(C←B) = max(k-dist(B),                                dist(C,B)) =max(1,1)= 1"
      ]
     },
     "metadata": {},
     "output_type": "display_data"
    },
    {
     "data": {
      "text/latex": [
       "$\\displaystyle RD(C←A) = max(k-dist(A),                                dist(C,A)) =max(2,2)= 2$"
      ],
      "text/plain": [
       "RD(C←A) = max(k-dist(A),                                dist(C,A)) =max(2,2)= 2"
      ]
     },
     "metadata": {},
     "output_type": "display_data"
    },
    {
     "data": {
      "text/latex": [
       "$\\displaystyle lrd(C,2) = \\frac{2}{RD(C←B) +RD(C←A) }$"
      ],
      "text/plain": [
       "Eq(lrd(C,2), 2/RD(C←B) +RD(C←A) )"
      ]
     },
     "metadata": {},
     "output_type": "display_data"
    },
    {
     "data": {
      "text/latex": [
       "$\\displaystyle lrd(C,2) = \\frac{2}{1 +2 }$"
      ],
      "text/plain": [
       "Eq(lrd(C,2), 2/1 +2 )"
      ]
     },
     "metadata": {},
     "output_type": "display_data"
    },
    {
     "data": {
      "text/latex": [
       "$\\displaystyle lrd(C,2) = \\frac{2}{3}$"
      ],
      "text/plain": [
       "Eq(lrd(C,2), 2/3)"
      ]
     },
     "metadata": {},
     "output_type": "display_data"
    },
    {
     "data": {
      "text/latex": [
       "$\\displaystyle lrd(C,2) = 0.667$"
      ],
      "text/plain": [
       "Eq(lrd(C,2), 0.667)"
      ]
     },
     "metadata": {},
     "output_type": "display_data"
    },
    {
     "name": "stdout",
     "output_type": "stream",
     "text": [
      "\n",
      "----------------------------------------------------------\n",
      "\n",
      "Point D = (0, 3):\n",
      "\n",
      "Nearest 2 neighbours are ['A' 'C']\n"
     ]
    },
    {
     "data": {
      "text/latex": [
       "$\\displaystyle RD(D←A) = max(k-dist(A),                                dist(D,A)) =max(2,3)= 3$"
      ],
      "text/plain": [
       "RD(D←A) = max(k-dist(A),                                dist(D,A)) =max(2,3)= 3"
      ]
     },
     "metadata": {},
     "output_type": "display_data"
    },
    {
     "data": {
      "text/latex": [
       "$\\displaystyle RD(D←C) = max(k-dist(C),                                dist(D,C)) =max(2,3)= 3$"
      ],
      "text/plain": [
       "RD(D←C) = max(k-dist(C),                                dist(D,C)) =max(2,3)= 3"
      ]
     },
     "metadata": {},
     "output_type": "display_data"
    },
    {
     "data": {
      "text/latex": [
       "$\\displaystyle lrd(D,2) = \\frac{2}{RD(D←A) +RD(D←C) }$"
      ],
      "text/plain": [
       "Eq(lrd(D,2), 2/RD(D←A) +RD(D←C) )"
      ]
     },
     "metadata": {},
     "output_type": "display_data"
    },
    {
     "data": {
      "text/latex": [
       "$\\displaystyle lrd(D,2) = \\frac{2}{3 +3 }$"
      ],
      "text/plain": [
       "Eq(lrd(D,2), 2/3 +3 )"
      ]
     },
     "metadata": {},
     "output_type": "display_data"
    },
    {
     "data": {
      "text/latex": [
       "$\\displaystyle lrd(D,2) = \\frac{2}{6}$"
      ],
      "text/plain": [
       "Eq(lrd(D,2), 2/6)"
      ]
     },
     "metadata": {},
     "output_type": "display_data"
    },
    {
     "data": {
      "text/latex": [
       "$\\displaystyle lrd(D,2) = 0.333$"
      ],
      "text/plain": [
       "Eq(lrd(D,2), 0.333)"
      ]
     },
     "metadata": {},
     "output_type": "display_data"
    },
    {
     "name": "stdout",
     "output_type": "stream",
     "text": [
      "\n",
      "----------------------------------------------------------\n",
      "\n",
      "==================================================================================\n",
      "\n",
      "For all points x, determine Local Outlier Factor LOF(x,k)  given by:\n"
     ]
    },
    {
     "data": {
      "text/latex": [
       "$\\displaystyle LOF(x,k) = \\frac{Σ_{y∈N(x,k)}lrd(y,k) /|N(x,k)|}{lrd(x,k)}$"
      ],
      "text/plain": [
       "Eq(LOF(x,k), Σ_{y∈N(x,k)}lrd(y,k) /|N(x,k)|/lrd(x,k))"
      ]
     },
     "metadata": {},
     "output_type": "display_data"
    },
    {
     "name": "stdout",
     "output_type": "stream",
     "text": [
      "\n",
      "Point A = (0, 0):\n",
      "\n",
      "Nearest 2 neighbours are ['B' 'C']\n"
     ]
    },
    {
     "data": {
      "text/latex": [
       "$\\displaystyle LOF(A,2) = \\frac{lrd(B, 2)/2 +lrd(C, 2)/2 }{lrd(A, 2)}$"
      ],
      "text/plain": [
       "Eq(LOF(A,2), lrd(B, 2)/2 +lrd(C, 2)/2 /lrd(A, 2))"
      ]
     },
     "metadata": {},
     "output_type": "display_data"
    },
    {
     "data": {
      "text/latex": [
       "$\\displaystyle LOF(A,2) = \\frac{0.5/2 +0.667/2 }{0.667}$"
      ],
      "text/plain": [
       "Eq(LOF(A,2), 0.5/2 +0.667/2 /0.667)"
      ]
     },
     "metadata": {},
     "output_type": "display_data"
    },
    {
     "data": {
      "text/latex": [
       "$\\displaystyle LOF(A,2) = 0.875$"
      ],
      "text/plain": [
       "Eq(LOF(A,2), 0.875)"
      ]
     },
     "metadata": {},
     "output_type": "display_data"
    },
    {
     "name": "stdout",
     "output_type": "stream",
     "text": [
      "\n",
      "----------------------------------------------------------\n",
      "\n",
      "Point B = (1, 0):\n",
      "\n",
      "Nearest 2 neighbours are ['A' 'C']\n"
     ]
    },
    {
     "data": {
      "text/latex": [
       "$\\displaystyle LOF(B,2) = \\frac{lrd(A, 2)/2 +lrd(C, 2)/2 }{lrd(B, 2)}$"
      ],
      "text/plain": [
       "Eq(LOF(B,2), lrd(A, 2)/2 +lrd(C, 2)/2 /lrd(B, 2))"
      ]
     },
     "metadata": {},
     "output_type": "display_data"
    },
    {
     "data": {
      "text/latex": [
       "$\\displaystyle LOF(B,2) = \\frac{0.667/2 +0.667/2 }{0.5}$"
      ],
      "text/plain": [
       "Eq(LOF(B,2), 0.667/2 +0.667/2 /0.5)"
      ]
     },
     "metadata": {},
     "output_type": "display_data"
    },
    {
     "data": {
      "text/latex": [
       "$\\displaystyle LOF(B,2) = 1.334$"
      ],
      "text/plain": [
       "Eq(LOF(B,2), 1.334)"
      ]
     },
     "metadata": {},
     "output_type": "display_data"
    },
    {
     "name": "stdout",
     "output_type": "stream",
     "text": [
      "\n",
      "----------------------------------------------------------\n",
      "\n",
      "Point C = (1, 1):\n",
      "\n",
      "Nearest 2 neighbours are ['B' 'A']\n"
     ]
    },
    {
     "data": {
      "text/latex": [
       "$\\displaystyle LOF(C,2) = \\frac{lrd(B, 2)/2 +lrd(A, 2)/2 }{lrd(C, 2)}$"
      ],
      "text/plain": [
       "Eq(LOF(C,2), lrd(B, 2)/2 +lrd(A, 2)/2 /lrd(C, 2))"
      ]
     },
     "metadata": {},
     "output_type": "display_data"
    },
    {
     "data": {
      "text/latex": [
       "$\\displaystyle LOF(C,2) = \\frac{0.5/2 +0.667/2 }{0.667}$"
      ],
      "text/plain": [
       "Eq(LOF(C,2), 0.5/2 +0.667/2 /0.667)"
      ]
     },
     "metadata": {},
     "output_type": "display_data"
    },
    {
     "data": {
      "text/latex": [
       "$\\displaystyle LOF(C,2) = 0.875$"
      ],
      "text/plain": [
       "Eq(LOF(C,2), 0.875)"
      ]
     },
     "metadata": {},
     "output_type": "display_data"
    },
    {
     "name": "stdout",
     "output_type": "stream",
     "text": [
      "\n",
      "----------------------------------------------------------\n",
      "\n",
      "Point D = (0, 3):\n",
      "\n",
      "Nearest 2 neighbours are ['A' 'C']\n"
     ]
    },
    {
     "data": {
      "text/latex": [
       "$\\displaystyle LOF(D,2) = \\frac{lrd(A, 2)/2 +lrd(C, 2)/2 }{lrd(D, 2)}$"
      ],
      "text/plain": [
       "Eq(LOF(D,2), lrd(A, 2)/2 +lrd(C, 2)/2 /lrd(D, 2))"
      ]
     },
     "metadata": {},
     "output_type": "display_data"
    },
    {
     "data": {
      "text/latex": [
       "$\\displaystyle LOF(D,2) = \\frac{0.667/2 +0.667/2 }{0.333}$"
      ],
      "text/plain": [
       "Eq(LOF(D,2), 0.667/2 +0.667/2 /0.333)"
      ]
     },
     "metadata": {},
     "output_type": "display_data"
    },
    {
     "data": {
      "text/latex": [
       "$\\displaystyle LOF(D,2) = 2.003$"
      ],
      "text/plain": [
       "Eq(LOF(D,2), 2.003)"
      ]
     },
     "metadata": {},
     "output_type": "display_data"
    },
    {
     "name": "stdout",
     "output_type": "stream",
     "text": [
      "\n",
      "----------------------------------------------------------\n",
      "\n",
      "LOF for point D is the highest, so it is termed as outlier\n"
     ]
    }
   ],
   "source": [
    "points = [(0,0),(1,0),(1,1),(0,3)]\n",
    "pt_list = ['A', 'B', 'C', 'D']\n",
    "OutlierDetector(points=points, pt_list=pt_list, rounding_digit=3, distance='Manhattan').detect(method='ard-based', k=2)"
   ]
  },
  {
   "cell_type": "code",
   "execution_count": null,
   "id": "39f4288a",
   "metadata": {},
   "outputs": [],
   "source": []
  },
  {
   "cell_type": "code",
   "execution_count": null,
   "id": "513fbf43",
   "metadata": {},
   "outputs": [],
   "source": []
  }
 ],
 "metadata": {
  "kernelspec": {
   "display_name": "Python 3 (ipykernel)",
   "language": "python",
   "name": "python3"
  },
  "language_info": {
   "codemirror_mode": {
    "name": "ipython",
    "version": 3
   },
   "file_extension": ".py",
   "mimetype": "text/x-python",
   "name": "python",
   "nbconvert_exporter": "python",
   "pygments_lexer": "ipython3",
   "version": "3.7.6"
  }
 },
 "nbformat": 4,
 "nbformat_minor": 5
}
